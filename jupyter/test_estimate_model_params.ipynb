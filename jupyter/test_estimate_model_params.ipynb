{
 "cells": [
  {
   "cell_type": "code",
   "execution_count": null,
   "metadata": {},
   "outputs": [],
   "source": [
    "import numpy as np\n",
    "import pathlib \n",
    "\n",
    "import matplotlib.pyplot as plt\n",
    "\n",
    "import torch\n",
    "\n",
    "from torch.utils.data import Dataset\n",
    "from torch import optim\n",
    "\n",
    "import sys\n",
    "sys.path.insert(0, '../')\n",
    "import sdss_dataset_lib\n",
    "import sdss_psf\n",
    "import simulated_datasets_lib\n",
    "\n",
    "from wake_lib import EstimateModelParams, BackgroundBias\n",
    "\n",
    "\n",
    "from astropy.io import fits\n",
    "from astropy.wcs import WCS\n",
    "\n",
    "\n",
    "device = torch.device(\"cuda:0\" if torch.cuda.is_available() else \"cpu\")\n",
    "\n",
    "import json \n",
    "import os"
   ]
  },
  {
   "cell_type": "code",
   "execution_count": null,
   "metadata": {},
   "outputs": [],
   "source": []
  },
  {
   "cell_type": "code",
   "execution_count": null,
   "metadata": {},
   "outputs": [],
   "source": [
    "# data parameters\n",
    "with open('../data/default_star_parameters.json', 'r') as fp:\n",
    "    data_params = json.load(fp)"
   ]
  },
  {
   "cell_type": "markdown",
   "metadata": {},
   "source": [
    "# Psf"
   ]
  },
  {
   "cell_type": "code",
   "execution_count": null,
   "metadata": {},
   "outputs": [],
   "source": [
    "import psf_transform_lib2"
   ]
  },
  {
   "cell_type": "code",
   "execution_count": null,
   "metadata": {},
   "outputs": [],
   "source": [
    "bands = [2, 3]\n",
    "psfield_file = '../../celeste_net/sdss_stage_dir/2583/2/136/psField-002583-2-0136.fit'\n",
    "init_psf_params = torch.zeros(len(bands), 6)\n",
    "for i in range(len(bands)):\n",
    "    init_psf_params[i] = psf_transform_lib2.get_psf_params(\n",
    "                                    psfield_file,\n",
    "                                    band = bands[i])\n",
    "power_law_psf = psf_transform_lib2.PowerLawPSF(init_psf_params)\n",
    "psf_og = power_law_psf.forward().detach()"
   ]
  },
  {
   "cell_type": "markdown",
   "metadata": {},
   "source": [
    "# Draw data"
   ]
  },
  {
   "cell_type": "code",
   "execution_count": null,
   "metadata": {},
   "outputs": [],
   "source": [
    "background_bias = BackgroundBias(init_background_params = torch.Tensor([[303.6371, -64.7714, 118.8480],\n",
    "                                                                             [361.8250, -94.0563, 147.5636]]))\n"
   ]
  },
  {
   "cell_type": "code",
   "execution_count": null,
   "metadata": {},
   "outputs": [],
   "source": [
    "background = torch.ones(len(bands), data_params['slen'], data_params['slen']) * \\\n",
    "                    torch.Tensor([854., 1345.])[:, None, None] + \\\n",
    "                background_bias.forward().detach()"
   ]
  },
  {
   "cell_type": "code",
   "execution_count": null,
   "metadata": {},
   "outputs": [],
   "source": [
    "n_images = 1\n",
    "\n",
    "simulated_dataset = \\\n",
    "    simulated_datasets_lib.load_dataset_from_params(psf_og,\n",
    "                    data_params,\n",
    "                    background = background, \n",
    "                    n_images = n_images,\n",
    "                    transpose_psf = False, \n",
    "                    add_noise = True)\n",
    "\n",
    "full_image = simulated_dataset.images.detach()\n",
    "full_background = simulated_dataset.background.detach()\n",
    "\n",
    "true_n_stars = simulated_dataset.n_stars\n",
    "true_locs = simulated_dataset.locs\n",
    "true_fluxes = simulated_dataset.fluxes\n",
    "        \n",
    "simulator = simulated_dataset.simulator"
   ]
  },
  {
   "cell_type": "code",
   "execution_count": null,
   "metadata": {},
   "outputs": [],
   "source": [
    "recon_mean_truth = simulator.draw_image_from_params(locs = true_locs, \n",
    "                            fluxes = true_fluxes, \n",
    "                            n_stars = true_n_stars, \n",
    "                            add_noise = False)"
   ]
  },
  {
   "cell_type": "code",
   "execution_count": null,
   "metadata": {},
   "outputs": [],
   "source": [
    "for i in range(len(bands)): \n",
    "    foo = ((recon_mean_truth[0, i] - full_image[0, i]) / full_image[0, i])[5:95, 5:95]\n",
    "    plt.matshow(foo, vmax = foo.abs().max(), vmin = - foo.abs().max(), cmap = plt.get_cmap('bwr')) \n",
    "    plt.colorbar()"
   ]
  },
  {
   "cell_type": "markdown",
   "metadata": {},
   "source": [
    "# Check estimation of fluxes"
   ]
  },
  {
   "cell_type": "code",
   "execution_count": null,
   "metadata": {},
   "outputs": [],
   "source": [
    "estimator = EstimateModelParams(full_image, true_locs, true_n_stars, \n",
    "                          init_psf_params = init_psf_params, \n",
    "                        init_background = full_background, \n",
    "                        init_fluxes = None)"
   ]
  },
  {
   "cell_type": "code",
   "execution_count": null,
   "metadata": {},
   "outputs": [],
   "source": [
    "recon0 = estimator.get_loss()[0].detach()\n",
    "for i in range(len(bands)): \n",
    "    foo = ((recon0[0, i] - full_image[0, i]) / full_image[0, i])[5:95, 5:95]\n",
    "    plt.matshow(foo, vmax = foo.abs().max(), vmin = - foo.abs().max(), cmap = plt.get_cmap('bwr')) \n",
    "    plt.colorbar()"
   ]
  },
  {
   "cell_type": "code",
   "execution_count": null,
   "metadata": {},
   "outputs": [],
   "source": []
  },
  {
   "cell_type": "code",
   "execution_count": null,
   "metadata": {},
   "outputs": [],
   "source": [
    "optimizer = optim.LBFGS(list(estimator.flux_params_class.parameters()), \n",
    "                            max_iter = 20, \n",
    "                            line_search_fn = 'strong_wolfe')"
   ]
  },
  {
   "cell_type": "code",
   "execution_count": null,
   "metadata": {},
   "outputs": [],
   "source": [
    "estimator._run_optimizer(optimizer, tol = 1e-3, max_iter = 5, print_every = True)"
   ]
  },
  {
   "cell_type": "code",
   "execution_count": null,
   "metadata": {},
   "outputs": [],
   "source": [
    "est = torch.log10(estimator.get_fluxes()[0, 0:true_n_stars].detach())\n",
    "truth = torch.log10(true_fluxes[0, 0:true_n_stars])"
   ]
  },
  {
   "cell_type": "code",
   "execution_count": null,
   "metadata": {},
   "outputs": [],
   "source": [
    "plt.plot(est.flatten(), truth.flatten(), '+')\n",
    "plt.plot(est.flatten(), est.flatten())"
   ]
  },
  {
   "cell_type": "code",
   "execution_count": null,
   "metadata": {},
   "outputs": [],
   "source": [
    "recon1 = estimator.get_loss()[0].detach()\n",
    "for i in range(len(bands)): \n",
    "    foo = ((recon1[0, i] - full_image[0, i]) / full_image[0, i])[5:95, 5:95]\n",
    "    plt.matshow(foo, vmax = foo.abs().max(), vmin = - foo.abs().max(), cmap = plt.get_cmap('bwr')) \n",
    "    plt.colorbar()"
   ]
  },
  {
   "cell_type": "markdown",
   "metadata": {},
   "source": [
    "# Check estimation of background "
   ]
  },
  {
   "cell_type": "code",
   "execution_count": null,
   "metadata": {},
   "outputs": [],
   "source": [
    "estimator = EstimateModelParams(full_image, true_locs, true_n_stars, \n",
    "                          init_psf_params = init_psf_params, \n",
    "                        init_background = full_background - background_bias.forward().detach(), \n",
    "                        init_fluxes = true_fluxes)"
   ]
  },
  {
   "cell_type": "code",
   "execution_count": null,
   "metadata": {},
   "outputs": [],
   "source": [
    "recon0 = estimator.get_loss()[0].detach()\n",
    "for i in range(len(bands)): \n",
    "    foo = ((recon0[0, i] - full_image[0, i]) / full_image[0, i])[5:95, 5:95]\n",
    "    plt.matshow(foo, vmax = foo.abs().max(), vmin = - foo.abs().max(), cmap = plt.get_cmap('bwr')) \n",
    "    plt.colorbar()"
   ]
  },
  {
   "cell_type": "code",
   "execution_count": null,
   "metadata": {},
   "outputs": [],
   "source": []
  },
  {
   "cell_type": "code",
   "execution_count": null,
   "metadata": {},
   "outputs": [],
   "source": [
    "optimizer = optim.LBFGS(list(estimator.background_bias.parameters()), \n",
    "                            max_iter = 20, \n",
    "                            line_search_fn = 'strong_wolfe')"
   ]
  },
  {
   "cell_type": "code",
   "execution_count": null,
   "metadata": {},
   "outputs": [],
   "source": [
    "def closure():\n",
    "    optimizer.zero_grad()\n",
    "    loss = estimator.get_loss()[1]\n",
    "    loss.backward()\n",
    "    print(loss)\n",
    "    return loss"
   ]
  },
  {
   "cell_type": "code",
   "execution_count": null,
   "metadata": {},
   "outputs": [],
   "source": [
    "_ = optimizer.step(closure)"
   ]
  },
  {
   "cell_type": "code",
   "execution_count": null,
   "metadata": {},
   "outputs": [],
   "source": [
    "recon1 = estimator.get_loss()[0].detach()\n",
    "for i in range(len(bands)): \n",
    "    foo = ((recon1[0, i] - full_image[0, i]) / full_image[0, i])[5:95, 5:95]\n",
    "    plt.matshow(foo, vmax = foo.abs().max(), vmin = - foo.abs().max(), cmap = plt.get_cmap('bwr')) \n",
    "    plt.colorbar()"
   ]
  },
  {
   "cell_type": "code",
   "execution_count": null,
   "metadata": {},
   "outputs": [],
   "source": [
    "list(estimator.background_bias.parameters())"
   ]
  },
  {
   "cell_type": "code",
   "execution_count": null,
   "metadata": {},
   "outputs": [],
   "source": [
    "list(background_bias.parameters())"
   ]
  },
  {
   "cell_type": "code",
   "execution_count": null,
   "metadata": {},
   "outputs": [],
   "source": []
  },
  {
   "cell_type": "markdown",
   "metadata": {},
   "source": [
    "# Check estimation of PSF"
   ]
  },
  {
   "cell_type": "code",
   "execution_count": null,
   "metadata": {},
   "outputs": [],
   "source": [
    "false_psf_params = torch.Tensor(np.load('../fits/results_2020-02-04/true_psf_params.npy'))"
   ]
  },
  {
   "cell_type": "code",
   "execution_count": null,
   "metadata": {},
   "outputs": [],
   "source": [
    "estimator = EstimateModelParams(full_image, true_locs, true_n_stars, \n",
    "                          init_psf_params = false_psf_params, \n",
    "                        init_background = full_background, \n",
    "                        init_fluxes = true_fluxes)"
   ]
  },
  {
   "cell_type": "code",
   "execution_count": null,
   "metadata": {},
   "outputs": [],
   "source": [
    "recon0 = estimator.get_loss()[0].detach()\n",
    "for i in range(len(bands)): \n",
    "    foo = ((recon0[0, i] - full_image[0, i]) / full_image[0, i])[5:95, 5:95]\n",
    "    plt.matshow(foo, vmax = foo.abs().max(), vmin = - foo.abs().max(), cmap = plt.get_cmap('bwr')) \n",
    "    plt.colorbar()"
   ]
  },
  {
   "cell_type": "code",
   "execution_count": null,
   "metadata": {},
   "outputs": [],
   "source": [
    "optimizer = optim.LBFGS(list(estimator.power_law_psf.parameters()), \n",
    "                            max_iter = 50, \n",
    "                            line_search_fn = 'strong_wolfe')"
   ]
  },
  {
   "cell_type": "code",
   "execution_count": null,
   "metadata": {},
   "outputs": [],
   "source": [
    "def closure():\n",
    "    optimizer.zero_grad()\n",
    "    loss = estimator.get_loss()[1]\n",
    "    loss.backward()\n",
    "    print(loss)\n",
    "    return loss"
   ]
  },
  {
   "cell_type": "code",
   "execution_count": null,
   "metadata": {},
   "outputs": [],
   "source": [
    "_ = optimizer.step(closure)"
   ]
  },
  {
   "cell_type": "code",
   "execution_count": null,
   "metadata": {},
   "outputs": [],
   "source": [
    "recon1 = estimator.get_loss()[0].detach()\n",
    "for i in range(len(bands)): \n",
    "    foo = ((recon1[0, i] - full_image[0, i]) / full_image[0, i])[5:95, 5:95]\n",
    "    plt.matshow(foo, vmax = foo.abs().max(), vmin = - foo.abs().max(), cmap = plt.get_cmap('bwr')) \n",
    "    plt.colorbar()"
   ]
  },
  {
   "cell_type": "code",
   "execution_count": null,
   "metadata": {},
   "outputs": [],
   "source": []
  }
 ],
 "metadata": {
  "kernelspec": {
   "display_name": "pytorch_update",
   "language": "python",
   "name": "pytorch_update"
  },
  "language_info": {
   "codemirror_mode": {
    "name": "ipython",
    "version": 3
   },
   "file_extension": ".py",
   "mimetype": "text/x-python",
   "name": "python",
   "nbconvert_exporter": "python",
   "pygments_lexer": "ipython3",
   "version": "3.6.8"
  }
 },
 "nbformat": 4,
 "nbformat_minor": 2
}
