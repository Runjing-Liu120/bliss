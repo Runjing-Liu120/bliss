{
 "cells": [
  {
   "cell_type": "code",
   "execution_count": null,
   "metadata": {},
   "outputs": [],
   "source": [
    "import numpy as np\n",
    "import timeit\n",
    "\n",
    "import matplotlib.pyplot as plt\n",
    "\n",
    "import torch\n",
    "import torch.optim as optim\n",
    "\n",
    "import fitsio \n",
    "\n",
    "import sys\n",
    "sys.path.insert(0, './../')\n",
    "import sdss_psf\n",
    "import simulated_datasets_lib\n",
    "import starnet_vae_lib\n",
    "import sdss_dataset_lib\n",
    "import plotting_utils\n",
    "import image_statistics_lib\n",
    "import utils\n",
    "import psf_transform_lib2\n",
    "\n",
    "import inv_kl_objective_lib as inv_kl_lib\n",
    "\n",
    "import image_utils\n",
    "\n",
    "import time\n",
    "\n",
    "import json\n",
    "\n",
    "device = torch.device(\"cuda:0\" if torch.cuda.is_available() else \"cpu\")\n",
    "\n",
    "print('torch version: ', torch.__version__)\n",
    "\n",
    "from copy import deepcopy"
   ]
  },
  {
   "cell_type": "code",
   "execution_count": null,
   "metadata": {},
   "outputs": [],
   "source": [
    "np.random.seed(453)\n",
    "_ = torch.manual_seed(786)"
   ]
  },
  {
   "cell_type": "markdown",
   "metadata": {},
   "source": [
    "# Data parameters"
   ]
  },
  {
   "cell_type": "code",
   "execution_count": null,
   "metadata": {},
   "outputs": [],
   "source": [
    "# data parameters\n",
    "with open('../data/default_star_parameters.json', 'r') as fp:\n",
    "    data_params = json.load(fp)"
   ]
  },
  {
   "cell_type": "code",
   "execution_count": null,
   "metadata": {},
   "outputs": [],
   "source": [
    "data_params"
   ]
  },
  {
   "cell_type": "markdown",
   "metadata": {},
   "source": [
    "# The PSF"
   ]
  },
  {
   "cell_type": "code",
   "execution_count": null,
   "metadata": {},
   "outputs": [],
   "source": [
    "# psf_dir = '../data/'\n",
    "# psf_r = fitsio.FITS(psf_dir + 'sdss-002583-2-0136-psf-r.fits')[0].read()\n",
    "# psf_i = fitsio.FITS(psf_dir + 'sdss-002583-2-0136-psf-i.fits')[0].read()\n",
    "# psf_og = np.array([psf_r, psf_i])\n",
    "\n",
    "bands = [2, 3]\n",
    "psfield_file = '../../celeste_net/sdss_stage_dir/2583/2/136/psField-002583-2-0136.fit'\n",
    "init_psf_params = torch.zeros(len(bands), 6)\n",
    "for i in range(len(bands)):\n",
    "    init_psf_params[i] = psf_transform_lib2.get_psf_params(\n",
    "                                    psfield_file,\n",
    "                                    band = bands[i])\n",
    "power_law_psf = psf_transform_lib2.PowerLawPSF(init_psf_params.to(device))\n",
    "psf_og = power_law_psf.forward().detach()\n",
    "\n",
    "\n",
    "n_bands = psf_og.shape[0]"
   ]
  },
  {
   "cell_type": "markdown",
   "metadata": {},
   "source": [
    "# Draw data"
   ]
  },
  {
   "cell_type": "code",
   "execution_count": null,
   "metadata": {},
   "outputs": [],
   "source": [
    "background = torch.ones(psf_og.shape[0],\n",
    "                        data_params['slen'],\n",
    "                        data_params['slen']) * \\\n",
    "                torch.Tensor([686., 1123.])[:, None, None]"
   ]
  },
  {
   "cell_type": "code",
   "execution_count": null,
   "metadata": {},
   "outputs": [],
   "source": [
    "# Draw from the same distribution I used in the sleep phase\n",
    "n_images = 1\n",
    "\n",
    "simulated_dataset = \\\n",
    "    simulated_datasets_lib.load_dataset_from_params(psf_og,\n",
    "                    data_params,\n",
    "                    background = background,\n",
    "                    n_images = n_images,\n",
    "                    transpose_psf = False, \n",
    "                    add_noise = True)\n",
    "\n",
    "images_full = simulated_dataset.images.detach()\n",
    "backgrounds_full = simulated_dataset.background.detach()\n",
    "        \n",
    "which_on = (simulated_dataset.fluxes > 0).any(2).squeeze()\n",
    "        \n",
    "true_full_locs = simulated_dataset.locs[:, which_on, :]\n",
    "true_full_fluxes = simulated_dataset.fluxes[:, which_on, :]\n",
    "        \n",
    "simulator = simulated_dataset.simulator"
   ]
  },
  {
   "cell_type": "code",
   "execution_count": null,
   "metadata": {},
   "outputs": [],
   "source": [
    "true_full_fluxes.shape"
   ]
  },
  {
   "cell_type": "code",
   "execution_count": null,
   "metadata": {},
   "outputs": [],
   "source": [
    "true_full_locs.shape"
   ]
  },
  {
   "cell_type": "code",
   "execution_count": null,
   "metadata": {},
   "outputs": [],
   "source": [
    "# histogram of fluxes\n",
    "for i in range(psf_og.shape[0]): \n",
    "    plt.hist(np.log10(true_full_fluxes[:, :, i].numpy().flatten()), bins = 50);"
   ]
  },
  {
   "cell_type": "code",
   "execution_count": null,
   "metadata": {},
   "outputs": [],
   "source": []
  },
  {
   "cell_type": "code",
   "execution_count": null,
   "metadata": {},
   "outputs": [],
   "source": [
    "if n_bands > 1: \n",
    "    # histogram of colors\n",
    "    colors = -2.5 * np.log10(true_full_fluxes[:, :, 1].numpy().flatten() / \\\n",
    "                      true_full_fluxes[:, :, 0].numpy().flatten())\n",
    "    plt.hist(colors, bins = 50);"
   ]
  },
  {
   "cell_type": "code",
   "execution_count": null,
   "metadata": {},
   "outputs": [],
   "source": [
    "# color x flux\n",
    "if n_bands > 1: \n",
    "    plt.scatter(colors, np.log10(true_full_fluxes[:, :, 0].numpy().flatten()), marker = 'x', alpha = 0.5)"
   ]
  },
  {
   "cell_type": "code",
   "execution_count": null,
   "metadata": {},
   "outputs": [],
   "source": [
    "images_full.min()"
   ]
  },
  {
   "cell_type": "code",
   "execution_count": null,
   "metadata": {},
   "outputs": [],
   "source": [
    "true_full_fluxes.min()"
   ]
  },
  {
   "cell_type": "markdown",
   "metadata": {},
   "source": [
    "# Load VAE"
   ]
  },
  {
   "cell_type": "code",
   "execution_count": null,
   "metadata": {},
   "outputs": [],
   "source": [
    "optimize_fluxes = True"
   ]
  },
  {
   "cell_type": "code",
   "execution_count": null,
   "metadata": {},
   "outputs": [],
   "source": [
    "star_encoder = starnet_vae_lib.StarEncoder(full_slen = data_params['slen'],\n",
    "                                            stamp_slen = 7,\n",
    "                                            step = 2,\n",
    "                                            edge_padding = 2, \n",
    "                                            n_bands = n_bands,\n",
    "                                            max_detections = 2, \n",
    "                                          estimate_flux_var = not(optimize_fluxes))"
   ]
  },
  {
   "cell_type": "code",
   "execution_count": null,
   "metadata": {},
   "outputs": [],
   "source": [
    "star_encoder.load_state_dict(torch.load('../fits/results_2020-02-04/starnet_ri_sdss_params',\n",
    "                               map_location=lambda storage, loc: storage))\n",
    "star_encoder.eval(); "
   ]
  },
  {
   "cell_type": "code",
   "execution_count": null,
   "metadata": {},
   "outputs": [],
   "source": [
    "# check loss \n",
    "loss, counter_loss, locs_loss, fluxes_loss, perm_indx = \\\n",
    "    inv_kl_lib.get_encoder_loss(star_encoder, images_full, backgrounds_full, \n",
    "                                true_full_locs, true_full_fluxes)[0:5]"
   ]
  },
  {
   "cell_type": "code",
   "execution_count": null,
   "metadata": {},
   "outputs": [],
   "source": [
    "print('loss: {:06f}'.format(loss))"
   ]
  },
  {
   "cell_type": "code",
   "execution_count": null,
   "metadata": {},
   "outputs": [],
   "source": [
    "print(counter_loss.mean())\n",
    "print(locs_loss.mean())\n",
    "print(fluxes_loss.mean())"
   ]
  },
  {
   "cell_type": "code",
   "execution_count": null,
   "metadata": {},
   "outputs": [],
   "source": []
  },
  {
   "cell_type": "markdown",
   "metadata": {},
   "source": [
    "# Get image stamps"
   ]
  },
  {
   "cell_type": "code",
   "execution_count": null,
   "metadata": {},
   "outputs": [],
   "source": [
    "# get image stamps\n",
    "image_stamps, true_subimage_locs, true_subimage_fluxes, \\\n",
    "    true_subimage_n_stars, true_is_on_array = \\\n",
    "        star_encoder.get_image_stamps(images_full, true_full_locs, true_full_fluxes, \n",
    "                                      trim_images = False, clip_max_stars = True)\n",
    "    \n",
    "background_stamps = star_encoder.get_image_stamps(backgrounds_full, None, None, \n",
    "                                      trim_images = False)[0]"
   ]
  },
  {
   "cell_type": "code",
   "execution_count": null,
   "metadata": {},
   "outputs": [],
   "source": [
    "foo = plt.hist(true_subimage_n_stars, bins=np.arange(max(true_subimage_n_stars) + 2))[0]\n",
    "# plt.plot(foo[0] / star_encoder.weights, 'x')"
   ]
  },
  {
   "cell_type": "code",
   "execution_count": null,
   "metadata": {},
   "outputs": [],
   "source": [
    "plt.hist(locs_loss.detach()[locs_loss != 0], bins = 100);"
   ]
  },
  {
   "cell_type": "markdown",
   "metadata": {},
   "source": [
    "\n",
    "# get inferred parameters on stamps"
   ]
  },
  {
   "cell_type": "code",
   "execution_count": null,
   "metadata": {},
   "outputs": [],
   "source": [
    "# Note that these variational parameters are estimated using the true number of stars!\n",
    "stamp_loc_mean, stamp_loc_log_var, \\\n",
    "    stamp_log_flux_mean, stamp_log_flux_log_var, stamp_log_probs = \\\n",
    "        star_encoder(image_stamps, background_stamps, true_subimage_n_stars)"
   ]
  },
  {
   "cell_type": "code",
   "execution_count": null,
   "metadata": {},
   "outputs": [],
   "source": [
    "map_n_stars_stamps = torch.argmax(stamp_log_probs, dim = 1).detach()"
   ]
  },
  {
   "cell_type": "code",
   "execution_count": null,
   "metadata": {},
   "outputs": [],
   "source": [
    "(map_n_stars_stamps == true_subimage_n_stars).float().mean()"
   ]
  },
  {
   "cell_type": "code",
   "execution_count": null,
   "metadata": {},
   "outputs": [],
   "source": [
    "plt.hist(map_n_stars_stamps, bins = np.arange(star_encoder.max_detections + 2))\n",
    "plt.hist(true_subimage_n_stars, bins = np.arange(star_encoder.max_detections + 2), alpha = 0.2)"
   ]
  },
  {
   "cell_type": "code",
   "execution_count": null,
   "metadata": {},
   "outputs": [],
   "source": []
  },
  {
   "cell_type": "code",
   "execution_count": null,
   "metadata": {},
   "outputs": [],
   "source": [
    "from itertools import permutations"
   ]
  },
  {
   "cell_type": "code",
   "execution_count": null,
   "metadata": {},
   "outputs": [],
   "source": [
    "perm_list = []\n",
    "for perm in permutations(range(star_encoder.max_detections)):\n",
    "    perm_list.append(perm)"
   ]
  },
  {
   "cell_type": "code",
   "execution_count": null,
   "metadata": {},
   "outputs": [],
   "source": [
    "perm = np.zeros((image_stamps.shape[0], star_encoder.max_detections))\n",
    "for i in range(image_stamps.shape[0]): \n",
    "    perm[i, :] = perm_list[perm_indx[i]]"
   ]
  },
  {
   "cell_type": "markdown",
   "metadata": {},
   "source": [
    "### check parameters"
   ]
  },
  {
   "cell_type": "code",
   "execution_count": null,
   "metadata": {},
   "outputs": [],
   "source": [
    "# permute true parameters \n",
    "def permute_params(locs, fluxes, perm): \n",
    "    batchsize = perm.shape[0]\n",
    "    max_stars = perm.shape[1]\n",
    "    \n",
    "    n_bands = fluxes.shape[-1]\n",
    "\n",
    "    locs_perm = torch.zeros((batchsize, max_stars, 2))\n",
    "    fluxes_perm = torch.zeros((batchsize, max_stars, n_bands))\n",
    "    seq_tensor = torch.LongTensor([i for i in range(batchsize)])\n",
    "\n",
    "    for i in range(max_stars):\n",
    "        locs_perm[:, i, :] = locs[seq_tensor, perm[:, i], :]\n",
    "        fluxes_perm[:, i, :] = fluxes[seq_tensor, perm[:, i], :]\n",
    "        \n",
    "    return locs_perm, fluxes_perm"
   ]
  },
  {
   "cell_type": "code",
   "execution_count": null,
   "metadata": {},
   "outputs": [],
   "source": [
    "locs_perm, log_fluxes_perm = permute_params(stamp_loc_mean, stamp_log_flux_mean, perm)\n",
    "log_var_locs_perm, log_var_log_fluxes_perm = \\\n",
    "    permute_params(stamp_loc_log_var, stamp_log_flux_log_var, perm)"
   ]
  },
  {
   "cell_type": "code",
   "execution_count": null,
   "metadata": {},
   "outputs": [],
   "source": [
    "map_subimage_locs = (locs_perm * \\\n",
    "                     true_is_on_array.unsqueeze(2).float()).detach()\n",
    "map_subimage_fluxes = \\\n",
    "    (torch.exp(log_fluxes_perm) * \\\n",
    "                           true_is_on_array.unsqueeze(2).float()).detach()"
   ]
  },
  {
   "cell_type": "code",
   "execution_count": null,
   "metadata": {},
   "outputs": [],
   "source": [
    "plt.plot(map_subimage_locs.flatten()[map_subimage_locs.flatten() > 0].detach(), \n",
    "         true_subimage_locs.flatten()[true_subimage_locs.flatten() > 0], '+')\n",
    "\n",
    "plt.plot(map_subimage_locs.flatten()[map_subimage_locs.flatten() > 0].detach(), \n",
    "         map_subimage_locs.flatten()[map_subimage_locs.flatten() > 0].detach(), '-')\n",
    "\n",
    "plt.xlabel('estimated')\n",
    "plt.ylabel('truth')"
   ]
  },
  {
   "cell_type": "code",
   "execution_count": null,
   "metadata": {},
   "outputs": [],
   "source": [
    "plt.plot(torch.log(true_subimage_fluxes.flatten()[true_subimage_fluxes.flatten() > 0]), \n",
    "         torch.log(map_subimage_fluxes.flatten()[map_subimage_fluxes.flatten() > 0].detach()), '+')\n",
    "\n",
    "plt.plot(torch.log(map_subimage_fluxes.flatten()[map_subimage_fluxes.flatten() > 0].detach()), \n",
    "         torch.log(map_subimage_fluxes.flatten()[map_subimage_fluxes.flatten() > 0].detach()), '-')\n",
    "\n",
    "plt.xlabel('truth')\n",
    "plt.ylabel('estimated')"
   ]
  },
  {
   "cell_type": "code",
   "execution_count": null,
   "metadata": {},
   "outputs": [],
   "source": [
    "est = log_fluxes_perm[true_subimage_fluxes > 0]\n",
    "truth = torch.log(true_subimage_fluxes[true_subimage_fluxes > 0])\n",
    "\n",
    "est_sd = torch.exp(0.5 * log_var_log_fluxes_perm[true_subimage_fluxes > 0])\n",
    "\n",
    "zscore = (est - truth) / est_sd\n",
    "\n",
    "plt.hist(zscore.detach(), bins = 50); "
   ]
  },
  {
   "cell_type": "code",
   "execution_count": null,
   "metadata": {},
   "outputs": [],
   "source": [
    "est = locs_perm[true_subimage_locs > 0]\n",
    "truth = true_subimage_locs[true_subimage_locs > 0]\n",
    "\n",
    "est_sd = torch.exp(0.5 * log_var_locs_perm[true_subimage_locs > 0])\n",
    "\n",
    "zscore = (est - truth) / est_sd\n",
    "\n",
    "plt.hist(zscore.detach(), bins = 50); "
   ]
  },
  {
   "cell_type": "code",
   "execution_count": null,
   "metadata": {},
   "outputs": [],
   "source": [
    "zscore.mean()"
   ]
  },
  {
   "cell_type": "code",
   "execution_count": null,
   "metadata": {},
   "outputs": [],
   "source": [
    "zscore.var()"
   ]
  },
  {
   "cell_type": "code",
   "execution_count": null,
   "metadata": {},
   "outputs": [],
   "source": []
  },
  {
   "cell_type": "code",
   "execution_count": null,
   "metadata": {},
   "outputs": [],
   "source": [
    "# Not just fluxes, but also color?\n",
    "\n",
    "if n_bands > 1: \n",
    "    map_color = torch.log10(map_subimage_fluxes[:, :, 1].flatten()[map_subimage_fluxes[:, :, 1].flatten() > 0] / \\\n",
    "                            map_subimage_fluxes[:, :, 0].flatten()[map_subimage_fluxes[:, :, 0].flatten() > 0])\n",
    "\n",
    "    true_color = torch.log10(true_subimage_fluxes[:, :, 1].flatten()[true_subimage_fluxes[:, :, 1].flatten() > 0] / \\\n",
    "                            true_subimage_fluxes[:, :, 0].flatten()[true_subimage_fluxes[:, :, 0].flatten() > 0])\n",
    "\n",
    "    plt.plot(map_color, true_color, 'x')\n",
    "    plt.plot(map_color, map_color, '-')"
   ]
  },
  {
   "cell_type": "code",
   "execution_count": null,
   "metadata": {},
   "outputs": [],
   "source": [
    "\n",
    "if n_bands > 1: \n",
    "    fig, axarr = plt.subplots(1, 2, figsize=(7, 4))\n",
    "\n",
    "    axarr[0].scatter(true_color, \n",
    "                     true_subimage_fluxes[:, :, 1].flatten()[true_subimage_fluxes[:, :, 1].flatten() > 0])\n",
    "\n",
    "    axarr[0].scatter(map_color, \n",
    "                     map_subimage_fluxes[:, :, 1].flatten()[true_subimage_fluxes[:, :, 1].flatten() > 0], )"
   ]
  },
  {
   "cell_type": "code",
   "execution_count": null,
   "metadata": {},
   "outputs": [],
   "source": []
  },
  {
   "cell_type": "code",
   "execution_count": null,
   "metadata": {},
   "outputs": [],
   "source": []
  },
  {
   "cell_type": "code",
   "execution_count": null,
   "metadata": {},
   "outputs": [],
   "source": []
  },
  {
   "cell_type": "markdown",
   "metadata": {},
   "source": [
    "# Check reconstructions "
   ]
  },
  {
   "cell_type": "code",
   "execution_count": null,
   "metadata": {},
   "outputs": [],
   "source": [
    "use_true_n_stars = False\n",
    "if use_true_n_stars: \n",
    "    _n_stars = true_subimage_n_stars\n",
    "else: \n",
    "    _n_stars = None\n",
    "\n",
    "# get parameters on the full image \n",
    "map_locs_full_image, map_fluxes_full_image, map_n_stars_full = \\\n",
    "    star_encoder.sample_star_encoder(images_full, backgrounds_full, \n",
    "                                     return_map_n_stars = True,\n",
    "                                     return_map_star_params = True, \n",
    "                                     n_stars = _n_stars)[0:3]\n",
    "    \n",
    "if _n_stars is not None: \n",
    "    assert map_n_stars_full == torch.sum(_n_stars)\n",
    "\n",
    "assert map_n_stars_full == map_locs_full_image.shape[1]\n",
    "assert map_n_stars_full == map_fluxes_full_image.shape[1]"
   ]
  },
  {
   "cell_type": "code",
   "execution_count": null,
   "metadata": {},
   "outputs": [],
   "source": [
    "import flux_utils "
   ]
  },
  {
   "cell_type": "code",
   "execution_count": null,
   "metadata": {},
   "outputs": [],
   "source": [
    "if optimize_fluxes: \n",
    "    flux_estimator = flux_utils.EstimateFluxes(images_full, map_locs_full_image, map_n_stars_full,\n",
    "                                            simulator.psf, backgrounds_full, pad = 5, \n",
    "                                            init_fluxes = map_fluxes_full_image)\n",
    "    \n",
    "    print(flux_estimator.get_loss())\n",
    "    flux_estimator.optimize()\n",
    "    print(flux_estimator.get_loss())\n",
    "    map_fluxes_full_image = flux_estimator.return_fluxes()"
   ]
  },
  {
   "cell_type": "code",
   "execution_count": null,
   "metadata": {},
   "outputs": [],
   "source": [
    "foo = plt.hist(torch.log10(true_full_fluxes).flatten())[1]; \n",
    "plt.hist(torch.log10(map_fluxes_full_image.flatten()), bins = foo, alpha = 0.5)"
   ]
  },
  {
   "cell_type": "code",
   "execution_count": null,
   "metadata": {},
   "outputs": [],
   "source": []
  },
  {
   "cell_type": "code",
   "execution_count": null,
   "metadata": {},
   "outputs": [],
   "source": [
    "# get reconstructed mean\n",
    "vae_recon_mean = simulator.draw_image_from_params(locs = map_locs_full_image, \n",
    "                                                fluxes = map_fluxes_full_image,\n",
    "                                                 n_stars = map_n_stars_full, \n",
    "                                                 add_noise = False).detach()"
   ]
  },
  {
   "cell_type": "code",
   "execution_count": null,
   "metadata": {},
   "outputs": [],
   "source": [
    "band = 0"
   ]
  },
  {
   "cell_type": "code",
   "execution_count": null,
   "metadata": {},
   "outputs": [],
   "source": [
    "fig, axarr = plt.subplots(1, 3, figsize=(15, 4))\n",
    "im0 = axarr[0].matshow(images_full[0, band][5:95, 5:95])\n",
    "fig.colorbar(im0, ax = axarr[0])\n",
    "\n",
    "im1 = axarr[1].matshow(vae_recon_mean[0, band][5:95, 5:95])\n",
    "fig.colorbar(im1, ax = axarr[1])\n",
    "\n",
    "residual = torch.log10(vae_recon_mean[0, band]) - torch.log10(images_full[0, band])\n",
    "_residual = (residual * 2.5)[5:95, 5:95]\n",
    "# (torch.log(vae_recon_mean.squeeze()) - torch.log(images_full.squeeze()))[10:90, 10:90]\n",
    "vmax = _residual.abs().max()\n",
    "im2 = axarr[2].matshow(_residual, vmax = vmax, vmin = -vmax, cmap=plt.get_cmap('bwr'))\n",
    "fig.colorbar(im2, ax = axarr[2])"
   ]
  },
  {
   "cell_type": "code",
   "execution_count": null,
   "metadata": {},
   "outputs": [],
   "source": [
    "np.argwhere(_residual.numpy() < -.9)"
   ]
  },
  {
   "cell_type": "code",
   "execution_count": null,
   "metadata": {},
   "outputs": [],
   "source": [
    "plt.hist(_residual.flatten())"
   ]
  },
  {
   "cell_type": "code",
   "execution_count": null,
   "metadata": {},
   "outputs": [],
   "source": [
    "plt.matshow(_residual[40:50, 10:20]); \n",
    "plt.colorbar()"
   ]
  },
  {
   "cell_type": "code",
   "execution_count": null,
   "metadata": {},
   "outputs": [],
   "source": [
    "def get_which_tile(x0, x1, tile_coords, edge_padding, stamp_slen): \n",
    "    coords = tile_coords + edge_padding\n",
    "    \n",
    "    view_slen = stamp_slen - 2 * edge_padding\n",
    "    \n",
    "    indx = torch.where((x0 > coords[:, 0]) & \\\n",
    "                       (x0 < coords[:, 0] + view_slen) & \\\n",
    "                       (x1 > coords[:, 1]) & \\\n",
    "                       (x1 < coords[:, 1] + view_slen))\n",
    "        \n",
    "    return tile_coords[indx], indx"
   ]
  },
  {
   "cell_type": "code",
   "execution_count": null,
   "metadata": {},
   "outputs": [],
   "source": [
    "get_which_tile(24, 79, star_encoder.tile_coords, star_encoder.edge_padding, star_encoder.stamp_slen)"
   ]
  },
  {
   "cell_type": "code",
   "execution_count": null,
   "metadata": {},
   "outputs": [],
   "source": []
  },
  {
   "cell_type": "markdown",
   "metadata": {},
   "source": [
    "# check image patches"
   ]
  },
  {
   "cell_type": "code",
   "execution_count": null,
   "metadata": {},
   "outputs": [],
   "source": [
    "f, axarr = plt.subplots(1, 3, figsize=(16, 4))\n",
    "\n",
    "indx = 518 # int(np.random.choice(image_stamps.shape[0], 1))\n",
    "# indx = int(np.random.choice(torch.where(true_subimage_n_stars == 2)[0].numpy(), 1))\n",
    "\n",
    "plotting_utils.plot_subimage(axarr[0], images_full[0, band],\n",
    "                            map_locs_full_image.squeeze(), \n",
    "                            true_full_locs.squeeze(), \n",
    "                            int(star_encoder.tile_coords[indx, 0]), \n",
    "                            int(star_encoder.tile_coords[indx, 1]), \n",
    "                            subimage_slen = star_encoder.stamp_slen, \n",
    "                            add_colorbar = True, \n",
    "                            global_fig = f)\n",
    "\n",
    "plotting_utils.plot_subimage(axarr[1], vae_recon_mean[0, band],\n",
    "                            map_locs_full_image.squeeze(), \n",
    "                            None, \n",
    "                            int(star_encoder.tile_coords[indx, 0]), \n",
    "                            int(star_encoder.tile_coords[indx, 1]), \n",
    "                            subimage_slen = star_encoder.stamp_slen, \n",
    "                            add_colorbar = True, \n",
    "                            global_fig = f)\n",
    "\n",
    "foo = torch.log10(vae_recon_mean[0, band]) - torch.log10(images_full[0, band])\n",
    "plotting_utils.plot_subimage(axarr[2], foo * 2.5, \n",
    "                            map_locs_full_image.squeeze(), \n",
    "                            None, \n",
    "                            int(star_encoder.tile_coords[indx, 0]), \n",
    "                            int(star_encoder.tile_coords[indx, 1]), \n",
    "                            subimage_slen = star_encoder.stamp_slen, \n",
    "                            add_colorbar = True, \n",
    "                            global_fig = f, \n",
    "                            diverging_cmap = True)\n",
    "\n",
    "axarr[0].axvline(x=2, color = 'r')\n",
    "axarr[0].axvline(x=4, color = 'r')\n",
    "axarr[0].axhline(y=2, color = 'r')\n",
    "axarr[0].axhline(y=4, color = 'r')\n",
    "\n",
    "axarr[1].axvline(x=2, color = 'r')\n",
    "axarr[1].axvline(x=4, color = 'r')\n",
    "axarr[1].axhline(y=2, color = 'r')\n",
    "axarr[1].axhline(y=4, color = 'r')"
   ]
  },
  {
   "cell_type": "markdown",
   "metadata": {},
   "source": [
    "# Check out some summary statistics "
   ]
  },
  {
   "cell_type": "code",
   "execution_count": null,
   "metadata": {},
   "outputs": [],
   "source": [
    "n_elect_per_nmgy = 856."
   ]
  },
  {
   "cell_type": "code",
   "execution_count": null,
   "metadata": {},
   "outputs": [],
   "source": [
    "# completeness and tpr \n",
    "completeness, tpr, completeness_bool, tpr_bool = \\\n",
    "    image_statistics_lib.get_summary_stats(map_locs_full_image.squeeze(), \n",
    "                                           true_full_locs.squeeze(), \n",
    "                                           star_encoder.full_slen, \n",
    "                                           map_fluxes_full_image.squeeze(0)[:, 0], \n",
    "                                           true_full_fluxes.squeeze(0)[:, 0], \n",
    "                                          n_elect_per_nmgy)\n",
    "    \n",
    "print('completeness: {:0.3f}'.format(completeness))\n",
    "print('true positive rate: {:0.3f}'.format(tpr))"
   ]
  },
  {
   "cell_type": "code",
   "execution_count": null,
   "metadata": {},
   "outputs": [],
   "source": [
    "est_locs, est_fluxes = image_statistics_lib.filter_params(map_locs_full_image.squeeze(), \n",
    "                                     map_fluxes_full_image.squeeze(0)[:, 0], 101, 5)\n",
    "\n",
    "est_mags = image_statistics_lib.convert_nmgy_to_mag(est_fluxes / n_elect_per_nmgy)"
   ]
  },
  {
   "cell_type": "code",
   "execution_count": null,
   "metadata": {},
   "outputs": [],
   "source": [
    "est_locs[(tpr_bool == 0) & (est_mags < 16)]"
   ]
  },
  {
   "cell_type": "code",
   "execution_count": null,
   "metadata": {},
   "outputs": [],
   "source": []
  },
  {
   "cell_type": "code",
   "execution_count": null,
   "metadata": {},
   "outputs": [],
   "source": [
    "completeness_vec, mag_vec = \\\n",
    "    image_statistics_lib.get_completeness_vec(map_locs_full_image.squeeze(), \n",
    "                                           true_full_locs.squeeze(), \n",
    "                                           star_encoder.full_slen, \n",
    "                                           map_fluxes_full_image.squeeze(0)[:, 0], \n",
    "                                           true_full_fluxes.squeeze(0)[:, 0], \n",
    "                                             n_elect_per_nmgy)[0:2]\n",
    "\n",
    "plt.plot(mag_vec[0:-1], completeness_vec, '--x')\n",
    "plt.xlabel('true log flux')\n",
    "plt.ylabel('completeness')"
   ]
  },
  {
   "cell_type": "code",
   "execution_count": null,
   "metadata": {},
   "outputs": [],
   "source": [
    "tpr_vec, mag_vec = \\\n",
    "    image_statistics_lib.get_tpr_vec(map_locs_full_image.squeeze(), \n",
    "                                        true_full_locs.squeeze(), \n",
    "                                        star_encoder.full_slen, \n",
    "                                        map_fluxes_full_image.squeeze(0)[:, 0], \n",
    "                                        true_full_fluxes.squeeze(0)[:, 0], \n",
    "                                        n_elect_per_nmgy)[0:2]\n",
    "\n",
    "plt.plot(mag_vec[0:-1], tpr_vec, '--x')\n",
    "plt.xlabel('estimated log flux')\n",
    "plt.ylabel('tpr')"
   ]
  },
  {
   "cell_type": "code",
   "execution_count": null,
   "metadata": {},
   "outputs": [],
   "source": []
  },
  {
   "cell_type": "markdown",
   "metadata": {},
   "source": [
    "# Posterior samples"
   ]
  },
  {
   "cell_type": "code",
   "execution_count": null,
   "metadata": {},
   "outputs": [],
   "source": [
    "n_samples = 5"
   ]
  },
  {
   "cell_type": "code",
   "execution_count": null,
   "metadata": {},
   "outputs": [],
   "source": [
    "sampled_locs_full_image, sampled_fluxes_full_image, sampled_n_stars_full = \\\n",
    "    star_encoder.sample_star_encoder(images_full, backgrounds_full, \n",
    "                                     n_stars = None, \n",
    "                                    return_map_n_stars = False,\n",
    "                                    return_map_star_params = False, \n",
    "                                    n_samples = n_samples)[0:3]"
   ]
  },
  {
   "cell_type": "code",
   "execution_count": null,
   "metadata": {},
   "outputs": [],
   "source": [
    "backgrounds_full.mean()"
   ]
  },
  {
   "cell_type": "code",
   "execution_count": null,
   "metadata": {},
   "outputs": [],
   "source": [
    "sampled_n_stars_full"
   ]
  },
  {
   "cell_type": "code",
   "execution_count": null,
   "metadata": {},
   "outputs": [],
   "source": [
    "if optimize_fluxes: \n",
    "    flux_estimator = flux_utils.EstimateFluxes(images_full, sampled_locs_full_image, sampled_n_stars_full,\n",
    "                                            simulator.psf, sky_intensity, pad = 5, \n",
    "                                            init_fluxes = sampled_fluxes_full_image)\n",
    "    \n",
    "    print(flux_estimator.get_loss())\n",
    "    flux_estimator.optimize()\n",
    "    print(flux_estimator.get_loss())\n",
    "    sampled_fluxes_full_image = flux_estimator.return_fluxes()"
   ]
  },
  {
   "cell_type": "code",
   "execution_count": null,
   "metadata": {},
   "outputs": [],
   "source": []
  },
  {
   "cell_type": "code",
   "execution_count": null,
   "metadata": {},
   "outputs": [],
   "source": [
    "completeness_sampled = torch.zeros(n_samples)\n",
    "tpr_sampled = torch.zeros(n_samples)\n",
    "for i in range(n_samples): \n",
    "    # completeness and tpr\n",
    "    n_stars_i = sampled_n_stars_full[i]\n",
    "    completeness_sampled[i], tpr_sampled[i] = \\\n",
    "        image_statistics_lib.get_summary_stats(sampled_locs_full_image[i][0:n_stars_i], \n",
    "                                               true_full_locs.squeeze(), \n",
    "                                               star_encoder.full_slen, \n",
    "                                               sampled_fluxes_full_image[i][0:n_stars_i, 0], \n",
    "                                               true_full_fluxes.squeeze(0)[:, 0], \n",
    "                                              n_elect_per_nmgy)[0:2]\n",
    "\n",
    "print('completeness: {:0.3f}'.format(completeness_sampled.mean()))\n",
    "print('true positive rate: {:0.3f}'.format(tpr_sampled.mean()))"
   ]
  },
  {
   "cell_type": "code",
   "execution_count": null,
   "metadata": {},
   "outputs": [],
   "source": [
    "# get reconstructed mean\n",
    "recon_sampled = simulator.draw_image_from_params(locs = sampled_locs_full_image, \n",
    "                                                fluxes = sampled_fluxes_full_image,\n",
    "                                                 n_stars = sampled_n_stars_full, \n",
    "                                                 add_noise = False).detach()"
   ]
  },
  {
   "cell_type": "code",
   "execution_count": null,
   "metadata": {},
   "outputs": [],
   "source": [
    "recon_sampled.shape"
   ]
  },
  {
   "cell_type": "code",
   "execution_count": null,
   "metadata": {},
   "outputs": [],
   "source": [
    "for i in range(n_samples): \n",
    "    fig, axarr = plt.subplots(1, 3, figsize=(15, 4))\n",
    "    im0 = axarr[0].matshow(images_full[0, band][5:95, 5:95])\n",
    "    fig.colorbar(im0, ax = axarr[0])\n",
    "\n",
    "    im1 = axarr[1].matshow(recon_sampled[i, band][5:95, 5:95])\n",
    "    fig.colorbar(im1, ax = axarr[1])\n",
    "\n",
    "    residual = torch.log10(recon_sampled[i, band]) - torch.log10(images_full[0, band])\n",
    "    _residual = (residual * 2.5)[5:95, 5:95]\n",
    "    # (torch.log(vae_recon_mean.squeeze()) - torch.log(images_full.squeeze()))[10:90, 10:90]\n",
    "    vmax = _residual.abs().max()\n",
    "    im2 = axarr[2].matshow(_residual, vmax = vmax, vmin = -vmax, cmap=plt.get_cmap('bwr'))\n",
    "    fig.colorbar(im2, ax = axarr[2])"
   ]
  },
  {
   "cell_type": "code",
   "execution_count": null,
   "metadata": {},
   "outputs": [],
   "source": [
    "np.argwhere(_residual.numpy() < -2)"
   ]
  },
  {
   "cell_type": "code",
   "execution_count": null,
   "metadata": {},
   "outputs": [],
   "source": [
    "get_which_tile(63, 89, star_encoder.tile_coords, star_encoder.edge_padding, star_encoder.stamp_slen)"
   ]
  },
  {
   "cell_type": "code",
   "execution_count": null,
   "metadata": {},
   "outputs": [],
   "source": [
    "indx = 1483 # int(np.random.choice(image_stamps.shape[0], 1))\n",
    "\n",
    "f, axarr = plt.subplots(1, 3, figsize=(16, 4))\n",
    "plotting_utils.plot_subimage(axarr[0], images_full[0, band],\n",
    "                            map_locs_full_image.squeeze(), \n",
    "                            true_full_locs.squeeze(), \n",
    "                            int(star_encoder.tile_coords[indx, 0]), \n",
    "                            int(star_encoder.tile_coords[indx, 1]), \n",
    "                            subimage_slen = star_encoder.stamp_slen, \n",
    "                            add_colorbar = True, \n",
    "                            global_fig = f)\n",
    "\n",
    "plotting_utils.plot_subimage(axarr[1], vae_recon_mean[0, band],\n",
    "                            map_locs_full_image.squeeze(), \n",
    "                            None, \n",
    "                            int(star_encoder.tile_coords[indx, 0]), \n",
    "                            int(star_encoder.tile_coords[indx, 1]), \n",
    "                            subimage_slen = star_encoder.stamp_slen, \n",
    "                            add_colorbar = True, \n",
    "                            global_fig = f)\n",
    "\n",
    "foo = torch.log10(vae_recon_mean[0, band] / images_full[0, band])\n",
    "plotting_utils.plot_subimage(axarr[2], foo, \n",
    "                            map_locs_full_image.squeeze(), \n",
    "                            None, \n",
    "                            int(star_encoder.tile_coords[indx, 0]), \n",
    "                            int(star_encoder.tile_coords[indx, 1]), \n",
    "                            subimage_slen = star_encoder.stamp_slen, \n",
    "                            add_colorbar = True, \n",
    "                            global_fig = f, \n",
    "                            diverging_cmap = True)\n",
    "\n",
    "axarr[0].axvline(x=2, color = 'r')\n",
    "axarr[0].axvline(x=4, color = 'r')\n",
    "axarr[0].axhline(y=2, color = 'r')\n",
    "axarr[0].axhline(y=4, color = 'r')\n",
    "\n",
    "axarr[1].axvline(x=2, color = 'r')\n",
    "axarr[1].axvline(x=4, color = 'r')\n",
    "axarr[1].axhline(y=2, color = 'r')\n",
    "axarr[1].axhline(y=4, color = 'r')\n",
    "\n",
    "for i in range(n_samples): \n",
    "    f, axarr = plt.subplots(1, 3, figsize=(16, 4))\n",
    "\n",
    "    plotting_utils.plot_subimage(axarr[0], images_full[0, band],\n",
    "                                sampled_locs_full_image[i], \n",
    "                                true_full_locs.squeeze(), \n",
    "                                int(star_encoder.tile_coords[indx, 0]), \n",
    "                                int(star_encoder.tile_coords[indx, 1]), \n",
    "                                subimage_slen = star_encoder.stamp_slen, \n",
    "                                add_colorbar = True, \n",
    "                                global_fig = f)\n",
    "\n",
    "    plotting_utils.plot_subimage(axarr[1], recon_sampled[i, band],\n",
    "                                sampled_locs_full_image[i], \n",
    "                                None, \n",
    "                                int(star_encoder.tile_coords[indx, 0]), \n",
    "                                int(star_encoder.tile_coords[indx, 1]), \n",
    "                                subimage_slen = star_encoder.stamp_slen, \n",
    "                                add_colorbar = True, \n",
    "                                global_fig = f)\n",
    "\n",
    "    foo = torch.log10(recon_sampled[i, band] / images_full[0, band])\n",
    "    plotting_utils.plot_subimage(axarr[2], foo, \n",
    "                                sampled_locs_full_image[i], \n",
    "                                None, \n",
    "                                int(star_encoder.tile_coords[indx, 0]), \n",
    "                                int(star_encoder.tile_coords[indx, 1]), \n",
    "                                subimage_slen = star_encoder.stamp_slen, \n",
    "                                add_colorbar = True, \n",
    "                                global_fig = f, \n",
    "                                diverging_cmap = True)\n",
    "\n",
    "    axarr[0].axvline(x=2, color = 'r')\n",
    "    axarr[0].axvline(x=4, color = 'r')\n",
    "    axarr[0].axhline(y=2, color = 'r')\n",
    "    axarr[0].axhline(y=4, color = 'r')\n",
    "\n",
    "    axarr[1].axvline(x=2, color = 'r')\n",
    "    axarr[1].axvline(x=4, color = 'r')\n",
    "    axarr[1].axhline(y=2, color = 'r')\n",
    "    axarr[1].axhline(y=4, color = 'r')"
   ]
  },
  {
   "cell_type": "code",
   "execution_count": null,
   "metadata": {},
   "outputs": [],
   "source": []
  },
  {
   "cell_type": "code",
   "execution_count": null,
   "metadata": {},
   "outputs": [],
   "source": []
  },
  {
   "cell_type": "code",
   "execution_count": null,
   "metadata": {},
   "outputs": [],
   "source": []
  },
  {
   "cell_type": "code",
   "execution_count": null,
   "metadata": {},
   "outputs": [],
   "source": []
  }
 ],
 "metadata": {
  "kernelspec": {
   "display_name": "pytorch_update",
   "language": "python",
   "name": "pytorch_update"
  },
  "language_info": {
   "codemirror_mode": {
    "name": "ipython",
    "version": 3
   },
   "file_extension": ".py",
   "mimetype": "text/x-python",
   "name": "python",
   "nbconvert_exporter": "python",
   "pygments_lexer": "ipython3",
   "version": "3.6.8"
  }
 },
 "nbformat": 4,
 "nbformat_minor": 2
}
