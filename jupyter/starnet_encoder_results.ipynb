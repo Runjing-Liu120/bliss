{
 "cells": [
  {
   "cell_type": "code",
   "execution_count": null,
   "metadata": {},
   "outputs": [],
   "source": [
    "import numpy as np\n",
    "import timeit\n",
    "\n",
    "import matplotlib.pyplot as plt\n",
    "\n",
    "import torch\n",
    "import torch.optim as optim\n",
    "\n",
    "import sys\n",
    "sys.path.insert(0, './../')\n",
    "import sdss_psf\n",
    "import simulated_datasets_lib\n",
    "import starnet_vae_lib\n",
    "import sdss_dataset_lib\n",
    "\n",
    "import inv_kl_objective_lib as inv_kl_lib\n",
    "\n",
    "import image_utils\n",
    "\n",
    "import time\n",
    "\n",
    "import json\n",
    "\n",
    "device = torch.device(\"cuda:0\" if torch.cuda.is_available() else \"cpu\")\n",
    "\n",
    "print('torch version: ', torch.__version__)\n",
    "\n",
    "from copy import deepcopy"
   ]
  },
  {
   "cell_type": "code",
   "execution_count": null,
   "metadata": {},
   "outputs": [],
   "source": [
    "# load PSF\n",
    "psf_fit_file = '../../celeste_net/sdss_stage_dir/2583/2/136/psField-002583-2-0136.fit'\n",
    "print('psf file: \\n', psf_fit_file)"
   ]
  },
  {
   "cell_type": "code",
   "execution_count": null,
   "metadata": {},
   "outputs": [],
   "source": [
    "np.random.seed(22)\n",
    "_ = torch.manual_seed(22)"
   ]
  },
  {
   "cell_type": "markdown",
   "metadata": {},
   "source": [
    "# Draw data"
   ]
  },
  {
   "cell_type": "code",
   "execution_count": null,
   "metadata": {},
   "outputs": [],
   "source": [
    "# data parameters\n",
    "with open('../data/default_star_parameters.json', 'r') as fp:\n",
    "    data_params = json.load(fp)\n",
    "\n",
    "data_params['slen'] = 101\n",
    "data_params['min_stars'] = 2000\n",
    "data_params['max_stars'] = 2000\n",
    "data_params['alpha'] = 0.5\n"
   ]
  },
  {
   "cell_type": "code",
   "execution_count": null,
   "metadata": {},
   "outputs": [],
   "source": [
    "use_simulated_data = True\n",
    "use_hubble_params = False\n",
    "\n",
    "if use_simulated_data: \n",
    "    print('simulating data')\n",
    "    if not use_hubble_params: \n",
    "        # Draw from the sam distribution I simulated data \n",
    "        n_images = 1\n",
    "\n",
    "        simulated_dataset = \\\n",
    "            simulated_datasets_lib.load_dataset_from_params(psf_fit_file,\n",
    "                                    data_params,\n",
    "                                    n_images = n_images,\n",
    "                                    add_noise = True)\n",
    "\n",
    "        batchsize = 1\n",
    "\n",
    "        loader = torch.utils.data.DataLoader(\n",
    "                         dataset=simulated_dataset,\n",
    "                         batch_size=batchsize,\n",
    "                         shuffle=False)\n",
    "    \n",
    "        for _, data in enumerate(loader):\n",
    "            true_full_fluxes = data['fluxes']\n",
    "            true_full_locs = data['locs']\n",
    "            images_full = data['image']\n",
    "            backgrounds_full = torch.ones(images_full.shape) * data_params['sky_intensity']\n",
    "\n",
    "            break\n",
    "        \n",
    "        simulator = simulated_dataset.simulator\n",
    "        \n",
    "    else: \n",
    "        # simulate my own data, but use hubble paramters\n",
    "        \n",
    "        # load hubble data\n",
    "        sdss_hubble_data = sdss_dataset_lib.SDSSHubbleData()\n",
    "        \n",
    "        # my simulator \n",
    "        simulator = simulated_datasets_lib.StarSimulator(psf_fit_file=str(sdss_hubble_data.psf_file), \n",
    "                                                            slen = sdss_hubble_data.slen, \n",
    "                                                            sky_intensity = data_params['sky_intensity'])\n",
    "        \n",
    "        # simulate data using hubble parameters\n",
    "        images_full = simulator.draw_image_from_params(locs = sdss_hubble_data.locs.unsqueeze(0), \n",
    "                                fluxes = sdss_hubble_data.fluxes.unsqueeze(0), \n",
    "                                n_stars = torch.Tensor([len(sdss_hubble_data.locs)]).type(torch.LongTensor), \n",
    "                                add_noise = True)\n",
    "        \n",
    "        backgrounds_full = torch.ones(images_full.shape) * data_params['sky_intensity']\n",
    "        \n",
    "        # save true parameters\n",
    "        which_bright = sdss_hubble_data.fluxes > data_params['f_min']\n",
    "        true_full_locs = sdss_hubble_data.locs[which_bright].unsqueeze(0)\n",
    "        true_full_fluxes = sdss_hubble_data.fluxes[which_bright].unsqueeze(0)\n",
    "\n",
    "    \n",
    "else: \n",
    "    print('loading data')\n",
    "    # use hubble images and hubble parameters\n",
    "    sdss_hubble_data = sdss_dataset_lib.SDSSHubbleData()\n",
    "    images_full = sdss_hubble_data.sdss_image.unsqueeze(0)\n",
    "    backgrounds_full = sdss_hubble_data.sdss_background.unsqueeze(0)\n",
    "\n",
    "    which_bright = sdss_hubble_data.fluxes > data_params['f_min']\n",
    "    true_full_locs = sdss_hubble_data.locs[which_bright].unsqueeze(0)\n",
    "    true_full_fluxes = sdss_hubble_data.fluxes[which_bright].unsqueeze(0)\n",
    "    \n",
    "    simulator = simulated_datasets_lib.StarSimulator(psf_fit_file=str(sdss_hubble_data.psf_file), \n",
    "                                                        slen = sdss_hubble_data.slen, \n",
    "                                                        sky_intensity = data_params['sky_intensity'])\n",
    "\n",
    "\n"
   ]
  },
  {
   "cell_type": "code",
   "execution_count": null,
   "metadata": {},
   "outputs": [],
   "source": [
    "# # true parameters\n",
    "# batchsize = 1\n",
    "\n",
    "# loader = torch.utils.data.DataLoader(\n",
    "#                  dataset=simulated_dataset,\n",
    "#                  batch_size=batchsize,\n",
    "#                  shuffle=False)\n",
    "\n",
    "# for _, data in enumerate(loader):\n",
    "#     true_full_fluxes = data['fluxes']\n",
    "#     true_full_locs = data['locs']\n",
    "#     images_full = data['image']\n",
    "    \n",
    "#     break\n",
    "# backgrounds_full = torch.ones((image_stamps.shape[0], 1, 1, 1)) * data_params['sky_intensity']\n",
    "\n",
    "# data = np.load('../fits/testing_data.npz')\n",
    "# images_full = torch.Tensor(data['images'][0:1])\n",
    "# backgrounds_full = torch.ones((image_stamps.shape[0], 1, 1, 1)) * data_params['sky_intensity']\n",
    "# true_full_locs = torch.Tensor(data['true_locs'][0:1])\n",
    "# true_full_fluxes = torch.Tensor(data['true_fluxes'][0:1])\n",
    "\n"
   ]
  },
  {
   "cell_type": "code",
   "execution_count": null,
   "metadata": {},
   "outputs": [],
   "source": [
    "# histogram of fluxes\n",
    "plt.hist(np.log10(true_full_fluxes.numpy().flatten()))"
   ]
  },
  {
   "cell_type": "code",
   "execution_count": null,
   "metadata": {},
   "outputs": [],
   "source": [
    "plt.matshow(images_full.squeeze());"
   ]
  },
  {
   "cell_type": "code",
   "execution_count": null,
   "metadata": {},
   "outputs": [],
   "source": []
  },
  {
   "cell_type": "markdown",
   "metadata": {},
   "source": [
    "# Load VAE"
   ]
  },
  {
   "cell_type": "code",
   "execution_count": null,
   "metadata": {},
   "outputs": [],
   "source": [
    "star_encoder = starnet_vae_lib.StarEncoder(full_slen = data_params['slen'],\n",
    "                                            stamp_slen = 9,\n",
    "                                            step = 2,\n",
    "                                            edge_padding = 3, \n",
    "                                            n_bands = 1,\n",
    "                                            max_detections = 4)"
   ]
  },
  {
   "cell_type": "code",
   "execution_count": null,
   "metadata": {},
   "outputs": [],
   "source": [
    "star_encoder.load_state_dict(torch.load('../fits/starnet_invKL_encoder-10072019',\n",
    "                               map_location=lambda storage, loc: storage))\n",
    "star_encoder.eval(); "
   ]
  },
  {
   "cell_type": "code",
   "execution_count": null,
   "metadata": {},
   "outputs": [],
   "source": [
    "inv_kl_lib.eval_star_encoder_loss(star_encoder, loader, train = False)"
   ]
  },
  {
   "cell_type": "code",
   "execution_count": null,
   "metadata": {},
   "outputs": [],
   "source": []
  },
  {
   "cell_type": "code",
   "execution_count": null,
   "metadata": {},
   "outputs": [],
   "source": [
    "losses = np.loadtxt('../fits/test_losses_2000stars_smallpatch5')\n",
    "\n",
    "n_losses = losses.shape[1]\n",
    "plt.plot(np.arange(n_losses - 1), losses[0, 1:n_losses])\n",
    "plt.scatter(np.arange(n_losses - 1), losses[0, 1:n_losses], marker = 'x')\n"
   ]
  },
  {
   "cell_type": "raw",
   "metadata": {},
   "source": [
    "n_losses = losses.shape[1]\n",
    "plt.plot(np.arange(n_losses - 1), losses[0, 1:n_losses])\n",
    "plt.scatter(np.arange(n_losses - 1), losses[0, 1:n_losses], marker = 'x')\n",
    "\n",
    "losses2 = np.loadtxt('../fits/test_losses_2000stars_smallpatch4')\n",
    "n_losses = losses2.shape[1]\n",
    "plt.plot(np.arange(n_losses - 1), losses2[0, 1:n_losses])\n",
    "plt.scatter(np.arange(n_losses - 1), losses2[0, 1:n_losses], marker = 'x')\n"
   ]
  },
  {
   "cell_type": "markdown",
   "metadata": {},
   "source": [
    "# Get image stamps"
   ]
  },
  {
   "cell_type": "code",
   "execution_count": null,
   "metadata": {},
   "outputs": [],
   "source": [
    "backgrounds_full.shape"
   ]
  },
  {
   "cell_type": "code",
   "execution_count": null,
   "metadata": {},
   "outputs": [],
   "source": [
    "# get image stamps\n",
    "image_stamps, true_subimage_locs, true_subimage_fluxes, true_n_stars, is_on_array = \\\n",
    "        star_encoder.get_image_stamps(images_full, true_full_locs, true_full_fluxes, \n",
    "                                      trim_images = False)\n",
    "    \n",
    "background_stamps = star_encoder.get_image_stamps(backgrounds_full, None, None, \n",
    "                                      trim_images = False)[0]"
   ]
  },
  {
   "cell_type": "code",
   "execution_count": null,
   "metadata": {},
   "outputs": [],
   "source": [
    "plt.hist(true_n_stars, bins=np.arange(max(true_n_stars) + 2))"
   ]
  },
  {
   "cell_type": "code",
   "execution_count": null,
   "metadata": {},
   "outputs": [],
   "source": [
    "# check loss again\n",
    "loss, counter_loss, locs_loss, fluxes_loss, perm = \\\n",
    "    inv_kl_lib.get_encoder_loss(star_encoder, images_full, backgrounds_full, true_full_locs, true_full_fluxes)"
   ]
  },
  {
   "cell_type": "code",
   "execution_count": null,
   "metadata": {},
   "outputs": [],
   "source": [
    "print('loss: {:06f}'.format(loss))"
   ]
  },
  {
   "cell_type": "code",
   "execution_count": null,
   "metadata": {},
   "outputs": [],
   "source": [
    "plt.hist(locs_loss.detach()[locs_loss != 0], bins = 100);"
   ]
  },
  {
   "cell_type": "markdown",
   "metadata": {},
   "source": [
    "# get inferred parameters"
   ]
  },
  {
   "cell_type": "code",
   "execution_count": null,
   "metadata": {},
   "outputs": [],
   "source": [
    "# if more than max detections ...\n",
    "_true_n_stars = true_n_stars.clone()\n",
    "_true_n_stars[_true_n_stars > star_encoder.max_detections] = star_encoder.max_detections\n",
    "    \n",
    "logit_loc_mean, logit_loc_log_var, \\\n",
    "    log_flux_mean, log_flux_log_var, log_probs = \\\n",
    "        star_encoder(image_stamps, data_params['sky_intensity'], _true_n_stars)"
   ]
  },
  {
   "cell_type": "code",
   "execution_count": null,
   "metadata": {},
   "outputs": [],
   "source": []
  },
  {
   "cell_type": "markdown",
   "metadata": {},
   "source": [
    "# check parameters"
   ]
  },
  {
   "cell_type": "code",
   "execution_count": null,
   "metadata": {},
   "outputs": [],
   "source": [
    "# permute true parameters \n",
    "def permute_params(locs, fluxes, perm): \n",
    "    batchsize = perm.shape[0]\n",
    "    max_stars = perm.shape[1]\n",
    "\n",
    "    locs_perm = torch.zeros((batchsize, max_stars, 2))\n",
    "    fluxes_perm = torch.zeros((batchsize, max_stars))\n",
    "    seq_tensor = torch.LongTensor([i for i in range(batchsize)])\n",
    "\n",
    "    for i in range(max_stars):\n",
    "        locs_perm[:, i, :] = locs[seq_tensor, perm[:, i], :]\n",
    "        fluxes_perm[:, i] = fluxes[seq_tensor, perm[:, i]]\n",
    "        \n",
    "    return locs_perm, fluxes_perm"
   ]
  },
  {
   "cell_type": "code",
   "execution_count": null,
   "metadata": {},
   "outputs": [],
   "source": [
    "locs_perm, fluxes_perm = permute_params(logit_loc_mean, log_flux_mean, perm)"
   ]
  },
  {
   "cell_type": "code",
   "execution_count": null,
   "metadata": {},
   "outputs": [],
   "source": [
    "map_locs = torch.sigmoid(locs_perm) * is_on_array.unsqueeze(2).float()\n",
    "map_fluxes = fluxes_perm * is_on_array.float()"
   ]
  },
  {
   "cell_type": "code",
   "execution_count": null,
   "metadata": {},
   "outputs": [],
   "source": [
    "plt.plot(map_locs.flatten()[map_locs.flatten() > 0].detach(), \n",
    "         true_subimage_locs.flatten()[true_subimage_locs.flatten() > 0], '+')\n",
    "\n",
    "plt.plot(map_locs.flatten()[map_locs.flatten() > 0].detach(), \n",
    "         map_locs.flatten()[map_locs.flatten() > 0].detach(), '-')\n",
    "\n",
    "plt.xlabel('estimated')\n",
    "plt.ylabel('truth')"
   ]
  },
  {
   "cell_type": "code",
   "execution_count": null,
   "metadata": {},
   "outputs": [],
   "source": [
    "plt.plot(map_fluxes.flatten()[map_fluxes.flatten() > 0].detach(), \n",
    "         torch.log(true_subimage_fluxes.flatten()[true_subimage_fluxes.flatten() > 0]), '+')\n",
    "\n",
    "plt.plot(map_fluxes.flatten()[map_fluxes.flatten() > 0].detach(), \n",
    "         map_fluxes.flatten()[map_fluxes.flatten() > 0].detach(), '-')\n",
    "\n",
    "plt.xlabel('estimated')\n",
    "plt.ylabel('truth')"
   ]
  },
  {
   "cell_type": "code",
   "execution_count": null,
   "metadata": {},
   "outputs": [],
   "source": []
  },
  {
   "cell_type": "markdown",
   "metadata": {},
   "source": [
    "# Check reconstructions "
   ]
  },
  {
   "cell_type": "code",
   "execution_count": null,
   "metadata": {},
   "outputs": [],
   "source": [
    "# _true_n_stars = true_n_stars.clone()\n",
    "# _true_n_stars[true_n_stars > star_encoder.max_detections] = star_encoder.max_detections\n",
    "# probs = objectives_lib.get_one_hot_encoding_from_int(_true_n_stars, star_encoder.max_detections + 1) + 0.1\n",
    "\n",
    "# probs = probs / probs.sum(dim = 1).unsqueeze(1)\n",
    "\n",
    "# log_probs = torch.log(probs)\n",
    "\n",
    "# is_on_array = objectives_lib.get_is_on_from_n_stars(log_probs.argmax(1), star_encoder.max_detections)\n",
    "\n",
    "# logit_loc_mean = objectives_lib._logit(true_subimage_locs[:, 0:star_encoder.max_detections, :]) * \\\n",
    "#                     is_on_array.unsqueeze(2).float()\n",
    "    \n",
    "# logit_loc_log_var = -5 * torch.ones(logit_loc_mean.shape) * is_on_array.unsqueeze(2).float()\n",
    "\n",
    "# log_flux_mean = torch.log(true_subimage_fluxes[:, 0:star_encoder.max_detections].clamp(min = 0.1)) * \\\n",
    "#                     is_on_array.float()\n",
    "\n",
    "# log_flux_log_var = -5 * torch.ones(log_flux_mean.shape) * is_on_array.float()\n",
    "\n",
    "# loss, counter_loss, locs_loss, fluxes_loss, perm = \\\n",
    "#     objectives_lib.get_params_loss(logit_loc_mean, logit_loc_log_var, \\\n",
    "#                         log_flux_mean, log_flux_log_var, log_probs,\n",
    "#                         true_subimage_locs, true_subimage_fluxes, _true_n_stars)"
   ]
  },
  {
   "cell_type": "code",
   "execution_count": null,
   "metadata": {},
   "outputs": [],
   "source": []
  },
  {
   "cell_type": "code",
   "execution_count": null,
   "metadata": {},
   "outputs": [],
   "source": [
    "# get map estimates for image patches\n",
    "use_true_n_stars = False\n",
    "if use_true_n_stars: \n",
    "    map_n_stars = _true_n_stars # torch.argmax(log_probs, dim = 1)\n",
    "else: \n",
    "    map_n_stars = torch.argmax(log_probs, dim = 1)\n",
    "    \n",
    "is_on_array = inv_kl_lib.get_is_on_from_n_stars(map_n_stars, star_encoder.max_detections)\n",
    "\n",
    "map_locs = torch.sigmoid(logit_loc_mean).detach() * is_on_array.unsqueeze(2).float()\n",
    "map_fluxes = torch.exp(log_flux_mean).detach() * is_on_array.float()"
   ]
  },
  {
   "cell_type": "code",
   "execution_count": null,
   "metadata": {},
   "outputs": [],
   "source": [
    "# convert patch parameters to parameters on the full image \n",
    "map_locs_full_image, map_fluxes_full_image, n_stars = \\\n",
    "    image_utils.get_full_params_from_patch_params(map_locs, \n",
    "                                                  map_fluxes,\n",
    "                                                    star_encoder.tile_coords,\n",
    "                                                    star_encoder.full_slen,\n",
    "                                                    star_encoder.stamp_slen,\n",
    "                                                    star_encoder.edge_padding,\n",
    "                                                    star_encoder.batchsize)"
   ]
  },
  {
   "cell_type": "code",
   "execution_count": null,
   "metadata": {},
   "outputs": [],
   "source": [
    "# get reconsstructed mean\n",
    "vae_recon_mean = simulator.draw_image_from_params(locs = map_locs_full_image, \n",
    "                                                fluxes = map_fluxes_full_image,\n",
    "                                                 n_stars = n_stars, \n",
    "                                                 add_noise = False).squeeze()"
   ]
  },
  {
   "cell_type": "code",
   "execution_count": null,
   "metadata": {},
   "outputs": [],
   "source": [
    "fig, axarr = plt.subplots(1, 3, figsize=(15, 4))\n",
    "im0 = axarr[0].matshow(images_full.squeeze())\n",
    "fig.colorbar(im0, ax = axarr[0])\n",
    "\n",
    "im1 = axarr[1].matshow(vae_recon_mean.squeeze())\n",
    "fig.colorbar(im1, ax = axarr[1])\n",
    "\n",
    "residual = vae_recon_mean.squeeze() - images_full.squeeze()\n",
    "im2 = axarr[2].matshow(residual)\n",
    "fig.colorbar(im2, ax = axarr[2])"
   ]
  },
  {
   "cell_type": "markdown",
   "metadata": {},
   "source": [
    "# check image patches"
   ]
  },
  {
   "cell_type": "code",
   "execution_count": null,
   "metadata": {},
   "outputs": [],
   "source": [
    "import plotting_utils"
   ]
  },
  {
   "cell_type": "code",
   "execution_count": null,
   "metadata": {},
   "outputs": [],
   "source": [
    "for i in range(1): \n",
    "    fig, axarr = plt.subplots(1, 3, figsize=(16, 6))\n",
    "    indx = int(np.random.choice(image_stamps.shape[0], 1))\n",
    "    \n",
    "    x0 = int(star_encoder.tile_coords[indx, 0])\n",
    "    x1 = int(star_encoder.tile_coords[indx, 1]) \n",
    "    \n",
    "    # plot image stamp\n",
    "    im0 = axarr[0].matshow(image_stamps[indx].squeeze())\n",
    "    im0 = fig.colorbar(im0, ax=axarr[0])\n",
    "    \n",
    "    # plot true locations      \n",
    "    patch_slen = (star_encoder.stamp_slen - 2 * star_encoder.edge_padding)\n",
    "    axarr[0].scatter(true_subimage_locs[indx, 0:true_n_stars[indx], 1] * (patch_slen - 1) + \\\n",
    "                         star_encoder.edge_padding, \n",
    "                    true_subimage_locs[indx, 0:true_n_stars[indx], 0] * (patch_slen - 1) + \\\n",
    "                         star_encoder.edge_padding, \n",
    "                    color = 'b')\n",
    "    \n",
    "    axarr[0].scatter(map_locs[indx, 0:map_n_stars[indx], 1] * (patch_slen - 1) + star_encoder.edge_padding, \n",
    "                    map_locs[indx, 0:map_n_stars[indx], 0] * (patch_slen - 1) + star_encoder.edge_padding, \n",
    "                    color = 'r', marker = 'x')\n",
    "    \n",
    "    \n",
    "    axarr[0].axvline(x=2, color = 'r')\n",
    "    axarr[0].axvline(x=6, color = 'r')\n",
    "    axarr[0].axhline(y=2, color = 'r')\n",
    "    axarr[0].axhline(y=6, color = 'r')\n",
    "    \n",
    "    axarr[0].set_title('observed; coords {}\\n'.format([x0, x1]))\n",
    "    \n",
    "    # plot reconstruction\n",
    "    recon_patch = vae_recon_mean[x0:(x0+star_encoder.stamp_slen), \n",
    "                                   x1:(x1+star_encoder.stamp_slen)]\n",
    "    im1 = axarr[1].matshow(recon_patch)\n",
    "    \n",
    "    axarr[1].axvline(x=2, color = 'r')\n",
    "    axarr[1].axvline(x=6, color = 'r')\n",
    "    axarr[1].axhline(y=2, color = 'r')\n",
    "    axarr[1].axhline(y=6, color = 'r')\n",
    "    \n",
    "    axarr[1].scatter(map_locs[indx, 0:map_n_stars[indx], 1] * (patch_slen - 1) + star_encoder.edge_padding, \n",
    "                    map_locs[indx, 0:map_n_stars[indx], 0] * (patch_slen - 1) + star_encoder.edge_padding, \n",
    "                    color = 'r', marker = 'x')\n",
    "    fig.colorbar(im1, ax=axarr[1])\n",
    "    \n",
    "    \n",
    "    # plot residual\n",
    "    im2 = axarr[2].matshow((recon_patch - image_stamps[indx].squeeze()))\n",
    "    fig.colorbar(im2, ax=axarr[2])"
   ]
  },
  {
   "cell_type": "code",
   "execution_count": null,
   "metadata": {},
   "outputs": [],
   "source": [
    "# check that using the full image params get the same image\n",
    "# f, axarr = plt.subplots(1, 3, figsize=(16, 6))\n",
    "\n",
    "# plotting_utils.plot_subimage(axarr[0], images_full.squeeze(),\n",
    "#                             map_locs_full_image.squeeze() * (images_full.shape[-1] - 1), \n",
    "#                             true_full_locs.squeeze() * (images_full.shape[-1] - 1), \n",
    "#                             int(star_encoder.tile_coords[indx, 0]), \n",
    "#                             int(star_encoder.tile_coords[indx, 1]), \n",
    "#                             subimage_slen = star_encoder.stamp_slen)\n",
    "\n",
    "# axarr[0].axvline(x=2, color = 'r')\n",
    "# axarr[0].axvline(x=6, color = 'r')\n",
    "# axarr[0].axhline(y=2, color = 'r')\n",
    "# axarr[0].axhline(y=6, color = 'r')"
   ]
  },
  {
   "cell_type": "markdown",
   "metadata": {},
   "source": [
    "# On any arbitrary patch of the image "
   ]
  },
  {
   "cell_type": "code",
   "execution_count": null,
   "metadata": {},
   "outputs": [],
   "source": [
    "w = 10\n",
    "x0_vec = np.arange(star_encoder.edge_padding, \n",
    "                   star_encoder.full_slen - star_encoder.edge_padding - w, \n",
    "                  w)\n",
    "\n",
    "x1_vec = x0_vec"
   ]
  },
  {
   "cell_type": "code",
   "execution_count": null,
   "metadata": {},
   "outputs": [],
   "source": [
    "x0_vec"
   ]
  },
  {
   "cell_type": "code",
   "execution_count": null,
   "metadata": {},
   "outputs": [],
   "source": [
    "f, axarr = plt.subplots(1, 3, figsize=(16, 6))\n",
    "\n",
    "x0 = int(np.random.choice(x0_vec, 1))\n",
    "x1 = int(np.random.choice(x1_vec, 1))\n",
    "\n",
    "plotting_utils.plot_subimage(axarr[0], images_full.squeeze(),\n",
    "                            map_locs_full_image.squeeze(), \n",
    "                            true_full_locs.squeeze(), \n",
    "                            x0, x1, \n",
    "                            subimage_slen = w, \n",
    "                            add_colorbar = True, \n",
    "                            global_fig = fig)\n",
    "\n",
    "axarr[0].set_title('observed; coords = {}'.format([x0, x1]));\n",
    "\n",
    "plotting_utils.plot_subimage(axarr[1], vae_recon_mean.squeeze(),\n",
    "                            map_locs_full_image.squeeze(), \n",
    "                            None,  \n",
    "                            x0, x1, \n",
    "                            subimage_slen = w, \n",
    "                            add_colorbar = True, \n",
    "                            global_fig = fig)\n",
    "\n",
    "axarr[1].set_title('reconstructed; coords = {}'.format([x0, x1]));\n",
    "\n",
    "\n",
    "residual = (vae_recon_mean.squeeze() - images_full.squeeze())\n",
    "plotting_utils.plot_subimage(axarr[2], residual, \n",
    "                            map_locs_full_image.squeeze(), \n",
    "                            None,  \n",
    "                            x0, x1, \n",
    "                            subimage_slen = w, \n",
    "                            add_colorbar = True, \n",
    "                            global_fig = fig)\n",
    "\n",
    "axarr[1].set_title('residual; coords = {}'.format([x0, x1]));\n"
   ]
  },
  {
   "cell_type": "markdown",
   "metadata": {},
   "source": [
    "# Check out some summary statistics "
   ]
  },
  {
   "cell_type": "code",
   "execution_count": null,
   "metadata": {},
   "outputs": [],
   "source": [
    "def filter_params(locs, fluxes, slen, pad): \n",
    "    assert len(locs.shape) == 2\n",
    "    assert len(fluxes.shape) == 1\n",
    "    \n",
    "    _locs = locs * (slen - 1)\n",
    "    which_params = (_locs[:, 0] > pad) & (_locs[:, 0] < (slen - pad - 1)) & \\\n",
    "                        (_locs[:, 1] > pad) & (_locs[:, 1] < (slen - pad - 1))\n",
    "        \n",
    "    \n",
    "    return locs[which_params], fluxes[which_params]"
   ]
  },
  {
   "cell_type": "code",
   "execution_count": null,
   "metadata": {},
   "outputs": [],
   "source": [
    "true_locs, true_fluxes = filter_params(true_full_locs.squeeze(), \n",
    "                          true_full_fluxes.squeeze(), \n",
    "                          slen = star_encoder.full_slen,\n",
    "                          pad = star_encoder.edge_padding)\n",
    "\n",
    "est_locs, est_fluxes = filter_params(map_locs_full_image.squeeze(), \n",
    "                          map_fluxes_full_image.squeeze(), \n",
    "                          slen = star_encoder.full_slen,\n",
    "                          pad = star_encoder.edge_padding)"
   ]
  },
  {
   "cell_type": "code",
   "execution_count": null,
   "metadata": {},
   "outputs": [],
   "source": []
  },
  {
   "cell_type": "code",
   "execution_count": null,
   "metadata": {},
   "outputs": [],
   "source": [
    "_recon_mean = simulator.draw_image_from_params(\n",
    "                                locs = est_locs.unsqueeze(0), \n",
    "                                fluxes = est_fluxes.unsqueeze(0),\n",
    "                                n_stars = torch.Tensor([est_locs.shape[0]]).type(torch.LongTensor), \n",
    "                                add_noise = False).squeeze()\n",
    "\n",
    "_recon_truth = \\\n",
    "    simulator.draw_image_from_params(locs = true_locs.unsqueeze(0), \n",
    "                                    fluxes = true_fluxes.unsqueeze(0),\n",
    "                                     n_stars = torch.Tensor([len(true_locs)]).type(torch.LongTensor), \n",
    "                                     add_noise = False).squeeze()\n",
    "\n",
    "\n",
    "fig, axarr = plt.subplots(1, 4, figsize=(15, 6))\n",
    "\n",
    "axarr[0].matshow(_recon_mean)\n",
    "axarr[2].matshow(_recon_truth)\n",
    "\n",
    "axarr[1].matshow((vae_recon_mean - images_full.squeeze()))\n",
    "\n",
    "axarr[3].matshow((_recon_truth - images_full.squeeze()))\n"
   ]
  },
  {
   "cell_type": "code",
   "execution_count": null,
   "metadata": {},
   "outputs": [],
   "source": [
    "# get matrix of error in locations \n",
    "def get_locs_error(locs, true_locs): \n",
    "    # truth x estimated\n",
    "    return torch.abs(locs.unsqueeze(0) - true_locs.unsqueeze(1)).max(2)[0]"
   ]
  },
  {
   "cell_type": "code",
   "execution_count": null,
   "metadata": {},
   "outputs": [],
   "source": [
    "locs_error = get_locs_error(est_locs * (star_encoder.full_slen - 1), \n",
    "                            true_locs * (star_encoder.full_slen - 1))\n",
    "# completeness: for each true star, is there at least one estimated star that is close \n",
    "print(torch.any(locs_error < 0.5, dim = 1).float().mean())\n",
    "# true positive rate: for each estimated star, is the at least one true star that is close?\n",
    "print(torch.any(locs_error < 0.5, dim = 0).float().mean())"
   ]
  },
  {
   "cell_type": "code",
   "execution_count": null,
   "metadata": {},
   "outputs": [],
   "source": [
    "# Take into account fluxes?\n",
    "def get_fluxes_error(fluxes, true_fluxes): \n",
    "    # truth x estimated\n",
    "    return torch.abs(torch.log10(fluxes).unsqueeze(0) - \\\n",
    "                     torch.log10(true_fluxes).unsqueeze(1))\n"
   ]
  },
  {
   "cell_type": "code",
   "execution_count": null,
   "metadata": {},
   "outputs": [],
   "source": [
    "fluxes_error = get_fluxes_error(est_fluxes, true_fluxes)"
   ]
  },
  {
   "cell_type": "code",
   "execution_count": null,
   "metadata": {},
   "outputs": [],
   "source": [
    "# completeness\n",
    "print(torch.any((locs_error < 0.5) * (fluxes_error < 0.5), dim = 1).float().mean())\n",
    "# true positive rate: for each estimated star, is the at least one true star that is close?\n",
    "print(torch.any((locs_error < 0.5) * (fluxes_error < 0.5), dim = 0).float().mean())"
   ]
  },
  {
   "cell_type": "code",
   "execution_count": null,
   "metadata": {},
   "outputs": [],
   "source": [
    "plt.hist(torch.log10(true_fluxes))"
   ]
  },
  {
   "cell_type": "code",
   "execution_count": null,
   "metadata": {},
   "outputs": [],
   "source": [
    "# get completeness as a function of magnitude\n",
    "\n",
    "true_mag = torch.log10(true_fluxes)\n",
    "\n",
    "max_mag = torch.ceil(true_mag.max())\n",
    "min_mag = torch.floor(true_mag.min())\n",
    "\n",
    "mag_vec = np.arange(min_mag, max_mag, 0.5)\n",
    "\n",
    "completeness_vec = np.zeros(len(mag_vec) - 1)\n",
    "\n",
    "for i in range(len(mag_vec) - 1): \n",
    "    which_true = (true_mag > mag_vec[i]) & (true_mag < mag_vec[i + 1])\n",
    "    \n",
    "    fluxes_error = get_fluxes_error(est_fluxes, true_fluxes[which_true])\n",
    "    \n",
    "    locs_error = get_locs_error(est_locs * (star_encoder.full_slen - 1), \n",
    "                                true_locs[which_true] * (star_encoder.full_slen - 1))\n",
    "    \n",
    "    completeness_vec[i] = \\\n",
    "        torch.any((locs_error < 0.5), dim = 1).float().mean()\n",
    "    \n",
    "#     completeness_vec[i] = \\\n",
    "#         torch.any((locs_error < 0.5) * (fluxes_error < 0.5), dim = 1).float().mean()"
   ]
  },
  {
   "cell_type": "code",
   "execution_count": null,
   "metadata": {},
   "outputs": [],
   "source": [
    "plt.plot(mag_vec[0:-1], completeness_vec, '--x')\n",
    "plt.xlabel('true log flux')\n",
    "plt.ylabel('completeness')"
   ]
  },
  {
   "cell_type": "code",
   "execution_count": null,
   "metadata": {},
   "outputs": [],
   "source": [
    "# true positive rate\n",
    "\n",
    "est_mag = torch.log10(est_fluxes)\n",
    "\n",
    "max_mag = torch.ceil(true_mag.max())\n",
    "min_mag = torch.floor(true_mag.min())\n",
    "\n",
    "mag_vec = np.arange(min_mag, max_mag, 0.5)\n",
    "\n",
    "tpr_vec = np.zeros(len(mag_vec) - 1)\n",
    "\n",
    "for i in range(len(mag_vec) - 1): \n",
    "    which_est = (est_mag > mag_vec[i]) & (est_mag < mag_vec[i + 1])\n",
    "    \n",
    "    fluxes_error = get_fluxes_error(est_fluxes[which_est], true_fluxes)\n",
    "    \n",
    "    locs_error = get_locs_error(est_locs[which_est] * (star_encoder.full_slen - 1), \n",
    "                                true_locs * (star_encoder.full_slen - 1))\n",
    "    \n",
    "    tpr_vec[i] = \\\n",
    "        torch.any(locs_error < 0.5, dim = 0).float().mean()\n",
    "    \n",
    "#     completeness_vec[i] = \\\n",
    "#         torch.any((locs_error < 0.5) * (fluxes_error < 0.5), dim = 1).float().mean()\n",
    "\n",
    "plt.plot(mag_vec[0:-1], tpr_vec, '--x')\n",
    "plt.xlabel('estimated log flux')\n",
    "plt.ylabel('tpr')"
   ]
  },
  {
   "cell_type": "code",
   "execution_count": null,
   "metadata": {},
   "outputs": [],
   "source": []
  },
  {
   "cell_type": "code",
   "execution_count": null,
   "metadata": {},
   "outputs": [],
   "source": []
  },
  {
   "cell_type": "code",
   "execution_count": null,
   "metadata": {},
   "outputs": [],
   "source": []
  },
  {
   "cell_type": "code",
   "execution_count": null,
   "metadata": {},
   "outputs": [],
   "source": []
  },
  {
   "cell_type": "code",
   "execution_count": null,
   "metadata": {},
   "outputs": [],
   "source": []
  },
  {
   "cell_type": "code",
   "execution_count": null,
   "metadata": {},
   "outputs": [],
   "source": []
  },
  {
   "cell_type": "code",
   "execution_count": null,
   "metadata": {},
   "outputs": [],
   "source": []
  },
  {
   "cell_type": "raw",
   "metadata": {},
   "source": [
    "_psf = simulated_datasets_lib._trim_psf(simulated_dataset.simulator.psf, \n",
    "                                        star_encoder.stamp_slen - 2 * star_encoder.edge_padding)"
   ]
  },
  {
   "cell_type": "raw",
   "metadata": {},
   "source": [
    "indx = np.arange(0, 20)\n",
    "# indx = torch.where(torch.abs(map_locs - true_subimage_locs).sum(-1).sum(-1) > 0.5)[0]\n",
    "# indx = true_n_stars == 2\n",
    "\n",
    "plotting_utils.print_results(star_encoder, \n",
    "                                image_stamps[indx], \n",
    "                                _backgrounds[indx], \n",
    "                                _psf, \n",
    "                                true_subimage_locs[indx], \n",
    "                                is_on_array[indx],\n",
    "                                use_true_n_stars = False)"
   ]
  },
  {
   "cell_type": "raw",
   "metadata": {},
   "source": [
    "indx = np.arange(20, 40)\n",
    "plotting_utils.print_results(star_encoder, \n",
    "                                image_stamps[indx], \n",
    "                                _backgrounds[indx], \n",
    "                                _psf, \n",
    "                                true_subimage_locs[indx], \n",
    "                                is_on_array[indx],\n",
    "                                use_true_n_stars = False)"
   ]
  },
  {
   "cell_type": "raw",
   "metadata": {},
   "source": []
  },
  {
   "cell_type": "raw",
   "metadata": {},
   "source": []
  },
  {
   "cell_type": "raw",
   "metadata": {},
   "source": []
  },
  {
   "cell_type": "raw",
   "metadata": {},
   "source": []
  },
  {
   "cell_type": "raw",
   "metadata": {},
   "source": [
    "# look at one image in detail"
   ]
  },
  {
   "cell_type": "raw",
   "metadata": {},
   "source": [
    "indx = 35 # int(np.random.choice(image_stamps.shape[0], 1))"
   ]
  },
  {
   "cell_type": "raw",
   "metadata": {},
   "source": [
    "image_i = image_stamps[indx].unsqueeze(0)\n",
    "true_n_stars_i = true_n_stars[indx]\n",
    "true_locs_i = true_subimage_locs[indx]\n",
    "\n",
    "print('true n_stars: ', true_n_stars_i)"
   ]
  },
  {
   "cell_type": "raw",
   "metadata": {},
   "source": [
    "n_stars_i = torch.Tensor([true_n_stars_i]).type(torch.LongTensor)\n",
    "\n",
    "logit_loc_mean, logit_loc_log_var, \\\n",
    "    log_flux_mean, log_flux_log_var, log_probs = \\\n",
    "        star_encoder(image_i, data_params['sky_intensity'], n_stars_i)"
   ]
  },
  {
   "cell_type": "raw",
   "metadata": {},
   "source": [
    "plotting_utils.plot_categorical_probs(log_probs[0], plt)"
   ]
  },
  {
   "cell_type": "raw",
   "metadata": {},
   "source": [
    "_images = image_utils.trim_images(image_i, star_encoder.edge_padding)\n",
    "plt.matshow(_images.squeeze())\n",
    "plt.scatter(true_locs_i[is_on_array[indx], 1] * (star_encoder.stamp_slen - 1 - 2 * star_encoder.edge_padding), \n",
    "           true_locs_i[is_on_array[indx], 0] * (star_encoder.stamp_slen - 1 - 2 * star_encoder.edge_padding))\n",
    "\n",
    "map_locs = torch.sigmoid(logit_loc_mean).detach()\n",
    "\n",
    "plt.scatter(map_locs[0, 0:n_stars_i, 1] * (star_encoder.stamp_slen - 1 - 2 * star_encoder.edge_padding), \n",
    "           map_locs[0, 0:n_stars_i, 0] * (star_encoder.stamp_slen - 1 - 2 * star_encoder.edge_padding), \n",
    "           color = 'red', marker = 'x')"
   ]
  },
  {
   "cell_type": "raw",
   "metadata": {},
   "source": []
  },
  {
   "cell_type": "raw",
   "metadata": {},
   "source": []
  },
  {
   "cell_type": "raw",
   "metadata": {},
   "source": [
    "# check out deblending properties"
   ]
  },
  {
   "cell_type": "raw",
   "metadata": {},
   "source": [
    "n_trials = 10\n",
    "\n",
    "_n_stars = (torch.ones(n_trials) * 2).type(torch.LongTensor)\n",
    "_fluxes = torch.ones(n_trials, max_stars) * simulated_dataset.f_min * 100\n",
    "\n",
    "_locs = torch.rand(n_trials, max_stars, 2)\n",
    "\n",
    "dist = 0.0\n",
    "incr = 0.01\n",
    "for i in range(_locs.shape[0]):\n",
    "    dist = dist + incr\n",
    "    _locs[i, 0, :] = 0.5 + dist\n",
    "    _locs[i, 1,:] = 0.5 - dist"
   ]
  },
  {
   "cell_type": "raw",
   "metadata": {},
   "source": [
    "_images = simulated_dataset.simulator.draw_image_from_params(_locs, _fluxes, _n_stars,\n",
    "                                                             add_noise = False)\n",
    "\n",
    "_backgrounds = torch.ones(10, 1, 1, 1) * simulated_dataset.sky_intensity"
   ]
  },
  {
   "cell_type": "raw",
   "metadata": {},
   "source": [
    "plotting_utils.print_results(star_encoder, \n",
    "                            _images, \n",
    "                            _backgrounds, \n",
    "                            simulated_dataset.simulator.psf, \n",
    "                            _locs,\n",
    "                            _n_stars, \n",
    "                            use_true_n_stars = False)"
   ]
  },
  {
   "cell_type": "raw",
   "metadata": {},
   "source": []
  },
  {
   "cell_type": "raw",
   "metadata": {},
   "source": [
    "import sdss_dataset_lib"
   ]
  },
  {
   "cell_type": "raw",
   "metadata": {},
   "source": [
    "hubble_cat_file='../hubble_data/NCG7078/hlsp_acsggct_hst_acs-wfc_ngc7078_r.rdviq.cal.adj.zpt.txt'\n",
    "sdss_hubble_data = sdss_dataset_lib.SDSSHubbleData(hubble_cat_file=hubble_cat_file, \n",
    "                                                   slen = 11, \n",
    "                                                   run = 2566, \n",
    "                                                   camcol = 6, \n",
    "                                                   field = 65, \n",
    "                                                max_detections = max_stars)"
   ]
  },
  {
   "cell_type": "raw",
   "metadata": {},
   "source": [
    "len(sdss_hubble_data)"
   ]
  },
  {
   "cell_type": "raw",
   "metadata": {},
   "source": [
    "# true parameters\n",
    "hubble_loader = torch.utils.data.DataLoader(\n",
    "                 dataset=sdss_hubble_data,\n",
    "                 batch_size=len(sdss_hubble_data),\n",
    "                 shuffle=False)\n",
    "\n",
    "for _, data in enumerate(hubble_loader):\n",
    "    hubble_fluxes = data['fluxes'].type(torch.float)\n",
    "    hubble_locs = data['locs'].type(torch.float)\n",
    "    hubble_n_stars = data['n_stars']\n",
    "    sdss_images = data['image']\n",
    "    sdss_backgrounds = data['background']\n",
    "    \n",
    "    break"
   ]
  },
  {
   "cell_type": "raw",
   "metadata": {},
   "source": [
    "plt.hist(torch.log10(images - simulated_dataset.sky_intensity).flatten());"
   ]
  },
  {
   "cell_type": "raw",
   "metadata": {},
   "source": [
    "plt.hist(torch.log10(sdss_images - sdss_backgrounds).flatten());"
   ]
  },
  {
   "cell_type": "raw",
   "metadata": {},
   "source": [
    "indx = np.arange(0, 10)\n",
    "plotting_utils.print_results(star_encoder, \n",
    "                                sdss_images[indx],\n",
    "                                sdss_backgrounds[indx],\n",
    "                                simulated_dataset.simulator.psf, \n",
    "                                hubble_locs[indx],\n",
    "                                hubble_n_stars[indx], \n",
    "                                use_true_n_stars = False, \n",
    "                                residual_clamp = 1e16)"
   ]
  },
  {
   "cell_type": "raw",
   "metadata": {},
   "source": []
  },
  {
   "cell_type": "code",
   "execution_count": null,
   "metadata": {},
   "outputs": [],
   "source": []
  },
  {
   "cell_type": "code",
   "execution_count": null,
   "metadata": {},
   "outputs": [],
   "source": []
  },
  {
   "cell_type": "code",
   "execution_count": null,
   "metadata": {},
   "outputs": [],
   "source": []
  },
  {
   "cell_type": "raw",
   "metadata": {},
   "source": [
    "# get variational parameters\n",
    "logit_loc_mean, logit_loc_log_var, \\\n",
    "        log_flux_mean, log_flux_log_var, log_probs = star_encoder(images, backgrounds, true_n_stars)"
   ]
  },
  {
   "cell_type": "raw",
   "metadata": {},
   "source": [
    "foo = log_flux_log_var.flatten().detach().numpy()\n",
    "plt.hist(foo[foo != 0], bins = 100);"
   ]
  },
  {
   "cell_type": "raw",
   "metadata": {},
   "source": [
    "foo = logit_loc_log_var.flatten().detach().numpy()\n",
    "plt.hist(foo[foo != 0], bins = 100);"
   ]
  },
  {
   "cell_type": "raw",
   "metadata": {},
   "source": []
  },
  {
   "cell_type": "raw",
   "metadata": {},
   "source": [
    "map_locs = torch.sigmoid(logit_loc_mean)\n",
    "map_fluxes = torch.exp(log_flux_mean)"
   ]
  },
  {
   "cell_type": "raw",
   "metadata": {
    "code_folding": []
   },
   "source": [
    "# error in locs\n",
    "for i in range(max_stars): \n",
    "    \n",
    "    is_on_i = true_is_on[:, i]\n",
    "    \n",
    "    \n",
    "    plt.plot(map_locs[is_on_i == 1, i, 0].detach().numpy(), \n",
    "                locs_perm[is_on_i == 1, i, 0].detach().numpy(), '+', color = 'blue')\n",
    "    plt.plot(map_locs[is_on_i == 1, i, 0].detach().numpy(), \n",
    "                 map_locs[is_on_i == 1, i, 0].detach().numpy(), color = 'red')\n",
    "    plt.xlabel('Estimated x coordinate', fontsize = 16)\n",
    "    plt.ylabel('True x coordinate', fontsize = 16)\n"
   ]
  },
  {
   "cell_type": "raw",
   "metadata": {},
   "source": [
    "# error in locs\n",
    "for i in range(max_stars): \n",
    "    \n",
    "    is_on_i = true_is_on[:, i]\n",
    "    \n",
    "    \n",
    "    plt.plot(map_locs[is_on_i == 1, i, 1].detach().numpy(), \n",
    "                locs_perm[is_on_i == 1, i, 1].detach().numpy(), '+', color = 'blue')\n",
    "    plt.plot(map_locs[is_on_i == 1, i, 1].detach().numpy(), \n",
    "                 map_locs[is_on_i == 1, i, 1].detach().numpy(), color = 'red')\n",
    "    plt.xlabel('Estimated y coordinate', fontsize = 16)\n",
    "    plt.ylabel('True y coordinate', fontsize = 16)\n",
    "\n"
   ]
  },
  {
   "cell_type": "raw",
   "metadata": {},
   "source": [
    "for i in range(max_stars): \n",
    "   \n",
    "    is_on_i = true_is_on[:, i]\n",
    "#     plt.figure()\n",
    "    \n",
    "    plt.plot(np.log(map_fluxes[is_on_i == 1, i].detach().numpy()), \n",
    "             np.log(fluxes_perm[is_on_i == 1, i].detach().numpy()), '+', color = 'blue')\n",
    "    \n",
    "    plt.plot(np.log(map_fluxes[is_on_i == 1, i].detach().numpy()), \n",
    "             np.log(map_fluxes[is_on_i == 1, i].detach().numpy()), color = 'red')\n",
    "    \n",
    "    plt.xlabel('Estimated flux', fontsize = 16)\n",
    "    plt.ylabel('True flux', fontsize = 16)\n",
    "    \n",
    "\n"
   ]
  },
  {
   "cell_type": "raw",
   "metadata": {},
   "source": []
  },
  {
   "cell_type": "raw",
   "metadata": {},
   "source": []
  }
 ],
 "metadata": {
  "kernelspec": {
   "display_name": "Python (pytorch_04)",
   "language": "python",
   "name": "pytorch_update"
  },
  "language_info": {
   "codemirror_mode": {
    "name": "ipython",
    "version": 3
   },
   "file_extension": ".py",
   "mimetype": "text/x-python",
   "name": "python",
   "nbconvert_exporter": "python",
   "pygments_lexer": "ipython3",
   "version": "3.6.8"
  }
 },
 "nbformat": 4,
 "nbformat_minor": 2
}
