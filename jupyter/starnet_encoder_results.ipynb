{
 "cells": [
  {
   "cell_type": "code",
   "execution_count": null,
   "metadata": {},
   "outputs": [],
   "source": [
    "import numpy as np\n",
    "import timeit\n",
    "\n",
    "import matplotlib.pyplot as plt\n",
    "\n",
    "import torch\n",
    "import torch.optim as optim\n",
    "\n",
    "import sys\n",
    "sys.path.insert(0, './../')\n",
    "import sdss_psf\n",
    "import simulated_datasets_lib\n",
    "import starnet_vae_lib\n",
    "\n",
    "import objectives_lib\n",
    "\n",
    "import time\n",
    "\n",
    "import json\n",
    "\n",
    "device = torch.device(\"cuda:0\" if torch.cuda.is_available() else \"cpu\")\n",
    "\n",
    "print('torch version: ', torch.__version__)\n",
    "\n",
    "from copy import deepcopy"
   ]
  },
  {
   "cell_type": "code",
   "execution_count": null,
   "metadata": {},
   "outputs": [],
   "source": [
    "# load PSF\n",
    "psf_fit_file = '../../celeste_net/sdss_stage_dir/3900/6/269/psField-003900-6-0269.fit'\n",
    "print('psf file: \\n', psf_fit_file)"
   ]
  },
  {
   "cell_type": "code",
   "execution_count": null,
   "metadata": {},
   "outputs": [],
   "source": [
    "np.random.seed(21)\n",
    "_ = torch.manual_seed(21)"
   ]
  },
  {
   "cell_type": "markdown",
   "metadata": {},
   "source": [
    "# Draw data"
   ]
  },
  {
   "cell_type": "code",
   "execution_count": null,
   "metadata": {},
   "outputs": [],
   "source": [
    "# data parameters\n",
    "with open('../data/default_star_parameters.json', 'r') as fp:\n",
    "    data_params = json.load(fp)\n",
    "\n",
    "data_params['min_stars'] = 0\n",
    "data_params['max_stars'] = 20\n",
    "\n",
    "print(data_params)\n"
   ]
  },
  {
   "cell_type": "code",
   "execution_count": null,
   "metadata": {},
   "outputs": [],
   "source": [
    "max_stars = data_params['max_stars']"
   ]
  },
  {
   "cell_type": "code",
   "execution_count": null,
   "metadata": {},
   "outputs": [],
   "source": [
    "batchsize = 200\n",
    "\n",
    "star_dataset = \\\n",
    "    simulated_datasets_lib.load_dataset_from_params(psf_fit_file,\n",
    "                            data_params,\n",
    "                            n_stars = batchsize,\n",
    "                            use_fresh_data = False, \n",
    "                            add_noise = True)\n",
    "\n",
    "num_unlabeled = star_dataset.fluxes.shape[0]\n",
    "print('num unlabeled', num_unlabeled)"
   ]
  },
  {
   "cell_type": "code",
   "execution_count": null,
   "metadata": {},
   "outputs": [],
   "source": [
    "# true parameters\n",
    "test_loader = torch.utils.data.DataLoader(\n",
    "                 dataset=star_dataset,\n",
    "                 batch_size=batchsize,\n",
    "                 shuffle=False)\n",
    "\n",
    "for _, data in enumerate(test_loader):\n",
    "    true_fluxes = data['fluxes']\n",
    "    true_locs = data['locs']\n",
    "    true_n_stars = data['n_stars']\n",
    "    images = data['image']\n",
    "    backgrounds = data['background']\n",
    "    \n",
    "    break"
   ]
  },
  {
   "cell_type": "code",
   "execution_count": null,
   "metadata": {},
   "outputs": [],
   "source": [
    "true_is_on = simulated_datasets_lib.get_is_on_from_n_stars(true_n_stars, max_stars)"
   ]
  },
  {
   "cell_type": "code",
   "execution_count": null,
   "metadata": {},
   "outputs": [],
   "source": [
    "images.shape"
   ]
  },
  {
   "cell_type": "code",
   "execution_count": null,
   "metadata": {},
   "outputs": [],
   "source": [
    "# histogram of fluxes\n",
    "plt.hist(np.log10(true_fluxes.numpy().flatten()));"
   ]
  },
  {
   "cell_type": "code",
   "execution_count": null,
   "metadata": {},
   "outputs": [],
   "source": [
    "_, axarr = plt.subplots(2, 5, figsize=(18, 8))\n",
    "for i in range(0, 10): \n",
    "    \n",
    "    i1 = int(np.floor(i / 5))\n",
    "    i2 = i % 5\n",
    "        \n",
    "    # image \n",
    "    axarr[i1, i2].matshow(images[i, 0, :, :] - backgrounds[i, 0, :, :])\n",
    "    axarr[i1, i2].set_title('n_stars: {}\\n'.format(true_n_stars[i]))\n",
    "    \n",
    "    # plot locations \n",
    "    locs_i = true_locs[i]\n",
    "    n_stars_i = true_n_stars[i]\n",
    "    locs_y = (locs_i[0:int(n_stars_i), 0]) * (images.shape[-1] - 1) \n",
    "    locs_x = (locs_i[0:int(n_stars_i), 1]) * (images.shape[-1] - 1)\n",
    "    \n",
    "    axarr[i1, i2].scatter(x = locs_x, y = locs_y, color = 'b')\n"
   ]
  },
  {
   "cell_type": "markdown",
   "metadata": {},
   "source": [
    "# Load VAE"
   ]
  },
  {
   "cell_type": "code",
   "execution_count": null,
   "metadata": {},
   "outputs": [],
   "source": [
    "star_encoder = starnet_vae_lib.StarEncoder(data_params['slen'], \n",
    "                                           n_bands = 1, \n",
    "                                          max_detections = max_stars)"
   ]
  },
  {
   "cell_type": "code",
   "execution_count": null,
   "metadata": {},
   "outputs": [],
   "source": [
    "star_encoder.load_state_dict(torch.load('../fits/starnet_invKL_encoder_twenty_stars_experimental', \n",
    "                               map_location=lambda storage, loc: storage))\n",
    "star_encoder.eval(); "
   ]
  },
  {
   "cell_type": "code",
   "execution_count": null,
   "metadata": {},
   "outputs": [],
   "source": [
    "# objectives_lib.eval_star_encoder_loss(star_encoder, test_loader, train = False)"
   ]
  },
  {
   "cell_type": "code",
   "execution_count": null,
   "metadata": {},
   "outputs": [],
   "source": [
    "loss, locs_loss, fluxes_loss, perm = \\\n",
    "    objectives_lib.get_encoder_loss(star_encoder, images, backgrounds, true_locs,\n",
    "                        true_fluxes, true_n_stars)\n",
    "    \n",
    "print(loss)"
   ]
  },
  {
   "cell_type": "code",
   "execution_count": null,
   "metadata": {},
   "outputs": [],
   "source": [
    "plt.hist(locs_loss.detach().numpy().flatten());"
   ]
  },
  {
   "cell_type": "code",
   "execution_count": null,
   "metadata": {},
   "outputs": [],
   "source": [
    "plt.hist(fluxes_loss.detach().numpy().flatten()); "
   ]
  },
  {
   "cell_type": "markdown",
   "metadata": {},
   "source": [
    "# check parameters"
   ]
  },
  {
   "cell_type": "code",
   "execution_count": null,
   "metadata": {},
   "outputs": [],
   "source": [
    "# permute true parameters \n",
    "def permute_params(true_locs, true_fluxes, perm): \n",
    "    batchsize = true_locs.shape[0]\n",
    "    max_stars = true_locs.shape[1]\n",
    "\n",
    "    locs_perm = torch.zeros((batchsize, max_stars, 2))\n",
    "    fluxes_perm = torch.zeros((batchsize, max_stars))\n",
    "    seq_tensor = torch.LongTensor([i for i in range(batchsize)])\n",
    "\n",
    "    for i in range(max_stars):\n",
    "        locs_perm[:, i, :] = true_locs[seq_tensor, perm[:, i], :]\n",
    "        fluxes_perm[:, i] = true_fluxes[seq_tensor, perm[:, i]]\n",
    "        \n",
    "    return locs_perm, fluxes_perm"
   ]
  },
  {
   "cell_type": "code",
   "execution_count": null,
   "metadata": {},
   "outputs": [],
   "source": [
    "locs_perm, fluxes_perm = permute_params(true_locs, true_fluxes, perm)"
   ]
  },
  {
   "cell_type": "code",
   "execution_count": null,
   "metadata": {},
   "outputs": [],
   "source": [
    "# get variational parameters\n",
    "logit_loc_mean, logit_loc_log_var, \\\n",
    "        log_flux_mean, log_flux_log_var = star_encoder(images, backgrounds, true_n_stars)"
   ]
  },
  {
   "cell_type": "code",
   "execution_count": null,
   "metadata": {},
   "outputs": [],
   "source": [
    "foo = log_flux_log_var.flatten().detach().numpy()\n",
    "plt.hist(foo[foo != 0], bins = 100);"
   ]
  },
  {
   "cell_type": "code",
   "execution_count": null,
   "metadata": {},
   "outputs": [],
   "source": [
    "foo = logit_loc_log_var.flatten().detach().numpy()\n",
    "plt.hist(foo[foo != 0], bins = 100);"
   ]
  },
  {
   "cell_type": "code",
   "execution_count": null,
   "metadata": {},
   "outputs": [],
   "source": []
  },
  {
   "cell_type": "code",
   "execution_count": null,
   "metadata": {},
   "outputs": [],
   "source": [
    "map_locs = torch.sigmoid(logit_loc_mean)\n",
    "map_fluxes = torch.exp(log_flux_mean)"
   ]
  },
  {
   "cell_type": "code",
   "execution_count": null,
   "metadata": {
    "code_folding": []
   },
   "outputs": [],
   "source": [
    "# error in locs\n",
    "for i in range(max_stars): \n",
    "    \n",
    "    is_on_i = true_is_on[:, i]\n",
    "    \n",
    "    \n",
    "    plt.plot(map_locs[is_on_i == 1, i, 0].detach().numpy(), \n",
    "                locs_perm[is_on_i == 1, i, 0].detach().numpy(), '+', color = 'blue')\n",
    "    plt.plot(map_locs[is_on_i == 1, i, 0].detach().numpy(), \n",
    "                 map_locs[is_on_i == 1, i, 0].detach().numpy(), color = 'red')\n",
    "    plt.xlabel('Estimated x coordinate', fontsize = 16)\n",
    "    plt.ylabel('True x coordinate', fontsize = 16)\n"
   ]
  },
  {
   "cell_type": "code",
   "execution_count": null,
   "metadata": {},
   "outputs": [],
   "source": [
    "# error in locs\n",
    "for i in range(max_stars): \n",
    "    \n",
    "    is_on_i = true_is_on[:, i]\n",
    "    \n",
    "    \n",
    "    plt.plot(map_locs[is_on_i == 1, i, 1].detach().numpy(), \n",
    "                locs_perm[is_on_i == 1, i, 1].detach().numpy(), '+', color = 'blue')\n",
    "    plt.plot(map_locs[is_on_i == 1, i, 1].detach().numpy(), \n",
    "                 map_locs[is_on_i == 1, i, 1].detach().numpy(), color = 'red')\n",
    "    plt.xlabel('Estimated y coordinate', fontsize = 16)\n",
    "    plt.ylabel('True y coordinate', fontsize = 16)\n",
    "\n"
   ]
  },
  {
   "cell_type": "code",
   "execution_count": null,
   "metadata": {},
   "outputs": [],
   "source": [
    "for i in range(max_stars): \n",
    "   \n",
    "    is_on_i = true_is_on[:, i]\n",
    "#     plt.figure()\n",
    "    \n",
    "    plt.plot(np.log(map_fluxes[is_on_i == 1, i].detach().numpy()), \n",
    "             np.log(fluxes_perm[is_on_i == 1, i].detach().numpy()), '+', color = 'blue')\n",
    "    \n",
    "    plt.plot(np.log(map_fluxes[is_on_i == 1, i].detach().numpy()), \n",
    "             np.log(map_fluxes[is_on_i == 1, i].detach().numpy()), color = 'red')\n",
    "    \n",
    "    plt.xlabel('Estimated flux', fontsize = 16)\n",
    "    plt.ylabel('True flux', fontsize = 16)\n",
    "    \n",
    "\n"
   ]
  },
  {
   "cell_type": "code",
   "execution_count": null,
   "metadata": {},
   "outputs": [],
   "source": []
  },
  {
   "cell_type": "code",
   "execution_count": null,
   "metadata": {},
   "outputs": [],
   "source": []
  },
  {
   "cell_type": "markdown",
   "metadata": {},
   "source": [
    "# Check reconstructions "
   ]
  },
  {
   "cell_type": "markdown",
   "metadata": {},
   "source": [
    "## These are results conditional on the true number of stars"
   ]
  },
  {
   "cell_type": "code",
   "execution_count": null,
   "metadata": {},
   "outputs": [],
   "source": [
    "recon_images = star_dataset.draw_image_from_params(map_locs, map_fluxes, true_n_stars, add_noise = False)"
   ]
  },
  {
   "cell_type": "code",
   "execution_count": null,
   "metadata": {},
   "outputs": [],
   "source": [
    "for i in range(30, 50): \n",
    "    _, axarr = plt.subplots(1, 3, figsize=(12, 4))\n",
    "\n",
    "    # observed image \n",
    "    axarr[0].matshow(images[i, 0, :, :])\n",
    "    axarr[0].set_title('Observed image \\n locs loss: {:.04f}'.format(locs_loss[i]))\n",
    "    \n",
    "    # plot locations \n",
    "    locs_i = true_locs[i]\n",
    "    n_stars_i = true_n_stars[i]\n",
    "    locs_y = (locs_i[0:int(n_stars_i), 0]) * (images.shape[-1] - 1) \n",
    "    locs_x = (locs_i[0:int(n_stars_i), 1]) * (images.shape[-1] - 1)\n",
    "    \n",
    "    axarr[0].scatter(x = locs_x, y = locs_y, c = 'b')\n",
    "    axarr[0].get_xaxis().set_visible(False)\n",
    "    axarr[0].get_yaxis().set_visible(False)\n",
    "    \n",
    "    # plot estimated locations \n",
    "    map_locs_i = map_locs[i].detach()\n",
    "    n_stars_i = true_n_stars[i]\n",
    "    est_locs_y = (map_locs_i[0:int(n_stars_i), 0]) * (images.shape[-1] - 1) \n",
    "    est_locs_x = (map_locs_i[0:int(n_stars_i), 1]) * (images.shape[-1] - 1)\n",
    "    \n",
    "    axarr[0].scatter(x = est_locs_x, y = est_locs_y, c = 'r', marker = 'x')\n",
    "    \n",
    "    # plot posterior samples\n",
    "    axarr[1].matshow(images[i, 0, :, :].detach())\n",
    "    axarr[1].set_title('Observed image \\n locs loss: {:.04f}'.format(locs_loss[i]))\n",
    "    axarr[1].get_xaxis().set_visible(False)\n",
    "    axarr[1].get_yaxis().set_visible(False)\n",
    "    \n",
    "\n",
    "    for k in range(int(n_stars_i)): \n",
    "        samples = torch.sigmoid(torch.sqrt(torch.exp(logit_loc_log_var[i, k, :])) * \\\n",
    "                      torch.randn((1000, 2)) + logit_loc_mean[i, k, :]).detach()\n",
    "        \n",
    "        axarr[1].scatter(x = samples[:, 1] * (images.shape[-1] - 1) , \n",
    "                         y = samples[:, 0] * (images.shape[-1] - 1) , \n",
    "                         c = 'r', marker = 'x', alpha = 0.05)\n",
    "    axarr[1].scatter(x = locs_x, y = locs_y, c = 'b')\n",
    "    \n",
    "    # plot residuals\n",
    "    axarr[2].matshow(images[i, 0, :, :] - recon_images[i, 0, :, :].detach())\n",
    "    axarr[2].get_xaxis().set_visible(False)\n",
    "    axarr[2].get_yaxis().set_visible(False)\n",
    "    axarr[2].set_title('residuals')\n",
    "    \n"
   ]
  },
  {
   "cell_type": "code",
   "execution_count": null,
   "metadata": {},
   "outputs": [],
   "source": [
    "# results for a specific n_stars\n",
    "for i in range(0, 200): \n",
    "    \n",
    "    if true_n_stars[i] != 8: \n",
    "        continue \n",
    "        \n",
    "    _, axarr = plt.subplots(1, 3, figsize=(12, 4))\n",
    "\n",
    "    # observed image \n",
    "    axarr[0].matshow(images[i, 0, :, :])\n",
    "    axarr[0].set_title('Observed image \\n locs loss: {:.04f}'.format(locs_loss[i]))\n",
    "    \n",
    "    # plot locations \n",
    "    locs_i = true_locs[i]\n",
    "    n_stars_i = true_n_stars[i]\n",
    "    locs_y = (locs_i[0:int(n_stars_i), 0]) * (images.shape[-1] - 1) \n",
    "    locs_x = (locs_i[0:int(n_stars_i), 1]) * (images.shape[-1] - 1)\n",
    "    \n",
    "    axarr[0].scatter(x = locs_x, y = locs_y, c = 'b')\n",
    "    axarr[0].get_xaxis().set_visible(False)\n",
    "    axarr[0].get_yaxis().set_visible(False)\n",
    "    \n",
    "    # plot estimated locations \n",
    "    map_locs_i = map_locs[i].detach()\n",
    "    n_stars_i = true_n_stars[i]\n",
    "    est_locs_y = (map_locs_i[0:int(n_stars_i), 0]) * (images.shape[-1] - 1) \n",
    "    est_locs_x = (map_locs_i[0:int(n_stars_i), 1]) * (images.shape[-1] - 1)\n",
    "    \n",
    "    axarr[0].scatter(x = est_locs_x, y = est_locs_y, c = 'r', marker = 'x')\n",
    "    \n",
    "    # plot posterior samples\n",
    "    axarr[1].matshow(images[i, 0, :, :].detach())\n",
    "    axarr[1].set_title('Observed image \\n locs loss: {:.04f}'.format(locs_loss[i]))\n",
    "    axarr[1].get_xaxis().set_visible(False)\n",
    "    axarr[1].get_yaxis().set_visible(False)\n",
    "    \n",
    "\n",
    "    for k in range(int(n_stars_i)): \n",
    "        samples = torch.sigmoid(torch.sqrt(torch.exp(logit_loc_log_var[i, k, :])) * \\\n",
    "                      torch.randn((1000, 2)) + logit_loc_mean[i, k, :]).detach()\n",
    "        \n",
    "        axarr[1].scatter(x = samples[:, 1] * (images.shape[-1] - 1) , \n",
    "                         y = samples[:, 0] * (images.shape[-1] - 1) , \n",
    "                         c = 'r', marker = 'x', alpha = 0.05)\n",
    "    axarr[1].scatter(x = locs_x, y = locs_y, c = 'b')\n",
    "    \n",
    "    # plot residuals\n",
    "    axarr[2].matshow(images[i, 0, :, :] - recon_images[i, 0, :, :].detach())\n",
    "    axarr[2].get_xaxis().set_visible(False)\n",
    "    axarr[2].get_yaxis().set_visible(False)\n",
    "    axarr[2].set_title('residuals')\n",
    "    \n"
   ]
  },
  {
   "cell_type": "code",
   "execution_count": null,
   "metadata": {},
   "outputs": [],
   "source": []
  },
  {
   "cell_type": "markdown",
   "metadata": {},
   "source": [
    "# Combined encoder and counter results"
   ]
  },
  {
   "cell_type": "markdown",
   "metadata": {},
   "source": [
    "### Load star counter"
   ]
  },
  {
   "cell_type": "code",
   "execution_count": null,
   "metadata": {},
   "outputs": [],
   "source": [
    "star_counter = starnet_vae_lib.StarCounter(data_params['slen'],\n",
    "                                                n_bands = 1, \n",
    "                                               max_detections = data_params['max_stars'])"
   ]
  },
  {
   "cell_type": "code",
   "execution_count": null,
   "metadata": {},
   "outputs": [],
   "source": [
    "star_counter.load_state_dict(torch.load('../fits/starnet_invKL_counter_twenty_stars_experimental',\n",
    "                               map_location=lambda storage, loc: storage))\n",
    "star_counter.eval(); "
   ]
  },
  {
   "cell_type": "markdown",
   "metadata": {},
   "source": [
    "### get results from counter and encoder combined "
   ]
  },
  {
   "cell_type": "code",
   "execution_count": null,
   "metadata": {},
   "outputs": [],
   "source": [
    "log_probs = star_counter(images)"
   ]
  },
  {
   "cell_type": "code",
   "execution_count": null,
   "metadata": {},
   "outputs": [],
   "source": [
    "map_n_stars = torch.argmax(log_probs, dim = 1)"
   ]
  },
  {
   "cell_type": "code",
   "execution_count": null,
   "metadata": {},
   "outputs": [],
   "source": [
    "# get variational parameters\n",
    "logit_loc_mean, logit_loc_log_var, \\\n",
    "        log_flux_mean, log_flux_log_var = star_encoder(images, backgrounds, map_n_stars)"
   ]
  },
  {
   "cell_type": "code",
   "execution_count": null,
   "metadata": {},
   "outputs": [],
   "source": [
    "map_locs = torch.sigmoid(logit_loc_mean)\n",
    "map_fluxes = torch.exp(log_flux_mean)"
   ]
  },
  {
   "cell_type": "code",
   "execution_count": null,
   "metadata": {},
   "outputs": [],
   "source": [
    "recon_images = star_dataset.draw_image_from_params(map_locs, map_fluxes, map_n_stars, add_noise = False)"
   ]
  },
  {
   "cell_type": "code",
   "execution_count": null,
   "metadata": {},
   "outputs": [],
   "source": [
    "def plot_categorical_probs(log_prob_vec, fig):\n",
    "    n_cat = len(log_prob_vec)\n",
    "    points = [(i, torch.exp(log_prob_vec[i])) for i in range(n_cat)] \n",
    "\n",
    "    for pt in points:\n",
    "        # plot (x,y) pairs.\n",
    "        # vertical line: 2 x,y pairs: (a,0) and (a,b)\n",
    "        plt.plot([pt[0],pt[0]], [0,pt[1]], color = 'blue')\n",
    "\n",
    "    fig.plot(np.arange(n_cat), \n",
    "             torch.exp(log_prob_vec).detach().numpy(), \n",
    "             'o', markersize = 5, color = 'blue')\n"
   ]
  },
  {
   "cell_type": "code",
   "execution_count": null,
   "metadata": {},
   "outputs": [],
   "source": [
    "for i in range(30, 50): \n",
    "    _, axarr = plt.subplots(1, 3, figsize=(12, 4))\n",
    "\n",
    "    # observed image \n",
    "    axarr[0].matshow(images[i, 0, :, :])\n",
    "    \n",
    "    # plot true locations \n",
    "    locs_i = true_locs[i]\n",
    "    n_stars_i = true_n_stars[i]\n",
    "    locs_y = (locs_i[0:int(n_stars_i), 0]) * (images.shape[-1] - 1) \n",
    "    locs_x = (locs_i[0:int(n_stars_i), 1]) * (images.shape[-1] - 1)\n",
    "    \n",
    "    axarr[0].scatter(x = locs_x, y = locs_y, c = 'b')\n",
    "    axarr[0].get_xaxis().set_visible(False)\n",
    "    axarr[0].get_yaxis().set_visible(False)\n",
    "    \n",
    "    # plot estimated locations \n",
    "    map_locs_i = map_locs[i].detach()\n",
    "    map_n_stars_i = map_n_stars[i]\n",
    "    est_locs_y = (map_locs_i[0:int(map_n_stars_i), 0]) * (images.shape[-1] - 1) \n",
    "    est_locs_x = (map_locs_i[0:int(map_n_stars_i), 1]) * (images.shape[-1] - 1)\n",
    "    \n",
    "    axarr[0].scatter(x = est_locs_x, y = est_locs_y, c = 'r', marker = 'x')\n",
    "    \n",
    "    axarr[0].set_title('Observed image \\n est/true n_stars: {} / {}'.format(map_n_stars_i, int(n_stars_i)))\n",
    "    \n",
    "    # plot residuals\n",
    "    axarr[1].matshow(images[i, 0, :, :] - recon_images[i, 0, :, :].detach())\n",
    "    axarr[1].get_xaxis().set_visible(False)\n",
    "    axarr[1].get_yaxis().set_visible(False)\n",
    "    axarr[1].set_title('residuals')\n",
    "    \n",
    "    # plot uncertainty in number of stars\n",
    "    plot_categorical_probs(log_probs[i], axarr[2])\n",
    "    axarr[2].set_title('estimated distribution on n_stars')\n",
    "    axarr[2].plot(np.ones(100) * int(n_stars_i) + 0.05, \n",
    "                  np.linspace(start = 0, \n",
    "                              stop = np.max(np.exp(log_probs.detach().numpy()[i])), num = 100), \n",
    "                  color = 'red', \n",
    "                  linestyle = '--')\n",
    "    \n"
   ]
  },
  {
   "cell_type": "code",
   "execution_count": null,
   "metadata": {},
   "outputs": [],
   "source": [
    "# results for a specific n_stars\n",
    "for i in range(0, 200): \n",
    "    \n",
    "    if true_n_stars[i] != 8: \n",
    "        continue \n",
    "        \n",
    "    _, axarr = plt.subplots(1, 3, figsize=(12, 4))\n",
    "\n",
    "    # observed image \n",
    "    axarr[0].matshow(images[i, 0, :, :])\n",
    "    axarr[0].set_title('Observed image \\n locs loss: {:.04f}'.format(locs_loss[i]))\n",
    "    \n",
    "    # plot locations \n",
    "    locs_i = true_locs[i]\n",
    "    n_stars_i = true_n_stars[i]\n",
    "    locs_y = (locs_i[0:int(n_stars_i), 0]) * (images.shape[-1] - 1) \n",
    "    locs_x = (locs_i[0:int(n_stars_i), 1]) * (images.shape[-1] - 1)\n",
    "    \n",
    "    axarr[0].scatter(x = locs_x, y = locs_y, c = 'b')\n",
    "    axarr[0].get_xaxis().set_visible(False)\n",
    "    axarr[0].get_yaxis().set_visible(False)\n",
    "    \n",
    "    # plot estimated locations \n",
    "    map_locs_i = map_locs[i].detach()\n",
    "    n_stars_i = true_n_stars[i]\n",
    "    est_locs_y = (map_locs_i[0:int(n_stars_i), 0]) * (images.shape[-1] - 1) \n",
    "    est_locs_x = (map_locs_i[0:int(n_stars_i), 1]) * (images.shape[-1] - 1)\n",
    "    \n",
    "    axarr[0].scatter(x = est_locs_x, y = est_locs_y, c = 'r', marker = 'x')\n",
    "    \n",
    "    # plot posterior samples\n",
    "    axarr[1].matshow(images[i, 0, :, :].detach())\n",
    "    axarr[1].set_title('Observed image \\n locs loss: {:.04f}'.format(locs_loss[i]))\n",
    "    axarr[1].get_xaxis().set_visible(False)\n",
    "    axarr[1].get_yaxis().set_visible(False)\n",
    "    \n",
    "\n",
    "    for k in range(int(n_stars_i)): \n",
    "        samples = torch.sigmoid(torch.sqrt(torch.exp(logit_loc_log_var[i, k, :])) * \\\n",
    "                      torch.randn((1000, 2)) + logit_loc_mean[i, k, :]).detach()\n",
    "        \n",
    "        axarr[1].scatter(x = samples[:, 1] * (images.shape[-1] - 1) , \n",
    "                         y = samples[:, 0] * (images.shape[-1] - 1) , \n",
    "                         c = 'r', marker = 'x', alpha = 0.05)\n",
    "    axarr[1].scatter(x = locs_x, y = locs_y, c = 'b')\n",
    "    \n",
    "    # plot residuals\n",
    "    axarr[2].matshow(images[i, 0, :, :] - recon_images[i, 0, :, :].detach())\n",
    "    axarr[2].get_xaxis().set_visible(False)\n",
    "    axarr[2].get_yaxis().set_visible(False)\n",
    "    axarr[2].set_title('residuals')\n",
    "    \n"
   ]
  },
  {
   "cell_type": "code",
   "execution_count": null,
   "metadata": {},
   "outputs": [],
   "source": []
  },
  {
   "cell_type": "code",
   "execution_count": null,
   "metadata": {},
   "outputs": [],
   "source": []
  },
  {
   "cell_type": "raw",
   "metadata": {},
   "source": [
    "for i in range(0, 3): \n",
    "    _, axarr = plt.subplots(1, 2, figsize=(12, 6))\n",
    "    \n",
    "    # plot locations \n",
    "    locs_i = true_locs[i]\n",
    "    n_stars_i = true_n_stars[i]\n",
    "    locs_y = (locs_i[0:int(n_stars_i), 0]) * (images.shape[-1] - 1) \n",
    "    locs_x = (locs_i[0:int(n_stars_i), 1]) * (images.shape[-1] - 1)\n",
    "    \n",
    "\n",
    "    # plot posterior samples\n",
    "    axarr[0].matshow(images[i, 0, :, :].detach())\n",
    "    axarr[0].get_xaxis().set_visible(False)\n",
    "    axarr[0].get_yaxis().set_visible(False)\n",
    "    \n",
    "\n",
    "    for k in range(int(n_stars_i)): \n",
    "        samples = torch.sigmoid(torch.sqrt(torch.exp(logit_loc_log_var[i, k, :])) * \\\n",
    "                      torch.randn((1000, 2)) + logit_loc_mean[i, k, :]).detach()\n",
    "        \n",
    "        axarr[0].scatter(x = samples[:, 1] * (images.shape[-1] - 1) , \n",
    "                         y = samples[:, 0] * (images.shape[-1] - 1) , \n",
    "                         c = 'r', marker = 'x', alpha = 0.05)\n",
    "    axarr[0].scatter(x = locs_x, y = locs_y, c = 'b')\n",
    "    \n",
    "    # plot residuals\n",
    "    axarr[1].matshow(images[i, 0, :, :] - recon_images[i, 0, :, :].detach())\n",
    "    axarr[1].get_xaxis().set_visible(False)\n",
    "    axarr[1].get_yaxis().set_visible(False)\n",
    "    \n",
    "    if i == 0: \n",
    "        axarr[0].set_title('Observed image'.format(locs_loss[i]), fontsize = 26)\n",
    "        axarr[1].set_title('Residuals', fontsize = 26)\n",
    "    \n",
    "    \n"
   ]
  },
  {
   "cell_type": "raw",
   "metadata": {},
   "source": []
  },
  {
   "cell_type": "raw",
   "metadata": {},
   "source": []
  },
  {
   "cell_type": "raw",
   "metadata": {},
   "source": []
  },
  {
   "cell_type": "raw",
   "metadata": {},
   "source": [
    "plt.hist(logit_loc_log_var.detach().numpy().flatten())"
   ]
  },
  {
   "cell_type": "raw",
   "metadata": {},
   "source": [
    "plt.hist(log_flux_log_var.detach().numpy().flatten())"
   ]
  },
  {
   "cell_type": "raw",
   "metadata": {},
   "source": [
    "plt.hist(fluxes_loss.detach()); "
   ]
  },
  {
   "cell_type": "raw",
   "metadata": {},
   "source": [
    "# check where the locs are particularly bad"
   ]
  },
  {
   "cell_type": "raw",
   "metadata": {},
   "source": [
    "# bad_indx =  np.argwhere(locs_loss.detach().numpy() > 5).squeeze()\n",
    "# bad_indx = np.argwhere(fluxes_loss.detach().numpy() > 2).squeeze()\n",
    "\n",
    "bad_indx = np.argwhere(true_n_stars == 4).squeeze()"
   ]
  },
  {
   "cell_type": "raw",
   "metadata": {},
   "source": [
    "bad_indx"
   ]
  },
  {
   "cell_type": "raw",
   "metadata": {},
   "source": [
    "count = 0\n",
    "for i in bad_indx: \n",
    "    _, axarr = plt.subplots(1, 3, figsize=(12, 4))\n",
    "\n",
    "    # observed image \n",
    "    axarr[0].matshow(images[i, 0, :, :])\n",
    "    axarr[0].set_title('Observed image \\n locs loss: {:.04f}'.format(locs_loss[i]))\n",
    "    \n",
    "    # plot locations \n",
    "    locs_i = true_locs[i]\n",
    "    n_stars_i = true_n_stars[i]\n",
    "    locs_x = (locs_i[0:int(n_stars_i), 0]) * (images.shape[-1] - 1) \n",
    "    locs_y = (locs_i[0:int(n_stars_i), 1]) * (images.shape[-1] - 1)\n",
    "    \n",
    "    axarr[0].scatter(x = locs_x, y = locs_y, c = 'b')\n",
    "    axarr[0].get_xaxis().set_visible(False)\n",
    "    axarr[0].get_yaxis().set_visible(False)\n",
    "    \n",
    "    # plot estimated locations \n",
    "    map_locs_i = map_locs[i].detach()\n",
    "    n_stars_i = true_n_stars[i]\n",
    "    est_locs_x = (map_locs_i[0:int(n_stars_i), 0]) * (images.shape[-1] - 1) \n",
    "    est_locs_y = (map_locs_i[0:int(n_stars_i), 1]) * (images.shape[-1] - 1)\n",
    "    \n",
    "    axarr[0].scatter(x = est_locs_x, y = est_locs_y, c = 'r', marker = 'x')\n",
    "    \n",
    "    # plot posterior samples\n",
    "    axarr[1].matshow(images[i, 0, :, :].detach())\n",
    "    axarr[1].set_title('Observed image \\n locs loss: {:.04f}'.format(locs_loss[i]))\n",
    "    axarr[1].get_xaxis().set_visible(False)\n",
    "    axarr[1].get_yaxis().set_visible(False)\n",
    "    \n",
    "\n",
    "    for k in range(int(n_stars_i)): \n",
    "        samples = torch.sigmoid(torch.sqrt(torch.exp(logit_loc_log_var[i, k, :])) * \\\n",
    "                      torch.randn((1000, 2)) + logit_loc_mean[i, k, :]).detach()\n",
    "        \n",
    "        axarr[1].scatter(x = samples[:, 0] * (images.shape[-1] - 1) , \n",
    "                         y = samples[:, 1] * (images.shape[-1] - 1) , \n",
    "                         c = 'r', marker = 'x', alpha = 0.01)\n",
    "    axarr[1].scatter(x = locs_x, y = locs_y, c = 'b')\n",
    "    \n",
    "    # plot residuals\n",
    "    axarr[2].matshow(images[i, 0, :, :] - recon_images[i, 0, :, :].detach())\n",
    "    axarr[2].get_xaxis().set_visible(False)\n",
    "    axarr[2].get_yaxis().set_visible(False)\n",
    "    axarr[2].set_title('residuals')\n",
    "    \n",
    "    count += 1\n",
    "    \n",
    "    if count > 10: \n",
    "        break"
   ]
  },
  {
   "cell_type": "raw",
   "metadata": {},
   "source": []
  },
  {
   "cell_type": "raw",
   "metadata": {},
   "source": []
  }
 ],
 "metadata": {
  "kernelspec": {
   "display_name": "Python (pytorch_04)",
   "language": "python",
   "name": "pytorch_update"
  },
  "language_info": {
   "codemirror_mode": {
    "name": "ipython",
    "version": 3
   },
   "file_extension": ".py",
   "mimetype": "text/x-python",
   "name": "python",
   "nbconvert_exporter": "python",
   "pygments_lexer": "ipython3",
   "version": "3.6.8"
  }
 },
 "nbformat": 4,
 "nbformat_minor": 2
}
