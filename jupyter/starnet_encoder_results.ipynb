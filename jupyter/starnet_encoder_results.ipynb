{
 "cells": [
  {
   "cell_type": "code",
   "execution_count": null,
   "metadata": {},
   "outputs": [],
   "source": [
    "import numpy as np\n",
    "\n",
    "import matplotlib.pyplot as plt\n",
    "\n",
    "import torch\n",
    "\n",
    "import sys\n",
    "sys.path.insert(0, './../')\n",
    "import sdss_psf\n",
    "import star_datasets_lib\n",
    "import starnet_vae_lib\n",
    "\n",
    "import objectives_lib\n",
    "import json\n",
    "\n",
    "device = torch.device(\"cuda:0\" if torch.cuda.is_available() else \"cpu\")\n",
    "\n",
    "print('torch version: ', torch.__version__)\n"
   ]
  },
  {
   "cell_type": "code",
   "execution_count": null,
   "metadata": {},
   "outputs": [],
   "source": [
    "# load PSF\n",
    "psf_fit_file = '../../celeste_net/sdss_stage_dir/3900/6/269/psField-003900-6-0269.fit'\n",
    "print('psf file: \\n', psf_fit_file)"
   ]
  },
  {
   "cell_type": "code",
   "execution_count": null,
   "metadata": {},
   "outputs": [],
   "source": [
    "np.random.seed(32)\n",
    "_ = torch.manual_seed(54)"
   ]
  },
  {
   "cell_type": "markdown",
   "metadata": {},
   "source": [
    "# Draw data"
   ]
  },
  {
   "cell_type": "code",
   "execution_count": null,
   "metadata": {},
   "outputs": [],
   "source": [
    "# data parameters\n",
    "with open('../data/default_star_parameters.json', 'r') as fp:\n",
    "    data_params = json.load(fp)\n",
    "\n",
    "data_params['min_stars'] = 0\n",
    "data_params['max_stars'] = 4\n"
   ]
  },
  {
   "cell_type": "code",
   "execution_count": null,
   "metadata": {},
   "outputs": [],
   "source": [
    "max_stars = data_params['max_stars']"
   ]
  },
  {
   "cell_type": "code",
   "execution_count": null,
   "metadata": {},
   "outputs": [],
   "source": [
    "n_images = 2048\n",
    "\n",
    "star_dataset = \\\n",
    "    star_datasets_lib.load_dataset_from_params(psf_fit_file,\n",
    "                            data_params,\n",
    "                            n_stars = n_images,\n",
    "                            use_fresh_data = False, \n",
    "                            add_noise = True)\n"
   ]
  },
  {
   "cell_type": "code",
   "execution_count": null,
   "metadata": {},
   "outputs": [],
   "source": [
    "# true parameters\n",
    "batchsize = n_images\n",
    "\n",
    "test_loader = torch.utils.data.DataLoader(\n",
    "                 dataset=star_dataset,\n",
    "                 batch_size=batchsize,\n",
    "                 shuffle=False)\n",
    "\n",
    "for _, data in enumerate(test_loader):\n",
    "    true_fluxes = data['fluxes']\n",
    "    true_locs = data['locs']\n",
    "    true_n_stars = data['n_stars']\n",
    "    images = data['image']\n",
    "    \n",
    "    break"
   ]
  },
  {
   "cell_type": "code",
   "execution_count": null,
   "metadata": {},
   "outputs": [],
   "source": [
    "true_is_on = star_datasets_lib.get_is_on_from_n_stars(true_n_stars, max_stars)"
   ]
  },
  {
   "cell_type": "code",
   "execution_count": null,
   "metadata": {},
   "outputs": [],
   "source": [
    "images.shape"
   ]
  },
  {
   "cell_type": "code",
   "execution_count": null,
   "metadata": {},
   "outputs": [],
   "source": [
    "# histogram of fluxes\n",
    "plt.hist(true_fluxes.numpy().flatten()); "
   ]
  },
  {
   "cell_type": "code",
   "execution_count": null,
   "metadata": {},
   "outputs": [],
   "source": []
  },
  {
   "cell_type": "code",
   "execution_count": null,
   "metadata": {},
   "outputs": [],
   "source": [
    "_, axarr = plt.subplots(2, 5, figsize=(18, 8))\n",
    "for i in range(0, 10): \n",
    "    \n",
    "    i1 = int(np.floor(i / 5))\n",
    "    i2 = i % 5\n",
    "        \n",
    "    # image \n",
    "    axarr[i1, i2].matshow(images[i, 0, :, :])\n",
    "    axarr[i1, i2].set_title('n_stars: {}\\n'.format(true_n_stars[i]))\n",
    "    \n",
    "    # plot locations \n",
    "    locs_i = true_locs[i]\n",
    "    n_stars_i = true_n_stars[i]\n",
    "    locs_x = (locs_i[0:int(n_stars_i), 0]) * (images.shape[-1] - 1) \n",
    "    locs_y = (locs_i[0:int(n_stars_i), 1]) * (images.shape[-1] - 1)\n",
    "    \n",
    "    axarr[i1, i2].scatter(x = locs_x, y = locs_y, color = 'b')\n"
   ]
  },
  {
   "cell_type": "code",
   "execution_count": null,
   "metadata": {},
   "outputs": [],
   "source": []
  },
  {
   "cell_type": "markdown",
   "metadata": {},
   "source": [
    "# Load VAE"
   ]
  },
  {
   "cell_type": "code",
   "execution_count": null,
   "metadata": {},
   "outputs": [],
   "source": [
    "star_encoder = starnet_vae_lib.StarEncoder(data_params['slen'], \n",
    "                                           n_bands = 1, \n",
    "                                          max_detections = max_stars)"
   ]
  },
  {
   "cell_type": "code",
   "execution_count": null,
   "metadata": {},
   "outputs": [],
   "source": [
    "star_encoder.load_state_dict(torch.load('../fits/starnet_invKL_encoder',\n",
    "                               map_location=lambda storage, loc: storage))\n",
    "star_encoder.eval(); "
   ]
  },
  {
   "cell_type": "code",
   "execution_count": null,
   "metadata": {},
   "outputs": [],
   "source": [
    "objectives_lib.eval_star_encoder_loss(star_encoder, test_loader, train = False)\n",
    "\n",
    "# elbo_objective_lib.eval_star_encoder_kl_loss(star_encoder, test_loader, train = False)"
   ]
  },
  {
   "cell_type": "code",
   "execution_count": null,
   "metadata": {},
   "outputs": [],
   "source": [
    "loss, perm = objectives_lib.get_encoder_loss(star_encoder, images, true_locs,\n",
    "                        true_fluxes, true_n_stars)\n",
    "    \n",
    "print(loss.mean())"
   ]
  },
  {
   "cell_type": "code",
   "execution_count": null,
   "metadata": {},
   "outputs": [],
   "source": [
    "plt.hist(loss.detach().numpy().flatten());"
   ]
  },
  {
   "cell_type": "code",
   "execution_count": null,
   "metadata": {},
   "outputs": [],
   "source": [
    "logit_loc_mean, logit_loc_logvar, \\\n",
    "    log_flux_mean, log_flux_logvar = \\\n",
    "        star_encoder(images, true_n_stars)"
   ]
  },
  {
   "cell_type": "code",
   "execution_count": null,
   "metadata": {},
   "outputs": [],
   "source": [
    "for i in range(0, 20): \n",
    "    _, axarr = plt.subplots(1, 3, figsize=(12, 4))\n",
    "    \n",
    "    ##################\n",
    "    # MAP ESTIMATES\n",
    "    ##################\n",
    "    # observed image \n",
    "    axarr[0].matshow(images[i, 0, :, :])\n",
    "    \n",
    "    # plot true locations \n",
    "    locs_i = true_locs[i]\n",
    "    n_stars_i = true_n_stars[i]\n",
    "    locs_x = (locs_i[0:int(n_stars_i), 0]) * (images.shape[-1] - 1) \n",
    "    locs_y = (locs_i[0:int(n_stars_i), 1]) * (images.shape[-1] - 1)\n",
    "    \n",
    "    axarr[0].scatter(x = locs_x, y = locs_y, c = 'b')\n",
    "    axarr[0].get_xaxis().set_visible(False)\n",
    "    axarr[0].get_yaxis().set_visible(False)\n",
    "    \n",
    "    # plot estimated locations \n",
    "    est_locs_i = torch.sigmoid(logit_loc_mean[i, :, :]).detach()\n",
    "    est_locs_x = (est_locs_i[0:int(n_stars_i), 0]) * (images.shape[-1] - 1) \n",
    "    est_locs_y = (est_locs_i[0:int(n_stars_i), 1]) * (images.shape[-1] - 1)\n",
    "        \n",
    "    colors = ['red', 'green', 'purple', 'cyan']\n",
    "    axarr[0].scatter(x = est_locs_x, y = est_locs_y, c = colors[0:int(n_stars_i)], marker = 'x')\n",
    "    \n",
    "    ###################\n",
    "    # look at samples \n",
    "    ###################\n",
    "    # observed image \n",
    "    axarr[1].matshow(images[i, 0, :, :])\n",
    "        \n",
    "    # SAMPLES \n",
    "    logit_loc_mean_i = logit_loc_mean[i, :, :]\n",
    "    logit_loc_logvar_i = logit_loc_logvar[i, :, :]\n",
    "    sample_locs_i = torch.sigmoid(logit_loc_mean_i.unsqueeze(2) + \\\n",
    "                                  torch.randn(max_stars, 2, 100) * \\\n",
    "                                  torch.exp(0.5 * logit_loc_logvar_i.unsqueeze(2))).detach()\n",
    "    sample_locs_x = (sample_locs_i[1, 0, :]) * (images.shape[-1] - 1) \n",
    "    sample_locs_y = (sample_locs_i[1, 1, :]) * (images.shape[-1] - 1)\n",
    "    \n",
    "    axarr[1].scatter(x = sample_locs_x, y = sample_locs_y, c = 'r', marker = 'x', alpha = 0.1)\n",
    "    \n",
    "    # plot true locations \n",
    "    locs_i = true_locs[i]\n",
    "    n_stars_i = true_n_stars[i]\n",
    "    locs_x = (locs_i[0:int(n_stars_i), 0]) * (images.shape[-1] - 1) \n",
    "    locs_y = (locs_i[0:int(n_stars_i), 1]) * (images.shape[-1] - 1)\n",
    "    \n",
    "    axarr[1].scatter(x = locs_x, y = locs_y, c = 'b')\n",
    "    axarr[1].get_xaxis().set_visible(False)\n",
    "    axarr[1].get_yaxis().set_visible(False)\n",
    "\n"
   ]
  },
  {
   "cell_type": "code",
   "execution_count": null,
   "metadata": {},
   "outputs": [],
   "source": [
    "seq_tensor = torch.LongTensor([i for i in range(images.shape[0])])"
   ]
  },
  {
   "cell_type": "code",
   "execution_count": null,
   "metadata": {},
   "outputs": [],
   "source": [
    "plt.plot(logit_loc_mean[:, 0, 0].detach().numpy(), \n",
    "        objectives_lib._logit(true_locs)[seq_tensor, perm, 0].numpy(), '+')\n",
    "\n",
    "plt.plot(logit_loc_mean[:, 0, 1].detach().numpy(), \n",
    "        objectives_lib._logit(true_locs)[seq_tensor, perm, 1].numpy(), '+')"
   ]
  },
  {
   "cell_type": "code",
   "execution_count": null,
   "metadata": {},
   "outputs": [],
   "source": [
    "plt.plot(log_flux_mean[true_n_stars > 0, 0].detach().numpy(), \n",
    "        torch.log(true_fluxes)[seq_tensor, perm][true_n_stars > 0].numpy(), '+')\n",
    "\n",
    "plt.plot(log_flux_mean[true_n_stars > 0, 0].detach().numpy(), \n",
    "        log_flux_mean[true_n_stars > 0, 0].detach().numpy())"
   ]
  },
  {
   "cell_type": "code",
   "execution_count": null,
   "metadata": {},
   "outputs": [],
   "source": []
  },
  {
   "cell_type": "code",
   "execution_count": null,
   "metadata": {},
   "outputs": [],
   "source": []
  },
  {
   "cell_type": "markdown",
   "metadata": {},
   "source": [
    "# check parameters"
   ]
  },
  {
   "cell_type": "code",
   "execution_count": null,
   "metadata": {},
   "outputs": [],
   "source": [
    "# permute true parameters \n",
    "def permute_params(true_locs, true_fluxes, perm): \n",
    "    batchsize = true_locs.shape[0]\n",
    "    max_stars = true_locs.shape[1]\n",
    "\n",
    "    locs_perm = torch.zeros((batchsize, max_stars, 2))\n",
    "    fluxes_perm = torch.zeros((batchsize, max_stars))\n",
    "    seq_tensor = torch.LongTensor([i for i in range(batchsize)])\n",
    "\n",
    "    for i in range(max_stars):\n",
    "        locs_perm[:, i, :] = true_locs[seq_tensor, perm[:, i], :]\n",
    "        fluxes_perm[:, i] = true_fluxes[seq_tensor, perm[:, i]]\n",
    "        \n",
    "    return locs_perm, fluxes_perm"
   ]
  },
  {
   "cell_type": "code",
   "execution_count": null,
   "metadata": {},
   "outputs": [],
   "source": [
    "locs_perm, fluxes_perm = permute_params(true_locs, true_fluxes, perm)"
   ]
  },
  {
   "cell_type": "code",
   "execution_count": null,
   "metadata": {},
   "outputs": [],
   "source": [
    "# get variational parameters\n",
    "logit_loc_mean, logit_loc_log_var, \\\n",
    "        log_flux_mean, log_flux_log_var = star_encoder(images, true_n_stars)"
   ]
  },
  {
   "cell_type": "code",
   "execution_count": null,
   "metadata": {},
   "outputs": [],
   "source": [
    "map_locs = torch.sigmoid(logit_loc_mean)\n",
    "map_fluxes = torch.exp(log_flux_mean)"
   ]
  },
  {
   "cell_type": "code",
   "execution_count": null,
   "metadata": {
    "code_folding": []
   },
   "outputs": [],
   "source": [
    "# error in locs\n",
    "for i in range(max_stars): \n",
    "    \n",
    "    is_on_i = true_is_on[:, i]\n",
    "    \n",
    "    \n",
    "    plt.plot(map_locs[is_on_i == 1, i, 0].detach().numpy(), \n",
    "                locs_perm[is_on_i == 1, i, 0].detach().numpy(), '+', color = 'blue', alpha = 0.3)\n",
    "    plt.plot(map_locs[is_on_i == 1, i, 0].detach().numpy(), \n",
    "                 map_locs[is_on_i == 1, i, 0].detach().numpy(), color = 'red')\n",
    "    plt.xlabel('Estimated x coordinate', fontsize = 16)\n",
    "    plt.ylabel('True x coordinate', fontsize = 16)\n",
    "\n",
    "# error in locs\n",
    "for i in range(max_stars): \n",
    "    \n",
    "    is_on_i = true_is_on[:, i]\n",
    "    \n",
    "    \n",
    "    plt.plot(map_locs[is_on_i == 1, i, 1].detach().numpy(), \n",
    "                locs_perm[is_on_i == 1, i, 1].detach().numpy(), '+', color = 'blue', alpha = 0.3)\n",
    "    plt.plot(map_locs[is_on_i == 1, i, 1].detach().numpy(), \n",
    "                 map_locs[is_on_i == 1, i, 1].detach().numpy(), color = 'red')\n",
    "    plt.xlabel('Estimated location', fontsize = 16)\n",
    "    plt.ylabel('True location', fontsize = 16)\n",
    "\n"
   ]
  },
  {
   "cell_type": "code",
   "execution_count": null,
   "metadata": {},
   "outputs": [],
   "source": [
    "# error in locs\n",
    "for i in range(max_stars): \n",
    "    \n",
    "    is_on_i = true_is_on[:, i]\n",
    "    \n",
    "    \n",
    "    plt.plot(map_locs[is_on_i == 1, i, 1].detach().numpy(), \n",
    "                locs_perm[is_on_i == 1, i, 1].detach().numpy(), '+', color = 'blue', alpha = 0.3)\n",
    "    plt.plot(map_locs[is_on_i == 1, i, 1].detach().numpy(), \n",
    "                 map_locs[is_on_i == 1, i, 1].detach().numpy(), color = 'red')\n",
    "    plt.xlabel('Estimated y coordinate', fontsize = 16)\n",
    "    plt.ylabel('True y coordinate', fontsize = 16)\n",
    "\n"
   ]
  },
  {
   "cell_type": "code",
   "execution_count": null,
   "metadata": {},
   "outputs": [],
   "source": [
    "    axarr[1].plot(map_locs[is_on_i == 1, i, 1].detach().numpy(), \n",
    "                 locs_perm[is_on_i == 1, i, 1].detach().numpy(), '+')\n",
    "    axarr[1].plot(map_locs[is_on_i == 1, i, 1].detach().numpy(), \n",
    "                 map_locs[is_on_i == 1, i, 1].detach().numpy())\n",
    "    axarr[1].set_xlabel('Estimated location')\n",
    "    axarr[1].set_ylabel('True location')"
   ]
  },
  {
   "cell_type": "code",
   "execution_count": null,
   "metadata": {},
   "outputs": [],
   "source": [
    "for i in range(max_stars): \n",
    "    \n",
    "    is_on_i = true_is_on[:, i]\n",
    "    \n",
    "    \n",
    "    axarr[0].plot(map_locs[is_on_i == 1, i, 0].detach().numpy(), \n",
    "                locs_perm[is_on_i == 1, i, 0].detach().numpy(), '+')\n",
    "    axarr[0].plot(map_locs[is_on_i == 1, i, 0].detach().numpy(), \n",
    "                 map_locs[is_on_i == 1, i, 0].detach().numpy())\n",
    "    axarr[0].set_xlabel('pred')\n",
    "    axarr[0].set_ylabel('truth')\n",
    "\n",
    "    axarr[1].plot(map_locs[is_on_i == 1, i, 1].detach().numpy(), \n",
    "                 locs_perm[is_on_i == 1, i, 1].detach().numpy(), '+')\n",
    "    axarr[1].plot(map_locs[is_on_i == 1, i, 1].detach().numpy(), \n",
    "                 map_locs[is_on_i == 1, i, 1].detach().numpy())\n",
    "    axarr[1].set_xlabel('pred')\n",
    "    axarr[1].set_ylabel('truth')"
   ]
  },
  {
   "cell_type": "code",
   "execution_count": null,
   "metadata": {},
   "outputs": [],
   "source": [
    "for i in range(max_stars): \n",
    "   \n",
    "    is_on_i = true_is_on[:, i]\n",
    "#     plt.figure()\n",
    "    \n",
    "    plt.plot(map_fluxes[is_on_i == 1, i].detach().numpy(), \n",
    "             fluxes_perm[is_on_i == 1, i].detach().numpy(), '+', color = 'blue', alpha = 0.3)\n",
    "    \n",
    "    plt.plot(map_fluxes[is_on_i == 1, i].detach().numpy(), \n",
    "             map_fluxes[is_on_i == 1, i].detach().numpy(), color = 'red')\n",
    "    \n",
    "    plt.xlabel('Estimated flux', fontsize = 16)\n",
    "    plt.ylabel('True flux', fontsize = 16)\n",
    "    \n",
    "\n"
   ]
  },
  {
   "cell_type": "code",
   "execution_count": null,
   "metadata": {},
   "outputs": [],
   "source": []
  },
  {
   "cell_type": "code",
   "execution_count": null,
   "metadata": {},
   "outputs": [],
   "source": []
  },
  {
   "cell_type": "code",
   "execution_count": null,
   "metadata": {},
   "outputs": [],
   "source": [
    "# Check reconstructions "
   ]
  },
  {
   "cell_type": "code",
   "execution_count": null,
   "metadata": {},
   "outputs": [],
   "source": [
    "recon_images = star_dataset.draw_image_from_params(map_locs, map_fluxes, true_n_stars, add_noise = False)"
   ]
  },
  {
   "cell_type": "code",
   "execution_count": null,
   "metadata": {},
   "outputs": [],
   "source": [
    "for i in range(40, 60): \n",
    "    _, axarr = plt.subplots(1, 3, figsize=(12, 4))\n",
    "\n",
    "    # observed image \n",
    "    axarr[0].matshow(images[i, 0, :, :])\n",
    "    axarr[0].set_title('Observed image \\n locs loss: {:.04f}'.format(locs_loss[i]))\n",
    "    \n",
    "    # plot locations \n",
    "    locs_i = true_locs[i]\n",
    "    n_stars_i = true_n_stars[i]\n",
    "    locs_x = (locs_i[0:int(n_stars_i), 0]) * (images.shape[-1] - 1) \n",
    "    locs_y = (locs_i[0:int(n_stars_i), 1]) * (images.shape[-1] - 1)\n",
    "    \n",
    "    axarr[0].scatter(x = locs_x, y = locs_y, c = 'b')\n",
    "    axarr[0].get_xaxis().set_visible(False)\n",
    "    axarr[0].get_yaxis().set_visible(False)\n",
    "    \n",
    "    # plot estimated locations \n",
    "    map_locs_i = map_locs[i].detach()\n",
    "    n_stars_i = true_n_stars[i]\n",
    "    est_locs_x = (map_locs_i[0:int(n_stars_i), 0]) * (images.shape[-1] - 1) \n",
    "    est_locs_y = (map_locs_i[0:int(n_stars_i), 1]) * (images.shape[-1] - 1)\n",
    "    \n",
    "    axarr[0].scatter(x = est_locs_x, y = est_locs_y, c = 'r', marker = 'x')\n",
    "    \n",
    "    # plot posterior samples\n",
    "    axarr[1].matshow(images[i, 0, :, :].detach())\n",
    "    axarr[1].set_title('Observed image \\n locs loss: {:.04f}'.format(locs_loss[i]))\n",
    "    axarr[1].get_xaxis().set_visible(False)\n",
    "    axarr[1].get_yaxis().set_visible(False)\n",
    "    \n",
    "\n",
    "    for k in range(int(n_stars_i)): \n",
    "        samples = torch.sigmoid(torch.sqrt(torch.exp(logit_loc_log_var[i, k, :])) * \\\n",
    "                      torch.randn((1000, 2)) + logit_loc_mean[i, k, :]).detach()\n",
    "        \n",
    "        axarr[1].scatter(x = samples[:, 0] * (images.shape[-1] - 1) , \n",
    "                         y = samples[:, 1] * (images.shape[-1] - 1) , \n",
    "                         c = 'r', marker = 'x', alpha = 0.05)\n",
    "    axarr[1].scatter(x = locs_x, y = locs_y, c = 'b')\n",
    "    \n",
    "    # plot residuals\n",
    "    axarr[2].matshow(images[i, 0, :, :] - recon_images[i, 0, :, :].detach())\n",
    "    axarr[2].get_xaxis().set_visible(False)\n",
    "    axarr[2].get_yaxis().set_visible(False)\n",
    "    axarr[2].set_title('residuals')\n",
    "    \n"
   ]
  },
  {
   "cell_type": "code",
   "execution_count": null,
   "metadata": {},
   "outputs": [],
   "source": [
    "for i in range(0, 3): \n",
    "    _, axarr = plt.subplots(1, 2, figsize=(12, 6))\n",
    "    \n",
    "    # plot locations \n",
    "    locs_i = true_locs[i]\n",
    "    n_stars_i = true_n_stars[i]\n",
    "    locs_x = (locs_i[0:int(n_stars_i), 0]) * (images.shape[-1] - 1) \n",
    "    locs_y = (locs_i[0:int(n_stars_i), 1]) * (images.shape[-1] - 1)\n",
    "    \n",
    "\n",
    "    # plot posterior samples\n",
    "    axarr[0].matshow(images[i, 0, :, :].detach())\n",
    "    axarr[0].get_xaxis().set_visible(False)\n",
    "    axarr[0].get_yaxis().set_visible(False)\n",
    "    \n",
    "\n",
    "    for k in range(int(n_stars_i)): \n",
    "        samples = torch.sigmoid(torch.sqrt(torch.exp(logit_loc_log_var[i, k, :])) * \\\n",
    "                      torch.randn((1000, 2)) + logit_loc_mean[i, k, :]).detach()\n",
    "        \n",
    "        axarr[0].scatter(x = samples[:, 0] * (images.shape[-1] - 1) , \n",
    "                         y = samples[:, 1] * (images.shape[-1] - 1) , \n",
    "                         c = 'r', marker = 'x', alpha = 0.05)\n",
    "    axarr[0].scatter(x = locs_x, y = locs_y, c = 'b')\n",
    "    \n",
    "    # plot residuals\n",
    "    axarr[1].matshow(images[i, 0, :, :] - recon_images[i, 0, :, :].detach())\n",
    "    axarr[1].get_xaxis().set_visible(False)\n",
    "    axarr[1].get_yaxis().set_visible(False)\n",
    "    \n",
    "    if i == 0: \n",
    "        axarr[0].set_title('Observed image'.format(locs_loss[i]), fontsize = 26)\n",
    "        axarr[1].set_title('Residuals', fontsize = 26)\n",
    "    \n",
    "    \n"
   ]
  },
  {
   "cell_type": "code",
   "execution_count": null,
   "metadata": {},
   "outputs": [],
   "source": []
  },
  {
   "cell_type": "code",
   "execution_count": null,
   "metadata": {},
   "outputs": [],
   "source": []
  },
  {
   "cell_type": "code",
   "execution_count": null,
   "metadata": {},
   "outputs": [],
   "source": []
  },
  {
   "cell_type": "code",
   "execution_count": null,
   "metadata": {},
   "outputs": [],
   "source": [
    "plt.hist(logit_loc_log_var.detach().numpy().flatten())"
   ]
  },
  {
   "cell_type": "code",
   "execution_count": null,
   "metadata": {},
   "outputs": [],
   "source": [
    "plt.hist(log_flux_log_var.detach().numpy().flatten())"
   ]
  },
  {
   "cell_type": "code",
   "execution_count": null,
   "metadata": {},
   "outputs": [],
   "source": [
    "plt.hist(fluxes_loss.detach()); "
   ]
  },
  {
   "cell_type": "code",
   "execution_count": null,
   "metadata": {},
   "outputs": [],
   "source": [
    "# check where the locs are particularly bad"
   ]
  },
  {
   "cell_type": "code",
   "execution_count": null,
   "metadata": {},
   "outputs": [],
   "source": [
    "# bad_indx =  np.argwhere(locs_loss.detach().numpy() > 5).squeeze()\n",
    "# bad_indx = np.argwhere(fluxes_loss.detach().numpy() > 2).squeeze()\n",
    "\n",
    "bad_indx = np.argwhere(true_n_stars == 4).squeeze()"
   ]
  },
  {
   "cell_type": "code",
   "execution_count": null,
   "metadata": {},
   "outputs": [],
   "source": [
    "bad_indx"
   ]
  },
  {
   "cell_type": "code",
   "execution_count": null,
   "metadata": {},
   "outputs": [],
   "source": [
    "count = 0\n",
    "for i in bad_indx: \n",
    "    _, axarr = plt.subplots(1, 3, figsize=(12, 4))\n",
    "\n",
    "    # observed image \n",
    "    axarr[0].matshow(images[i, 0, :, :])\n",
    "    axarr[0].set_title('Observed image \\n locs loss: {:.04f}'.format(locs_loss[i]))\n",
    "    \n",
    "    # plot locations \n",
    "    locs_i = true_locs[i]\n",
    "    n_stars_i = true_n_stars[i]\n",
    "    locs_x = (locs_i[0:int(n_stars_i), 0]) * (images.shape[-1] - 1) \n",
    "    locs_y = (locs_i[0:int(n_stars_i), 1]) * (images.shape[-1] - 1)\n",
    "    \n",
    "    axarr[0].scatter(x = locs_x, y = locs_y, c = 'b')\n",
    "    axarr[0].get_xaxis().set_visible(False)\n",
    "    axarr[0].get_yaxis().set_visible(False)\n",
    "    \n",
    "    # plot estimated locations \n",
    "    map_locs_i = map_locs[i].detach()\n",
    "    n_stars_i = true_n_stars[i]\n",
    "    est_locs_x = (map_locs_i[0:int(n_stars_i), 0]) * (images.shape[-1] - 1) \n",
    "    est_locs_y = (map_locs_i[0:int(n_stars_i), 1]) * (images.shape[-1] - 1)\n",
    "    \n",
    "    axarr[0].scatter(x = est_locs_x, y = est_locs_y, c = 'r', marker = 'x')\n",
    "    \n",
    "    # plot posterior samples\n",
    "    axarr[1].matshow(images[i, 0, :, :].detach())\n",
    "    axarr[1].set_title('Observed image \\n locs loss: {:.04f}'.format(locs_loss[i]))\n",
    "    axarr[1].get_xaxis().set_visible(False)\n",
    "    axarr[1].get_yaxis().set_visible(False)\n",
    "    \n",
    "\n",
    "    for k in range(int(n_stars_i)): \n",
    "        samples = torch.sigmoid(torch.sqrt(torch.exp(logit_loc_log_var[i, k, :])) * \\\n",
    "                      torch.randn((1000, 2)) + logit_loc_mean[i, k, :]).detach()\n",
    "        \n",
    "        axarr[1].scatter(x = samples[:, 0] * (images.shape[-1] - 1) , \n",
    "                         y = samples[:, 1] * (images.shape[-1] - 1) , \n",
    "                         c = 'r', marker = 'x', alpha = 0.01)\n",
    "    axarr[1].scatter(x = locs_x, y = locs_y, c = 'b')\n",
    "    \n",
    "    # plot residuals\n",
    "    axarr[2].matshow(images[i, 0, :, :] - recon_images[i, 0, :, :].detach())\n",
    "    axarr[2].get_xaxis().set_visible(False)\n",
    "    axarr[2].get_yaxis().set_visible(False)\n",
    "    axarr[2].set_title('residuals')\n",
    "    \n",
    "    count += 1\n",
    "    \n",
    "    if count > 10: \n",
    "        break"
   ]
  },
  {
   "cell_type": "code",
   "execution_count": null,
   "metadata": {},
   "outputs": [],
   "source": []
  },
  {
   "cell_type": "code",
   "execution_count": null,
   "metadata": {},
   "outputs": [],
   "source": []
  }
 ],
 "metadata": {
  "kernelspec": {
   "display_name": "Python (pytorch_04)",
   "language": "python",
   "name": "pytorch_update"
  },
  "language_info": {
   "codemirror_mode": {
    "name": "ipython",
    "version": 3
   },
   "file_extension": ".py",
   "mimetype": "text/x-python",
   "name": "python",
   "nbconvert_exporter": "python",
   "pygments_lexer": "ipython3",
   "version": "3.6.8"
  }
 },
 "nbformat": 4,
 "nbformat_minor": 2
}
