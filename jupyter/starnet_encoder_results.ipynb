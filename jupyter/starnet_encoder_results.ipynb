{
 "cells": [
  {
   "cell_type": "code",
   "execution_count": null,
   "metadata": {},
   "outputs": [],
   "source": [
    "import numpy as np\n",
    "import timeit\n",
    "\n",
    "import matplotlib.pyplot as plt\n",
    "\n",
    "import torch\n",
    "import torch.optim as optim\n",
    "\n",
    "import sys\n",
    "sys.path.insert(0, './../')\n",
    "import sdss_psf\n",
    "import simulated_datasets_lib\n",
    "import starnet_vae_lib\n",
    "\n",
    "import inv_KL_objective_lib as objectives_lib\n",
    "\n",
    "import image_utils\n",
    "\n",
    "import time\n",
    "\n",
    "import json\n",
    "\n",
    "device = torch.device(\"cuda:0\" if torch.cuda.is_available() else \"cpu\")\n",
    "\n",
    "print('torch version: ', torch.__version__)\n",
    "\n",
    "from copy import deepcopy"
   ]
  },
  {
   "cell_type": "code",
   "execution_count": null,
   "metadata": {},
   "outputs": [],
   "source": [
    "# load PSF\n",
    "psf_fit_file = '../../celeste_net/sdss_stage_dir/2583/2/136/psField-002583-2-0136.fit'\n",
    "print('psf file: \\n', psf_fit_file)"
   ]
  },
  {
   "cell_type": "code",
   "execution_count": null,
   "metadata": {},
   "outputs": [],
   "source": [
    "np.random.seed(22)\n",
    "_ = torch.manual_seed(22)"
   ]
  },
  {
   "cell_type": "markdown",
   "metadata": {},
   "source": [
    "# Draw data"
   ]
  },
  {
   "cell_type": "code",
   "execution_count": null,
   "metadata": {},
   "outputs": [],
   "source": [
    "# data parameters\n",
    "with open('../data/default_star_parameters.json', 'r') as fp:\n",
    "    data_params = json.load(fp)\n",
    "\n",
    "data_params['slen'] = 101\n",
    "data_params['min_stars'] = 2000\n",
    "data_params['max_stars'] = 2000\n",
    "data_params['alpha'] = 0.5\n"
   ]
  },
  {
   "cell_type": "code",
   "execution_count": null,
   "metadata": {},
   "outputs": [],
   "source": [
    "n_images = 1\n",
    "\n",
    "simulated_dataset = \\\n",
    "    simulated_datasets_lib.load_dataset_from_params(psf_fit_file,\n",
    "                            data_params,\n",
    "                            n_images = n_images,\n",
    "                            add_noise = True)\n"
   ]
  },
  {
   "cell_type": "code",
   "execution_count": null,
   "metadata": {},
   "outputs": [],
   "source": [
    "# true parameters\n",
    "batchsize = 1\n",
    "\n",
    "loader = torch.utils.data.DataLoader(\n",
    "                 dataset=simulated_dataset,\n",
    "                 batch_size=batchsize,\n",
    "                 shuffle=False)\n",
    "\n",
    "for _, data in enumerate(loader):\n",
    "    true_full_fluxes = data['fluxes']\n",
    "    true_full_locs = data['locs']\n",
    "    images_full = data['image']\n",
    "    \n",
    "    break\n"
   ]
  },
  {
   "cell_type": "code",
   "execution_count": null,
   "metadata": {},
   "outputs": [],
   "source": [
    "# histogram of fluxes\n",
    "plt.hist(np.log10(true_full_fluxes.numpy().flatten()))"
   ]
  },
  {
   "cell_type": "code",
   "execution_count": null,
   "metadata": {},
   "outputs": [],
   "source": [
    "plt.matshow(images_full.squeeze());"
   ]
  },
  {
   "cell_type": "code",
   "execution_count": null,
   "metadata": {},
   "outputs": [],
   "source": [
    "simulated_dataset.locs.numpy()"
   ]
  },
  {
   "cell_type": "code",
   "execution_count": null,
   "metadata": {},
   "outputs": [],
   "source": []
  },
  {
   "cell_type": "markdown",
   "metadata": {},
   "source": [
    "# Load VAE"
   ]
  },
  {
   "cell_type": "code",
   "execution_count": null,
   "metadata": {},
   "outputs": [],
   "source": [
    "star_encoder = starnet_vae_lib.StarEncoder(full_slen = data_params['slen'],\n",
    "                                            stamp_slen = 9,\n",
    "                                            step = 4,\n",
    "                                            edge_padding = 2, \n",
    "                                            n_bands = 1,\n",
    "                                            max_detections = 8)"
   ]
  },
  {
   "cell_type": "code",
   "execution_count": null,
   "metadata": {},
   "outputs": [],
   "source": [
    "star_encoder.load_state_dict(torch.load('../fits/starnet_invKL_encoder_batched_images_2000stars_smallpatch3', \n",
    "                               map_location=lambda storage, loc: storage))\n",
    "star_encoder.eval(); "
   ]
  },
  {
   "cell_type": "code",
   "execution_count": null,
   "metadata": {},
   "outputs": [],
   "source": [
    "objectives_lib.eval_star_encoder_loss(star_encoder, loader, train = False)"
   ]
  },
  {
   "cell_type": "code",
   "execution_count": null,
   "metadata": {},
   "outputs": [],
   "source": []
  },
  {
   "cell_type": "code",
   "execution_count": null,
   "metadata": {},
   "outputs": [],
   "source": [
    "losses = np.loadtxt('../fits/test_losses_2000stars_smallpatch2')"
   ]
  },
  {
   "cell_type": "code",
   "execution_count": null,
   "metadata": {},
   "outputs": [],
   "source": [
    "n_losses = losses.shape[1]\n",
    "plt.plot(np.arange(n_losses - 1), losses[0, 1:n_losses])\n",
    "plt.scatter(np.arange(n_losses - 1), losses[0, 1:n_losses], marker = 'x')\n",
    "\n",
    "losses2 = np.loadtxt('../fits/test_losses_2000stars_smallpatch3')\n",
    "n_losses = losses2.shape[1]\n",
    "plt.plot(np.arange(n_losses - 1), losses2[0, 1:n_losses])\n",
    "plt.scatter(np.arange(n_losses - 1), losses2[0, 1:n_losses], marker = 'x')\n"
   ]
  },
  {
   "cell_type": "markdown",
   "metadata": {},
   "source": [
    "# Get inferred parameters"
   ]
  },
  {
   "cell_type": "code",
   "execution_count": null,
   "metadata": {},
   "outputs": [],
   "source": [
    "image_stamps, true_subimage_locs, true_subimage_fluxes, true_n_stars, is_on_array = \\\n",
    "        star_encoder.get_image_stamps(images_full, true_full_locs, true_full_fluxes, \n",
    "                                      trim_images = False)"
   ]
  },
  {
   "cell_type": "code",
   "execution_count": null,
   "metadata": {},
   "outputs": [],
   "source": [
    "plt.hist(true_n_stars, bins=np.arange(max(true_n_stars) + 1));"
   ]
  },
  {
   "cell_type": "code",
   "execution_count": null,
   "metadata": {},
   "outputs": [],
   "source": [
    "_backgrounds = torch.ones((image_stamps.shape[0], 1, 1, 1)) * data_params['sky_intensity']"
   ]
  },
  {
   "cell_type": "code",
   "execution_count": null,
   "metadata": {},
   "outputs": [],
   "source": [
    "loss, counter_loss, locs_loss, fluxes_loss, perm = \\\n",
    "    objectives_lib.get_encoder_loss(star_encoder, images_full, _backgrounds, true_full_locs, true_full_fluxes)"
   ]
  },
  {
   "cell_type": "code",
   "execution_count": null,
   "metadata": {},
   "outputs": [],
   "source": [
    "plt.hist(counter_loss.detach())"
   ]
  },
  {
   "cell_type": "code",
   "execution_count": null,
   "metadata": {},
   "outputs": [],
   "source": [
    "# if more than max detections ...\n",
    "_true_n_stars = true_n_stars.clone()\n",
    "_true_n_stars[_true_n_stars > star_encoder.max_detections] = star_encoder.max_detections\n",
    "    \n",
    "logit_loc_mean, logit_loc_log_var, \\\n",
    "    log_flux_mean, log_flux_log_var, log_probs = \\\n",
    "        star_encoder(image_stamps, data_params['sky_intensity'], _true_n_stars)"
   ]
  },
  {
   "cell_type": "markdown",
   "metadata": {},
   "source": [
    "# check parameters"
   ]
  },
  {
   "cell_type": "code",
   "execution_count": null,
   "metadata": {},
   "outputs": [],
   "source": [
    "# permute true parameters \n",
    "def permute_params(locs, fluxes, perm): \n",
    "    batchsize = perm.shape[0]\n",
    "    max_stars = perm.shape[1]\n",
    "\n",
    "    locs_perm = torch.zeros((batchsize, max_stars, 2))\n",
    "    fluxes_perm = torch.zeros((batchsize, max_stars))\n",
    "    seq_tensor = torch.LongTensor([i for i in range(batchsize)])\n",
    "\n",
    "    for i in range(max_stars):\n",
    "        locs_perm[:, i, :] = locs[seq_tensor, perm[:, i], :]\n",
    "        fluxes_perm[:, i] = fluxes[seq_tensor, perm[:, i]]\n",
    "        \n",
    "    return locs_perm, fluxes_perm"
   ]
  },
  {
   "cell_type": "code",
   "execution_count": null,
   "metadata": {},
   "outputs": [],
   "source": [
    "locs_perm, fluxes_perm = permute_params(logit_loc_mean, log_flux_mean, perm)"
   ]
  },
  {
   "cell_type": "code",
   "execution_count": null,
   "metadata": {},
   "outputs": [],
   "source": [
    "map_locs = torch.sigmoid(locs_perm) * is_on_array.unsqueeze(2).float()\n",
    "map_fluxes = fluxes_perm * is_on_array.float()"
   ]
  },
  {
   "cell_type": "code",
   "execution_count": null,
   "metadata": {},
   "outputs": [],
   "source": [
    "plt.plot(map_locs.flatten()[map_locs.flatten() > 0].detach(), \n",
    "         true_subimage_locs.flatten()[true_subimage_locs.flatten() > 0], '+')\n",
    "\n",
    "plt.plot(map_locs.flatten()[map_locs.flatten() > 0].detach(), \n",
    "         map_locs.flatten()[map_locs.flatten() > 0].detach(), '-')\n",
    "\n",
    "plt.xlabel('estimated')\n",
    "plt.ylabel('truth')"
   ]
  },
  {
   "cell_type": "code",
   "execution_count": null,
   "metadata": {},
   "outputs": [],
   "source": [
    "plt.plot(map_fluxes.flatten()[map_fluxes.flatten() > 0].detach(), \n",
    "         torch.log(true_subimage_fluxes.flatten()[true_subimage_fluxes.flatten() > 0]), '+')\n",
    "\n",
    "plt.plot(map_fluxes.flatten()[map_fluxes.flatten() > 0].detach(), \n",
    "         map_fluxes.flatten()[map_fluxes.flatten() > 0].detach(), '-')\n",
    "\n",
    "plt.xlabel('estimated')\n",
    "plt.ylabel('truth')"
   ]
  },
  {
   "cell_type": "code",
   "execution_count": null,
   "metadata": {},
   "outputs": [],
   "source": []
  },
  {
   "cell_type": "markdown",
   "metadata": {},
   "source": [
    "# Check reconstructions "
   ]
  },
  {
   "cell_type": "code",
   "execution_count": null,
   "metadata": {},
   "outputs": [],
   "source": [
    "# get map estimates for image patches\n",
    "map_n_stars = torch.argmax(log_probs, dim = 1)\n",
    "is_on_array = objectives_lib.get_is_on_from_n_stars(map_n_stars, star_encoder.max_detections)\n",
    "\n",
    "map_locs = torch.sigmoid(logit_loc_mean).detach() # * is_on_array.unsqueeze(2).float()\n",
    "map_fluxes = torch.exp(log_flux_mean).detach() * is_on_array.float()"
   ]
  },
  {
   "cell_type": "code",
   "execution_count": null,
   "metadata": {},
   "outputs": [],
   "source": [
    "# convert patch parameters to parameters on the full image \n",
    "map_locs_full_image, map_fluxes_full_image, n_stars = \\\n",
    "    image_utils.get_full_params_from_patch_params(map_locs, \n",
    "                                                  map_fluxes,\n",
    "                                                    is_on_array,\n",
    "                                                    star_encoder.tile_coords,\n",
    "                                                    star_encoder.full_slen,\n",
    "                                                    star_encoder.stamp_slen,\n",
    "                                                    star_encoder.edge_padding,\n",
    "                                                    star_encoder.batchsize)"
   ]
  },
  {
   "cell_type": "code",
   "execution_count": null,
   "metadata": {},
   "outputs": [],
   "source": []
  },
  {
   "cell_type": "code",
   "execution_count": null,
   "metadata": {},
   "outputs": [],
   "source": [
    "# get reconsstructed mean\n",
    "vae_recon_mean = simulated_dataset.simulator.draw_image_from_params(locs = map_locs_full_image, \n",
    "                                                                    fluxes = map_fluxes_full_image,\n",
    "                                                                     n_stars = n_stars, \n",
    "                                                                     add_noise = False).squeeze()"
   ]
  },
  {
   "cell_type": "code",
   "execution_count": null,
   "metadata": {},
   "outputs": [],
   "source": [
    "fig, axarr = plt.subplots(1, 3, figsize=(15, 4))\n",
    "im0 = axarr[0].matshow(images_full.squeeze())\n",
    "fig.colorbar(im0, ax = axarr[0])\n",
    "\n",
    "im1 = axarr[1].matshow(vae_recon_mean.squeeze())\n",
    "fig.colorbar(im1, ax = axarr[1])\n",
    "\n",
    "im2 = axarr[2].matshow(vae_recon_mean.squeeze() - images_full.squeeze())\n",
    "fig.colorbar(im2, ax = axarr[2])"
   ]
  },
  {
   "cell_type": "markdown",
   "metadata": {},
   "source": [
    "# check image patches"
   ]
  },
  {
   "cell_type": "code",
   "execution_count": null,
   "metadata": {},
   "outputs": [],
   "source": [
    "import plotting_utils"
   ]
  },
  {
   "cell_type": "code",
   "execution_count": null,
   "metadata": {},
   "outputs": [],
   "source": [
    "for i in range(1): \n",
    "    f, axarr = plt.subplots(1, 3, figsize=(16, 6))\n",
    "    indx = 206 # int(np.random.choice(image_stamps.shape[0], 1))\n",
    "    \n",
    "    x0 = int(star_encoder.tile_coords[indx, 0])\n",
    "    x1 = int(star_encoder.tile_coords[indx, 1]) \n",
    "    \n",
    "    # plot image stamp\n",
    "    im0 = axarr[0].matshow(image_stamps[indx].squeeze())\n",
    "    im0 = fig.colorbar(im0, ax=axarr[0])\n",
    "    \n",
    "    # plot true locations      \n",
    "    patch_slen = (star_encoder.stamp_slen - 2 * star_encoder.edge_padding)\n",
    "    axarr[0].scatter(true_subimage_locs[indx, 0:true_n_stars[indx], 1] * (patch_slen - 1) + \\\n",
    "                         star_encoder.edge_padding, \n",
    "                    true_subimage_locs[indx, 0:true_n_stars[indx], 0] * (patch_slen - 1) + \\\n",
    "                         star_encoder.edge_padding, \n",
    "                    color = 'b')\n",
    "    \n",
    "    axarr[0].scatter(map_locs[indx, 0:map_n_stars[indx], 1] * (patch_slen - 1) + star_encoder.edge_padding, \n",
    "                    map_locs[indx, 0:map_n_stars[indx], 0] * (patch_slen - 1) + star_encoder.edge_padding, \n",
    "                    color = 'r', marker = 'x')\n",
    "    \n",
    "    \n",
    "    axarr[0].axvline(x=2, color = 'r')\n",
    "    axarr[0].axvline(x=6, color = 'r')\n",
    "    axarr[0].axhline(y=2, color = 'r')\n",
    "    axarr[0].axhline(y=6, color = 'r')\n",
    "    \n",
    "    axarr[0].set_title('observed; coords {}\\n'.format([x0, x1]))\n",
    "    \n",
    "    # plot reconstruction\n",
    "    recon_patch = vae_recon_mean[x0:(x0+star_encoder.stamp_slen), \n",
    "                                   x1:(x1+star_encoder.stamp_slen)]\n",
    "    im1 = axarr[1].matshow(recon_patch)\n",
    "    \n",
    "    axarr[1].axvline(x=2, color = 'r')\n",
    "    axarr[1].axvline(x=6, color = 'r')\n",
    "    axarr[1].axhline(y=2, color = 'r')\n",
    "    axarr[1].axhline(y=6, color = 'r')\n",
    "    \n",
    "    axarr[1].scatter(map_locs[indx, :, 1] * (patch_slen - 1) + star_encoder.edge_padding, \n",
    "                    map_locs[indx, :, 0] * (patch_slen - 1) + star_encoder.edge_padding, \n",
    "                    color = 'r', marker = 'x')\n",
    "    fig.colorbar(im1, ax=axarr[1])\n",
    "    \n",
    "    \n",
    "    # plot residual\n",
    "    im2 = axarr[2].matshow((recon_patch - image_stamps[indx].squeeze()))\n",
    "    fig.colorbar(im2, ax=axarr[2])"
   ]
  },
  {
   "cell_type": "code",
   "execution_count": null,
   "metadata": {},
   "outputs": [],
   "source": [
    "torch.where((star_encoder.tile_coords[:, 0] == 28) & (star_encoder.tile_coords[:, 1] == 56))"
   ]
  },
  {
   "cell_type": "code",
   "execution_count": null,
   "metadata": {},
   "outputs": [],
   "source": [
    "f, axarr = plt.subplots(1, 3, figsize=(16, 6))\n",
    "indx = 182 # int(np.random.choice(image_stamps.shape[0], 1))\n",
    "\n",
    "x0 = int(star_encoder.tile_coords[indx, 0])\n",
    "x1 = int(star_encoder.tile_coords[indx, 1]) \n",
    "\n",
    "# plot image stamp\n",
    "im0 = axarr[0].matshow(image_stamps[indx].squeeze())\n",
    "im0 = fig.colorbar(im0, ax=axarr[0])\n",
    "\n",
    "# plot true locations      \n",
    "patch_slen = (star_encoder.stamp_slen - 2 * star_encoder.edge_padding)\n",
    "axarr[0].scatter(true_subimage_locs[indx, 0:true_n_stars[indx], 1] * (patch_slen - 1) + \\\n",
    "                     star_encoder.edge_padding, \n",
    "                true_subimage_locs[indx, 0:true_n_stars[indx], 0] * (patch_slen - 1) + \\\n",
    "                     star_encoder.edge_padding, \n",
    "                color = 'b')\n",
    "\n",
    "axarr[0].scatter(map_locs[indx, 0:map_n_stars[indx], 1] * (patch_slen - 1) + star_encoder.edge_padding, \n",
    "                map_locs[indx, 0:map_n_stars[indx], 0] * (patch_slen - 1) + star_encoder.edge_padding, \n",
    "                color = 'r', marker = 'x')\n",
    "\n",
    "\n",
    "axarr[0].axvline(x=2, color = 'r')\n",
    "axarr[0].axvline(x=6, color = 'r')\n",
    "axarr[0].axhline(y=2, color = 'r')\n",
    "axarr[0].axhline(y=6, color = 'r')\n",
    "\n",
    "axarr[0].set_title('observed; coords {}\\n'.format([x0, x1]))\n",
    "\n",
    "# plot reconstruction\n",
    "recon_patch = vae_recon_mean[x0:(x0+star_encoder.stamp_slen), \n",
    "                               x1:(x1+star_encoder.stamp_slen)]\n",
    "im1 = axarr[1].matshow(recon_patch)\n",
    "\n",
    "axarr[1].axvline(x=2, color = 'r')\n",
    "axarr[1].axvline(x=6, color = 'r')\n",
    "axarr[1].axhline(y=2, color = 'r')\n",
    "axarr[1].axhline(y=6, color = 'r')\n",
    "\n",
    "axarr[1].scatter(map_locs[indx, :, 1] * (patch_slen - 1) + star_encoder.edge_padding, \n",
    "                map_locs[indx, :, 0] * (patch_slen - 1) + star_encoder.edge_padding, \n",
    "                color = 'r', marker = 'x')\n",
    "fig.colorbar(im1, ax=axarr[1])\n",
    "\n",
    "\n",
    "# plot residual\n",
    "im2 = axarr[2].matshow((recon_patch - image_stamps[indx].squeeze()))\n",
    "fig.colorbar(im2, ax=axarr[2])"
   ]
  },
  {
   "cell_type": "code",
   "execution_count": null,
   "metadata": {},
   "outputs": [],
   "source": []
  },
  {
   "cell_type": "code",
   "execution_count": null,
   "metadata": {},
   "outputs": [],
   "source": []
  },
  {
   "cell_type": "code",
   "execution_count": null,
   "metadata": {},
   "outputs": [],
   "source": [
    "f, axarr = plt.subplots(1, 3, figsize=(16, 6))\n",
    "\n",
    "plotting_utils.plot_subimage(axarr[0], images_full.squeeze(),\n",
    "                            map_locs_full_image.squeeze() * (images_full.shape[-1] - 1), \n",
    "                            true_full_locs.squeeze() * (images_full.shape[-1] - 1), \n",
    "                            int(star_encoder.tile_coords[indx, 0]), \n",
    "                            int(star_encoder.tile_coords[indx, 1]), \n",
    "                            subimage_slen = star_encoder.stamp_slen)\n",
    "\n",
    "axarr[0].axvline(x=2, color = 'r')\n",
    "axarr[0].axvline(x=6, color = 'r')\n",
    "axarr[0].axhline(y=2, color = 'r')\n",
    "axarr[0].axhline(y=6, color = 'r')\n"
   ]
  },
  {
   "cell_type": "markdown",
   "metadata": {},
   "source": [
    "# On any arbitrary patch of the image "
   ]
  },
  {
   "cell_type": "code",
   "execution_count": null,
   "metadata": {},
   "outputs": [],
   "source": [
    "w = 10\n",
    "x0_vec = np.arange(star_encoder.edge_padding, \n",
    "                   star_encoder.full_slen - star_encoder.edge_padding - w, \n",
    "                  w)\n",
    "\n",
    "x1_vec = x0_vec"
   ]
  },
  {
   "cell_type": "code",
   "execution_count": null,
   "metadata": {},
   "outputs": [],
   "source": [
    "x0_vec"
   ]
  },
  {
   "cell_type": "code",
   "execution_count": null,
   "metadata": {},
   "outputs": [],
   "source": [
    "f, axarr = plt.subplots(1, 3, figsize=(16, 6))\n",
    "\n",
    "x0 = int(np.random.choice(x0_vec, 1))\n",
    "x1 = int(np.random.choice(x1_vec, 1))\n",
    "\n",
    "\n",
    "\n",
    "plotting_utils.plot_subimage(axarr[0], images_full.squeeze(),\n",
    "                            map_locs_full_image.squeeze() * (images_full.shape[-1] - 1), \n",
    "                            true_full_locs.squeeze() * (images_full.shape[-1] - 1), \n",
    "                            x0, x1, \n",
    "                            subimage_slen = w, \n",
    "                            add_colorbar = True, \n",
    "                            global_fig = fig)\n",
    "\n",
    "axarr[0].set_title('observed; coords = {}'.format([x0, x1]));\n",
    "\n",
    "plotting_utils.plot_subimage(axarr[1], vae_recon_mean.squeeze(),\n",
    "                            map_locs_full_image.squeeze() * (images_full.shape[-1] - 1), \n",
    "                            None,  \n",
    "                            x0, x1, \n",
    "                            subimage_slen = w, \n",
    "                            add_colorbar = True, \n",
    "                            global_fig = fig)\n",
    "\n",
    "axarr[1].set_title('reconstructed; coords = {}'.format([x0, x1]));\n",
    "\n",
    "\n",
    "residual = (vae_recon_mean.squeeze() - images_full.squeeze())\n",
    "plotting_utils.plot_subimage(axarr[2], residual, \n",
    "                            map_locs_full_image.squeeze() * (images_full.shape[-1] - 1), \n",
    "                            None,  \n",
    "                            x0, x1, \n",
    "                            subimage_slen = w, \n",
    "                            add_colorbar = True, \n",
    "                            global_fig = fig)\n",
    "\n",
    "axarr[1].set_title('residual; coords = {}'.format([x0, x1]));\n"
   ]
  },
  {
   "cell_type": "code",
   "execution_count": null,
   "metadata": {},
   "outputs": [],
   "source": [
    "torch.where((star_encoder.tile_coords[:, 0] == 32) & (star_encoder.tile_coords[:, 1] == 56))"
   ]
  },
  {
   "cell_type": "code",
   "execution_count": null,
   "metadata": {},
   "outputs": [],
   "source": []
  },
  {
   "cell_type": "code",
   "execution_count": null,
   "metadata": {},
   "outputs": [],
   "source": []
  },
  {
   "cell_type": "code",
   "execution_count": null,
   "metadata": {},
   "outputs": [],
   "source": []
  },
  {
   "cell_type": "code",
   "execution_count": null,
   "metadata": {},
   "outputs": [],
   "source": []
  },
  {
   "cell_type": "code",
   "execution_count": null,
   "metadata": {},
   "outputs": [],
   "source": []
  },
  {
   "cell_type": "code",
   "execution_count": null,
   "metadata": {},
   "outputs": [],
   "source": [
    "_psf = simulated_datasets_lib._trim_psf(simulated_dataset.simulator.psf, \n",
    "                                        star_encoder.stamp_slen - 2 * star_encoder.edge_padding)"
   ]
  },
  {
   "cell_type": "code",
   "execution_count": null,
   "metadata": {},
   "outputs": [],
   "source": [
    "indx = np.arange(0, 20)\n",
    "# indx = torch.where(torch.abs(map_locs - true_subimage_locs).sum(-1).sum(-1) > 0.5)[0]\n",
    "# indx = true_n_stars == 2\n",
    "\n",
    "plotting_utils.print_results(star_encoder, \n",
    "                                image_stamps[indx], \n",
    "                                _backgrounds[indx], \n",
    "                                _psf, \n",
    "                                true_subimage_locs[indx], \n",
    "                                is_on_array[indx],\n",
    "                                use_true_n_stars = False)"
   ]
  },
  {
   "cell_type": "code",
   "execution_count": null,
   "metadata": {},
   "outputs": [],
   "source": [
    "indx = np.arange(20, 40)\n",
    "plotting_utils.print_results(star_encoder, \n",
    "                                image_stamps[indx], \n",
    "                                _backgrounds[indx], \n",
    "                                _psf, \n",
    "                                true_subimage_locs[indx], \n",
    "                                is_on_array[indx],\n",
    "                                use_true_n_stars = False)"
   ]
  },
  {
   "cell_type": "code",
   "execution_count": null,
   "metadata": {},
   "outputs": [],
   "source": []
  },
  {
   "cell_type": "code",
   "execution_count": null,
   "metadata": {},
   "outputs": [],
   "source": []
  },
  {
   "cell_type": "code",
   "execution_count": null,
   "metadata": {},
   "outputs": [],
   "source": []
  },
  {
   "cell_type": "code",
   "execution_count": null,
   "metadata": {},
   "outputs": [],
   "source": []
  },
  {
   "cell_type": "code",
   "execution_count": null,
   "metadata": {},
   "outputs": [],
   "source": [
    "# look at one image in detail"
   ]
  },
  {
   "cell_type": "code",
   "execution_count": null,
   "metadata": {},
   "outputs": [],
   "source": [
    "indx = 35 # int(np.random.choice(image_stamps.shape[0], 1))"
   ]
  },
  {
   "cell_type": "code",
   "execution_count": null,
   "metadata": {},
   "outputs": [],
   "source": [
    "image_i = image_stamps[indx].unsqueeze(0)\n",
    "true_n_stars_i = true_n_stars[indx]\n",
    "true_locs_i = true_subimage_locs[indx]\n",
    "\n",
    "print('true n_stars: ', true_n_stars_i)"
   ]
  },
  {
   "cell_type": "code",
   "execution_count": null,
   "metadata": {},
   "outputs": [],
   "source": [
    "n_stars_i = torch.Tensor([true_n_stars_i]).type(torch.LongTensor)\n",
    "\n",
    "logit_loc_mean, logit_loc_log_var, \\\n",
    "    log_flux_mean, log_flux_log_var, log_probs = \\\n",
    "        star_encoder(image_i, data_params['sky_intensity'], n_stars_i)"
   ]
  },
  {
   "cell_type": "code",
   "execution_count": null,
   "metadata": {},
   "outputs": [],
   "source": [
    "plotting_utils.plot_categorical_probs(log_probs[0], plt)"
   ]
  },
  {
   "cell_type": "code",
   "execution_count": null,
   "metadata": {},
   "outputs": [],
   "source": [
    "_images = image_utils.trim_images(image_i, star_encoder.edge_padding)\n",
    "plt.matshow(_images.squeeze())\n",
    "plt.scatter(true_locs_i[is_on_array[indx], 1] * (star_encoder.stamp_slen - 1 - 2 * star_encoder.edge_padding), \n",
    "           true_locs_i[is_on_array[indx], 0] * (star_encoder.stamp_slen - 1 - 2 * star_encoder.edge_padding))\n",
    "\n",
    "map_locs = torch.sigmoid(logit_loc_mean).detach()\n",
    "\n",
    "plt.scatter(map_locs[0, 0:n_stars_i, 1] * (star_encoder.stamp_slen - 1 - 2 * star_encoder.edge_padding), \n",
    "           map_locs[0, 0:n_stars_i, 0] * (star_encoder.stamp_slen - 1 - 2 * star_encoder.edge_padding), \n",
    "           color = 'red', marker = 'x')"
   ]
  },
  {
   "cell_type": "code",
   "execution_count": null,
   "metadata": {},
   "outputs": [],
   "source": []
  },
  {
   "cell_type": "code",
   "execution_count": null,
   "metadata": {},
   "outputs": [],
   "source": []
  },
  {
   "cell_type": "markdown",
   "metadata": {},
   "source": [
    "# check out deblending properties"
   ]
  },
  {
   "cell_type": "code",
   "execution_count": null,
   "metadata": {},
   "outputs": [],
   "source": [
    "n_trials = 10\n",
    "\n",
    "_n_stars = (torch.ones(n_trials) * 2).type(torch.LongTensor)\n",
    "_fluxes = torch.ones(n_trials, max_stars) * simulated_dataset.f_min * 100\n",
    "\n",
    "_locs = torch.rand(n_trials, max_stars, 2)\n",
    "\n",
    "dist = 0.0\n",
    "incr = 0.01\n",
    "for i in range(_locs.shape[0]):\n",
    "    dist = dist + incr\n",
    "    _locs[i, 0, :] = 0.5 + dist\n",
    "    _locs[i, 1,:] = 0.5 - dist"
   ]
  },
  {
   "cell_type": "code",
   "execution_count": null,
   "metadata": {},
   "outputs": [],
   "source": [
    "_images = simulated_dataset.simulator.draw_image_from_params(_locs, _fluxes, _n_stars,\n",
    "                                                             add_noise = False)\n",
    "\n",
    "_backgrounds = torch.ones(10, 1, 1, 1) * simulated_dataset.sky_intensity"
   ]
  },
  {
   "cell_type": "code",
   "execution_count": null,
   "metadata": {},
   "outputs": [],
   "source": [
    "plotting_utils.print_results(star_encoder, \n",
    "                            _images, \n",
    "                            _backgrounds, \n",
    "                            simulated_dataset.simulator.psf, \n",
    "                            _locs,\n",
    "                            _n_stars, \n",
    "                            use_true_n_stars = False)"
   ]
  },
  {
   "cell_type": "code",
   "execution_count": null,
   "metadata": {},
   "outputs": [],
   "source": []
  },
  {
   "cell_type": "code",
   "execution_count": null,
   "metadata": {},
   "outputs": [],
   "source": [
    "import sdss_dataset_lib"
   ]
  },
  {
   "cell_type": "code",
   "execution_count": null,
   "metadata": {},
   "outputs": [],
   "source": [
    "hubble_cat_file='../hubble_data/NCG7078/hlsp_acsggct_hst_acs-wfc_ngc7078_r.rdviq.cal.adj.zpt.txt'\n",
    "sdss_hubble_data = sdss_dataset_lib.SDSSHubbleData(hubble_cat_file=hubble_cat_file, \n",
    "                                                   slen = 11, \n",
    "                                                   run = 2566, \n",
    "                                                   camcol = 6, \n",
    "                                                   field = 65, \n",
    "                                                max_detections = max_stars)"
   ]
  },
  {
   "cell_type": "code",
   "execution_count": null,
   "metadata": {},
   "outputs": [],
   "source": [
    "len(sdss_hubble_data)"
   ]
  },
  {
   "cell_type": "code",
   "execution_count": null,
   "metadata": {},
   "outputs": [],
   "source": [
    "# true parameters\n",
    "hubble_loader = torch.utils.data.DataLoader(\n",
    "                 dataset=sdss_hubble_data,\n",
    "                 batch_size=len(sdss_hubble_data),\n",
    "                 shuffle=False)\n",
    "\n",
    "for _, data in enumerate(hubble_loader):\n",
    "    hubble_fluxes = data['fluxes'].type(torch.float)\n",
    "    hubble_locs = data['locs'].type(torch.float)\n",
    "    hubble_n_stars = data['n_stars']\n",
    "    sdss_images = data['image']\n",
    "    sdss_backgrounds = data['background']\n",
    "    \n",
    "    break"
   ]
  },
  {
   "cell_type": "code",
   "execution_count": null,
   "metadata": {},
   "outputs": [],
   "source": [
    "plt.hist(torch.log10(images - simulated_dataset.sky_intensity).flatten());"
   ]
  },
  {
   "cell_type": "code",
   "execution_count": null,
   "metadata": {},
   "outputs": [],
   "source": [
    "plt.hist(torch.log10(sdss_images - sdss_backgrounds).flatten());"
   ]
  },
  {
   "cell_type": "code",
   "execution_count": null,
   "metadata": {},
   "outputs": [],
   "source": [
    "indx = np.arange(0, 10)\n",
    "plotting_utils.print_results(star_encoder, \n",
    "                                sdss_images[indx],\n",
    "                                sdss_backgrounds[indx],\n",
    "                                simulated_dataset.simulator.psf, \n",
    "                                hubble_locs[indx],\n",
    "                                hubble_n_stars[indx], \n",
    "                                use_true_n_stars = False, \n",
    "                                residual_clamp = 1e16)"
   ]
  },
  {
   "cell_type": "code",
   "execution_count": null,
   "metadata": {},
   "outputs": [],
   "source": []
  },
  {
   "cell_type": "code",
   "execution_count": null,
   "metadata": {},
   "outputs": [],
   "source": []
  },
  {
   "cell_type": "code",
   "execution_count": null,
   "metadata": {},
   "outputs": [],
   "source": []
  },
  {
   "cell_type": "code",
   "execution_count": null,
   "metadata": {},
   "outputs": [],
   "source": []
  },
  {
   "cell_type": "raw",
   "metadata": {},
   "source": [
    "# get variational parameters\n",
    "logit_loc_mean, logit_loc_log_var, \\\n",
    "        log_flux_mean, log_flux_log_var, log_probs = star_encoder(images, backgrounds, true_n_stars)"
   ]
  },
  {
   "cell_type": "raw",
   "metadata": {},
   "source": [
    "foo = log_flux_log_var.flatten().detach().numpy()\n",
    "plt.hist(foo[foo != 0], bins = 100);"
   ]
  },
  {
   "cell_type": "raw",
   "metadata": {},
   "source": [
    "foo = logit_loc_log_var.flatten().detach().numpy()\n",
    "plt.hist(foo[foo != 0], bins = 100);"
   ]
  },
  {
   "cell_type": "raw",
   "metadata": {},
   "source": []
  },
  {
   "cell_type": "raw",
   "metadata": {},
   "source": [
    "map_locs = torch.sigmoid(logit_loc_mean)\n",
    "map_fluxes = torch.exp(log_flux_mean)"
   ]
  },
  {
   "cell_type": "raw",
   "metadata": {
    "code_folding": []
   },
   "source": [
    "# error in locs\n",
    "for i in range(max_stars): \n",
    "    \n",
    "    is_on_i = true_is_on[:, i]\n",
    "    \n",
    "    \n",
    "    plt.plot(map_locs[is_on_i == 1, i, 0].detach().numpy(), \n",
    "                locs_perm[is_on_i == 1, i, 0].detach().numpy(), '+', color = 'blue')\n",
    "    plt.plot(map_locs[is_on_i == 1, i, 0].detach().numpy(), \n",
    "                 map_locs[is_on_i == 1, i, 0].detach().numpy(), color = 'red')\n",
    "    plt.xlabel('Estimated x coordinate', fontsize = 16)\n",
    "    plt.ylabel('True x coordinate', fontsize = 16)\n"
   ]
  },
  {
   "cell_type": "raw",
   "metadata": {},
   "source": [
    "# error in locs\n",
    "for i in range(max_stars): \n",
    "    \n",
    "    is_on_i = true_is_on[:, i]\n",
    "    \n",
    "    \n",
    "    plt.plot(map_locs[is_on_i == 1, i, 1].detach().numpy(), \n",
    "                locs_perm[is_on_i == 1, i, 1].detach().numpy(), '+', color = 'blue')\n",
    "    plt.plot(map_locs[is_on_i == 1, i, 1].detach().numpy(), \n",
    "                 map_locs[is_on_i == 1, i, 1].detach().numpy(), color = 'red')\n",
    "    plt.xlabel('Estimated y coordinate', fontsize = 16)\n",
    "    plt.ylabel('True y coordinate', fontsize = 16)\n",
    "\n"
   ]
  },
  {
   "cell_type": "raw",
   "metadata": {},
   "source": [
    "for i in range(max_stars): \n",
    "   \n",
    "    is_on_i = true_is_on[:, i]\n",
    "#     plt.figure()\n",
    "    \n",
    "    plt.plot(np.log(map_fluxes[is_on_i == 1, i].detach().numpy()), \n",
    "             np.log(fluxes_perm[is_on_i == 1, i].detach().numpy()), '+', color = 'blue')\n",
    "    \n",
    "    plt.plot(np.log(map_fluxes[is_on_i == 1, i].detach().numpy()), \n",
    "             np.log(map_fluxes[is_on_i == 1, i].detach().numpy()), color = 'red')\n",
    "    \n",
    "    plt.xlabel('Estimated flux', fontsize = 16)\n",
    "    plt.ylabel('True flux', fontsize = 16)\n",
    "    \n",
    "\n"
   ]
  },
  {
   "cell_type": "raw",
   "metadata": {},
   "source": []
  },
  {
   "cell_type": "raw",
   "metadata": {},
   "source": []
  }
 ],
 "metadata": {
  "kernelspec": {
   "display_name": "Python (pytorch_04)",
   "language": "python",
   "name": "pytorch_update"
  },
  "language_info": {
   "codemirror_mode": {
    "name": "ipython",
    "version": 3
   },
   "file_extension": ".py",
   "mimetype": "text/x-python",
   "name": "python",
   "nbconvert_exporter": "python",
   "pygments_lexer": "ipython3",
   "version": "3.6.8"
  }
 },
 "nbformat": 4,
 "nbformat_minor": 2
}
