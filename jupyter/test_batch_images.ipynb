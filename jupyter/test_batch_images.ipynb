{
 "cells": [
  {
   "cell_type": "code",
   "execution_count": null,
   "metadata": {},
   "outputs": [],
   "source": [
    "import numpy as np\n",
    "\n",
    "import matplotlib.pyplot as plt\n",
    "\n",
    "import torch\n",
    "\n",
    "import sys\n",
    "sys.path.insert(0, './../')\n",
    "\n",
    "import sdss_psf\n",
    "import simulated_datasets_lib\n",
    "import sdss_dataset_lib\n",
    "import image_utils\n",
    "\n",
    "import json\n",
    "\n",
    "device = torch.device(\"cuda:0\" if torch.cuda.is_available() else \"cpu\")\n",
    "\n",
    "print('torch version: ', torch.__version__)"
   ]
  },
  {
   "cell_type": "code",
   "execution_count": null,
   "metadata": {},
   "outputs": [],
   "source": [
    "# load PSF\n",
    "psf_fit_file = '../../celeste_net/sdss_stage_dir/2566/6/65/psField-002566-6-0065.fit'\n",
    "print('psf file: \\n', psf_fit_file)"
   ]
  },
  {
   "cell_type": "code",
   "execution_count": null,
   "metadata": {},
   "outputs": [],
   "source": [
    "np.random.seed(43534)\n",
    "_ = torch.manual_seed(24534)"
   ]
  },
  {
   "cell_type": "markdown",
   "metadata": {},
   "source": [
    "# check psf"
   ]
  },
  {
   "cell_type": "code",
   "execution_count": null,
   "metadata": {},
   "outputs": [],
   "source": [
    "psf = sdss_psf.psf_at_points(0, 0, psf_fit_file=psf_fit_file)"
   ]
  },
  {
   "cell_type": "code",
   "execution_count": null,
   "metadata": {},
   "outputs": [],
   "source": [
    "plt.matshow(psf)"
   ]
  },
  {
   "cell_type": "code",
   "execution_count": null,
   "metadata": {},
   "outputs": [],
   "source": [
    "psf_expanded = simulated_datasets_lib._expand_psf(psf, 101)"
   ]
  },
  {
   "cell_type": "code",
   "execution_count": null,
   "metadata": {},
   "outputs": [],
   "source": [
    "plt.matshow(psf_expanded)"
   ]
  },
  {
   "cell_type": "code",
   "execution_count": null,
   "metadata": {},
   "outputs": [],
   "source": [
    "psf_expanded[50, 50]"
   ]
  },
  {
   "cell_type": "code",
   "execution_count": null,
   "metadata": {},
   "outputs": [],
   "source": [
    "psf[25, 25]"
   ]
  },
  {
   "cell_type": "code",
   "execution_count": null,
   "metadata": {},
   "outputs": [],
   "source": [
    "np.max(psf)"
   ]
  },
  {
   "cell_type": "markdown",
   "metadata": {},
   "source": [
    "# Check locations"
   ]
  },
  {
   "cell_type": "code",
   "execution_count": null,
   "metadata": {},
   "outputs": [],
   "source": [
    "simulator = simulated_datasets_lib.StarSimulator(psf_fit_file, slen = 11, sky_intensity=686)"
   ]
  },
  {
   "cell_type": "code",
   "execution_count": null,
   "metadata": {},
   "outputs": [],
   "source": [
    "locs = torch.Tensor([[[2/11, 11/11]]])\n",
    "n_stars = torch.Tensor([1]).type(torch.LongTensor)\n",
    "fluxes = torch.Tensor([[1000]])"
   ]
  },
  {
   "cell_type": "code",
   "execution_count": null,
   "metadata": {},
   "outputs": [],
   "source": [
    "mean = simulator.draw_image_from_params(locs, fluxes, n_stars, add_noise = False)\n",
    "plt.matshow(mean.squeeze())"
   ]
  },
  {
   "cell_type": "markdown",
   "metadata": {},
   "source": [
    "# Draw images "
   ]
  },
  {
   "cell_type": "code",
   "execution_count": null,
   "metadata": {},
   "outputs": [],
   "source": [
    "# data parameters\n",
    "with open('../data/default_star_parameters.json', 'r') as fp:\n",
    "    data_params = json.load(fp)\n",
    "\n",
    "data_params['slen'] = 101\n",
    "data_params['min_stars'] = 50\n",
    "data_params['max_stars'] = 50\n",
    "data_params['alpha'] = 0.5\n",
    "\n",
    "print(data_params)\n"
   ]
  },
  {
   "cell_type": "code",
   "execution_count": null,
   "metadata": {},
   "outputs": [],
   "source": [
    "slen = data_params['slen']"
   ]
  },
  {
   "cell_type": "code",
   "execution_count": null,
   "metadata": {},
   "outputs": [],
   "source": [
    "simulated_dataset = simulated_datasets_lib.load_dataset_from_params(psf_fit_file, data_params, \n",
    "                                                n_images = 2,\n",
    "                                                # for testing, turn off noise\n",
    "                                                add_noise = False)"
   ]
  },
  {
   "cell_type": "code",
   "execution_count": null,
   "metadata": {},
   "outputs": [],
   "source": [
    "plt.matshow(simulated_dataset.images[0].squeeze())"
   ]
  },
  {
   "cell_type": "code",
   "execution_count": null,
   "metadata": {},
   "outputs": [],
   "source": [
    "plt.matshow(simulated_dataset.images[1].squeeze())"
   ]
  },
  {
   "cell_type": "code",
   "execution_count": null,
   "metadata": {},
   "outputs": [],
   "source": [
    "images = simulated_dataset.images\n",
    "subimage_slen = 11\n",
    "step = 5"
   ]
  },
  {
   "cell_type": "markdown",
   "metadata": {},
   "source": [
    "# Test batching off images"
   ]
  },
  {
   "cell_type": "code",
   "execution_count": null,
   "metadata": {},
   "outputs": [],
   "source": [
    "images_batched, tile_coords, nx_patches, ny_patches, n_patches = \\\n",
    "    image_utils.tile_images(images, subimage_slen, step, \n",
    "                            return_tile_coords=True)"
   ]
  },
  {
   "cell_type": "markdown",
   "metadata": {},
   "source": [
    "## Test tile coordinates "
   ]
  },
  {
   "cell_type": "code",
   "execution_count": null,
   "metadata": {},
   "outputs": [],
   "source": [
    "for i in range(images_batched.shape[0]):\n",
    "    \n",
    "    b = i // n_patches\n",
    "    \n",
    "    x0 = tile_coords[i, 0]\n",
    "    x1 = tile_coords[i, 1]\n",
    "    \n",
    "    foo = images[b].squeeze()[x0:(x0 + 11), x1:(x1 + 11)]\n",
    "\n",
    "    assert np.all(images_batched[i].squeeze() == foo)"
   ]
  },
  {
   "cell_type": "code",
   "execution_count": null,
   "metadata": {},
   "outputs": [],
   "source": []
  },
  {
   "cell_type": "code",
   "execution_count": null,
   "metadata": {},
   "outputs": [],
   "source": []
  },
  {
   "cell_type": "markdown",
   "metadata": {},
   "source": [
    "# Test extraction of parameters"
   ]
  },
  {
   "cell_type": "code",
   "execution_count": null,
   "metadata": {},
   "outputs": [],
   "source": [
    "subimage_locs, subimage_fluxes, n_stars = \\\n",
    "    image_utils.get_params_in_patches(tile_coords, \n",
    "                      simulated_dataset.locs, \n",
    "                      simulated_dataset.fluxes, \n",
    "                      slen, subimage_slen, \n",
    "                      n_patches)"
   ]
  },
  {
   "cell_type": "code",
   "execution_count": null,
   "metadata": {},
   "outputs": [],
   "source": [
    "# get reconstruction with the subimage parameters \n",
    "patch_simulator = simulated_datasets_lib.StarSimulator(psf_fit_file, \n",
    "                                                       subimage_slen, \n",
    "                                                       data_params['sky_intensity'])\n",
    "\n",
    "recon_means = patch_simulator.draw_image_from_params(subimage_locs, subimage_fluxes, \n",
    "                                                     n_stars, add_noise = False)"
   ]
  },
  {
   "cell_type": "code",
   "execution_count": null,
   "metadata": {},
   "outputs": [],
   "source": [
    "for i in range(10): \n",
    "    f, axarr = plt.subplots(1, 3, figsize=(16, 6))\n",
    "    indx = int(np.random.choice(images_batched.shape[0], 1))\n",
    "    \n",
    "    x0 = tile_coords[indx, 0].float()\n",
    "    x1 = tile_coords[indx, 1].float()\n",
    "    \n",
    "    which_nonzero = subimage_locs[indx, :, 0] > 0\n",
    "    \n",
    "    im1 = axarr[0].matshow(images_batched[indx].squeeze())\n",
    "    axarr[0].scatter(subimage_locs[indx, 0:n_stars[indx], 1] * (subimage_slen - 1), \n",
    "                subimage_locs[indx, 0:n_stars[indx], 0] * (subimage_slen - 1))\n",
    "    f.colorbar(im1, ax = axarr[0])\n",
    "    \n",
    "    axarr[0].set_title('n_stars: {}\\n'.format(n_stars[indx]))\n",
    "    \n",
    "    im2 = axarr[1].matshow(recon_means[indx].squeeze())\n",
    "    f.colorbar(im2, ax = axarr[1])\n",
    "    \n",
    "    im3 = axarr[2].matshow(images_batched[indx].squeeze() - recon_means[indx].squeeze())\n",
    "    f.colorbar(im3, ax = axarr[2])"
   ]
  },
  {
   "cell_type": "code",
   "execution_count": null,
   "metadata": {},
   "outputs": [],
   "source": []
  },
  {
   "cell_type": "code",
   "execution_count": null,
   "metadata": {},
   "outputs": [],
   "source": [
    "# Test our actual simulator "
   ]
  },
  {
   "cell_type": "code",
   "execution_count": null,
   "metadata": {},
   "outputs": [],
   "source": [
    "# data parameters\n",
    "with open('../data/default_star_parameters.json', 'r') as fp:\n",
    "    data_params = json.load(fp)\n",
    "\n",
    "data_params['slen'] = 101\n",
    "data_params['min_stars'] = 400\n",
    "data_params['max_stars'] = 400\n",
    "data_params['alpha'] = 0.5\n",
    "\n",
    "print(data_params)\n"
   ]
  },
  {
   "cell_type": "code",
   "execution_count": null,
   "metadata": {},
   "outputs": [],
   "source": [
    "simulated_dataset = simulated_datasets_lib.load_dataset_from_params(psf_fit_file, data_params, \n",
    "                                                n_images = 10,\n",
    "                                                add_noise = True)"
   ]
  },
  {
   "cell_type": "code",
   "execution_count": null,
   "metadata": {},
   "outputs": [],
   "source": [
    "plt.matshow(simulated_dataset.images[0].squeeze())"
   ]
  },
  {
   "cell_type": "code",
   "execution_count": null,
   "metadata": {},
   "outputs": [],
   "source": [
    "images_batched, tile_coords, nx_patches, ny_patches, n_patches = \\\n",
    "    image_utils.tile_images(simulated_dataset.images, subimage_slen, step, \n",
    "                                        return_tile_coords = True)"
   ]
  },
  {
   "cell_type": "code",
   "execution_count": null,
   "metadata": {},
   "outputs": [],
   "source": [
    "subimage_locs, subimage_fluxes, n_stars = \\\n",
    "    image_utils.get_params_in_patches(tile_coords, \n",
    "                                      simulated_dataset.locs, \n",
    "                                      simulated_dataset.fluxes, \n",
    "                                      slen, subimage_slen, n_patches)"
   ]
  },
  {
   "cell_type": "code",
   "execution_count": null,
   "metadata": {},
   "outputs": [],
   "source": [
    "for i in range(10): \n",
    "    indx = int(np.random.choice(images_batched.shape[0], 1))\n",
    "    \n",
    "    x0 = tile_coords[indx, 0].float()\n",
    "    x1 = tile_coords[indx, 1].float()\n",
    "    \n",
    "    which_nonzero = subimage_locs[indx, :, 0] > 0\n",
    "    \n",
    "    plt.matshow(images_batched[indx].squeeze())\n",
    "    plt.scatter(subimage_locs[indx, 0:n_stars[indx], 1] * (subimage_slen - 1), \n",
    "                subimage_locs[indx, 0:n_stars[indx], 0] * (subimage_slen - 1))\n"
   ]
  },
  {
   "cell_type": "code",
   "execution_count": null,
   "metadata": {},
   "outputs": [],
   "source": []
  }
 ],
 "metadata": {
  "kernelspec": {
   "display_name": "Python (pytorch_04)",
   "language": "python",
   "name": "pytorch_update"
  },
  "language_info": {
   "codemirror_mode": {
    "name": "ipython",
    "version": 3
   },
   "file_extension": ".py",
   "mimetype": "text/x-python",
   "name": "python",
   "nbconvert_exporter": "python",
   "pygments_lexer": "ipython3",
   "version": "3.6.8"
  }
 },
 "nbformat": 4,
 "nbformat_minor": 2
}
