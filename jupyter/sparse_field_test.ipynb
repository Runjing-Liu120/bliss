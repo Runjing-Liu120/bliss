{
 "cells": [
  {
   "cell_type": "code",
   "execution_count": null,
   "metadata": {},
   "outputs": [],
   "source": [
    "import numpy as np\n",
    "import torch\n",
    "\n",
    "import json\n",
    "\n",
    "import matplotlib.pyplot as plt\n",
    "\n",
    "import sys\n",
    "sys.path.insert(0, '../')\n",
    "import simulated_datasets_lib\n",
    "import sdss_dataset_lib\n",
    "import sdss_psf\n",
    "import image_utils \n",
    "\n",
    "import starnet_vae_lib\n",
    "import inv_kl_objective_lib as inv_kl_lib\n",
    "import plotting_utils\n",
    "import wake_sleep_lib\n",
    "\n",
    "import psf_transform_lib\n",
    "import image_statistics_lib\n",
    "\n",
    "np.random.seed(34534)"
   ]
  },
  {
   "cell_type": "code",
   "execution_count": null,
   "metadata": {},
   "outputs": [],
   "source": []
  },
  {
   "cell_type": "code",
   "execution_count": null,
   "metadata": {},
   "outputs": [],
   "source": []
  },
  {
   "cell_type": "markdown",
   "metadata": {},
   "source": [
    "# Load the data"
   ]
  },
  {
   "cell_type": "code",
   "execution_count": null,
   "metadata": {},
   "outputs": [],
   "source": [
    "f_min = 1000."
   ]
  },
  {
   "cell_type": "code",
   "execution_count": null,
   "metadata": {},
   "outputs": [],
   "source": [
    "bands = [2]\n",
    "run = 94\n",
    "camcol = 1\n",
    "field = 12"
   ]
  },
  {
   "cell_type": "code",
   "execution_count": null,
   "metadata": {},
   "outputs": [],
   "source": [
    "sdss_data = sdss_dataset_lib.SloanDigitalSkySurvey(sdssdir = '../../celeste_net/sdss_stage_dir/', \n",
    "                                      run = run, camcol = camcol, field = field)"
   ]
  },
  {
   "cell_type": "code",
   "execution_count": null,
   "metadata": {},
   "outputs": [],
   "source": [
    "x0 = 100\n",
    "x1 = 100\n",
    "slen = 501"
   ]
  },
  {
   "cell_type": "code",
   "execution_count": null,
   "metadata": {},
   "outputs": [],
   "source": [
    "image = torch.Tensor(sdss_data[0]['image'][0, x0:(x0 + slen), x1:(x1 + slen)])"
   ]
  },
  {
   "cell_type": "code",
   "execution_count": null,
   "metadata": {},
   "outputs": [],
   "source": [
    "background = torch.Tensor(sdss_data[0]['background'][0, x0:(x0 + slen), x1:(x1 + slen)])"
   ]
  },
  {
   "cell_type": "code",
   "execution_count": null,
   "metadata": {},
   "outputs": [],
   "source": [
    "plt.matshow(image)\n",
    "plt.colorbar()"
   ]
  },
  {
   "cell_type": "code",
   "execution_count": null,
   "metadata": {},
   "outputs": [],
   "source": []
  },
  {
   "cell_type": "markdown",
   "metadata": {},
   "source": [
    "# define VAEs"
   ]
  },
  {
   "cell_type": "code",
   "execution_count": null,
   "metadata": {},
   "outputs": [],
   "source": [
    "star_encoder1 = starnet_vae_lib.StarEncoder(full_slen = image.shape[-1],\n",
    "                                           stamp_slen = 7,\n",
    "                                           step = 2,\n",
    "                                           edge_padding = 2,\n",
    "                                           n_bands = len(bands),\n",
    "                                           max_detections = 2)"
   ]
  },
  {
   "cell_type": "code",
   "execution_count": null,
   "metadata": {},
   "outputs": [],
   "source": [
    "star_encoder1.load_state_dict(torch.load('../fits/results_11202019/starnet_r', \n",
    "                                       map_location=lambda storage, loc: storage))"
   ]
  },
  {
   "cell_type": "code",
   "execution_count": null,
   "metadata": {},
   "outputs": [],
   "source": [
    "star_encoder1.eval();"
   ]
  },
  {
   "cell_type": "code",
   "execution_count": null,
   "metadata": {},
   "outputs": [],
   "source": [
    "star_encoder2 = starnet_vae_lib.StarEncoder(full_slen = image.shape[-1],\n",
    "                                           stamp_slen = 7,\n",
    "                                           step = 2,\n",
    "                                           edge_padding = 2,\n",
    "                                           n_bands = len(bands),\n",
    "                                           max_detections = 2)"
   ]
  },
  {
   "cell_type": "code",
   "execution_count": null,
   "metadata": {},
   "outputs": [],
   "source": [
    "star_encoder2.load_state_dict(torch.load('../fits/results_11202019/wake-sleep_630x310_r-encoder-iter6', \n",
    "                                       map_location=lambda storage, loc: storage))"
   ]
  },
  {
   "cell_type": "code",
   "execution_count": null,
   "metadata": {},
   "outputs": [],
   "source": [
    "star_encoder2.eval();"
   ]
  },
  {
   "cell_type": "code",
   "execution_count": null,
   "metadata": {},
   "outputs": [],
   "source": []
  },
  {
   "cell_type": "code",
   "execution_count": null,
   "metadata": {},
   "outputs": [],
   "source": [
    "map_locs, map_fluxes, map_nstars = \\\n",
    "    star_encoder2.sample_star_encoder(image.unsqueeze(0).unsqueeze(0), \n",
    "                                 background.unsqueeze(0).unsqueeze(0), \n",
    "                                 return_map = True)[0:3]"
   ]
  },
  {
   "cell_type": "code",
   "execution_count": null,
   "metadata": {},
   "outputs": [],
   "source": [
    "plt.matshow(image)\n",
    "plt.scatter(map_locs.squeeze()[:, 1] * 500, \n",
    "            map_locs.squeeze()[:, 0] * 500, \n",
    "            color = 'r', marker = 'x')"
   ]
  },
  {
   "cell_type": "code",
   "execution_count": null,
   "metadata": {},
   "outputs": [],
   "source": [
    "fig, axarr = plt.subplots(2, 2, figsize=(8, 6.5))\n",
    "\n",
    "for i in range(4): \n",
    "    _x0 = int(np.random.choice(500, 1))\n",
    "    _x1 = int(np.random.choice(500, 1))\n",
    "    subimage_slen = 50\n",
    "    \n",
    "    plotting_utils.plot_subimage(axarr[i // 2, i % 2], image, \n",
    "                                         map_locs.squeeze(), \n",
    "                                         None, \n",
    "                                         _x0, \n",
    "                                         _x1, subimage_slen = 10, \n",
    "                                        add_colorbar = True, \n",
    "                                         global_fig = fig)"
   ]
  },
  {
   "cell_type": "code",
   "execution_count": null,
   "metadata": {},
   "outputs": [],
   "source": [
    "import fitsio"
   ]
  },
  {
   "cell_type": "code",
   "execution_count": null,
   "metadata": {},
   "outputs": [],
   "source": [
    "photo_name = \"photoObj-{:06d}-{:d}-{:04d}.fits\".format(run, camcol, field)"
   ]
  },
  {
   "cell_type": "code",
   "execution_count": null,
   "metadata": {},
   "outputs": [],
   "source": [
    "use_truth = True"
   ]
  },
  {
   "cell_type": "code",
   "execution_count": null,
   "metadata": {
    "code_folding": []
   },
   "outputs": [],
   "source": [
    "if use_truth: \n",
    "    fits_file = fitsio.FITS('coadd_field_catalog_runjing_liu_0.fit')[1]\n",
    "    ra = fits_file['ra'][:]\n",
    "    decl = fits_file['dec'][:]\n",
    "    \n",
    "    which_stars = np.argwhere(fits_file['probpsf'][:] == 1).squeeze()\n",
    "    which_galx = np.argwhere(fits_file['probpsf'][:] == 0).squeeze()\n",
    "    \n",
    "else: \n",
    "    fits_file = fitsio.FITS('../../celeste_net/sdss_stage_dir/' + str(run) + '/' + str(camcol) + '/' + str(field) + \n",
    "                            '/' + photo_name)[1]\n",
    "    \n",
    "    ra = fits_file['RA'][:]\n",
    "    decl = fits_file['DEC'][:]\n",
    "    \n",
    "    # see https://www.sdss.org/dr12/algorithms/classify/\n",
    "    which_stars = np.argwhere(fits_file['OBJC_TYPE'][:] == 6).squeeze()\n",
    "    which_galx = np.argwhere(fits_file['OBJC_TYPE'][:] == 3).squeeze()"
   ]
  },
  {
   "cell_type": "code",
   "execution_count": null,
   "metadata": {},
   "outputs": [],
   "source": []
  },
  {
   "cell_type": "code",
   "execution_count": null,
   "metadata": {},
   "outputs": [],
   "source": [
    "(ra.max(), ra.min())"
   ]
  },
  {
   "cell_type": "code",
   "execution_count": null,
   "metadata": {},
   "outputs": [],
   "source": [
    "(decl.max(), decl.min())"
   ]
  },
  {
   "cell_type": "code",
   "execution_count": null,
   "metadata": {},
   "outputs": [],
   "source": [
    "from astropy.io import fits\n",
    "from astropy.wcs import WCS"
   ]
  },
  {
   "cell_type": "code",
   "execution_count": null,
   "metadata": {},
   "outputs": [],
   "source": [
    "frame_name = \"frame-{}-{:06d}-{:d}-{:04d}.fits\".format('r', run, camcol, field)"
   ]
  },
  {
   "cell_type": "code",
   "execution_count": null,
   "metadata": {},
   "outputs": [],
   "source": [
    "hdulist = fits.open('../../celeste_net/sdss_stage_dir/' + str(run) + '/' + str(camcol) + '/' + str(field) + \\\n",
    "                        '/' + frame_name)\n",
    "wcs = WCS(hdulist['primary'].header)"
   ]
  },
  {
   "cell_type": "code",
   "execution_count": null,
   "metadata": {},
   "outputs": [],
   "source": []
  },
  {
   "cell_type": "code",
   "execution_count": null,
   "metadata": {},
   "outputs": [],
   "source": [
    "pix_coordinates = wcs.wcs_world2pix(ra, decl, 0, ra_dec_order = True)"
   ]
  },
  {
   "cell_type": "code",
   "execution_count": null,
   "metadata": {},
   "outputs": [],
   "source": [
    "_x0 = pix_coordinates[1]\n",
    "_x1 = pix_coordinates[0]\n",
    "\n",
    "def get_locs(_x0, _x1): \n",
    "    which_locs = (_x0 > x0) & (_x0 < (x0 + slen - 1)) & \\\n",
    "                (_x1 > x1) & (_x1 < (x1 + slen - 1))\n",
    "\n",
    "    _x0 = _x0[which_locs] - x0\n",
    "    _x1 = _x1[which_locs] - x1\n",
    "\n",
    "    return torch.Tensor([_x0, _x1]).transpose(0, 1) / (slen - 1)\n",
    "\n",
    "star_locs = get_locs(_x0[which_stars], _x1[which_stars])\n",
    "galaxy_locs = get_locs(_x0[which_galx], _x1[which_galx])"
   ]
  },
  {
   "cell_type": "code",
   "execution_count": null,
   "metadata": {},
   "outputs": [],
   "source": []
  },
  {
   "cell_type": "code",
   "execution_count": null,
   "metadata": {},
   "outputs": [],
   "source": []
  },
  {
   "cell_type": "code",
   "execution_count": null,
   "metadata": {},
   "outputs": [],
   "source": [
    "plt.matshow(image)\n",
    "plt.colorbar();\n",
    "\n",
    "plt.scatter(map_locs.squeeze()[:, 1] * 500, \n",
    "            map_locs.squeeze()[:, 0] * 500, \n",
    "            color = 'r', marker = 'x')\n",
    "\n",
    "plt.scatter(star_locs[:, 1] * 500, \n",
    "            star_locs[:, 0] * 500, \n",
    "            color = 'b', marker = 'x')\n",
    "\n",
    "plt.scatter(galaxy_locs[:, 1] * 500, \n",
    "            galaxy_locs[:, 0] * 500, \n",
    "            color = 'g', marker = 'x')\n",
    "\n"
   ]
  },
  {
   "cell_type": "code",
   "execution_count": null,
   "metadata": {},
   "outputs": [],
   "source": []
  },
  {
   "cell_type": "code",
   "execution_count": null,
   "metadata": {},
   "outputs": [],
   "source": [
    "fig, axarr = plt.subplots(1, 3, figsize=(24, 6))\n",
    "\n",
    "_x0 = int(np.random.choice(500, 1))\n",
    "_x1 = int(np.random.choice(500, 1))\n",
    "subimage_slen = 50\n",
    "    \n",
    "plotting_utils.plot_subimage(axarr[0], image, \n",
    "                                     map_locs.squeeze(), \n",
    "                                     star_locs, \n",
    "                                     _x0, \n",
    "                                     _x1, subimage_slen = subimage_slen, \n",
    "                                    add_colorbar = True, \n",
    "                                     global_fig = fig)\n",
    "\n",
    "\n",
    "plotting_utils.plot_subimage(axarr[1], image, \n",
    "                                     map_locs.squeeze(), \n",
    "                                     galaxy_locs, \n",
    "                                     _x0, \n",
    "                                     _x1, subimage_slen = subimage_slen, \n",
    "                                    add_colorbar = True, \n",
    "                                     global_fig = fig)\n"
   ]
  },
  {
   "cell_type": "code",
   "execution_count": null,
   "metadata": {},
   "outputs": [],
   "source": []
  },
  {
   "cell_type": "code",
   "execution_count": null,
   "metadata": {},
   "outputs": [],
   "source": []
  },
  {
   "cell_type": "code",
   "execution_count": null,
   "metadata": {},
   "outputs": [],
   "source": []
  },
  {
   "cell_type": "code",
   "execution_count": null,
   "metadata": {},
   "outputs": [],
   "source": []
  },
  {
   "cell_type": "code",
   "execution_count": null,
   "metadata": {},
   "outputs": [],
   "source": []
  },
  {
   "cell_type": "code",
   "execution_count": null,
   "metadata": {},
   "outputs": [],
   "source": []
  }
 ],
 "metadata": {
  "kernelspec": {
   "display_name": "Python (pytorch_04)",
   "language": "python",
   "name": "pytorch_update"
  },
  "language_info": {
   "codemirror_mode": {
    "name": "ipython",
    "version": 3
   },
   "file_extension": ".py",
   "mimetype": "text/x-python",
   "name": "python",
   "nbconvert_exporter": "python",
   "pygments_lexer": "ipython3",
   "version": "3.6.8"
  }
 },
 "nbformat": 4,
 "nbformat_minor": 2
}
