{
 "cells": [
  {
   "cell_type": "code",
   "execution_count": null,
   "metadata": {},
   "outputs": [],
   "source": [
    "import numpy as np\n",
    "import timeit\n",
    "\n",
    "import matplotlib.pyplot as plt\n",
    "\n",
    "import torch\n",
    "import torch.optim as optim\n",
    "\n",
    "import fitsio \n",
    "\n",
    "import sys\n",
    "sys.path.insert(0, './../')\n",
    "import sdss_psf\n",
    "import simulated_datasets_lib\n",
    "import starnet_vae_lib\n",
    "import sdss_dataset_lib\n",
    "import plotting_utils\n",
    "import image_statistics_lib\n",
    "import utils\n",
    "\n",
    "import inv_kl_objective_lib as inv_kl_lib\n",
    "\n",
    "import image_utils\n",
    "\n",
    "import time\n",
    "\n",
    "import json\n",
    "\n",
    "device = torch.device(\"cuda:0\" if torch.cuda.is_available() else \"cpu\")\n",
    "\n",
    "print('torch version: ', torch.__version__)\n",
    "\n",
    "from copy import deepcopy"
   ]
  },
  {
   "cell_type": "code",
   "execution_count": null,
   "metadata": {},
   "outputs": [],
   "source": [
    "np.random.seed(22)\n",
    "_ = torch.manual_seed(22)"
   ]
  },
  {
   "cell_type": "markdown",
   "metadata": {},
   "source": [
    "# Load data"
   ]
  },
  {
   "cell_type": "code",
   "execution_count": null,
   "metadata": {},
   "outputs": [],
   "source": [
    "sdss_hubble_data = sdss_dataset_lib.SDSSHubbleData(bands = [2, 3], \n",
    "                                                  background_bias = torch.Tensor([168., 222.]))"
   ]
  },
  {
   "cell_type": "code",
   "execution_count": null,
   "metadata": {},
   "outputs": [],
   "source": [
    "f_min = 1000."
   ]
  },
  {
   "cell_type": "code",
   "execution_count": null,
   "metadata": {},
   "outputs": [],
   "source": [
    "# the oberved data \n",
    "sdss_images_full = sdss_hubble_data.sdss_image.unsqueeze(0)\n",
    "\n",
    "# get true parameters\n",
    "backgrounds_full = sdss_hubble_data.sdss_background.unsqueeze(0)\n",
    "\n",
    "which_bright = sdss_hubble_data.fluxes[:, 0] > f_min\n",
    "true_full_locs = sdss_hubble_data.locs[which_bright].unsqueeze(0)\n",
    "true_full_fluxes = sdss_hubble_data.fluxes[which_bright].unsqueeze(0)"
   ]
  },
  {
   "cell_type": "code",
   "execution_count": null,
   "metadata": {},
   "outputs": [],
   "source": [
    "backgrounds_full.mean(-1).mean(-1)"
   ]
  },
  {
   "cell_type": "code",
   "execution_count": null,
   "metadata": {},
   "outputs": [],
   "source": [
    "# get PSFs \n",
    "psf_dir = '../data/'\n",
    "psf_r = fitsio.FITS(psf_dir + 'sdss-002583-2-0136-psf-r.fits')[0].read()\n",
    "psf_i = fitsio.FITS(psf_dir + 'sdss-002583-2-0136-psf-i.fits')[0].read()\n",
    "\n",
    "psf_og = np.array([psf_r, psf_i])\n",
    "sky_intensity = torch.Tensor([854., 1345.])"
   ]
  },
  {
   "cell_type": "code",
   "execution_count": null,
   "metadata": {},
   "outputs": [],
   "source": [
    "simulator = simulated_datasets_lib.StarSimulator(psf_og, sdss_images_full.shape[-1], \n",
    "                                                 sky_intensity, \n",
    "                                                 transpose_psf = False)"
   ]
  },
  {
   "cell_type": "code",
   "execution_count": null,
   "metadata": {},
   "outputs": [],
   "source": []
  },
  {
   "cell_type": "markdown",
   "metadata": {},
   "source": [
    "# Load VAE"
   ]
  },
  {
   "cell_type": "code",
   "execution_count": null,
   "metadata": {},
   "outputs": [],
   "source": [
    "star_encoder = starnet_vae_lib.StarEncoder(full_slen = sdss_images_full.shape[-1], \n",
    "                                            stamp_slen = 7,\n",
    "                                            step = 2,\n",
    "                                            edge_padding = 2, \n",
    "                                            n_bands = 2,\n",
    "                                            max_detections = 2)"
   ]
  },
  {
   "cell_type": "code",
   "execution_count": null,
   "metadata": {},
   "outputs": [],
   "source": [
    "star_encoder.load_state_dict(torch.load('../fits/results_2020-01-21/starnet_ri',\n",
    "                               map_location=lambda storage, loc: storage))\n",
    "star_encoder.eval(); "
   ]
  },
  {
   "cell_type": "markdown",
   "metadata": {},
   "source": [
    "# OK first, let us check results on data simulated using hubble parameters"
   ]
  },
  {
   "cell_type": "code",
   "execution_count": null,
   "metadata": {},
   "outputs": [],
   "source": [
    "# simulate data using hubble parameters\n",
    "# two options for here: can either draw from bright stars only or all the stars\n",
    "\n",
    "# sim_images_full = simulator.draw_image_from_params(locs = sdss_hubble_data.locs.unsqueeze(0), \n",
    "#                         fluxes = sdss_hubble_data.fluxes.unsqueeze(0), \n",
    "#                         n_stars = torch.Tensor([len(sdss_hubble_data.locs)]).type(torch.LongTensor), \n",
    "#                         add_noise = True) \n",
    "\n",
    "sim_images_full = simulator.draw_image_from_params(locs = true_full_locs,\n",
    "                        fluxes = true_full_fluxes,\n",
    "                        n_stars = torch.Tensor([true_full_locs.shape[1]]).type(torch.LongTensor), \n",
    "                        add_noise = True) "
   ]
  },
  {
   "cell_type": "code",
   "execution_count": null,
   "metadata": {},
   "outputs": [],
   "source": [
    "# check residuals"
   ]
  },
  {
   "cell_type": "code",
   "execution_count": null,
   "metadata": {},
   "outputs": [],
   "source": [
    "band = 0"
   ]
  },
  {
   "cell_type": "code",
   "execution_count": null,
   "metadata": {},
   "outputs": [],
   "source": [
    "f, axarr = plt.subplots(1, 3, figsize=(16, 6))\n",
    "\n",
    "im0 = axarr[0].matshow(sdss_images_full[0, band]); \n",
    "f.colorbar(im0, ax = axarr[0])\n",
    "axarr[0].set_title('true sdss image')\n",
    "\n",
    "im1 = axarr[1].matshow(sim_images_full[0, band]); \n",
    "f.colorbar(im1, ax = axarr[1])\n",
    "axarr[1].set_title('simulated sdss image')\n",
    "\n",
    "\n",
    "residual = torch.log10(sim_images_full[0, band]) - torch.log10(sdss_images_full[0, band])\n",
    "vmax = residual[10:90, 10:90].abs().max()\n",
    "im2 = axarr[2].matshow(residual[10:90, 10:90], vmax = vmax, vmin = -vmax, cmap=plt.get_cmap('bwr')); \n",
    "f.colorbar(im2, ax = axarr[2])\n",
    "axarr[2].set_title('residual')"
   ]
  },
  {
   "cell_type": "markdown",
   "metadata": {},
   "source": [
    "## Check loss"
   ]
  },
  {
   "cell_type": "code",
   "execution_count": null,
   "metadata": {},
   "outputs": [],
   "source": [
    "# check loss \n",
    "loss, counter_loss, locs_loss, fluxes_loss, perm_indx = \\\n",
    "    inv_kl_lib.get_encoder_loss(star_encoder, sim_images_full, backgrounds_full, \n",
    "                                true_full_locs, true_full_fluxes)[0:5]"
   ]
  },
  {
   "cell_type": "code",
   "execution_count": null,
   "metadata": {},
   "outputs": [],
   "source": [
    "print('loss: {:06f}'.format(loss))"
   ]
  },
  {
   "cell_type": "code",
   "execution_count": null,
   "metadata": {},
   "outputs": [],
   "source": [
    "print(counter_loss.mean())\n",
    "print(locs_loss.mean())\n",
    "print(fluxes_loss.mean())"
   ]
  },
  {
   "cell_type": "markdown",
   "metadata": {},
   "source": [
    "## Check reconstructions"
   ]
  },
  {
   "cell_type": "code",
   "execution_count": null,
   "metadata": {},
   "outputs": [],
   "source": [
    "# get parameters on the simulated image \n",
    "map_locs_sim_image, map_fluxes_sim_image, map_n_stars_sim_image = \\\n",
    "        star_encoder.sample_star_encoder(sim_images_full, backgrounds_full, \n",
    "                                        return_map_n_stars = True, \n",
    "                                        return_map_star_params = True)[0:3]"
   ]
  },
  {
   "cell_type": "code",
   "execution_count": null,
   "metadata": {},
   "outputs": [],
   "source": [
    "# OK this is silly but lets try this: \n",
    "from torch import nn\n",
    "class EstimateFluxes(nn.Module): \n",
    "    def __init__(self, observed_image, slen, locs, \n",
    "                         psf, sky_intensity, init_fluxes): \n",
    "        \n",
    "        super(EstimateFluxes, self).__init__()\n",
    "        \n",
    "        assert len(locs.shape) == 2\n",
    "        assert len(init_fluxes.shape) == 2\n",
    "        assert locs.shape[0] == init_fluxes.shape[0]\n",
    "        assert len(observed_image.shape) == 3\n",
    "        \n",
    "        self.n_bands = psf.shape[0]\n",
    "        assert observed_image.shape[0] == self.n_bands        \n",
    "        assert init_fluxes.shape[1] == self.n_bands\n",
    "        assert len(sky_intensity) == self.n_bands\n",
    "        \n",
    "        self.observed_image = observed_image \n",
    "        \n",
    "        self.sky_intensity = sky_intensity\n",
    "        \n",
    "        self.star_basis = simulated_datasets_lib.plot_one_star(slen, locs, psf)\n",
    "            \n",
    "        self.log_flux = nn.Parameter(torch.log(init_fluxes).clone())\n",
    "        \n",
    "    def forward(self): \n",
    "        return (torch.exp(self.log_flux[:, :, None, None]) * flux_estimator.star_basis).sum(0)\n",
    "    \n",
    "    def get_loss(self): \n",
    "        recon_mean = self.forward() + self.sky_intensity[:, None, None]\n",
    "        return ((self.observed_image - recon_mean)**2 / recon_mean).mean()\n",
    "    \n",
    "    def optimize(self): \n",
    "        optimizer = optim.LBFGS(self.parameters())\n",
    "        \n",
    "        def closure():\n",
    "            optimizer.zero_grad()\n",
    "            loss = self.get_loss()\n",
    "            loss.backward()\n",
    "            return loss\n",
    "        \n",
    "        optimizer.step(closure)"
   ]
  },
  {
   "cell_type": "code",
   "execution_count": null,
   "metadata": {},
   "outputs": [],
   "source": [
    "flux_estimator.sky_intensity"
   ]
  },
  {
   "cell_type": "code",
   "execution_count": null,
   "metadata": {},
   "outputs": [],
   "source": [
    "if True: \n",
    "    flux_estimator = EstimateFluxes(sim_images_full.squeeze(0), \n",
    "                            star_encoder.full_slen, \n",
    "                            map_locs_sim_image.squeeze(0), \n",
    "                            simulator.psf, \n",
    "                            sky_intensity, \n",
    "                            map_fluxes_sim_image.squeeze(0))\n",
    "    \n",
    "    print(flux_estimator.get_loss())\n",
    "    flux_estimator.optimize()\n",
    "    print(flux_estimator.get_loss())\n",
    "    map_fluxes_sim_image = torch.exp(flux_estimator.log_flux.data.unsqueeze(0))"
   ]
  },
  {
   "cell_type": "code",
   "execution_count": null,
   "metadata": {},
   "outputs": [],
   "source": [
    "plt.hist(torch.log10(map_fluxes_sim_image[0, :, 0]))"
   ]
  },
  {
   "cell_type": "code",
   "execution_count": null,
   "metadata": {},
   "outputs": [],
   "source": [
    "# get reconstructed mean\n",
    "vae_recon_mean = simulator.draw_image_from_params(locs = map_locs_sim_image, \n",
    "                                                fluxes = map_fluxes_sim_image,\n",
    "                                                 n_stars = map_n_stars_sim_image, \n",
    "                                                 add_noise = False).detach()"
   ]
  },
  {
   "cell_type": "code",
   "execution_count": null,
   "metadata": {},
   "outputs": [],
   "source": [
    "band"
   ]
  },
  {
   "cell_type": "code",
   "execution_count": null,
   "metadata": {},
   "outputs": [],
   "source": [
    "fig, axarr = plt.subplots(1, 3, figsize=(15, 4))\n",
    "im0 = axarr[0].matshow(sim_images_full[0, band][5:95, 5:95])\n",
    "fig.colorbar(im0, ax = axarr[0])\n",
    "\n",
    "im1 = axarr[1].matshow(vae_recon_mean[0, band][5:95, 5:95])\n",
    "fig.colorbar(im1, ax = axarr[1])\n",
    "\n",
    "residual = torch.log10(vae_recon_mean[0, band]) - torch.log10(sim_images_full[0, band])\n",
    "_residual = (residual * 2.5)[5:95, 5:95]\n",
    "# (torch.log(vae_recon_mean.squeeze()) - torch.log(images_full.squeeze()))[10:90, 10:90]\n",
    "vmax = _residual.abs().max()\n",
    "im2 = axarr[2].matshow(_residual, vmax = vmax, vmin = -vmax, cmap=plt.get_cmap('bwr'))\n",
    "fig.colorbar(im2, ax = axarr[2])"
   ]
  },
  {
   "cell_type": "code",
   "execution_count": null,
   "metadata": {},
   "outputs": [],
   "source": [
    "((vae_recon_mean[0, band, 5:95, 5:95] - sim_images_full[0, band, 5:95, 5:95])**2).sum()"
   ]
  },
  {
   "cell_type": "code",
   "execution_count": null,
   "metadata": {},
   "outputs": [],
   "source": [
    "def get_which_tile(x0, x1, tile_coords, edge_padding, stamp_slen): \n",
    "    coords = tile_coords + edge_padding\n",
    "    \n",
    "    view_slen = stamp_slen - 2 * edge_padding\n",
    "    \n",
    "    indx = torch.where((x0 > coords[:, 0]) & \\\n",
    "                       (x0 < coords[:, 0] + view_slen) & \\\n",
    "                       (x1 > coords[:, 1]) & \\\n",
    "                       (x1 < coords[:, 1] + view_slen))\n",
    "        \n",
    "    return tile_coords[indx], indx"
   ]
  },
  {
   "cell_type": "code",
   "execution_count": null,
   "metadata": {},
   "outputs": [],
   "source": [
    "get_which_tile(70, 58, star_encoder.tile_coords, star_encoder.edge_padding, star_encoder.stamp_slen)"
   ]
  },
  {
   "cell_type": "code",
   "execution_count": null,
   "metadata": {},
   "outputs": [],
   "source": [
    "f, axarr = plt.subplots(1, 3, figsize=(16, 4))\n",
    "\n",
    "indx = 1611 # int(np.random.choice(star_encoder.tile_coords.shape[0], 1))\n",
    "\n",
    "plotting_utils.plot_subimage(axarr[0], sim_images_full[0, band],\n",
    "                            map_locs_sim_image.squeeze(), \n",
    "                            true_full_locs.squeeze(), \n",
    "                            int(star_encoder.tile_coords[indx, 0]), \n",
    "                            int(star_encoder.tile_coords[indx, 1]), \n",
    "                            subimage_slen = star_encoder.stamp_slen, \n",
    "                            add_colorbar = True, \n",
    "                            global_fig = f)\n",
    "\n",
    "plotting_utils.plot_subimage(axarr[1], vae_recon_mean[0, band],\n",
    "                            map_locs_sim_image.squeeze(), \n",
    "                            None, \n",
    "                            int(star_encoder.tile_coords[indx, 0]), \n",
    "                            int(star_encoder.tile_coords[indx, 1]), \n",
    "                            subimage_slen = star_encoder.stamp_slen, \n",
    "                            add_colorbar = True, \n",
    "                            global_fig = f)\n",
    "\n",
    "foo = torch.log10(vae_recon_mean[0, band]) - torch.log10(sim_images_full[0, band])\n",
    "plotting_utils.plot_subimage(axarr[2], foo * 2.5, \n",
    "                            map_locs_sim_image.squeeze(), \n",
    "                            None, \n",
    "                            int(star_encoder.tile_coords[indx, 0]), \n",
    "                            int(star_encoder.tile_coords[indx, 1]), \n",
    "                            subimage_slen = star_encoder.stamp_slen, \n",
    "                            add_colorbar = True, \n",
    "                            global_fig = f, \n",
    "                            diverging_cmap = True)\n",
    "\n",
    "axarr[0].axvline(x=2, color = 'r')\n",
    "axarr[0].axvline(x=4, color = 'r')\n",
    "axarr[0].axhline(y=2, color = 'r')\n",
    "axarr[0].axhline(y=4, color = 'r')\n",
    "\n",
    "axarr[1].axvline(x=2, color = 'r')\n",
    "axarr[1].axvline(x=4, color = 'r')\n",
    "axarr[1].axhline(y=2, color = 'r')\n",
    "axarr[1].axhline(y=4, color = 'r')"
   ]
  },
  {
   "cell_type": "markdown",
   "metadata": {},
   "source": [
    "## Check summary statistics"
   ]
  },
  {
   "cell_type": "code",
   "execution_count": null,
   "metadata": {},
   "outputs": [],
   "source": [
    "n_elect_per_nmgy = sdss_hubble_data.nelec_per_nmgy.mean()"
   ]
  },
  {
   "cell_type": "code",
   "execution_count": null,
   "metadata": {},
   "outputs": [],
   "source": [
    "completeness, tpr, completeness_bool, tpr_bool = \\\n",
    "    image_statistics_lib.get_summary_stats(map_locs_sim_image.squeeze(), \n",
    "                                           true_full_locs.squeeze(), \n",
    "                                           star_encoder.full_slen, \n",
    "                                           map_fluxes_sim_image.squeeze(0)[:, 0], \n",
    "                                           true_full_fluxes.squeeze(0)[:, 0], \n",
    "                                          n_elect_per_nmgy)\n",
    "    \n",
    "print('completeness: {:0.3f}'.format(completeness))\n",
    "print('true positive rate: {:0.3f}'.format(tpr))"
   ]
  },
  {
   "cell_type": "code",
   "execution_count": null,
   "metadata": {},
   "outputs": [],
   "source": [
    "true_locs, true_fluxes = image_statistics_lib.filter_params(true_full_locs.squeeze(),\n",
    "                                                    true_full_fluxes.squeeze(0)[:, 0], 101, 5)\n",
    "\n",
    "true_mags = image_statistics_lib.convert_nmgy_to_mag(true_fluxes / n_elect_per_nmgy)"
   ]
  },
  {
   "cell_type": "code",
   "execution_count": null,
   "metadata": {},
   "outputs": [],
   "source": [
    "bool_indx = ((completeness_bool == 0) & \\\n",
    "    (true_mags >= 16.) & \\\n",
    "    (true_mags <= 16.5))    "
   ]
  },
  {
   "cell_type": "code",
   "execution_count": null,
   "metadata": {},
   "outputs": [],
   "source": [
    "bool_indx.sum()"
   ]
  },
  {
   "cell_type": "code",
   "execution_count": null,
   "metadata": {},
   "outputs": [],
   "source": [
    "true_locs[bool_indx]"
   ]
  },
  {
   "cell_type": "code",
   "execution_count": null,
   "metadata": {},
   "outputs": [],
   "source": [
    "completeness_vec, mag_vec = \\\n",
    "    image_statistics_lib.get_completeness_vec(map_locs_sim_image.squeeze(), \n",
    "                                           true_full_locs.squeeze(), \n",
    "                                           star_encoder.full_slen, \n",
    "                                           map_fluxes_sim_image.squeeze(0)[:, 0], \n",
    "                                           true_full_fluxes.squeeze(0)[:, 0], \n",
    "                                             n_elect_per_nmgy)[0:2]\n",
    "\n",
    "plt.plot(mag_vec[0:-1], completeness_vec, '--x', label = 'sim')\n",
    "plt.xlabel('true log flux')\n",
    "plt.ylabel('completeness')\n"
   ]
  },
  {
   "cell_type": "code",
   "execution_count": null,
   "metadata": {},
   "outputs": [],
   "source": [
    "tpr_vec, mag_vec = \\\n",
    "    image_statistics_lib.get_tpr_vec(map_locs_sim_image.squeeze(), \n",
    "                                           true_full_locs.squeeze(), \n",
    "                                           star_encoder.full_slen, \n",
    "                                           map_fluxes_sim_image.squeeze(0)[:, 0], \n",
    "                                           true_full_fluxes.squeeze(0)[:, 0], \n",
    "                                    n_elect_per_nmgy)[0:2]\n"
   ]
  },
  {
   "cell_type": "code",
   "execution_count": null,
   "metadata": {},
   "outputs": [],
   "source": [
    "plt.plot(mag_vec[0:-1], tpr_vec, '--x', label = 'sim')\n",
    "plt.xlabel('est magnitude')\n",
    "plt.ylabel('tpr')\n"
   ]
  },
  {
   "cell_type": "code",
   "execution_count": null,
   "metadata": {},
   "outputs": [],
   "source": []
  }
 ],
 "metadata": {
  "kernelspec": {
   "display_name": "pytorch_update",
   "language": "python",
   "name": "pytorch_update"
  },
  "language_info": {
   "codemirror_mode": {
    "name": "ipython",
    "version": 3
   },
   "file_extension": ".py",
   "mimetype": "text/x-python",
   "name": "python",
   "nbconvert_exporter": "python",
   "pygments_lexer": "ipython3",
   "version": "3.6.8"
  }
 },
 "nbformat": 4,
 "nbformat_minor": 2
}
