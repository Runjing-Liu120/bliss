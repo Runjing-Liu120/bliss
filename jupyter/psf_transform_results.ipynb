{
 "cells": [
  {
   "cell_type": "code",
   "execution_count": null,
   "metadata": {},
   "outputs": [],
   "source": [
    "import numpy as np\n",
    "\n",
    "import torch\n",
    "import torch.optim as optim\n",
    "import matplotlib.pyplot as plt\n",
    "\n",
    "import sys\n",
    "sys.path.insert(0, '../')\n",
    "\n",
    "import sdss_dataset_lib\n",
    "import simulated_datasets_lib\n",
    "import starnet_vae_lib\n",
    "import kl_objective_lib\n",
    "\n",
    "from psf_transform_lib import PsfLocalTransform, get_psf_transform_loss\n",
    "\n",
    "import time\n",
    "\n",
    "device = torch.device(\"cuda:0\" if torch.cuda.is_available() else \"cpu\")\n",
    "print('device: ', device)\n",
    "\n",
    "print('torch version: ', torch.__version__)\n"
   ]
  },
  {
   "cell_type": "markdown",
   "metadata": {},
   "source": [
    "# Load data"
   ]
  },
  {
   "cell_type": "code",
   "execution_count": null,
   "metadata": {},
   "outputs": [],
   "source": [
    "sdss_hubble_data = sdss_dataset_lib.SDSSHubbleData(\n",
    "                                    sdssdir='../../celeste_net/sdss_stage_dir/',\n",
    "                                    hubble_cat_file = '../hubble_data/NCG7089/' + \\\n",
    "                                        'hlsp_acsggct_hst_acs-wfc_ngc7089_r.rdviq.cal.adj.zpt.txt', \n",
    "                                    )\n"
   ]
  },
  {
   "cell_type": "code",
   "execution_count": null,
   "metadata": {},
   "outputs": [],
   "source": [
    "# image\n",
    "full_image = sdss_hubble_data.sdss_image.unsqueeze(0).to(device)\n",
    "full_background = sdss_hubble_data.sdss_background.unsqueeze(0).to(device)\n",
    "\n",
    "# true parameters\n",
    "true_full_locs = sdss_hubble_data.locs.unsqueeze(0).to(device)\n",
    "true_full_fluxes = sdss_hubble_data.fluxes.unsqueeze(0).to(device)\n"
   ]
  },
  {
   "cell_type": "code",
   "execution_count": null,
   "metadata": {},
   "outputs": [],
   "source": [
    "# original simulator\n",
    "simulator1 = simulated_datasets_lib.StarSimulator(\n",
    "                    psf_fit_file=str(sdss_hubble_data.psf_file),\n",
    "                    slen = full_image.shape[-1],\n",
    "                    sky_intensity = 0.)\n",
    "\n",
    "# simulator that we will edit with the trained psf\n",
    "simulator2 = simulated_datasets_lib.StarSimulator(\n",
    "                    psf_fit_file=str(sdss_hubble_data.psf_file),\n",
    "                    slen = full_image.shape[-1],\n",
    "                    sky_intensity = 0.)\n"
   ]
  },
  {
   "cell_type": "code",
   "execution_count": null,
   "metadata": {},
   "outputs": [],
   "source": []
  },
  {
   "cell_type": "code",
   "execution_count": null,
   "metadata": {},
   "outputs": [],
   "source": [
    "# define transform\n",
    "psf_transform = PsfLocalTransform(torch.Tensor(simulator1.psf_og),\n",
    "                                    simulator1.slen,\n",
    "                                    kernel_size = 3)"
   ]
  },
  {
   "cell_type": "code",
   "execution_count": null,
   "metadata": {},
   "outputs": [],
   "source": [
    "# load trained transform\n",
    "psf_transform.load_state_dict(torch.load('../fits/wake_sleep-portm2-101420129-psf_transform-iter2', \n",
    "                                         map_location=lambda storage, loc: storage))"
   ]
  },
  {
   "cell_type": "code",
   "execution_count": null,
   "metadata": {},
   "outputs": [],
   "source": [
    "# load vae\n",
    "star_encoder = starnet_vae_lib.StarEncoder(full_slen = full_image.shape[-1],\n",
    "                                           stamp_slen = 9,\n",
    "                                           step = 2,\n",
    "                                           edge_padding = 3,\n",
    "                                           n_bands = 1,\n",
    "                                           max_detections = 4)\n"
   ]
  },
  {
   "cell_type": "code",
   "execution_count": null,
   "metadata": {},
   "outputs": [],
   "source": [
    "# get variational parameters \n",
    "\n",
    "_, subimage_locs, subimage_fluxes, _, _ = \\\n",
    "    star_encoder.get_image_stamps(full_image, true_full_locs, true_full_fluxes,\n",
    "                                        trim_images = False)\n",
    "    \n"
   ]
  },
  {
   "cell_type": "code",
   "execution_count": null,
   "metadata": {},
   "outputs": [],
   "source": [
    "# get original recon mean\n",
    "recon_means1, loss1 = get_psf_transform_loss(full_image, full_background,\n",
    "                                subimage_locs,\n",
    "                                subimage_fluxes,\n",
    "                                star_encoder.tile_coords,\n",
    "                                star_encoder.stamp_slen,\n",
    "                                star_encoder.edge_padding,\n",
    "                                simulator1,\n",
    "                                psf_transform = None)\n",
    "print(loss1)"
   ]
  },
  {
   "cell_type": "code",
   "execution_count": null,
   "metadata": {},
   "outputs": [],
   "source": [
    "# get original recon mean\n",
    "recon_means2, loss2 = get_psf_transform_loss(full_image, full_background,\n",
    "                                subimage_locs,\n",
    "                                subimage_fluxes,\n",
    "                                star_encoder.tile_coords,\n",
    "                                star_encoder.stamp_slen,\n",
    "                                star_encoder.edge_padding,\n",
    "                                simulator2,\n",
    "                                psf_transform = psf_transform)\n",
    "\n",
    "print(loss2)"
   ]
  },
  {
   "cell_type": "code",
   "execution_count": null,
   "metadata": {},
   "outputs": [],
   "source": [
    "simulator1.psf.sum()"
   ]
  },
  {
   "cell_type": "code",
   "execution_count": null,
   "metadata": {},
   "outputs": [],
   "source": [
    "simulator2.psf.sum()"
   ]
  },
  {
   "cell_type": "code",
   "execution_count": null,
   "metadata": {},
   "outputs": [],
   "source": [
    "plt.matshow((simulator1.psf - simulator2.psf.detach())[40:60, 40:60])\n",
    "plt.colorbar()"
   ]
  },
  {
   "cell_type": "code",
   "execution_count": null,
   "metadata": {},
   "outputs": [],
   "source": [
    "residual1 = torch.log10(recon_means1 / full_image)[0, 0, 5:95, 5:95]\n",
    "residual2 = torch.log10(recon_means2 / full_image).detach()[0, 0, 5:95, 5:95]"
   ]
  },
  {
   "cell_type": "code",
   "execution_count": null,
   "metadata": {},
   "outputs": [],
   "source": [
    "fig, axarr = plt.subplots(1, 3, figsize=(15, 4))\n",
    "\n",
    "vmax = residual1.abs().max()\n",
    "im0 = axarr[0].matshow(residual1.squeeze(), \n",
    "                      vmax = vmax, vmin = -vmax, cmap=plt.get_cmap('bwr'))\n",
    "fig.colorbar(im0, ax=axarr[0])\n",
    "\n",
    "vmax = residual2.abs().max()\n",
    "im1 = axarr[1].matshow(residual2.squeeze(), \n",
    "                      vmax = vmax, vmin = -vmax, cmap=plt.get_cmap('bwr'))\n",
    "fig.colorbar(im1, ax=axarr[1])\n",
    "\n",
    "axarr[2].matshow(full_image.squeeze()[5:95, 5:95])"
   ]
  },
  {
   "cell_type": "code",
   "execution_count": null,
   "metadata": {},
   "outputs": [],
   "source": [
    "fig, axarr = plt.subplots(1, 3, figsize=(15, 4))\n",
    "\n",
    "im0 = axarr[0].matshow(full_image.squeeze())\n",
    "fig.colorbar(im0, ax=axarr[0])\n",
    "axarr[0].set_title('observed sdss image\\n')\n",
    "\n",
    "im1 = axarr[1].matshow(recon_means1.squeeze())\n",
    "fig.colorbar(im1, ax=axarr[1])\n",
    "axarr[1].set_title('simulated image\\n')\n",
    "\n",
    "\n",
    "im2 = axarr[2].matshow(residual1.squeeze(), \n",
    "                vmax = vmax, vmin = -vmax, cmap=plt.get_cmap('bwr'))\n",
    "fig.colorbar(im2, ax=axarr[2])\n",
    "axarr[2].set_title('residual: (observed - simulated)/observed \\n')\n",
    "\n",
    "\n"
   ]
  },
  {
   "cell_type": "code",
   "execution_count": null,
   "metadata": {},
   "outputs": [],
   "source": [
    "fig, axarr = plt.subplots(1, 2, figsize=(10, 4))\n",
    "\n",
    "\n",
    "vmax = residual1.abs().max()\n",
    "im0 = axarr[0].matshow(residual1.squeeze(), \n",
    "                      vmax = vmax, vmin = -vmax, cmap=plt.get_cmap('bwr'))\n",
    "fig.colorbar(im0, ax=axarr[0])\n",
    "\n",
    "vmax = residual2.abs().max()\n",
    "im1 = axarr[1].matshow(residual2.squeeze(), \n",
    "                      vmax = vmax, vmin = -vmax, cmap=plt.get_cmap('bwr'))\n",
    "fig.colorbar(im1, ax=axarr[1])\n",
    "\n",
    "# axarr[2].matshow(full_image.squeeze()[5:95, 5:95])"
   ]
  },
  {
   "cell_type": "code",
   "execution_count": null,
   "metadata": {},
   "outputs": [],
   "source": []
  },
  {
   "cell_type": "code",
   "execution_count": null,
   "metadata": {},
   "outputs": [],
   "source": [
    "plt.matshow(residual1.squeeze()[20:30, 49:59], vmax = vmax, vmin = -vmax, cmap=plt.get_cmap('bwr'))"
   ]
  },
  {
   "cell_type": "code",
   "execution_count": null,
   "metadata": {},
   "outputs": [],
   "source": [
    "plt.matshow(residual2.squeeze()[20:30, 49:59], vmax = vmax, vmin = -vmax, cmap=plt.get_cmap('bwr'))"
   ]
  },
  {
   "cell_type": "code",
   "execution_count": null,
   "metadata": {},
   "outputs": [],
   "source": []
  }
 ],
 "metadata": {
  "kernelspec": {
   "display_name": "Python (pytorch_04)",
   "language": "python",
   "name": "pytorch_update"
  },
  "language_info": {
   "codemirror_mode": {
    "name": "ipython",
    "version": 3
   },
   "file_extension": ".py",
   "mimetype": "text/x-python",
   "name": "python",
   "nbconvert_exporter": "python",
   "pygments_lexer": "ipython3",
   "version": "3.6.8"
  }
 },
 "nbformat": 4,
 "nbformat_minor": 2
}
