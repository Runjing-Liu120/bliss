{
 "cells": [
  {
   "cell_type": "code",
   "execution_count": null,
   "metadata": {},
   "outputs": [],
   "source": [
    "import numpy as np\n",
    "import torch\n",
    "\n",
    "import json\n",
    "\n",
    "import matplotlib.pyplot as plt\n",
    "\n",
    "import sys\n",
    "sys.path.insert(0, '../')\n",
    "import simulated_datasets_lib\n",
    "import sdss_psf\n",
    "import image_utils \n",
    "\n",
    "import plotting_utils\n",
    "\n",
    "np.random.seed(34534)"
   ]
  },
  {
   "cell_type": "markdown",
   "metadata": {},
   "source": [
    "# Load the data"
   ]
  },
  {
   "cell_type": "code",
   "execution_count": null,
   "metadata": {},
   "outputs": [],
   "source": [
    "psf_fit_file = '../../celeste_net/sdss_stage_dir/2583/2/136/psField-002583-2-0136.fit'"
   ]
  },
  {
   "cell_type": "code",
   "execution_count": null,
   "metadata": {},
   "outputs": [],
   "source": [
    "full_image = np.loadtxt('../../multiband_pcat/Data/sdss_simulated/cts/sdss_simulated-ctsr.txt')"
   ]
  },
  {
   "cell_type": "code",
   "execution_count": null,
   "metadata": {},
   "outputs": [],
   "source": [
    "full_image = torch.Tensor(full_image)"
   ]
  },
  {
   "cell_type": "code",
   "execution_count": null,
   "metadata": {},
   "outputs": [],
   "source": [
    "plt.matshow(full_image.squeeze())\n",
    "plt.colorbar()"
   ]
  },
  {
   "cell_type": "code",
   "execution_count": null,
   "metadata": {},
   "outputs": [],
   "source": [
    "# true parameters \n",
    "\n",
    "true_params = np.load('../../multiband_pcat/Data/sdss_simulated/true_params.npz')\n",
    "true_params.keys()"
   ]
  },
  {
   "cell_type": "code",
   "execution_count": null,
   "metadata": {},
   "outputs": [],
   "source": [
    "true_locs = torch.Tensor(true_params['true_locs'].squeeze() * (full_image.shape[-1] - 1))"
   ]
  },
  {
   "cell_type": "markdown",
   "metadata": {},
   "source": [
    "# Load results"
   ]
  },
  {
   "cell_type": "code",
   "execution_count": null,
   "metadata": {},
   "outputs": [],
   "source": [
    "results_dir = '../../multiband_pcat/pcat-lion-results/20190930-194553/'\n",
    "\n",
    "chain_results = np.load(results_dir + 'chain.npz')"
   ]
  },
  {
   "cell_type": "code",
   "execution_count": null,
   "metadata": {},
   "outputs": [],
   "source": [
    "include_classical_catalogue = True\n",
    "\n",
    "if include_classical_catalogue: \n",
    "    pcat_catalog = np.loadtxt(results_dir + 'classical_catalog.txt')\n",
    "    \n",
    "    x1_loc = pcat_catalog[:, 0]\n",
    "    x0_loc = pcat_catalog[:, 2]\n",
    "        \n",
    "    fluxes = pcat_catalog[:, 4]\n",
    "    \n",
    "    # remove na\n",
    "    is_na = np.isnan(x1_loc) | np.isnan(x1_loc) | np.isnan(fluxes)\n",
    "    \n",
    "    x1_loc = x1_loc[~is_na]\n",
    "    x0_loc = x0_loc[~is_na]\n",
    "    fluxes = fluxes[~is_na]\n",
    "    \n",
    "    portillos_est_locs = torch.Tensor([x0_loc, x1_loc]).transpose(0,1)\n",
    "    portillos_est_fluxes = torch.Tensor(fluxes)\n",
    "    \n",
    "x1_loc_samples = chain_results['x'][-300:, ].flatten()\n",
    "x0_loc_samples = chain_results['y'][-300:, ].flatten()\n",
    "\n",
    "portillos_est_fluxes_sampled = torch.Tensor(chain_results['f'][0, -300:, ].flatten())\n",
    "portillos_est_locs_sampled = torch.Tensor([x0_loc_samples, x1_loc_samples]).transpose(0,1)"
   ]
  },
  {
   "cell_type": "code",
   "execution_count": null,
   "metadata": {},
   "outputs": [],
   "source": []
  },
  {
   "cell_type": "markdown",
   "metadata": {},
   "source": [
    "# get reconstruction mean "
   ]
  },
  {
   "cell_type": "code",
   "execution_count": null,
   "metadata": {},
   "outputs": [],
   "source": [
    "simulator = simulated_datasets_lib.StarSimulator(psf_fit_file=psf_fit_file, \n",
    "                                                slen = full_image.shape[-1], \n",
    "                                                sky_intensity = 686.0)\n",
    "\n",
    "# only works if we have the classical catalogue\n",
    "if include_classical_catalogue: \n",
    "    _locs = portillos_est_locs.unsqueeze(0) / (full_image.shape[-1] - 1)\n",
    "    _fluxes = torch.Tensor(fluxes).unsqueeze(0)\n",
    "    _n_stars = torch.Tensor([len(x0_loc)]).type(torch.LongTensor)\n",
    "    \n",
    "    portillos_recon_mean = simulator.draw_image_from_params(locs = _locs, \n",
    "                                                fluxes = _fluxes,\n",
    "                                                 n_stars = _n_stars,  \n",
    "                                                 add_noise = False).squeeze()\n",
    "    \n",
    "    plt.matshow(portillos_recon_mean); \n",
    "    plt.colorbar()"
   ]
  },
  {
   "cell_type": "code",
   "execution_count": null,
   "metadata": {},
   "outputs": [],
   "source": [
    "chain_results.keys()"
   ]
  },
  {
   "cell_type": "code",
   "execution_count": null,
   "metadata": {},
   "outputs": [],
   "source": [
    "plt.hist(fluxes)"
   ]
  },
  {
   "cell_type": "code",
   "execution_count": null,
   "metadata": {},
   "outputs": [],
   "source": [
    "if include_classical_catalogue: \n",
    "    portillos_residuals = portillos_recon_mean - full_image\n",
    "    \n",
    "    plt.matshow(portillos_residuals)\n",
    "    plt.colorbar()"
   ]
  },
  {
   "cell_type": "markdown",
   "metadata": {},
   "source": [
    "# Plot subimages"
   ]
  },
  {
   "cell_type": "code",
   "execution_count": null,
   "metadata": {},
   "outputs": [],
   "source": [
    "subimage_slen = 11\n",
    "\n",
    "# possible coordinates\n",
    "x0_vec = np.arange(0, full_image.shape[-1] - subimage_slen, subimage_slen)\n",
    "x1_vec = np.arange(0, full_image.shape[-1] - subimage_slen, subimage_slen)"
   ]
  },
  {
   "cell_type": "code",
   "execution_count": null,
   "metadata": {},
   "outputs": [],
   "source": [
    "x0 = int(np.random.choice(x0_vec, 1))\n",
    "x1 = int(np.random.choice(x1_vec, 1))\n",
    "\n",
    "fig, axarr = plt.subplots(1, 4, figsize=(15, 4))\n",
    "\n",
    "# posterior samples\n",
    "plotting_utils.plot_subimage(axarr[0], full_image, portillos_est_locs_sampled, \n",
    "                             true_locs, x0, x1, subimage_slen)\n",
    "axarr[0].set_title('observed; coords: {}\\n'.format([x0, x1]));\n",
    "\n",
    "# condensed catalog\n",
    "plotting_utils.plot_subimage(axarr[1], full_image, portillos_est_locs, true_locs, x0, x1, subimage_slen, \n",
    "                            add_colorbar = True, global_fig = fig)\n",
    "axarr[1].set_title('observed; coords: {}\\n'.format([x0, x1]));\n",
    "\n",
    "# reconstruction\n",
    "plotting_utils.plot_subimage(axarr[2], portillos_recon_mean, portillos_est_locs, None, x0, x1, subimage_slen, \n",
    "                            add_colorbar = True, global_fig = fig)\n",
    "axarr[2].set_title('reconstructed\\n');\n",
    "\n",
    "# residuals\n",
    "vmax = torch.abs((portillos_residuals / full_image)[x0:(x0 + subimage_slen), x1:(x1 + subimage_slen)]).max()\n",
    "plotting_utils.plot_subimage(axarr[3], portillos_residuals / full_image, \n",
    "                            portillos_est_locs, None, x0, x1, subimage_slen, \n",
    "                            add_colorbar = True, global_fig = fig,\n",
    "                            diverging_cmap = True, \n",
    "                            vmax = vmax, vmin = -vmax)\n",
    "\n",
    "axarr[3].set_title('reconstructed\\n');\n",
    "\n"
   ]
  },
  {
   "cell_type": "code",
   "execution_count": null,
   "metadata": {},
   "outputs": [],
   "source": []
  },
  {
   "cell_type": "markdown",
   "metadata": {},
   "source": [
    "# Compare with my NN "
   ]
  },
  {
   "cell_type": "code",
   "execution_count": null,
   "metadata": {},
   "outputs": [],
   "source": [
    "import starnet_vae_lib\n",
    "import inv_KL_objective_lib as objectives_lib"
   ]
  },
  {
   "cell_type": "code",
   "execution_count": null,
   "metadata": {},
   "outputs": [],
   "source": [
    "star_encoder = starnet_vae_lib.StarEncoder(full_slen = 101,\n",
    "                                            stamp_slen = 9,\n",
    "                                            step = 4,\n",
    "                                            edge_padding = 2, \n",
    "                                            n_bands = 1,\n",
    "                                            max_detections = 6)"
   ]
  },
  {
   "cell_type": "code",
   "execution_count": null,
   "metadata": {},
   "outputs": [],
   "source": [
    "star_encoder.load_state_dict(torch.load('../fits/starnet_invKL_encoder_batched_images_400stars_smallpatch2', \n",
    "                               map_location=lambda storage, loc: storage))\n",
    "star_encoder.eval(); "
   ]
  },
  {
   "cell_type": "code",
   "execution_count": null,
   "metadata": {},
   "outputs": [],
   "source": []
  },
  {
   "cell_type": "code",
   "execution_count": null,
   "metadata": {},
   "outputs": [],
   "source": [
    "full_image.shape"
   ]
  },
  {
   "cell_type": "code",
   "execution_count": null,
   "metadata": {},
   "outputs": [],
   "source": [
    "# tile images\n",
    "_true_locs = (true_locs / (full_image.shape[-1] - 1)).unsqueeze(0)\n",
    "_true_fluxes = torch.Tensor(true_params['true_fluxes'])\n",
    "\n",
    "# because I messed up the step ... \n",
    "_full_image = full_image[0:101, 0:101].unsqueeze(0).unsqueeze(0)\n",
    "image_stamps, true_subimage_locs, true_subimage_fluxes, true_n_stars, is_on_array = \\\n",
    "        star_encoder.get_image_stamps(_full_image, _true_locs, _true_fluxes, \n",
    "                                      trim_images = False)"
   ]
  },
  {
   "cell_type": "code",
   "execution_count": null,
   "metadata": {},
   "outputs": [],
   "source": [
    "# get variational parameters\n",
    "logit_loc_mean, logit_loc_log_var, \\\n",
    "    log_flux_mean, log_flux_log_var, log_probs = \\\n",
    "        star_encoder(image_stamps, torch.Tensor(true_params['sky_intensity']))"
   ]
  },
  {
   "cell_type": "code",
   "execution_count": null,
   "metadata": {},
   "outputs": [],
   "source": [
    "# get map estimates for image patches\n",
    "map_n_stars = torch.argmax(log_probs, dim = 1)\n",
    "is_on_array = objectives_lib.get_is_on_from_n_stars(map_n_stars, star_encoder.max_detections)\n",
    "\n",
    "map_locs = torch.sigmoid(logit_loc_mean).detach()\n",
    "map_fluxes = torch.exp(log_flux_mean).detach() * is_on_array"
   ]
  },
  {
   "cell_type": "code",
   "execution_count": null,
   "metadata": {},
   "outputs": [],
   "source": [
    "# get map estimates for full image \n",
    "map_locs_full_image, map_fluxes_full_image, n_stars = \\\n",
    "    image_utils.get_full_params_from_patch_params(map_locs, map_fluxes,\n",
    "                                                    is_on_array,\n",
    "                                                    star_encoder.tile_coords,\n",
    "                                                    full_image.shape[-1],\n",
    "                                                    star_encoder.stamp_slen,\n",
    "                                                    star_encoder.edge_padding,\n",
    "                                                    star_encoder.batchsize)"
   ]
  },
  {
   "cell_type": "code",
   "execution_count": null,
   "metadata": {},
   "outputs": [],
   "source": [
    "vae_recon_mean = simulator.draw_image_from_params(locs = map_locs_full_image, \n",
    "                                                fluxes = map_fluxes_full_image,\n",
    "                                                 n_stars = n_stars, \n",
    "                                                 add_noise = False).squeeze()\n",
    "\n",
    "residuals = vae_recon_mean - full_image"
   ]
  },
  {
   "cell_type": "code",
   "execution_count": null,
   "metadata": {},
   "outputs": [],
   "source": []
  },
  {
   "cell_type": "raw",
   "metadata": {},
   "source": [
    "# get fluxes for the whole image\n",
    "map_fluxes_full_image = map_fluxes.reshape(map_fluxes.shape[0] * map_fluxes.shape[1])\n",
    "\n",
    "# get location coordinates for full image\n",
    "map_locs_full_image = (map_locs * (star_encoder.stamp_slen - 1 - 2 * star_encoder.edge_padding) + \\\n",
    "                        star_encoder.tile_coords.unsqueeze(1).float() + star_encoder.edge_padding) / \\\n",
    "                            (full_image.shape[-1] - 1) * is_on_array.unsqueeze(2)\n",
    "\n",
    "map_locs_full_image = map_locs_full_image.reshape(map_fluxes.shape[0] * map_fluxes.shape[1], 2)\n",
    "\n",
    "# get only on stars\n",
    "map_locs_full_image = map_locs_full_image[map_fluxes_full_image > 0, :]\n",
    "map_fluxes_full_image = map_fluxes_full_image[map_fluxes_full_image > 0]\n",
    "\n",
    "_n_stars = torch.Tensor([len(map_fluxes_full_image)]).type(torch.LongTensor)\n",
    "vae_recon_mean = simulator.draw_image_from_params(locs = map_locs_full_image.unsqueeze(0), \n",
    "                                                fluxes = map_fluxes_full_image.unsqueeze(0),\n",
    "                                                 n_stars = _n_stars, \n",
    "                                                 add_noise = False).squeeze()\n",
    "\n",
    "residuals = vae_recon_mean - full_image"
   ]
  },
  {
   "cell_type": "raw",
   "metadata": {},
   "source": [
    "foo = torch.rand(3, 2)"
   ]
  },
  {
   "cell_type": "raw",
   "metadata": {},
   "source": [
    "foo.repeat(3, 1)"
   ]
  },
  {
   "cell_type": "code",
   "execution_count": null,
   "metadata": {},
   "outputs": [],
   "source": []
  },
  {
   "cell_type": "code",
   "execution_count": null,
   "metadata": {},
   "outputs": [],
   "source": [
    "x0_vec = np.arange(star_encoder.edge_padding,\n",
    "                   star_encoder.full_slen - star_encoder.edge_padding - subimage_slen,\n",
    "                   subimage_slen)\n",
    "\n",
    "x1_vec = x0_vec\n",
    "\n",
    "x0_vec"
   ]
  },
  {
   "cell_type": "code",
   "execution_count": null,
   "metadata": {},
   "outputs": [],
   "source": [
    "x0 = int(np.random.choice(x0_vec, 1))\n",
    "x1 = int(np.random.choice(x1_vec, 1))\n",
    "\n",
    "fig, axarr = plt.subplots(1, 3, figsize=(15, 4))\n",
    "\n",
    "# catalog catalog\n",
    "est_locs = map_locs_full_image.squeeze() * (full_image.shape[-1] - 1)\n",
    "plotting_utils.plot_subimage(axarr[0], full_image, est_locs, true_locs, x0, x1, subimage_slen, \n",
    "                            add_colorbar = True, global_fig = fig)\n",
    "axarr[0].set_title('observed; coords: {}\\n'.format([x0, x1]));\n",
    "\n",
    "# reconstruction\n",
    "plotting_utils.plot_subimage(axarr[1], vae_recon_mean, est_locs, None, x0, x1, subimage_slen, \n",
    "                            add_colorbar = True, global_fig = fig)\n",
    "axarr[1].set_title('reconstructed\\n');\n",
    "\n",
    "# residuals\n",
    "vmax = torch.abs((residuals / full_image)[x0:(x0 + subimage_slen), x1:(x1 + subimage_slen)]).max()\n",
    "plotting_utils.plot_subimage(axarr[2], residuals / full_image, \n",
    "                            est_locs, None, x0, x1, subimage_slen, \n",
    "                            add_colorbar = True, global_fig = fig,\n",
    "                            diverging_cmap = True, \n",
    "                            vmax = vmax, vmin = -vmax)\n",
    "\n",
    "axarr[2].set_title('residuals\\n');\n",
    "\n"
   ]
  },
  {
   "cell_type": "code",
   "execution_count": null,
   "metadata": {},
   "outputs": [],
   "source": []
  },
  {
   "cell_type": "code",
   "execution_count": null,
   "metadata": {},
   "outputs": [],
   "source": []
  },
  {
   "cell_type": "code",
   "execution_count": null,
   "metadata": {},
   "outputs": [],
   "source": []
  },
  {
   "cell_type": "markdown",
   "metadata": {},
   "source": [
    "# Compare"
   ]
  },
  {
   "cell_type": "code",
   "execution_count": null,
   "metadata": {},
   "outputs": [],
   "source": [
    "x0_vec"
   ]
  },
  {
   "cell_type": "code",
   "execution_count": null,
   "metadata": {
    "code_folding": []
   },
   "outputs": [],
   "source": [
    "x0 = int(np.random.choice(x0_vec, 1))\n",
    "x1 = int(np.random.choice(x1_vec, 1))\n",
    "\n",
    "# my catalog\n",
    "fig, axarr = plt.subplots(1, 2, figsize=(15, 6))\n",
    "\n",
    "est_locs = map_locs_full_image.squeeze() * (full_image.shape[-1] - 1)\n",
    "plotting_utils.plot_subimage(axarr[0], full_image, est_locs, true_locs, x0, x1, subimage_slen, \n",
    "                            add_colorbar = True, global_fig = fig)\n",
    "axarr[0].set_title('observed; coords: {}\\n'.format([x0, x1]));\n",
    "\n",
    "\n",
    "# portillos catalogue\n",
    "which_locs = (portillos_est_locs[:, 0] > x0) & \\\n",
    "                (portillos_est_locs[:, 0] < (x0 + subimage_slen - 1)) & \\\n",
    "                (portillos_est_locs[:, 1] > x1) & \\\n",
    "                (portillos_est_locs[:, 1] < (x1 + subimage_slen - 1))\n",
    "portillos_locs = (portillos_est_locs[which_locs, :] - torch.Tensor([[x0, x1]])) \n",
    "axarr[0].scatter(portillos_locs[:, 1], portillos_locs[:, 0], color = 'c', marker = 'x')\n"
   ]
  },
  {
   "cell_type": "code",
   "execution_count": null,
   "metadata": {},
   "outputs": [],
   "source": [
    "fig, axarr = plt.subplots(1, 4, figsize=(30, 6))\n",
    "\n",
    "\n",
    "# reconstruction\n",
    "plotting_utils.plot_subimage(axarr[0], vae_recon_mean, est_locs, None, x0, x1, subimage_slen, \n",
    "                            add_colorbar = True, global_fig = fig)\n",
    "axarr[0].set_title('vae reconstructed\\n');\n",
    "\n",
    "# residuals\n",
    "vmax = torch.abs((residuals / full_image)[x0:(x0 + subimage_slen), x1:(x1 + subimage_slen)]).max()\n",
    "plotting_utils.plot_subimage(axarr[1], residuals / full_image, \n",
    "                            est_locs, None, x0, x1, subimage_slen, \n",
    "                            add_colorbar = True, global_fig = fig,\n",
    "                            diverging_cmap = True, \n",
    "                            vmax = vmax, vmin = -vmax)\n",
    "\n",
    "axarr[1].set_title('vae residuals\\n');\n",
    "\n",
    "\n",
    "# reconstruction\n",
    "plotting_utils.plot_subimage(axarr[2], portillos_recon_mean, portillos_est_locs, None, x0, x1, subimage_slen, \n",
    "                            add_colorbar = True, global_fig = fig)\n",
    "axarr[2].set_title('portillos reconstructed\\n');\n",
    "\n",
    "# residuals\n",
    "vmax = torch.abs((portillos_residuals / full_image)[x0:(x0 + subimage_slen), x1:(x1 + subimage_slen)]).max()\n",
    "plotting_utils.plot_subimage(axarr[3], portillos_residuals / full_image, \n",
    "                            portillos_est_locs, None, x0, x1, subimage_slen, \n",
    "                            add_colorbar = True, global_fig = fig,\n",
    "                            diverging_cmap = True, \n",
    "                            vmax = vmax, vmin = -vmax)\n",
    "\n",
    "axarr[3].set_title('residuals\\n');\n",
    "\n"
   ]
  },
  {
   "cell_type": "code",
   "execution_count": null,
   "metadata": {},
   "outputs": [],
   "source": []
  },
  {
   "cell_type": "code",
   "execution_count": null,
   "metadata": {},
   "outputs": [],
   "source": []
  },
  {
   "cell_type": "code",
   "execution_count": null,
   "metadata": {},
   "outputs": [],
   "source": []
  },
  {
   "cell_type": "code",
   "execution_count": null,
   "metadata": {},
   "outputs": [],
   "source": []
  },
  {
   "cell_type": "code",
   "execution_count": null,
   "metadata": {},
   "outputs": [],
   "source": []
  },
  {
   "cell_type": "code",
   "execution_count": null,
   "metadata": {},
   "outputs": [],
   "source": []
  },
  {
   "cell_type": "raw",
   "metadata": {},
   "source": [
    "# these are slightly different subimage patches :/\n",
    "image_batched2, tile_coords2, _, _, _ = \\\n",
    "    image_utils.tile_images(torch.Tensor(image).unsqueeze(0).unsqueeze(0),\n",
    "                                subimage_slen = star_encoder.stamp_slen, \n",
    "                                step = star_encoder.step, \n",
    "                                return_tile_coords = True)\n",
    "\n",
    "logit_loc_mean, logit_loc_log_var, \\\n",
    "    log_flux_mean, log_flux_log_var, log_probs = \\\n",
    "        star_encoder(image_batched2, torch.Tensor(true_params['sky_intensity']))"
   ]
  },
  {
   "cell_type": "raw",
   "metadata": {},
   "source": []
  },
  {
   "cell_type": "raw",
   "metadata": {},
   "source": [
    "map_n_stars = map_n_stars = torch.argmax(log_probs, dim = 1)\n",
    "is_on_array = objectives_lib.get_is_on_from_n_stars(map_n_stars, star_encoder.max_detections)\n",
    "\n",
    "map_locs = torch.sigmoid(logit_loc_mean).detach()\n",
    "map_fluxes = torch.exp(log_flux_mean).detach() * is_on_array\n"
   ]
  },
  {
   "cell_type": "raw",
   "metadata": {},
   "source": [
    "# get fluxes for the whole image\n",
    "map_fluxes_full_image = map_fluxes.reshape(map_fluxes.shape[0] * map_fluxes.shape[1])\n",
    "\n",
    "# permute so that all the zeros are at the end\n",
    "map_fluxes_full_image, perm = torch.sort(map_fluxes_full_image, descending=True)\n",
    "\n",
    "# get location coordinates for full image\n",
    "map_locs_full_image = (map_locs * (star_encoder.stamp_slen - 1) + \\\n",
    "                        tile_coords2.unsqueeze(1).float() + star_encoder.edge_padding) / \\\n",
    "                            (star_encoder.full_slen - 1) * is_on_array.unsqueeze(2)\n",
    "map_locs_full_image = map_locs_full_image.reshape(map_fluxes.shape[0] * map_fluxes.shape[1], 2)\n",
    "\n",
    "# permute\n",
    "map_locs_full_image = map_locs_full_image[perm, :]\n",
    "\n",
    "recon_mean = simulator.draw_image_from_params(locs = map_locs_full_image.unsqueeze(0), \n",
    "                                                fluxes = map_fluxes_full_image.unsqueeze(0),\n",
    "                                                 n_stars = torch.sum(map_fluxes_full_image > 0).unsqueeze(0), \n",
    "                                              \n",
    "                                                 add_noise = False)"
   ]
  },
  {
   "cell_type": "raw",
   "metadata": {},
   "source": [
    "plt.matshow(image.squeeze())\n",
    "plt.colorbar()"
   ]
  },
  {
   "cell_type": "raw",
   "metadata": {},
   "source": [
    "plt.matshow(recon_mean.squeeze())\n",
    "plt.colorbar();"
   ]
  },
  {
   "cell_type": "raw",
   "metadata": {},
   "source": []
  },
  {
   "cell_type": "raw",
   "metadata": {},
   "source": []
  },
  {
   "cell_type": "raw",
   "metadata": {},
   "source": []
  },
  {
   "cell_type": "raw",
   "metadata": {},
   "source": [
    "_psf = simulated_datasets_lib._trim_psf(simulator.psf, \n",
    "                                        star_encoder.stamp_slen - 2 * star_encoder.edge_padding)\n",
    "_backgrounds = torch.ones((image_stamps.shape[0], 1, 1, 1)) * torch.Tensor(true_params['sky_intensity'])\n",
    "\n",
    "indx = [11]\n",
    "\n",
    "plotting_utils.print_results(star_encoder, \n",
    "                                image_stamps[indx], \n",
    "                                _backgrounds[indx], \n",
    "                                _psf, \n",
    "                                true_subimage_locs[indx], \n",
    "                                is_on_array[indx],\n",
    "                                use_true_n_stars = False)"
   ]
  },
  {
   "cell_type": "raw",
   "metadata": {},
   "source": [
    "step = 4\n",
    "\n",
    "image_batched, tile_coords, nx_patches, ny_patches, n_patches = \\\n",
    "    image_utils.tile_images(torch.Tensor(image).unsqueeze(0).unsqueeze(0),\n",
    "                                subimage_slen = subimage_slen, \n",
    "                                step = step, \n",
    "                                return_tile_coords = True)\n",
    "\n",
    "if include_classical_catalogue: \n",
    "    recon_mean_batched = \\\n",
    "        image_utils.tile_images(recon_mean,\n",
    "                                subimage_slen = subimage_slen, \n",
    "                                step = step, \n",
    "                                return_tile_coords = True)[0]\n",
    "\n",
    "tile_coords = tile_coords.numpy()"
   ]
  },
  {
   "cell_type": "raw",
   "metadata": {},
   "source": [
    "for i in range(10): \n",
    "    fig, axarr = plt.subplots(1, 3, figsize=(15, 4))\n",
    "    \n",
    "    # choose an image\n",
    "    indx = int(np.random.choice(image_batched.shape[0], 1))\n",
    "    \n",
    "    # the coordinates for the subimage         \n",
    "    x0 = tile_coords[indx, 0]\n",
    "    x1 = tile_coords[indx, 1]\n",
    "    \n",
    "    # true locations for subimage \n",
    "    which_true = (true_locs[:, 0] > x0) & \\\n",
    "                    (true_locs[:, 0] < (x0 + subimage_slen - 1)) & \\\n",
    "                    (true_locs[:, 1] > x1) & \\\n",
    "                    (true_locs[:, 1] < (x1 + subimage_slen - 1))\n",
    "\n",
    "    \n",
    "    # plot image\n",
    "    axarr[0].matshow(image_batched[indx].squeeze())\n",
    "    \n",
    "    # plot true locations\n",
    "    axarr[0].scatter(true_locs[which_true, 1] - x1, \n",
    "                    true_locs[which_true, 0] - x0, \n",
    "                     color = 'blue', marker = 'o')\n",
    "    \n",
    "    # plot posterior samples\n",
    "    which_locs_sampled = (x0_loc_samples > x0) & \\\n",
    "                    (x0_loc_samples < (x0 + subimage_slen - 1)) & \\\n",
    "                    (x1_loc_samples > x1) & \\\n",
    "                    (x1_loc_samples < (x1 + subimage_slen - 1))\n",
    "                \n",
    "    axarr[0].scatter(x1_loc_samples[which_locs_sampled] - x1, \n",
    "                    x0_loc_samples[which_locs_sampled] - x0, \n",
    "                    color = 'r', marker = 'x', alpha = 0.1)\n",
    "    axarr[0].set_title('observed; indx {}\\n'.format(indx,))\n",
    "    \n",
    "    if include_classical_catalogue: \n",
    "        # plot image\n",
    "        foo = axarr[1].matshow(image_batched[indx].squeeze())\n",
    "\n",
    "        # plot true locations \n",
    "        axarr[1].scatter(true_locs[which_true, 1] - x1, \n",
    "                        true_locs[which_true, 0] - x0, \n",
    "                         color = 'blue', marker = 'o')\n",
    "\n",
    "        # plot estimated locations from condensed cataloge\n",
    "        which_locs = (x0_loc > x0) & \\\n",
    "                        (x0_loc < (x0 + subimage_slen - 1)) & \\\n",
    "                        (x1_loc > x1) & \\\n",
    "                        (x1_loc < (x1 + subimage_slen - 1))\n",
    "        axarr[1].scatter(x1_loc[which_locs] - x1, \n",
    "                    x0_loc[which_locs] - x0, \n",
    "                    color = 'r', marker = 'x')   \n",
    "\n",
    "        fig.colorbar(foo, ax=axarr[1])\n",
    "\n",
    "        axarr[1].set_title('observed; tile_coords {}\\n'.format([x0, x1]))\n",
    "\n",
    "        foo2 = axarr[2].matshow(recon_mean_batched[indx].squeeze())\n",
    "\n",
    "        axarr[2].scatter(x1_loc[which_locs] - tile_coords[indx, 1], \n",
    "                    x0_loc[which_locs] - tile_coords[indx, 0], \n",
    "                    color = 'r', marker = 'x')\n",
    "\n",
    "        fig.colorbar(foo2, ax=axarr[2])\n",
    "\n",
    "        axarr[2].set_title('reconstructed \\n ')"
   ]
  },
  {
   "cell_type": "raw",
   "metadata": {},
   "source": [
    "x0 = 12\n",
    "x1 = 76\n",
    "    \n",
    "plotting_utils.plot_subimage(image, x0, x1, subimage_slen, x0_loc, x1_loc)"
   ]
  },
  {
   "cell_type": "raw",
   "metadata": {},
   "source": [
    "# Compare with my NN "
   ]
  },
  {
   "cell_type": "raw",
   "metadata": {},
   "source": [
    "import starnet_vae_lib"
   ]
  },
  {
   "cell_type": "raw",
   "metadata": {},
   "source": [
    "star_encoder = starnet_vae_lib.StarEncoder(full_slen = image.shape[-1],\n",
    "                                            stamp_slen = 15,\n",
    "                                            step = 11,\n",
    "                                            edge_padding = 2, \n",
    "                                            n_bands = 1,\n",
    "                                            max_detections = 15)"
   ]
  },
  {
   "cell_type": "raw",
   "metadata": {},
   "source": [
    "star_encoder.load_state_dict(torch.load('../fits/starnet_invKL_encoder_batched_images_400stars_default', \n",
    "                               map_location=lambda storage, loc: storage))\n",
    "star_encoder.eval(); "
   ]
  },
  {
   "cell_type": "raw",
   "metadata": {},
   "source": [
    "torch.Tensor(true_params['sky_intensity'])"
   ]
  },
  {
   "cell_type": "raw",
   "metadata": {},
   "source": [
    "# these are slightly different subimage patches :/\n",
    "image_batched2, tile_coords2, _, _, _ = \\\n",
    "    image_utils.tile_images(torch.Tensor(image).unsqueeze(0).unsqueeze(0),\n",
    "                                subimage_slen = star_encoder.stamp_slen, \n",
    "                                step = star_encoder.step, \n",
    "                                return_tile_coords = True)\n",
    "\n",
    "logit_loc_mean, logit_loc_log_var, \\\n",
    "    log_flux_mean, log_flux_log_var, log_probs = \\\n",
    "        star_encoder(image_batched2, torch.Tensor(true_params['sky_intensity']))"
   ]
  },
  {
   "cell_type": "raw",
   "metadata": {},
   "source": [
    "import inv_KL_objective_lib as objectives_lib"
   ]
  },
  {
   "cell_type": "raw",
   "metadata": {},
   "source": [
    "map_n_stars = map_n_stars = torch.argmax(log_probs, dim = 1)\n",
    "is_on_array = objectives_lib.get_is_on_from_n_stars(map_n_stars, star_encoder.max_detections)\n",
    "\n",
    "map_locs = torch.sigmoid(logit_loc_mean).detach()\n",
    "map_fluxes = torch.exp(log_flux_mean).detach() * is_on_array\n"
   ]
  },
  {
   "cell_type": "raw",
   "metadata": {},
   "source": [
    "# get fluxes for the whole image\n",
    "map_fluxes_full_image = map_fluxes.reshape(map_fluxes.shape[0] * map_fluxes.shape[1])\n",
    "\n",
    "# permute so that all the zeros are at the end\n",
    "map_fluxes_full_image, perm = torch.sort(map_fluxes_full_image, descending=True)\n",
    "\n",
    "# get location coordinates for full image\n",
    "map_locs_full_image = (map_locs * (star_encoder.stamp_slen - 1) + \\\n",
    "                        tile_coords2.unsqueeze(1).float() + star_encoder.edge_padding) / \\\n",
    "                            (star_encoder.full_slen - 1) * is_on_array.unsqueeze(2)\n",
    "map_locs_full_image = map_locs_full_image.reshape(map_fluxes.shape[0] * map_fluxes.shape[1], 2)\n",
    "\n",
    "# permute\n",
    "map_locs_full_image = map_locs_full_image[perm, :]\n",
    "\n",
    "recon_mean = simulator.draw_image_from_params(locs = map_locs_full_image.unsqueeze(0), \n",
    "                                                fluxes = map_fluxes_full_image.unsqueeze(0),\n",
    "                                                 n_stars = torch.sum(map_fluxes_full_image > 0).unsqueeze(0), \n",
    "                                              \n",
    "                                                 add_noise = False)"
   ]
  },
  {
   "cell_type": "raw",
   "metadata": {},
   "source": [
    "plt.matshow(image.squeeze())\n",
    "plt.colorbar()"
   ]
  },
  {
   "cell_type": "raw",
   "metadata": {},
   "source": [
    "plt.matshow(recon_mean.squeeze())\n",
    "plt.colorbar();"
   ]
  },
  {
   "cell_type": "raw",
   "metadata": {},
   "source": []
  },
  {
   "cell_type": "raw",
   "metadata": {},
   "source": [
    "# fig, axarr = plt.subplots(1, 2, figsize=(15, 4))\n",
    "\n",
    "# x0 = 56\n",
    "# x1 = 57\n",
    "\n",
    "# foo = axarr[0].matshow(image[x0:(x0 + subimage_slen), x1:(x1 + subimage_slen)].squeeze())\n",
    "\n",
    "# # plot estimated locations\n",
    "# which_locs = (x0_loc > x0) & \\\n",
    "#                 (x0_loc < (x0 + subimage_slen - 1)) & \\\n",
    "#                 (x1_loc > x1) & \\\n",
    "#                 (x1_loc < (x1 + subimage_slen - 1))\n",
    "\n",
    "# axarr[0].scatter(x1_loc[which_locs] - x1, \n",
    "#             x0_loc[which_locs] - x0, \n",
    "#             color = 'r', marker = 'x')\n",
    "\n",
    "\n",
    "# # plot true locations\n",
    "# which_true = (true_locs[:, 0] > x0) & \\\n",
    "#                 (true_locs[:, 0] < (x0 + subimage_slen - 1)) & \\\n",
    "#                 (true_locs[:, 1] > x1) & \\\n",
    "#                 (true_locs[:, 1] < (x1 + subimage_slen - 1))\n",
    "# axarr[0].scatter(true_locs[which_true, 1] - x1, \n",
    "#                 true_locs[which_true, 0] - x0, \n",
    "#                  color = 'blue', marker = 'o')\n",
    "\n",
    "# fig.colorbar(foo, ax=axarr[0])\n",
    "\n",
    "# axarr[0].set_title('observed image; tile_coords {}\\n'.format([x0, x1]))\n",
    "\n",
    "# if use_classical_catalogue: \n",
    "#     foo2 = axarr[1].matshow(recon_mean.squeeze()[x0:(x0 + subimage_slen), x1:(x1 + subimage_slen)])\n",
    "#     axarr[1].scatter(x1_loc[which_locs] - x0,  \n",
    "#                 x0_loc[which_locs] - x1, \n",
    "#                 color = 'r', marker = 'x')\n",
    "\n",
    "#     fig.colorbar(foo2, ax=axarr[1])"
   ]
  },
  {
   "cell_type": "raw",
   "metadata": {},
   "source": []
  },
  {
   "cell_type": "raw",
   "metadata": {},
   "source": []
  }
 ],
 "metadata": {
  "kernelspec": {
   "display_name": "Python (pytorch_04)",
   "language": "python",
   "name": "pytorch_update"
  },
  "language_info": {
   "codemirror_mode": {
    "name": "ipython",
    "version": 3
   },
   "file_extension": ".py",
   "mimetype": "text/x-python",
   "name": "python",
   "nbconvert_exporter": "python",
   "pygments_lexer": "ipython3",
   "version": "3.6.8"
  }
 },
 "nbformat": 4,
 "nbformat_minor": 2
}
