{
 "cells": [
  {
   "cell_type": "code",
   "execution_count": null,
   "metadata": {},
   "outputs": [],
   "source": [
    "import numpy as np\n",
    "import torch\n",
    "\n",
    "import json\n",
    "\n",
    "import matplotlib.pyplot as plt\n",
    "\n",
    "import sys\n",
    "sys.path.insert(0, '../')\n",
    "import simulated_datasets_lib\n",
    "import sdss_dataset_lib\n",
    "import sdss_psf\n",
    "import image_utils \n",
    "\n",
    "import plotting_utils\n",
    "\n",
    "np.random.seed(34534)"
   ]
  },
  {
   "cell_type": "markdown",
   "metadata": {},
   "source": [
    "# Load the data"
   ]
  },
  {
   "cell_type": "code",
   "execution_count": null,
   "metadata": {},
   "outputs": [],
   "source": [
    "use_simulated_data = False\n",
    "\n",
    "if use_simulated_data: \n",
    "    psf_fit_file = '../../celeste_net/sdss_stage_dir/2583/2/136/psField-002583-2-0136.fit'\n",
    "    \n",
    "    # load image\n",
    "    full_image = np.loadtxt('../../multiband_pcat/Data/sdss_simulated/cts/sdss_simulated-ctsr.txt')\n",
    "    full_image = torch.Tensor(full_image)\n",
    "\n",
    "    # true parameters\n",
    "    true_params = np.load('../../multiband_pcat/Data/sdss_simulated/true_params.npz')\n",
    "    \n",
    "    true_locs = torch.Tensor(true_params['true_locs'].squeeze())\n",
    "    true_fluxes = torch.Tensor(true_params['true_fluxes'].squeeze())\n",
    "    \n",
    "else: \n",
    "    sdss_hubble_data = sdss_dataset_lib.SDSSHubbleData()\n",
    "    \n",
    "    # psf file \n",
    "    psf_fit_file = str(sdss_hubble_data.psf_file)\n",
    "    \n",
    "    # image \n",
    "    full_image = sdss_hubble_data.sdss_image.squeeze()\n",
    "    full_background = sdss_hubble_data.sdss_background.squeeze()\n",
    "    \n",
    "    # true parameters\n",
    "    which_bright = (sdss_hubble_data.fluxes > 1300.)\n",
    "    true_locs = sdss_hubble_data.locs[which_bright]\n",
    "    true_fluxes = sdss_hubble_data.fluxes[which_bright]\n"
   ]
  },
  {
   "cell_type": "code",
   "execution_count": null,
   "metadata": {},
   "outputs": [],
   "source": []
  },
  {
   "cell_type": "code",
   "execution_count": null,
   "metadata": {},
   "outputs": [],
   "source": [
    "full_image = torch.Tensor(full_image)\n",
    "print(full_image.shape)"
   ]
  },
  {
   "cell_type": "code",
   "execution_count": null,
   "metadata": {},
   "outputs": [],
   "source": [
    "plt.matshow(full_image.squeeze())\n",
    "plt.colorbar()"
   ]
  },
  {
   "cell_type": "markdown",
   "metadata": {},
   "source": [
    "# Load results"
   ]
  },
  {
   "cell_type": "code",
   "execution_count": null,
   "metadata": {},
   "outputs": [],
   "source": [
    "results_dir = '../../multiband_pcat/pcat-lion-results/20191007-115851/'\n",
    "\n",
    "chain_results = np.load(results_dir + 'chain.npz')"
   ]
  },
  {
   "cell_type": "code",
   "execution_count": null,
   "metadata": {},
   "outputs": [],
   "source": [
    "include_classical_catalogue = True\n",
    "\n",
    "if include_classical_catalogue: \n",
    "    pcat_catalog = np.loadtxt(results_dir + 'classical_catalog.txt')\n",
    "    \n",
    "    x1_loc = pcat_catalog[:, 0]\n",
    "    x0_loc = pcat_catalog[:, 2]\n",
    "        \n",
    "    fluxes = pcat_catalog[:, 4]\n",
    "    \n",
    "    # remove na\n",
    "    is_na = np.isnan(x1_loc) | np.isnan(x1_loc) | np.isnan(fluxes)\n",
    "    \n",
    "    x1_loc = x1_loc[~is_na]\n",
    "    x0_loc = x0_loc[~is_na]\n",
    "    fluxes = fluxes[~is_na]\n",
    "    \n",
    "    portillos_est_locs = torch.Tensor([x0_loc, x1_loc]).transpose(0,1) / (full_image.shape[-1] - 1)\n",
    "    portillos_est_fluxes = torch.Tensor(fluxes)\n",
    "    \n",
    "x1_loc_samples = chain_results['x'][-300:, ].flatten()\n",
    "x0_loc_samples = chain_results['y'][-300:, ].flatten()\n",
    "\n",
    "portillos_est_fluxes_sampled = torch.Tensor(chain_results['f'][0, -300:, ].flatten()) \n",
    "portillos_est_locs_sampled = torch.Tensor([x0_loc_samples, x1_loc_samples]).transpose(0,1) \\\n",
    "                                / (full_image.shape[-1] - 1)"
   ]
  },
  {
   "cell_type": "code",
   "execution_count": null,
   "metadata": {},
   "outputs": [],
   "source": [
    "# TODO: this was chosen empirically looking at image residuals! \n",
    "# Need to figure out the correct conversion ... \n",
    "fudge_factor = 1 / (1 - 0.83)\n",
    "if not use_simulated_data: \n",
    "    portillos_est_fluxes_sampled = portillos_est_fluxes_sampled * fudge_factor\n",
    "    portillos_est_fluxes = portillos_est_fluxes * fudge_factor"
   ]
  },
  {
   "cell_type": "code",
   "execution_count": null,
   "metadata": {},
   "outputs": [],
   "source": []
  },
  {
   "cell_type": "code",
   "execution_count": null,
   "metadata": {},
   "outputs": [],
   "source": []
  },
  {
   "cell_type": "markdown",
   "metadata": {},
   "source": [
    "# get reconstruction mean "
   ]
  },
  {
   "cell_type": "code",
   "execution_count": null,
   "metadata": {},
   "outputs": [],
   "source": [
    "simulator = simulated_datasets_lib.StarSimulator(psf_fit_file=psf_fit_file, \n",
    "                                                slen = full_image.shape[-1], \n",
    "                                                sky_intensity = 0.)\n",
    "\n",
    "# only works if we have the classical catalogue\n",
    "if include_classical_catalogue: \n",
    "    _locs = portillos_est_locs.unsqueeze(0) \n",
    "    _fluxes = torch.Tensor(portillos_est_fluxes).unsqueeze(0)\n",
    "    _n_stars = torch.Tensor([len(x0_loc)]).type(torch.LongTensor)\n",
    "    \n",
    "    portillos_recon_mean = simulator.draw_image_from_params(locs = _locs, \n",
    "                                                fluxes = _fluxes,\n",
    "                                                 n_stars = _n_stars,  \n",
    "                                                 add_noise = False).squeeze()\n",
    "    \n",
    "    plt.matshow(portillos_recon_mean); \n",
    "    plt.colorbar()"
   ]
  },
  {
   "cell_type": "code",
   "execution_count": null,
   "metadata": {},
   "outputs": [],
   "source": [
    "plt.hist(torch.log10(portillos_est_fluxes));"
   ]
  },
  {
   "cell_type": "code",
   "execution_count": null,
   "metadata": {},
   "outputs": [],
   "source": [
    "if include_classical_catalogue: \n",
    "    portillos_residuals = portillos_recon_mean - (full_image - full_background)\n",
    "    \n",
    "    plt.matshow(portillos_residuals / full_image)\n",
    "    plt.colorbar()"
   ]
  },
  {
   "cell_type": "code",
   "execution_count": null,
   "metadata": {},
   "outputs": [],
   "source": [
    "plt.hist(torch.log10(true_fluxes), bins = 100);"
   ]
  },
  {
   "cell_type": "code",
   "execution_count": null,
   "metadata": {},
   "outputs": [],
   "source": [
    "hist = plt.hist((portillos_residuals / (full_image - full_background.squeeze())).flatten(), \n",
    "         bins = 100)"
   ]
  },
  {
   "cell_type": "markdown",
   "metadata": {},
   "source": [
    "# Plot subimages"
   ]
  },
  {
   "cell_type": "code",
   "execution_count": null,
   "metadata": {},
   "outputs": [],
   "source": [
    "subimage_slen = 10\n",
    "\n",
    "# possible coordinates\n",
    "x0_vec = np.arange(10, 90, subimage_slen)\n",
    "x1_vec = np.arange(10, 90, subimage_slen)"
   ]
  },
  {
   "cell_type": "code",
   "execution_count": null,
   "metadata": {},
   "outputs": [],
   "source": [
    "x0 = int(np.random.choice(x0_vec, 1))\n",
    "x1 = int(np.random.choice(x1_vec, 1))\n",
    "\n",
    "fig, axarr = plt.subplots(1, 4, figsize=(15, 4))\n",
    "\n",
    "# posterior samples\n",
    "plotting_utils.plot_subimage(axarr[0], full_image, \n",
    "                             portillos_est_locs_sampled, \n",
    "                             true_locs, \n",
    "                             x0, x1, subimage_slen)\n",
    "axarr[0].set_title('observed; coords: {}\\n'.format([x0, x1]));\n",
    "\n",
    "# condensed catalog\n",
    "plotting_utils.plot_subimage(axarr[1], full_image,\n",
    "                             portillos_est_locs, \n",
    "                             true_locs, \n",
    "                             x0, x1, subimage_slen, \n",
    "                            add_colorbar = True, global_fig = fig)\n",
    "axarr[1].set_title('observed; coords: {}\\n'.format([x0, x1]));\n",
    "\n",
    "# reconstruction\n",
    "plotting_utils.plot_subimage(axarr[2], portillos_recon_mean,\n",
    "                             portillos_est_locs, \n",
    "                             None, \n",
    "                             x0, x1, subimage_slen, \n",
    "                            add_colorbar = True, global_fig = fig)\n",
    "axarr[2].set_title('reconstructed\\n');\n",
    "\n",
    "# residuals\n",
    "vmax = torch.abs((portillos_residuals / full_image)[x0:(x0 + subimage_slen), x1:(x1 + subimage_slen)]).max()\n",
    "plotting_utils.plot_subimage(axarr[3], portillos_residuals / full_image, \n",
    "                            portillos_est_locs, \n",
    "                             None, \n",
    "                             x0, x1, subimage_slen, \n",
    "                            add_colorbar = True, global_fig = fig,\n",
    "                            diverging_cmap = True, \n",
    "                            vmax = vmax, vmin = -vmax)\n",
    "\n",
    "axarr[3].set_title('reconstructed\\n');\n",
    "\n"
   ]
  },
  {
   "cell_type": "code",
   "execution_count": null,
   "metadata": {},
   "outputs": [],
   "source": []
  },
  {
   "cell_type": "markdown",
   "metadata": {},
   "source": [
    "# Compare with my NN "
   ]
  },
  {
   "cell_type": "code",
   "execution_count": null,
   "metadata": {},
   "outputs": [],
   "source": [
    "import starnet_vae_lib\n",
    "import inv_kl_objective_lib as inv_kl_lib"
   ]
  },
  {
   "cell_type": "code",
   "execution_count": null,
   "metadata": {},
   "outputs": [],
   "source": [
    "star_encoder = starnet_vae_lib.StarEncoder(full_slen = 101,\n",
    "                                            stamp_slen = 9,\n",
    "                                            step = 2,\n",
    "                                            edge_padding = 3, \n",
    "                                            n_bands = 1,\n",
    "                                            max_detections = 4)"
   ]
  },
  {
   "cell_type": "code",
   "execution_count": null,
   "metadata": {},
   "outputs": [],
   "source": [
    "star_encoder.load_state_dict(torch.load('../fits/wake_sleep-portm2-101420129-encoder-iter3', \n",
    "                               map_location=lambda storage, loc: storage))\n",
    "star_encoder.eval(); "
   ]
  },
  {
   "cell_type": "code",
   "execution_count": null,
   "metadata": {},
   "outputs": [],
   "source": [
    "# get parameters on the full image \n",
    "map_locs_full_image, map_fluxes_full_image, map_n_stars_full = \\\n",
    "    star_encoder.get_results_on_full_image(full_image.unsqueeze(0).unsqueeze(0), \n",
    "                                           full_background.unsqueeze(0).unsqueeze(0))"
   ]
  },
  {
   "cell_type": "code",
   "execution_count": null,
   "metadata": {},
   "outputs": [],
   "source": [
    "vae_recon_mean = simulator.draw_image_from_params(locs = map_locs_full_image, \n",
    "                                                fluxes = map_fluxes_full_image,\n",
    "                                                 n_stars = map_n_stars_full, \n",
    "                                                 add_noise = False).squeeze()\n",
    "\n",
    "vae_residuals = vae_recon_mean - (full_image - full_background)"
   ]
  },
  {
   "cell_type": "code",
   "execution_count": null,
   "metadata": {},
   "outputs": [],
   "source": [
    "my_est_locs = map_locs_full_image.squeeze() \n",
    "my_est_fluxes = map_fluxes_full_image.squeeze()"
   ]
  },
  {
   "cell_type": "code",
   "execution_count": null,
   "metadata": {},
   "outputs": [],
   "source": [
    "x0 = int(np.random.choice(x0_vec, 1))\n",
    "x1 = int(np.random.choice(x1_vec, 1))\n",
    "\n",
    "fig, axarr = plt.subplots(1, 3, figsize=(15, 4))\n",
    "\n",
    "# my catalog\n",
    "plotting_utils.plot_subimage(axarr[0], full_image, my_est_locs, true_locs, x0, x1, subimage_slen, \n",
    "                            add_colorbar = True, global_fig = fig)\n",
    "axarr[0].set_title('observed; coords: {}\\n'.format([x0, x1]));\n",
    "\n",
    "# reconstruction\n",
    "plotting_utils.plot_subimage(axarr[1], vae_recon_mean, my_est_locs, None, x0, x1, subimage_slen, \n",
    "                            add_colorbar = True, global_fig = fig)\n",
    "axarr[1].set_title('reconstructed\\n');\n",
    "\n",
    "# residuals\n",
    "vmax = torch.abs((vae_residuals / full_image)[x0:(x0 + subimage_slen), x1:(x1 + subimage_slen)]).max()\n",
    "plotting_utils.plot_subimage(axarr[2], vae_residuals / full_image, \n",
    "                            my_est_locs, None, x0, x1, subimage_slen, \n",
    "                            add_colorbar = True, global_fig = fig,\n",
    "                            diverging_cmap = True, \n",
    "                            vmax = vmax, vmin = -vmax)\n",
    "\n",
    "axarr[2].set_title('residuals\\n');\n",
    "\n"
   ]
  },
  {
   "cell_type": "code",
   "execution_count": null,
   "metadata": {},
   "outputs": [],
   "source": []
  },
  {
   "cell_type": "code",
   "execution_count": null,
   "metadata": {},
   "outputs": [],
   "source": []
  },
  {
   "cell_type": "markdown",
   "metadata": {},
   "source": [
    "# Compare"
   ]
  },
  {
   "cell_type": "code",
   "execution_count": null,
   "metadata": {},
   "outputs": [],
   "source": [
    "fig, axarr = plt.subplots(2, 3, figsize=(15, 12))\n",
    "\n",
    "x0 = int(np.random.choice(x0_vec, 1))\n",
    "x1 = int(np.random.choice(x1_vec, 1))\n",
    "\n",
    "###################\n",
    "# Plot catalogs\n",
    "##################\n",
    "# my catalog\n",
    "for j in range(2):\n",
    "    plotting_utils.plot_subimage(axarr[j, 0], full_image, my_est_locs, true_locs, x0, x1, subimage_slen, \n",
    "                                add_colorbar = True, global_fig = fig)\n",
    "    axarr[j, 0].set_title('observed; coords: {}\\n'.format([x0, x1]));\n",
    "\n",
    "    # portillos catalogue\n",
    "    _portillos_est_locs = portillos_est_locs * (full_image.shape[-1] - 1)\n",
    "    which_locs = (_portillos_est_locs[:, 0] > x0) & \\\n",
    "                    (_portillos_est_locs[:, 0] < (x0 + subimage_slen - 1)) & \\\n",
    "                    (_portillos_est_locs[:, 1] > x1) & \\\n",
    "                    (_portillos_est_locs[:, 1] < (x1 + subimage_slen - 1))\n",
    "    portillos_locs = (_portillos_est_locs[which_locs, :] - torch.Tensor([[x0, x1]])) \n",
    "    axarr[j, 0].scatter(portillos_locs[:, 1], portillos_locs[:, 0], color = 'c', marker = 'x')\n",
    "\n",
    "#######################\n",
    "# Reconstructions \n",
    "#######################\n",
    "# my reconstruction\n",
    "plotting_utils.plot_subimage(axarr[0, 1], vae_recon_mean, my_est_locs, None, x0, x1, subimage_slen, \n",
    "                            add_colorbar = True, global_fig = fig)\n",
    "axarr[0, 1].set_title('vae reconstructed\\n');\n",
    "\n",
    "# Portillos reconstruction\n",
    "plotting_utils.plot_subimage(axarr[1, 1], portillos_recon_mean, portillos_est_locs, None, x0, x1, subimage_slen, \n",
    "                            add_colorbar = True, global_fig = fig, \n",
    "                            color = 'c', marker = 'x')\n",
    "axarr[1, 1].set_title('portillos reconstructed\\n');\n",
    "\n",
    "######################\n",
    "# residuals\n",
    "######################\n",
    "vmax1 = torch.abs((vae_residuals / full_image)[x0:(x0 + subimage_slen), x1:(x1 + subimage_slen)]).max()\n",
    "vmax2 = torch.abs((portillos_residuals / full_image)[x0:(x0 + subimage_slen), x1:(x1 + subimage_slen)]).max()\n",
    "\n",
    "vmax = torch.max(torch.Tensor([vmax1, vmax2]))\n",
    "\n",
    "# my residuals\n",
    "plotting_utils.plot_subimage(axarr[0, 2], vae_residuals / full_image, \n",
    "                            my_est_locs, None, x0, x1, subimage_slen, \n",
    "                            add_colorbar = True, global_fig = fig,\n",
    "                            diverging_cmap = True, \n",
    "                            vmax = vmax, vmin = -vmax)\n",
    "\n",
    "axarr[0, 2].set_title('vae residuals\\n');\n",
    "\n",
    "\n",
    "\n",
    "# portillos residuals\n",
    "plotting_utils.plot_subimage(axarr[1, 2], portillos_residuals / full_image, \n",
    "                            portillos_est_locs, None, x0, x1, subimage_slen, \n",
    "                            add_colorbar = True, global_fig = fig,\n",
    "                            diverging_cmap = True, \n",
    "                            vmax = vmax, vmin = -vmax, \n",
    "                            color = 'c', marker = 'x')\n",
    "\n",
    "axarr[1, 2].set_title('portillos residuals\\n');"
   ]
  },
  {
   "cell_type": "markdown",
   "metadata": {},
   "source": [
    "# Checkout some summary statistics"
   ]
  },
  {
   "cell_type": "code",
   "execution_count": null,
   "metadata": {},
   "outputs": [],
   "source": [
    "# we only look at locations within 10-90; \n",
    "# Portillos doesn't detect on the edge\n",
    "\n",
    "def filter_params(locs, fluxes, slen): \n",
    "    assert len(locs.shape) == 2\n",
    "    assert len(fluxes.shape) == 1\n",
    "    \n",
    "    _locs = locs * (slen - 1)\n",
    "    which_params = (_locs[:, 0] > 10) & (_locs[:, 0] < 90) & \\\n",
    "                        (_locs[:, 1] > 10) & (_locs[:, 1] < 90) \n",
    "        \n",
    "    \n",
    "    return locs[which_params], fluxes[which_params]\n"
   ]
  },
  {
   "cell_type": "code",
   "execution_count": null,
   "metadata": {},
   "outputs": [],
   "source": [
    "my_est_locs, my_est_fluxes = filter_params(my_est_locs, my_est_fluxes, full_image.shape[-1])\n",
    "\n",
    "portillos_est_locs, portillos_est_fluxes = filter_params(portillos_est_locs, portillos_est_fluxes, \n",
    "                                                         full_image.shape[-1])\n",
    "\n",
    "true_locs, true_fluxes = filter_params(true_locs, true_fluxes, \n",
    "                                       full_image.shape[-1])"
   ]
  },
  {
   "cell_type": "code",
   "execution_count": null,
   "metadata": {},
   "outputs": [],
   "source": [
    "print('my n_stars: ', len(my_est_locs))\n",
    "print('portillos n_stars: ', len(portillos_est_locs))\n",
    "print('true n_stars: ', len(true_locs))"
   ]
  },
  {
   "cell_type": "code",
   "execution_count": null,
   "metadata": {},
   "outputs": [],
   "source": [
    "_recon_mine = simulator.draw_image_from_params(locs = my_est_locs.unsqueeze(0), \n",
    "                                    fluxes = my_est_fluxes.unsqueeze(0),\n",
    "                                     n_stars = torch.Tensor([len(my_est_locs)]).type(torch.LongTensor), \n",
    "                                     add_noise = False).squeeze()\n",
    "\n",
    "_recon_portillos = \\\n",
    "    simulator.draw_image_from_params(locs = portillos_est_locs.unsqueeze(0), \n",
    "                                    fluxes = portillos_est_fluxes.unsqueeze(0),\n",
    "                                     n_stars = torch.Tensor([len(portillos_est_locs)]).type(torch.LongTensor), \n",
    "                                     add_noise = False).squeeze()\n",
    "\n",
    "_recon_truth = \\\n",
    "    simulator.draw_image_from_params(locs = true_locs.unsqueeze(0), \n",
    "                                    fluxes = true_fluxes.unsqueeze(0),\n",
    "                                     n_stars = torch.Tensor([len(true_locs)]).type(torch.LongTensor), \n",
    "                                     add_noise = False).squeeze()\n",
    "\n",
    "\n",
    "fig, axarr = plt.subplots(1, 3, figsize=(15, 6))\n",
    "\n",
    "axarr[0].matshow(_recon_mine)\n",
    "axarr[1].matshow(_recon_portillos)\n",
    "axarr[2].matshow(_recon_truth)"
   ]
  },
  {
   "cell_type": "code",
   "execution_count": null,
   "metadata": {},
   "outputs": [],
   "source": [
    "# check out MSEs\n",
    "\n",
    "_image = full_image[10:90, 10:90] - full_background[10:90, 10:90]\n",
    "\n",
    "_my_residual = _recon_mine[10:90, 10:90] - _image\n",
    "_portillos_residual = _recon_portillos[10:90, 10:90] - _image\n",
    "_true_residual = _recon_truth[10:90, 10:90] - _image\n",
    "\n",
    "print('my_mse: ', torch.mean(_my_residual**2))\n",
    "print('portillos_mse: ', torch.mean(_portillos_residual**2))\n",
    "print('truth_mse: ', torch.mean(_true_residual**2))\n",
    "\n",
    "fig, axarr = plt.subplots(1, 3, figsize=(15, 6))\n",
    "\n",
    "im1 = axarr[0].matshow(_my_residual)\n",
    "im2 = axarr[1].matshow(_portillos_residual)\n",
    "im3 = axarr[2].matshow(_true_residual)\n",
    "\n",
    "fig.colorbar(im1, ax = axarr[0])\n",
    "fig.colorbar(im2, ax = axarr[1])\n",
    "fig.colorbar(im3, ax = axarr[2])"
   ]
  },
  {
   "cell_type": "code",
   "execution_count": null,
   "metadata": {},
   "outputs": [],
   "source": [
    "fig, axarr = plt.subplots(1, 3, figsize=(20, 5))\n",
    "\n",
    "axarr[0].hist((_my_residual / _image).flatten(), bins = 100);\n",
    "\n",
    "axarr[1].hist((_portillos_residual / _image).flatten(), bins = 100);\n",
    "\n",
    "axarr[2].hist((_true_residual / _image).flatten(), bins = 100);"
   ]
  },
  {
   "cell_type": "code",
   "execution_count": null,
   "metadata": {},
   "outputs": [],
   "source": []
  },
  {
   "cell_type": "markdown",
   "metadata": {},
   "source": [
    "# Get summary statistics"
   ]
  },
  {
   "cell_type": "markdown",
   "metadata": {},
   "source": [
    "These are rather coarse measures. My completeness does not take into account the fact that several true stars might be matched with just one estimated star (so not all the true stars were detected); conversely my true positive rate does not take into account that several estimated stars might be matched with just one true star (so only one estimated star is a true positive). \n",
    "\n",
    "I tried the Hungarian algorithm to find a minimal matching, but this gave weird results because we're searching for a permutation that minimizes the **global** cost of the matching. "
   ]
  },
  {
   "cell_type": "code",
   "execution_count": null,
   "metadata": {},
   "outputs": [],
   "source": [
    "import image_statistics_lib"
   ]
  },
  {
   "cell_type": "code",
   "execution_count": null,
   "metadata": {},
   "outputs": [],
   "source": [
    "# completeness and tpr using locations only\n",
    "my_completeness, my_tpr, _, _ = \\\n",
    "    image_statistics_lib.get_summary_stats(my_est_locs, true_locs, \n",
    "                                           full_image.shape[-1], None, None)\n",
    "portillos_completeness, portillos_tpr, _, _ = \\\n",
    "    image_statistics_lib.get_summary_stats(portillos_est_locs, true_locs, \n",
    "                                           full_image.shape[-1], None, None)\n",
    "\n",
    "    \n",
    "print('my completeness: {:0.3f}'.format(my_completeness))\n",
    "print('portillos completeness: {:0.3f}\\n'.format(portillos_completeness))\n",
    "\n",
    "print('my true positive rate: {:0.3f}'.format(my_tpr))\n",
    "print('portillos true positive rate: {:0.3f}'.format(portillos_tpr))"
   ]
  },
  {
   "cell_type": "code",
   "execution_count": null,
   "metadata": {},
   "outputs": [],
   "source": [
    "# take into account fluxes\n",
    "my_completeness, my_tpr, _, _ = \\\n",
    "    image_statistics_lib.get_summary_stats(my_est_locs, true_locs, \n",
    "                                           full_image.shape[-1], \n",
    "                                           my_est_fluxes, true_fluxes)\n",
    "    \n",
    "portillos_completeness, portillos_tpr, _, _ = \\\n",
    "    image_statistics_lib.get_summary_stats(portillos_est_locs, true_locs, \n",
    "                                           full_image.shape[-1], \n",
    "                                           portillos_est_fluxes, true_fluxes)\n",
    "\n",
    "    \n",
    "print('my completeness: {:0.3f}'.format(my_completeness))\n",
    "print('portillos completeness: {:0.3f}\\n'.format(portillos_completeness))\n",
    "\n",
    "print('my true positive rate: {:0.3f}'.format(my_tpr))\n",
    "print('portillos true positive rate: {:0.3f}'.format(portillos_tpr))"
   ]
  },
  {
   "cell_type": "code",
   "execution_count": null,
   "metadata": {},
   "outputs": [],
   "source": [
    "my_completeness_vec, my_mag_vec = \\\n",
    "    image_statistics_lib.get_completeness_vec(my_est_locs, true_locs, full_image.shape[-1],\n",
    "                                              my_est_fluxes, true_fluxes)[0:2]\n",
    "\n",
    "portillos_completeness_vec, portillos_mag_vec = \\\n",
    "    image_statistics_lib.get_completeness_vec(portillos_est_locs, true_locs, full_image.shape[-1],\n",
    "                                              portillos_est_fluxes, true_fluxes)[0:2]\n",
    "\n",
    "plt.plot(my_mag_vec[0:-1], my_completeness_vec, '--x', label = 'Starnet')\n",
    "plt.plot(portillos_mag_vec[0:-1], portillos_completeness_vec, '--x', label = 'Portillos')\n",
    "\n",
    "plt.legend()\n",
    "plt.xlabel('true log flux')\n",
    "plt.ylabel('completeness')"
   ]
  },
  {
   "cell_type": "code",
   "execution_count": null,
   "metadata": {},
   "outputs": [],
   "source": [
    "my_tpr_vec, my_mag_vec = \\\n",
    "    image_statistics_lib.get_tpr_vec(my_est_locs, true_locs, full_image.shape[-1],\n",
    "                                              my_est_fluxes, true_fluxes)[0:2]\n",
    "\n",
    "portillos_tpr_vec, portillos_mag_vec = \\\n",
    "    image_statistics_lib.get_tpr_vec(portillos_est_locs, true_locs, full_image.shape[-1],\n",
    "                                              portillos_est_fluxes, true_fluxes)[0:2]\n",
    "\n",
    "plt.plot(my_mag_vec[0:-1], my_tpr_vec, '--x', label = 'Starnet')\n",
    "plt.plot(portillos_mag_vec[0:-1], portillos_tpr_vec, '--x', label = 'Portillos')\n",
    "\n",
    "plt.legend()\n",
    "plt.xlabel('estimated log flux')\n",
    "plt.ylabel('true positive rate')"
   ]
  },
  {
   "cell_type": "code",
   "execution_count": null,
   "metadata": {},
   "outputs": [],
   "source": [
    "which_tile_coords = (star_encoder.tile_coords[:, 0] > 9) & (star_encoder.tile_coords[:, 0] < 91) & \\\n",
    "                        (star_encoder.tile_coords[:, 1] > 9) & (star_encoder.tile_coords[:, 1] < 91)\n",
    "_tile_coords = star_encoder.tile_coords[which_tile_coords, :]"
   ]
  },
  {
   "cell_type": "code",
   "execution_count": null,
   "metadata": {},
   "outputs": [],
   "source": [
    "my_n_stars = image_utils.get_params_in_patches(_tile_coords, \n",
    "                                                  my_est_locs.unsqueeze(0), \n",
    "                                                  my_est_fluxes.unsqueeze(0), \n",
    "                                                slen = star_encoder.full_slen, \n",
    "                                                subimage_slen = star_encoder.stamp_slen, \n",
    "                                                 edge_padding = star_encoder.edge_padding)[2]\n",
    "\n",
    "portillos_n_stars = image_utils.get_params_in_patches(_tile_coords, \n",
    "                                                  portillos_est_locs.unsqueeze(0), \n",
    "                                                  portillos_est_fluxes.unsqueeze(0), \n",
    "                                                slen = star_encoder.full_slen, \n",
    "                                                subimage_slen = star_encoder.stamp_slen, \n",
    "                                                 edge_padding = star_encoder.edge_padding)[2]\n",
    "\n",
    "\n",
    "true_n_stars = image_utils.get_params_in_patches(_tile_coords, \n",
    "                                                  true_locs.unsqueeze(0), \n",
    "                                                  true_fluxes.unsqueeze(0), \n",
    "                                                slen = star_encoder.full_slen, \n",
    "                                                subimage_slen = star_encoder.stamp_slen, \n",
    "                                                 edge_padding = star_encoder.edge_padding)[2]\n"
   ]
  },
  {
   "cell_type": "code",
   "execution_count": null,
   "metadata": {},
   "outputs": [],
   "source": [
    "(portillos_n_stars[true_n_stars > 0] == true_n_stars[true_n_stars > 0]).float().mean()"
   ]
  },
  {
   "cell_type": "code",
   "execution_count": null,
   "metadata": {},
   "outputs": [],
   "source": [
    "(my_n_stars[true_n_stars > 0] == true_n_stars[true_n_stars > 0]).float().mean()"
   ]
  },
  {
   "cell_type": "code",
   "execution_count": null,
   "metadata": {},
   "outputs": [],
   "source": []
  },
  {
   "cell_type": "code",
   "execution_count": null,
   "metadata": {},
   "outputs": [],
   "source": []
  },
  {
   "cell_type": "code",
   "execution_count": null,
   "metadata": {},
   "outputs": [],
   "source": []
  },
  {
   "cell_type": "code",
   "execution_count": null,
   "metadata": {},
   "outputs": [],
   "source": [
    "plt.hist(portillos_n_stars)"
   ]
  },
  {
   "cell_type": "code",
   "execution_count": null,
   "metadata": {},
   "outputs": [],
   "source": [
    "plt.hist(my_n_stars)"
   ]
  },
  {
   "cell_type": "code",
   "execution_count": null,
   "metadata": {},
   "outputs": [],
   "source": []
  },
  {
   "cell_type": "code",
   "execution_count": null,
   "metadata": {},
   "outputs": [],
   "source": []
  },
  {
   "cell_type": "code",
   "execution_count": null,
   "metadata": {},
   "outputs": [],
   "source": []
  },
  {
   "cell_type": "code",
   "execution_count": null,
   "metadata": {},
   "outputs": [],
   "source": []
  },
  {
   "cell_type": "code",
   "execution_count": null,
   "metadata": {},
   "outputs": [],
   "source": []
  },
  {
   "cell_type": "code",
   "execution_count": null,
   "metadata": {},
   "outputs": [],
   "source": []
  },
  {
   "cell_type": "code",
   "execution_count": null,
   "metadata": {},
   "outputs": [],
   "source": []
  },
  {
   "cell_type": "raw",
   "metadata": {},
   "source": [
    "# get matrix of error in locations \n",
    "def get_locs_error(locs, true_locs, slen): \n",
    "    # truth x estimated\n",
    "    \n",
    "    _locs = locs * (slen - 1)\n",
    "    _true_locs = true_locs * (slen - 1)\n",
    "    \n",
    "    return torch.abs(_locs.unsqueeze(0) - _true_locs.unsqueeze(1)).max(2)[0]"
   ]
  },
  {
   "cell_type": "raw",
   "metadata": {},
   "source": [
    "my_locs_error = get_locs_error(my_est_locs, true_locs, full_image.shape[-1])\n",
    "\n",
    "# just check for my sanity \n",
    "i = int(np.random.choice(len(true_locs), 1))\n",
    "j = int(np.random.choice(len(my_est_locs), 1))\n",
    "assert my_locs_error[i, j] == torch.max(torch.abs(my_est_locs[j] * (full_image.shape[-1] - 1) - \\\n",
    "                                                  true_locs[i] * (full_image.shape[-1] - 1)))\n",
    "\n",
    "portillos_locs_error = get_locs_error(portillos_est_locs, true_locs, full_image.shape[-1])"
   ]
  },
  {
   "cell_type": "raw",
   "metadata": {},
   "source": [
    "These are rather coarse measures. My completeness does not take into account the fact that several true stars might be matched with just one estimated star (so not all the true stars were detected); conversely my true positive rate does not take into account that several estimated stars might be matched with just one true star (so only one estimated star is a true positive). \n",
    "\n",
    "I tried the Hungarian algorithm to find a minimal matching, but this gave weird results because we're searching for a permutation that minimizes the **global** cost of the matching. "
   ]
  },
  {
   "cell_type": "raw",
   "metadata": {},
   "source": [
    "# completeness: for each true star, is there at least one estimated star that is close \n",
    "print(torch.any(my_locs_error < 0.5, dim = 1).float().mean())\n",
    "print(torch.any(portillos_locs_error < 0.5, dim = 1).float().mean())"
   ]
  },
  {
   "cell_type": "raw",
   "metadata": {},
   "source": [
    "# true positive rate: for each estimated star, is the at least one true star that is close?\n",
    "print(torch.any(my_locs_error < 0.5, dim = 0).float().mean())\n",
    "print(torch.any(portillos_locs_error < 0.5, dim = 0).float().mean())"
   ]
  },
  {
   "cell_type": "raw",
   "metadata": {},
   "source": [
    "# Take into account fluxes?\n",
    "def get_fluxes_error(fluxes, true_fluxes): \n",
    "    # truth x estimated\n",
    "    return torch.abs(torch.log10(fluxes).unsqueeze(0) - \\\n",
    "                     torch.log10(true_fluxes).unsqueeze(1))\n"
   ]
  },
  {
   "cell_type": "raw",
   "metadata": {},
   "source": [
    "my_fluxes_error = get_fluxes_error(my_est_fluxes, true_fluxes)\n",
    "portillos_fluxes_error = get_fluxes_error(portillos_est_fluxes, true_fluxes)"
   ]
  },
  {
   "cell_type": "raw",
   "metadata": {},
   "source": [
    "# completeness: for each true star, is there at least one estimated star that is close \n",
    "print(torch.any((my_locs_error < 0.5) * (my_fluxes_error < 0.5), dim = 1).float().mean())\n",
    "print(torch.any((portillos_locs_error < 0.5) * (portillos_fluxes_error < 0.5), dim = 1).float().mean())"
   ]
  },
  {
   "cell_type": "raw",
   "metadata": {},
   "source": [
    "# true positive rate: for each estimated star, is the at least one true star that is close?\n",
    "print(torch.any((my_locs_error < 0.5) * (my_fluxes_error < 0.5), dim = 0).float().mean())\n",
    "print(torch.any((portillos_locs_error < 0.5) * (portillos_fluxes_error < 0.5), dim = 0).float().mean())"
   ]
  },
  {
   "cell_type": "raw",
   "metadata": {},
   "source": [
    "# get completeness as a function of magnitude\n",
    "\n",
    "def get_completeness_vec(est_locs, est_fluxes, true_locs, true_fluxes, slen): \n",
    "    true_mag = torch.log10(true_fluxes)\n",
    "\n",
    "    max_mag = torch.ceil(true_mag.max())\n",
    "    min_mag = torch.floor(true_mag.min())\n",
    "\n",
    "    mag_vec = np.arange(min_mag, max_mag, 0.5)\n",
    "\n",
    "    completeness_vec = np.zeros(len(mag_vec) - 1)\n",
    "\n",
    "    for i in range(len(mag_vec) - 1): \n",
    "        which_true = (true_mag > mag_vec[i]) & (true_mag < mag_vec[i + 1])\n",
    "\n",
    "        fluxes_error = get_fluxes_error(est_fluxes, true_fluxes[which_true])\n",
    "\n",
    "        locs_error = get_locs_error(est_locs, \n",
    "                                    true_locs[which_true], \n",
    "                                    slen)\n",
    "\n",
    "#         completeness_vec[i] = \\\n",
    "#             torch.any((locs_error < 0.5), dim = 1).float().mean()\n",
    "\n",
    "        completeness_vec[i] = \\\n",
    "            torch.any((locs_error < 0.5) * (fluxes_error < 0.5), dim = 1).float().mean()\n",
    "\n",
    "    return completeness_vec, mag_vec"
   ]
  },
  {
   "cell_type": "raw",
   "metadata": {},
   "source": [
    "my_completeness_vec, mag_vec = \\\n",
    "    get_completeness_vec(my_est_locs, my_est_fluxes, true_locs, true_fluxes, full_image.shape[-1])\n",
    "portillos_completeness_vec = \\\n",
    "    get_completeness_vec(portillos_est_locs, portillos_est_fluxes, true_locs, true_fluxes, \n",
    "                         full_image.shape[-1])[0]\n",
    "    \n",
    "plt.plot(mag_vec[:-1], my_completeness_vec, '-+', label = 'NN')\n",
    "plt.plot(mag_vec[:-1], portillos_completeness_vec, '-+', label = 'Portillos')\n",
    "plt.legend()\n",
    "plt.xlabel('log10(hubble flux)')\n",
    "plt.ylabel('completeness')"
   ]
  },
  {
   "cell_type": "raw",
   "metadata": {},
   "source": [
    "# get true positive rate as a function of magnitude \n",
    "def get_tpr_vec(est_locs, est_fluxes, true_locs, true_fluxes, slen): \n",
    "    est_mag = torch.log10(est_fluxes)\n",
    "\n",
    "    max_mag = torch.ceil(est_mag.max())\n",
    "    min_mag = torch.floor(est_mag.min())\n",
    "\n",
    "    mag_vec = np.arange(min_mag, max_mag, 0.5)\n",
    "\n",
    "    tpr_vec = np.zeros(len(mag_vec) - 1)\n",
    "\n",
    "    for i in range(len(mag_vec) - 1): \n",
    "        which_est = (est_mag > mag_vec[i]) & (est_mag < mag_vec[i + 1])\n",
    "\n",
    "        fluxes_error = get_fluxes_error(est_fluxes[which_est], true_fluxes)\n",
    "\n",
    "        locs_error = get_locs_error(est_locs[which_est], \n",
    "                                    true_locs, \n",
    "                                    slen)\n",
    "\n",
    "        tpr_vec[i] = \\\n",
    "            torch.any(locs_error < 0.5, dim = 0).float().mean()\n",
    "\n",
    "    return tpr_vec, mag_vec"
   ]
  },
  {
   "cell_type": "raw",
   "metadata": {},
   "source": [
    "my_tpr_vec, mag_vec = \\\n",
    "    get_tpr_vec(my_est_locs, my_est_fluxes, true_locs, true_fluxes, full_image.shape[-1])\n",
    "portillos_tpr_vec, mag_vec2 = \\\n",
    "    get_tpr_vec(portillos_est_locs, portillos_est_fluxes, true_locs, true_fluxes, \n",
    "                         full_image.shape[-1])\n",
    "    \n",
    "plt.plot(mag_vec[:-1], my_tpr_vec, '-+', label = 'NN')\n",
    "plt.plot(mag_vec2[:-1], portillos_tpr_vec, '-+', label = 'Portillos')\n",
    "plt.legend()\n",
    "plt.xlabel('log10(estimated flux)')\n",
    "plt.ylabel('True positive rate')"
   ]
  },
  {
   "cell_type": "code",
   "execution_count": null,
   "metadata": {},
   "outputs": [],
   "source": []
  },
  {
   "cell_type": "code",
   "execution_count": null,
   "metadata": {},
   "outputs": [],
   "source": []
  },
  {
   "cell_type": "raw",
   "metadata": {
    "code_folding": []
   },
   "source": [
    "map_locs_full_image, map_fluxes_full_image, n_stars = \\\n",
    "    image_utils.get_full_params_from_patch_params(map_locs, map_fluxes,\n",
    "                                                    star_encoder.tile_coords,\n",
    "                                                    full_image.shape[-1],\n",
    "                                                    star_encoder.stamp_slen,\n",
    "                                                    star_encoder.edge_padding,\n",
    "                                                    star_encoder.batchsize)"
   ]
  },
  {
   "cell_type": "raw",
   "metadata": {},
   "source": [
    "# match each true location to an estimated location \n",
    "from scipy.optimize import linear_sum_assignment\n",
    "\n",
    "row_indx, col_indx = linear_sum_assignment(my_locs_error.numpy())\n",
    "\n",
    "foo = my_locs_error[:, torch.Tensor(col_indx).type(torch.LongTensor)]"
   ]
  },
  {
   "cell_type": "raw",
   "metadata": {},
   "source": [
    "foo[1, 1]"
   ]
  },
  {
   "cell_type": "raw",
   "metadata": {},
   "source": [
    "torch.diag(foo)"
   ]
  },
  {
   "cell_type": "raw",
   "metadata": {},
   "source": [
    "plt.hist(torch.diag(foo))"
   ]
  },
  {
   "cell_type": "raw",
   "metadata": {},
   "source": [
    "plt.matshow(foo); \n",
    "plt.colorbar()"
   ]
  },
  {
   "cell_type": "code",
   "execution_count": null,
   "metadata": {},
   "outputs": [],
   "source": []
  },
  {
   "cell_type": "raw",
   "metadata": {},
   "source": [
    "# get fluxes for the whole image\n",
    "map_fluxes_full_image = map_fluxes.reshape(map_fluxes.shape[0] * map_fluxes.shape[1])\n",
    "\n",
    "# get location coordinates for full image\n",
    "map_locs_full_image = (map_locs * (star_encoder.stamp_slen - 1 - 2 * star_encoder.edge_padding) + \\\n",
    "                        star_encoder.tile_coords.unsqueeze(1).float() + star_encoder.edge_padding) / \\\n",
    "                            (full_image.shape[-1] - 1) * is_on_array.unsqueeze(2)\n",
    "\n",
    "map_locs_full_image = map_locs_full_image.reshape(map_fluxes.shape[0] * map_fluxes.shape[1], 2)\n",
    "\n",
    "# get only on stars\n",
    "map_locs_full_image = map_locs_full_image[map_fluxes_full_image > 0, :]\n",
    "map_fluxes_full_image = map_fluxes_full_image[map_fluxes_full_image > 0]\n",
    "\n",
    "_n_stars = torch.Tensor([len(map_fluxes_full_image)]).type(torch.LongTensor)\n",
    "vae_recon_mean = simulator.draw_image_from_params(locs = map_locs_full_image.unsqueeze(0), \n",
    "                                                fluxes = map_fluxes_full_image.unsqueeze(0),\n",
    "                                                 n_stars = _n_stars, \n",
    "                                                 add_noise = False).squeeze()\n",
    "\n",
    "residuals = vae_recon_mean - full_image"
   ]
  },
  {
   "cell_type": "raw",
   "metadata": {},
   "source": [
    "foo = torch.rand(3, 2)"
   ]
  },
  {
   "cell_type": "raw",
   "metadata": {},
   "source": [
    "foo.repeat(3, 1)"
   ]
  },
  {
   "cell_type": "code",
   "execution_count": null,
   "metadata": {},
   "outputs": [],
   "source": []
  },
  {
   "cell_type": "code",
   "execution_count": null,
   "metadata": {},
   "outputs": [],
   "source": []
  },
  {
   "cell_type": "raw",
   "metadata": {},
   "source": [
    "### Get my inferences on each patch"
   ]
  },
  {
   "cell_type": "raw",
   "metadata": {},
   "source": [
    "_true_locs = (true_locs / (full_image.shape[-1] - 1)).unsqueeze(0)\n",
    "_true_fluxes = true_fluxes.unsqueeze(0)\n",
    "\n",
    "# because I messed up the step ... \n",
    "_full_image = full_image[0:star_encoder.full_slen, 0:star_encoder.full_slen].unsqueeze(0).unsqueeze(0)\n",
    "_full_backgrounds = full_background[0:star_encoder.full_slen, 0:star_encoder.full_slen].unsqueeze(0).unsqueeze(0)\n",
    "\n",
    "# get tiled images \n",
    "image_stamps, true_subimage_locs, true_subimage_fluxes, true_n_stars, is_on_array = \\\n",
    "    star_encoder.get_image_stamps(_full_image, _true_locs, _true_fluxes, \n",
    "                                  trim_images = False)\n",
    "\n",
    "background_stamps = star_encoder.get_image_stamps(_full_backgrounds,\n",
    "                                    locs = None,\n",
    "                                    fluxes = None)[0]"
   ]
  },
  {
   "cell_type": "raw",
   "metadata": {},
   "source": []
  },
  {
   "cell_type": "raw",
   "metadata": {},
   "source": [
    "# get variational parameters on image patches\n",
    "logit_loc_mean, logit_loc_log_var, \\\n",
    "    log_flux_mean, log_flux_log_var, log_probs = \\\n",
    "        star_encoder(image_stamps, background_stamps)"
   ]
  },
  {
   "cell_type": "raw",
   "metadata": {},
   "source": [
    "# get map estimates for image patches\n",
    "map_n_stars = torch.argmax(log_probs, dim = 1)\n",
    "is_on_array = inv_kl_lib.get_is_on_from_n_stars(map_n_stars, star_encoder.max_detections)\n",
    "\n",
    "map_locs = torch.sigmoid(logit_loc_mean).detach()\n",
    "map_fluxes = torch.exp(log_flux_mean).detach() * is_on_array.float()"
   ]
  },
  {
   "cell_type": "raw",
   "metadata": {},
   "source": [
    "### convert estimates on patches to inference on full image"
   ]
  },
  {
   "cell_type": "raw",
   "metadata": {},
   "source": [
    "# these are slightly different subimage patches :/\n",
    "image_batched2, tile_coords2, _, _, _ = \\\n",
    "    image_utils.tile_images(torch.Tensor(image).unsqueeze(0).unsqueeze(0),\n",
    "                                subimage_slen = star_encoder.stamp_slen, \n",
    "                                step = star_encoder.step, \n",
    "                                return_tile_coords = True)\n",
    "\n",
    "logit_loc_mean, logit_loc_log_var, \\\n",
    "    log_flux_mean, log_flux_log_var, log_probs = \\\n",
    "        star_encoder(image_batched2, torch.Tensor(true_params['sky_intensity']))"
   ]
  },
  {
   "cell_type": "raw",
   "metadata": {},
   "source": []
  },
  {
   "cell_type": "raw",
   "metadata": {},
   "source": [
    "map_n_stars = map_n_stars = torch.argmax(log_probs, dim = 1)\n",
    "is_on_array = objectives_lib.get_is_on_from_n_stars(map_n_stars, star_encoder.max_detections)\n",
    "\n",
    "map_locs = torch.sigmoid(logit_loc_mean).detach()\n",
    "map_fluxes = torch.exp(log_flux_mean).detach() * is_on_array\n"
   ]
  },
  {
   "cell_type": "raw",
   "metadata": {},
   "source": [
    "# get fluxes for the whole image\n",
    "map_fluxes_full_image = map_fluxes.reshape(map_fluxes.shape[0] * map_fluxes.shape[1])\n",
    "\n",
    "# permute so that all the zeros are at the end\n",
    "map_fluxes_full_image, perm = torch.sort(map_fluxes_full_image, descending=True)\n",
    "\n",
    "# get location coordinates for full image\n",
    "map_locs_full_image = (map_locs * (star_encoder.stamp_slen - 1) + \\\n",
    "                        tile_coords2.unsqueeze(1).float() + star_encoder.edge_padding) / \\\n",
    "                            (star_encoder.full_slen - 1) * is_on_array.unsqueeze(2)\n",
    "map_locs_full_image = map_locs_full_image.reshape(map_fluxes.shape[0] * map_fluxes.shape[1], 2)\n",
    "\n",
    "# permute\n",
    "map_locs_full_image = map_locs_full_image[perm, :]\n",
    "\n",
    "recon_mean = simulator.draw_image_from_params(locs = map_locs_full_image.unsqueeze(0), \n",
    "                                                fluxes = map_fluxes_full_image.unsqueeze(0),\n",
    "                                                 n_stars = torch.sum(map_fluxes_full_image > 0).unsqueeze(0), \n",
    "                                              \n",
    "                                                 add_noise = False)"
   ]
  },
  {
   "cell_type": "raw",
   "metadata": {},
   "source": [
    "plt.matshow(image.squeeze())\n",
    "plt.colorbar()"
   ]
  },
  {
   "cell_type": "raw",
   "metadata": {},
   "source": [
    "plt.matshow(recon_mean.squeeze())\n",
    "plt.colorbar();"
   ]
  },
  {
   "cell_type": "raw",
   "metadata": {},
   "source": []
  },
  {
   "cell_type": "raw",
   "metadata": {},
   "source": []
  },
  {
   "cell_type": "raw",
   "metadata": {},
   "source": []
  },
  {
   "cell_type": "raw",
   "metadata": {},
   "source": [
    "_psf = simulated_datasets_lib._trim_psf(simulator.psf, \n",
    "                                        star_encoder.stamp_slen - 2 * star_encoder.edge_padding)\n",
    "_backgrounds = torch.ones((image_stamps.shape[0], 1, 1, 1)) * torch.Tensor(true_params['sky_intensity'])\n",
    "\n",
    "indx = [11]\n",
    "\n",
    "plotting_utils.print_results(star_encoder, \n",
    "                                image_stamps[indx], \n",
    "                                _backgrounds[indx], \n",
    "                                _psf, \n",
    "                                true_subimage_locs[indx], \n",
    "                                is_on_array[indx],\n",
    "                                use_true_n_stars = False)"
   ]
  },
  {
   "cell_type": "raw",
   "metadata": {},
   "source": [
    "step = 4\n",
    "\n",
    "image_batched, tile_coords, nx_patches, ny_patches, n_patches = \\\n",
    "    image_utils.tile_images(torch.Tensor(image).unsqueeze(0).unsqueeze(0),\n",
    "                                subimage_slen = subimage_slen, \n",
    "                                step = step, \n",
    "                                return_tile_coords = True)\n",
    "\n",
    "if include_classical_catalogue: \n",
    "    recon_mean_batched = \\\n",
    "        image_utils.tile_images(recon_mean,\n",
    "                                subimage_slen = subimage_slen, \n",
    "                                step = step, \n",
    "                                return_tile_coords = True)[0]\n",
    "\n",
    "tile_coords = tile_coords.numpy()"
   ]
  },
  {
   "cell_type": "raw",
   "metadata": {},
   "source": [
    "for i in range(10): \n",
    "    fig, axarr = plt.subplots(1, 3, figsize=(15, 4))\n",
    "    \n",
    "    # choose an image\n",
    "    indx = int(np.random.choice(image_batched.shape[0], 1))\n",
    "    \n",
    "    # the coordinates for the subimage         \n",
    "    x0 = tile_coords[indx, 0]\n",
    "    x1 = tile_coords[indx, 1]\n",
    "    \n",
    "    # true locations for subimage \n",
    "    which_true = (true_locs[:, 0] > x0) & \\\n",
    "                    (true_locs[:, 0] < (x0 + subimage_slen - 1)) & \\\n",
    "                    (true_locs[:, 1] > x1) & \\\n",
    "                    (true_locs[:, 1] < (x1 + subimage_slen - 1))\n",
    "\n",
    "    \n",
    "    # plot image\n",
    "    axarr[0].matshow(image_batched[indx].squeeze())\n",
    "    \n",
    "    # plot true locations\n",
    "    axarr[0].scatter(true_locs[which_true, 1] - x1, \n",
    "                    true_locs[which_true, 0] - x0, \n",
    "                     color = 'blue', marker = 'o')\n",
    "    \n",
    "    # plot posterior samples\n",
    "    which_locs_sampled = (x0_loc_samples > x0) & \\\n",
    "                    (x0_loc_samples < (x0 + subimage_slen - 1)) & \\\n",
    "                    (x1_loc_samples > x1) & \\\n",
    "                    (x1_loc_samples < (x1 + subimage_slen - 1))\n",
    "                \n",
    "    axarr[0].scatter(x1_loc_samples[which_locs_sampled] - x1, \n",
    "                    x0_loc_samples[which_locs_sampled] - x0, \n",
    "                    color = 'r', marker = 'x', alpha = 0.1)\n",
    "    axarr[0].set_title('observed; indx {}\\n'.format(indx,))\n",
    "    \n",
    "    if include_classical_catalogue: \n",
    "        # plot image\n",
    "        foo = axarr[1].matshow(image_batched[indx].squeeze())\n",
    "\n",
    "        # plot true locations \n",
    "        axarr[1].scatter(true_locs[which_true, 1] - x1, \n",
    "                        true_locs[which_true, 0] - x0, \n",
    "                         color = 'blue', marker = 'o')\n",
    "\n",
    "        # plot estimated locations from condensed cataloge\n",
    "        which_locs = (x0_loc > x0) & \\\n",
    "                        (x0_loc < (x0 + subimage_slen - 1)) & \\\n",
    "                        (x1_loc > x1) & \\\n",
    "                        (x1_loc < (x1 + subimage_slen - 1))\n",
    "        axarr[1].scatter(x1_loc[which_locs] - x1, \n",
    "                    x0_loc[which_locs] - x0, \n",
    "                    color = 'r', marker = 'x')   \n",
    "\n",
    "        fig.colorbar(foo, ax=axarr[1])\n",
    "\n",
    "        axarr[1].set_title('observed; tile_coords {}\\n'.format([x0, x1]))\n",
    "\n",
    "        foo2 = axarr[2].matshow(recon_mean_batched[indx].squeeze())\n",
    "\n",
    "        axarr[2].scatter(x1_loc[which_locs] - tile_coords[indx, 1], \n",
    "                    x0_loc[which_locs] - tile_coords[indx, 0], \n",
    "                    color = 'r', marker = 'x')\n",
    "\n",
    "        fig.colorbar(foo2, ax=axarr[2])\n",
    "\n",
    "        axarr[2].set_title('reconstructed \\n ')"
   ]
  },
  {
   "cell_type": "raw",
   "metadata": {},
   "source": [
    "x0 = 12\n",
    "x1 = 76\n",
    "    \n",
    "plotting_utils.plot_subimage(image, x0, x1, subimage_slen, x0_loc, x1_loc)"
   ]
  },
  {
   "cell_type": "raw",
   "metadata": {},
   "source": [
    "# Compare with my NN "
   ]
  },
  {
   "cell_type": "raw",
   "metadata": {},
   "source": [
    "import starnet_vae_lib"
   ]
  },
  {
   "cell_type": "raw",
   "metadata": {},
   "source": [
    "star_encoder = starnet_vae_lib.StarEncoder(full_slen = image.shape[-1],\n",
    "                                            stamp_slen = 15,\n",
    "                                            step = 11,\n",
    "                                            edge_padding = 2, \n",
    "                                            n_bands = 1,\n",
    "                                            max_detections = 15)"
   ]
  },
  {
   "cell_type": "raw",
   "metadata": {},
   "source": [
    "star_encoder.load_state_dict(torch.load('../fits/starnet_invKL_encoder_batched_images_400stars_default', \n",
    "                               map_location=lambda storage, loc: storage))\n",
    "star_encoder.eval(); "
   ]
  },
  {
   "cell_type": "raw",
   "metadata": {},
   "source": [
    "torch.Tensor(true_params['sky_intensity'])"
   ]
  },
  {
   "cell_type": "raw",
   "metadata": {},
   "source": [
    "# these are slightly different subimage patches :/\n",
    "image_batched2, tile_coords2, _, _, _ = \\\n",
    "    image_utils.tile_images(torch.Tensor(image).unsqueeze(0).unsqueeze(0),\n",
    "                                subimage_slen = star_encoder.stamp_slen, \n",
    "                                step = star_encoder.step, \n",
    "                                return_tile_coords = True)\n",
    "\n",
    "logit_loc_mean, logit_loc_log_var, \\\n",
    "    log_flux_mean, log_flux_log_var, log_probs = \\\n",
    "        star_encoder(image_batched2, torch.Tensor(true_params['sky_intensity']))"
   ]
  },
  {
   "cell_type": "raw",
   "metadata": {},
   "source": [
    "import inv_KL_objective_lib as objectives_lib"
   ]
  },
  {
   "cell_type": "raw",
   "metadata": {},
   "source": [
    "map_n_stars = map_n_stars = torch.argmax(log_probs, dim = 1)\n",
    "is_on_array = objectives_lib.get_is_on_from_n_stars(map_n_stars, star_encoder.max_detections)\n",
    "\n",
    "map_locs = torch.sigmoid(logit_loc_mean).detach()\n",
    "map_fluxes = torch.exp(log_flux_mean).detach() * is_on_array\n"
   ]
  },
  {
   "cell_type": "raw",
   "metadata": {},
   "source": [
    "# get fluxes for the whole image\n",
    "map_fluxes_full_image = map_fluxes.reshape(map_fluxes.shape[0] * map_fluxes.shape[1])\n",
    "\n",
    "# permute so that all the zeros are at the end\n",
    "map_fluxes_full_image, perm = torch.sort(map_fluxes_full_image, descending=True)\n",
    "\n",
    "# get location coordinates for full image\n",
    "map_locs_full_image = (map_locs * (star_encoder.stamp_slen - 1) + \\\n",
    "                        tile_coords2.unsqueeze(1).float() + star_encoder.edge_padding) / \\\n",
    "                            (star_encoder.full_slen - 1) * is_on_array.unsqueeze(2)\n",
    "map_locs_full_image = map_locs_full_image.reshape(map_fluxes.shape[0] * map_fluxes.shape[1], 2)\n",
    "\n",
    "# permute\n",
    "map_locs_full_image = map_locs_full_image[perm, :]\n",
    "\n",
    "recon_mean = simulator.draw_image_from_params(locs = map_locs_full_image.unsqueeze(0), \n",
    "                                                fluxes = map_fluxes_full_image.unsqueeze(0),\n",
    "                                                 n_stars = torch.sum(map_fluxes_full_image > 0).unsqueeze(0), \n",
    "                                              \n",
    "                                                 add_noise = False)"
   ]
  },
  {
   "cell_type": "raw",
   "metadata": {},
   "source": [
    "plt.matshow(image.squeeze())\n",
    "plt.colorbar()"
   ]
  },
  {
   "cell_type": "raw",
   "metadata": {},
   "source": [
    "plt.matshow(recon_mean.squeeze())\n",
    "plt.colorbar();"
   ]
  },
  {
   "cell_type": "raw",
   "metadata": {},
   "source": []
  },
  {
   "cell_type": "raw",
   "metadata": {},
   "source": [
    "# fig, axarr = plt.subplots(1, 2, figsize=(15, 4))\n",
    "\n",
    "# x0 = 56\n",
    "# x1 = 57\n",
    "\n",
    "# foo = axarr[0].matshow(image[x0:(x0 + subimage_slen), x1:(x1 + subimage_slen)].squeeze())\n",
    "\n",
    "# # plot estimated locations\n",
    "# which_locs = (x0_loc > x0) & \\\n",
    "#                 (x0_loc < (x0 + subimage_slen - 1)) & \\\n",
    "#                 (x1_loc > x1) & \\\n",
    "#                 (x1_loc < (x1 + subimage_slen - 1))\n",
    "\n",
    "# axarr[0].scatter(x1_loc[which_locs] - x1, \n",
    "#             x0_loc[which_locs] - x0, \n",
    "#             color = 'r', marker = 'x')\n",
    "\n",
    "\n",
    "# # plot true locations\n",
    "# which_true = (true_locs[:, 0] > x0) & \\\n",
    "#                 (true_locs[:, 0] < (x0 + subimage_slen - 1)) & \\\n",
    "#                 (true_locs[:, 1] > x1) & \\\n",
    "#                 (true_locs[:, 1] < (x1 + subimage_slen - 1))\n",
    "# axarr[0].scatter(true_locs[which_true, 1] - x1, \n",
    "#                 true_locs[which_true, 0] - x0, \n",
    "#                  color = 'blue', marker = 'o')\n",
    "\n",
    "# fig.colorbar(foo, ax=axarr[0])\n",
    "\n",
    "# axarr[0].set_title('observed image; tile_coords {}\\n'.format([x0, x1]))\n",
    "\n",
    "# if use_classical_catalogue: \n",
    "#     foo2 = axarr[1].matshow(recon_mean.squeeze()[x0:(x0 + subimage_slen), x1:(x1 + subimage_slen)])\n",
    "#     axarr[1].scatter(x1_loc[which_locs] - x0,  \n",
    "#                 x0_loc[which_locs] - x1, \n",
    "#                 color = 'r', marker = 'x')\n",
    "\n",
    "#     fig.colorbar(foo2, ax=axarr[1])"
   ]
  },
  {
   "cell_type": "raw",
   "metadata": {},
   "source": []
  },
  {
   "cell_type": "raw",
   "metadata": {},
   "source": []
  }
 ],
 "metadata": {
  "kernelspec": {
   "display_name": "Python (pytorch_04)",
   "language": "python",
   "name": "pytorch_update"
  },
  "language_info": {
   "codemirror_mode": {
    "name": "ipython",
    "version": 3
   },
   "file_extension": ".py",
   "mimetype": "text/x-python",
   "name": "python",
   "nbconvert_exporter": "python",
   "pygments_lexer": "ipython3",
   "version": "3.6.8"
  }
 },
 "nbformat": 4,
 "nbformat_minor": 2
}
