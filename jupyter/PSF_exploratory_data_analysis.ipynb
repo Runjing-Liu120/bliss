{
 "cells": [
  {
   "cell_type": "code",
   "execution_count": null,
   "metadata": {},
   "outputs": [],
   "source": [
    "import numpy as np\n",
    "import torch\n",
    "\n",
    "import json\n",
    "\n",
    "import matplotlib.pyplot as plt\n",
    "\n",
    "import sys\n",
    "sys.path.insert(0, '../')\n",
    "import simulated_datasets_lib\n",
    "import sdss_dataset_lib\n",
    "import sdss_psf\n",
    "import image_utils \n",
    "\n",
    "import starnet_vae_lib\n",
    "import inv_kl_objective_lib as inv_kl_lib\n",
    "import plotting_utils\n",
    "import wake_sleep_lib\n",
    "\n",
    "import psf_transform_lib\n",
    "import image_statistics_lib\n",
    "\n",
    "np.random.seed(34534)"
   ]
  },
  {
   "cell_type": "code",
   "execution_count": null,
   "metadata": {},
   "outputs": [],
   "source": [
    "bands = [2]"
   ]
  },
  {
   "cell_type": "code",
   "execution_count": null,
   "metadata": {},
   "outputs": [],
   "source": [
    "sdss_hubble_data = sdss_dataset_lib.SDSSHubbleData(x0 = 600, x1 = 0, slen = 800, \n",
    "                                                   bands = bands, fudge_conversion=1.0)\n",
    "\n",
    "# image \n",
    "full_image = sdss_hubble_data.sdss_image.unsqueeze(0)\n",
    "full_background = sdss_hubble_data.sdss_background.unsqueeze(0) \n",
    "\n",
    "# true parameters\n",
    "true_locs = sdss_hubble_data.locs\n",
    "true_fluxes = sdss_hubble_data.fluxes\n"
   ]
  },
  {
   "cell_type": "code",
   "execution_count": null,
   "metadata": {},
   "outputs": [],
   "source": [
    "slen0 = full_image.shape[2]\n",
    "slen1 = full_image.shape[3]"
   ]
  },
  {
   "cell_type": "code",
   "execution_count": null,
   "metadata": {},
   "outputs": [],
   "source": [
    "plt.matshow(full_image.squeeze())"
   ]
  },
  {
   "cell_type": "raw",
   "metadata": {},
   "source": [
    "# Get reconstruction"
   ]
  },
  {
   "cell_type": "raw",
   "metadata": {},
   "source": [
    "import fitsio"
   ]
  },
  {
   "cell_type": "raw",
   "metadata": {},
   "source": [
    "psf_dir = '../data/'\n",
    "psf_r = fitsio.FITS(psf_dir + 'sdss-002583-2-0136-psf-r.fits')[0].read()"
   ]
  },
  {
   "cell_type": "raw",
   "metadata": {},
   "source": [
    "psf_og = np.array([psf_r])\n",
    "sky_intensity = torch.Tensor([686.])"
   ]
  },
  {
   "cell_type": "raw",
   "metadata": {},
   "source": [
    "# get reconstruction \n",
    "simulator = simulated_datasets_lib.StarSimulator(psf=psf_og, \n",
    "                                                slen = full_image.shape[-1], \n",
    "                                                transpose_psf = False,\n",
    "                                                sky_intensity = sky_intensity)"
   ]
  },
  {
   "cell_type": "raw",
   "metadata": {},
   "source": [
    "truth_recon = simulator.draw_image_from_params(locs = sdss_hubble_data.locs.unsqueeze(0), \n",
    "                            fluxes = sdss_hubble_data.fluxes.unsqueeze(0),\n",
    "                            n_stars = torch.Tensor([len(sdss_hubble_data.fluxes)]).type(torch.LongTensor), \n",
    "                            add_noise = False).squeeze(0)"
   ]
  },
  {
   "cell_type": "raw",
   "metadata": {},
   "source": [
    "plt.matshow(truth_recon[0])"
   ]
  },
  {
   "cell_type": "raw",
   "metadata": {},
   "source": [
    "foo = (truth_recon[0] - full_image[0, 0]) / full_image[0, 0]\n",
    "plt.matshow(foo, vmax = foo.abs().max(), vmin = - foo.abs().max(), cmap = plt.get_cmap('bwr')) \n",
    "plt.colorbar()"
   ]
  },
  {
   "cell_type": "code",
   "execution_count": null,
   "metadata": {},
   "outputs": [],
   "source": []
  },
  {
   "cell_type": "code",
   "execution_count": null,
   "metadata": {},
   "outputs": [],
   "source": [
    "plt.hist(torch.log10(true_fluxes.squeeze()), bins = 100);"
   ]
  },
  {
   "cell_type": "code",
   "execution_count": null,
   "metadata": {},
   "outputs": [],
   "source": [
    "def get_star_patches(full_image, true_locs, which_stars, subimage_slen):\n",
    "    \n",
    "    assert len(full_image.shape) == 4\n",
    "    assert (true_locs >= 0).all() & (true_locs <= 1).all()\n",
    "    \n",
    "    slen0 = full_image.shape[-2]\n",
    "    slen1 = full_image.shape[-1]\n",
    "    \n",
    "    which_locs = true_locs[which_stars]\n",
    "    \n",
    "    star_patches = torch.zeros(which_locs.shape[0], subimage_slen, subimage_slen)\n",
    "    patch_coords = torch.zeros(which_locs.shape[0], 2)\n",
    "    \n",
    "    for i in range(which_stars.shape[0]):\n",
    "        loc_i = which_locs[i] * torch.Tensor([slen0 - 1., slen1 - 1.])\n",
    "\n",
    "        which_pix = loc_i.round().type(torch.long)\n",
    "\n",
    "        x0 = int(which_pix[0] - (subimage_slen - 1) / 2)\n",
    "        x1 = int(which_pix[1] - (subimage_slen - 1) / 2)\n",
    "        \n",
    "        assert x0 > 0\n",
    "        assert x1 > 0\n",
    "        assert (x0 + subimage_slen) < slen0\n",
    "        assert (x1 + subimage_slen) < slen1\n",
    "        \n",
    "        star_patches[i] = full_image[0, 0, x0:(x0 + subimage_slen), x1:(x1 + subimage_slen)]\n",
    "        patch_coords[i] = torch.Tensor([x0, x1])\n",
    "        \n",
    "    return star_patches, patch_coords"
   ]
  },
  {
   "cell_type": "code",
   "execution_count": null,
   "metadata": {},
   "outputs": [],
   "source": [
    "which_stars = torch.nonzero((torch.log10(true_fluxes.squeeze()) > 5.0) & \n",
    "                           (true_locs[:, 0] < 0.95) & (true_locs[:, 1] < 0.95) & \n",
    "                           (true_locs[:, 0] > 0.05) & (true_locs[:, 1] > 0.05)).squeeze()\n"
   ]
  },
  {
   "cell_type": "code",
   "execution_count": null,
   "metadata": {},
   "outputs": [],
   "source": [
    "subimage_slen = 5"
   ]
  },
  {
   "cell_type": "code",
   "execution_count": null,
   "metadata": {},
   "outputs": [],
   "source": [
    "star_patches, patch_coords = \\\n",
    "    get_star_patches(full_image, true_locs, which_stars, subimage_slen)"
   ]
  },
  {
   "cell_type": "code",
   "execution_count": null,
   "metadata": {},
   "outputs": [],
   "source": [
    "for i in range(20, 30): \n",
    "    # plot \n",
    "    fig, axarr = plt.subplots(1, 3, figsize=(15, 4))\n",
    "\n",
    "    x0 = int(patch_coords[i, 0])\n",
    "    x1 = int(patch_coords[i, 1])\n",
    "    \n",
    "    plotting_utils.plot_subimage(axarr[0], full_image[0, 0], \n",
    "                                None, \n",
    "                                true_locs, \n",
    "                                x0 = x0, \n",
    "                                x1 = x1, \n",
    "                                subimage_slen = subimage_slen, \n",
    "                                add_colorbar = True, global_fig = fig,\n",
    "                                diverging_cmap = False)\n",
    "\n",
    "    axarr[0].set_xticklabels(np.arange(x1 - 1, x1 + 7));\n",
    "    axarr[0].set_yticklabels(np.arange(x0 - 1, x0 + 7)); \n",
    "    \n",
    "    axarr[1].matshow(star_patches[i])"
   ]
  },
  {
   "cell_type": "code",
   "execution_count": null,
   "metadata": {},
   "outputs": [],
   "source": []
  },
  {
   "cell_type": "code",
   "execution_count": null,
   "metadata": {},
   "outputs": [],
   "source": [
    "# normalize\n",
    "star_patches_normalized = \\\n",
    "    star_patches / star_patches.view(star_patches.shape[0], -1).sum(1).unsqueeze(-1).unsqueeze(-1)"
   ]
  },
  {
   "cell_type": "code",
   "execution_count": null,
   "metadata": {},
   "outputs": [],
   "source": [
    "plt.matshow(star_patches_normalized.mean(0))\n",
    "plt.colorbar()"
   ]
  },
  {
   "cell_type": "code",
   "execution_count": null,
   "metadata": {},
   "outputs": [],
   "source": []
  },
  {
   "cell_type": "code",
   "execution_count": null,
   "metadata": {},
   "outputs": [],
   "source": []
  },
  {
   "cell_type": "code",
   "execution_count": null,
   "metadata": {},
   "outputs": [],
   "source": []
  },
  {
   "cell_type": "code",
   "execution_count": null,
   "metadata": {},
   "outputs": [],
   "source": []
  },
  {
   "cell_type": "code",
   "execution_count": null,
   "metadata": {},
   "outputs": [],
   "source": []
  },
  {
   "cell_type": "code",
   "execution_count": null,
   "metadata": {},
   "outputs": [],
   "source": []
  },
  {
   "cell_type": "code",
   "execution_count": null,
   "metadata": {},
   "outputs": [],
   "source": []
  },
  {
   "cell_type": "raw",
   "metadata": {},
   "source": [
    "which_locs = true_locs[which_stars]"
   ]
  },
  {
   "cell_type": "raw",
   "metadata": {},
   "source": [
    "subimage_slen = 5\n",
    "star_patches = torch.zeros(which_locs.shape[0], subimage_slen, subimage_slen)\n",
    "which_keep = torch.ones(which_locs.shape[0])"
   ]
  },
  {
   "cell_type": "raw",
   "metadata": {},
   "source": [
    "for i in range(which_keep.shape[0]): \n",
    "      \n",
    "    loc_i = which_locs[i] * torch.Tensor([slen0 - 1., slen1 - 1.])\n",
    "    \n",
    "    which_pix = loc_i.round().type(torch.long)\n",
    "    \n",
    "    x0 = int(which_pix[0] - 2)\n",
    "    x1 = int(which_pix[1] - 2)\n",
    "    \n",
    "    if (x0 > (slen0 - 4)) or (x1 > (slen1 - 4)) or (x0 < 3) or (x1 < 3):   \n",
    "        which_keep[i] = 0\n",
    "        continue \n",
    "        \n",
    "    star_patches[i] = full_image[0, 0, x0:(x0 + subimage_slen), x1:(x1 + subimage_slen)]\n",
    "    \n",
    "    if i < 20: \n",
    "        # plot \n",
    "        fig, axarr = plt.subplots(1, 3, figsize=(15, 4))\n",
    "    \n",
    "        plotting_utils.plot_subimage(axarr[0], full_image[0, 0], \n",
    "                                    None, \n",
    "                                    which_locs, \n",
    "                                    x0 = x0, \n",
    "                                    x1 = x1, \n",
    "                                    subimage_slen = subimage_slen, \n",
    "                                    add_colorbar = True, global_fig = fig,\n",
    "                                    diverging_cmap = False)\n",
    "\n",
    "        axarr[0].set_xticklabels(np.arange(x1 - 1, x1 + 7));\n",
    "        axarr[0].set_yticklabels(np.arange(x0 - 1, x0 + 7)); \n",
    "\n",
    "        axarr[0].set_title('loc: {}\\n'.format(loc_i))    "
   ]
  },
  {
   "cell_type": "raw",
   "metadata": {},
   "source": [
    "star_patches = star_patches[which_keep == 1]"
   ]
  },
  {
   "cell_type": "raw",
   "metadata": {},
   "source": [
    "for i in range(10): \n",
    "    plt.matshow(star_patches[i])\n",
    "    plt.colorbar()"
   ]
  },
  {
   "cell_type": "raw",
   "metadata": {},
   "source": [
    "# normalize\n",
    "star_patches_normalized = \\\n",
    "    star_patches / star_patches.view(star_patches.shape[0], -1).sum(1).unsqueeze(-1).unsqueeze(-1)"
   ]
  },
  {
   "cell_type": "raw",
   "metadata": {},
   "source": [
    "plt.matshow(star_patches_normalized.mean(0))\n",
    "plt.colorbar()"
   ]
  },
  {
   "cell_type": "raw",
   "metadata": {},
   "source": []
  },
  {
   "cell_type": "raw",
   "metadata": {},
   "source": []
  },
  {
   "cell_type": "raw",
   "metadata": {},
   "source": [
    "which_stars = torch.nonzero((torch.log10(true_fluxes.squeeze()) > 3.0) & \\\n",
    "                            (torch.log10(true_fluxes.squeeze()) < 4.0)).squeeze()\n",
    "which_locs = true_locs[which_stars]"
   ]
  },
  {
   "cell_type": "raw",
   "metadata": {},
   "source": [
    "subimage_slen = 5\n",
    "star_patches = torch.zeros(which_locs.shape[0], subimage_slen, subimage_slen)\n",
    "which_keep = torch.ones(which_locs.shape[0])"
   ]
  },
  {
   "cell_type": "raw",
   "metadata": {},
   "source": [
    "for i in range(which_keep.shape[0]): \n",
    "      \n",
    "    loc_i = which_locs[i] * torch.Tensor([slen0 - 1., slen1 - 1.])\n",
    "    \n",
    "    which_pix = loc_i.round().type(torch.long)\n",
    "    \n",
    "    x0 = int(which_pix[0] - 2)\n",
    "    x1 = int(which_pix[1] - 2)\n",
    "    \n",
    "    if (x0 > (slen0 - 4)) or (x1 > (slen1 - 4)) or (x0 < 3) or (x1 < 3):   \n",
    "        which_keep[i] = 0\n",
    "        continue \n",
    "        \n",
    "    star_patches[i] = full_image[0, 0, x0:(x0 + subimage_slen), x1:(x1 + subimage_slen)]\n",
    "    \n",
    "    if i < 20: \n",
    "        # plot \n",
    "        fig, axarr = plt.subplots(1, 3, figsize=(15, 4))\n",
    "    \n",
    "        plotting_utils.plot_subimage(axarr[0], full_image[0, 0], \n",
    "                                    None, \n",
    "                                    which_locs, \n",
    "                                    x0 = x0, \n",
    "                                    x1 = x1, \n",
    "                                    subimage_slen = subimage_slen, \n",
    "                                    add_colorbar = True, global_fig = fig,\n",
    "                                    diverging_cmap = False)\n",
    "\n",
    "        axarr[0].set_xticklabels(np.arange(x1 - 1, x1 + 7));\n",
    "        axarr[0].set_yticklabels(np.arange(x0 - 1, x0 + 7)); \n",
    "\n",
    "        axarr[0].set_title('loc: {}\\n'.format(loc_i))    "
   ]
  },
  {
   "cell_type": "raw",
   "metadata": {},
   "source": [
    "star_patches = star_patches[which_keep == 1]"
   ]
  },
  {
   "cell_type": "raw",
   "metadata": {},
   "source": [
    "for i in range(10): \n",
    "    plt.matshow(star_patches[i])\n",
    "    plt.colorbar()"
   ]
  },
  {
   "cell_type": "raw",
   "metadata": {},
   "source": [
    "# normalize\n",
    "star_patches_normalized = \\\n",
    "    star_patches / star_patches.view(star_patches.shape[0], -1).sum(1).unsqueeze(-1).unsqueeze(-1)"
   ]
  },
  {
   "cell_type": "raw",
   "metadata": {},
   "source": [
    "plt.matshow(star_patches_normalized.mean(0))\n",
    "plt.colorbar()"
   ]
  },
  {
   "cell_type": "raw",
   "metadata": {},
   "source": []
  },
  {
   "cell_type": "raw",
   "metadata": {},
   "source": []
  },
  {
   "cell_type": "raw",
   "metadata": {},
   "source": [
    "bool_keep = torch.ones(which_locs.shape[0])"
   ]
  },
  {
   "cell_type": "raw",
   "metadata": {},
   "source": [
    "for i in range(which_locs.shape[0]): \n",
    "    \n",
    "    loc_i = which_locs[i] * torch.Tensor([slen0, slen1])\n",
    "    \n",
    "    which_pix = loc_i.round().type(torch.long)\n",
    "    \n",
    "    indx0 = which_pix[0]\n",
    "    indx1 = which_pix[1]\n",
    "    \n",
    "    # if too close to the edge\n",
    "    \n",
    "    # if not centered on a pixel \n",
    "    if ((indx0 - loc_i[0]).abs() > 0.25) or ((indx1 - loc_i[1]).abs() > 0.25): \n",
    "        bool_keep[i] = 0\n",
    "    \n",
    "    star_patches[i] = full_image[0, 0, (indx0 - 3):(indx0 + 4), (indx1 - 3):(indx1 + 4)]\n"
   ]
  },
  {
   "cell_type": "raw",
   "metadata": {},
   "source": []
  },
  {
   "cell_type": "raw",
   "metadata": {},
   "source": [
    "len(bool_keep)"
   ]
  },
  {
   "cell_type": "raw",
   "metadata": {
    "code_folding": []
   },
   "source": [
    "for i in range(len(bool_keep)): \n",
    "    if bool_keep[i] == 0: \n",
    "        continue \n",
    "        \n",
    "    plt.matshow(star_patches[i])"
   ]
  },
  {
   "cell_type": "raw",
   "metadata": {},
   "source": []
  },
  {
   "cell_type": "raw",
   "metadata": {},
   "source": []
  },
  {
   "cell_type": "raw",
   "metadata": {},
   "source": []
  },
  {
   "cell_type": "raw",
   "metadata": {},
   "source": []
  }
 ],
 "metadata": {
  "kernelspec": {
   "display_name": "Python (pytorch_04)",
   "language": "python",
   "name": "pytorch_update"
  },
  "language_info": {
   "codemirror_mode": {
    "name": "ipython",
    "version": 3
   },
   "file_extension": ".py",
   "mimetype": "text/x-python",
   "name": "python",
   "nbconvert_exporter": "python",
   "pygments_lexer": "ipython3",
   "version": "3.6.8"
  }
 },
 "nbformat": 4,
 "nbformat_minor": 2
}
