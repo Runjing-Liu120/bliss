{
 "cells": [
  {
   "cell_type": "code",
   "execution_count": null,
   "metadata": {},
   "outputs": [],
   "source": [
    "import numpy as np\n",
    "import torch\n",
    "\n",
    "import json\n",
    "\n",
    "import matplotlib.pyplot as plt\n",
    "\n",
    "import sys\n",
    "sys.path.insert(0, '../')\n",
    "import simulated_datasets_lib\n",
    "import sdss_dataset_lib\n",
    "import sdss_psf\n",
    "import image_utils \n",
    "\n",
    "import starnet_vae_lib\n",
    "import inv_kl_objective_lib as inv_kl_lib\n",
    "import plotting_utils\n",
    "import wake_sleep_lib\n",
    "\n",
    "import psf_transform_lib\n",
    "import image_statistics_lib\n",
    "\n",
    "np.random.seed(34534)"
   ]
  },
  {
   "cell_type": "markdown",
   "metadata": {},
   "source": [
    "# Load the data"
   ]
  },
  {
   "cell_type": "code",
   "execution_count": null,
   "metadata": {},
   "outputs": [],
   "source": [
    "f_min = 1000."
   ]
  },
  {
   "cell_type": "code",
   "execution_count": null,
   "metadata": {},
   "outputs": [],
   "source": [
    "sdss_hubble_data = sdss_dataset_lib.SDSSHubbleData()\n",
    "\n",
    "# psf file \n",
    "psf_fit_file = str(sdss_hubble_data.psf_file)\n",
    "\n",
    "# image \n",
    "full_image = sdss_hubble_data.sdss_image.squeeze()\n",
    "full_background = sdss_hubble_data.sdss_background.squeeze() \n",
    "\n",
    "# true parameters\n",
    "which_bright = (sdss_hubble_data.fluxes > f_min)\n",
    "true_locs = sdss_hubble_data.locs[which_bright]\n",
    "true_fluxes = sdss_hubble_data.fluxes[which_bright]\n"
   ]
  },
  {
   "cell_type": "code",
   "execution_count": null,
   "metadata": {},
   "outputs": [],
   "source": [
    "plt.matshow(full_image.squeeze())\n",
    "plt.colorbar()\n",
    "\n",
    "# plt.scatter(true_locs[:, 1] * 100, \n",
    "#            true_locs[:, 0] * 100)"
   ]
  },
  {
   "cell_type": "markdown",
   "metadata": {},
   "source": [
    "# Our simulator"
   ]
  },
  {
   "cell_type": "code",
   "execution_count": null,
   "metadata": {},
   "outputs": [],
   "source": [
    "from copy import deepcopy\n",
    "psf_og = sdss_psf.psf_at_points(0, 0, psf_fit_file = str(sdss_hubble_data.psf_file))\n",
    "\n",
    "psf_init = torch.Tensor(simulated_datasets_lib._expand_psf(psf_og, full_image.shape[-1]))"
   ]
  },
  {
   "cell_type": "code",
   "execution_count": null,
   "metadata": {},
   "outputs": [],
   "source": [
    "psf_og.shape"
   ]
  },
  {
   "cell_type": "code",
   "execution_count": null,
   "metadata": {},
   "outputs": [],
   "source": [
    "psf_init.shape"
   ]
  },
  {
   "cell_type": "code",
   "execution_count": null,
   "metadata": {},
   "outputs": [],
   "source": [
    "(psf_init**2).mean()"
   ]
  },
  {
   "cell_type": "markdown",
   "metadata": {},
   "source": [
    "# define VAE"
   ]
  },
  {
   "cell_type": "code",
   "execution_count": null,
   "metadata": {},
   "outputs": [],
   "source": [
    "star_encoder = starnet_vae_lib.StarEncoder(full_slen = full_image.shape[-1],\n",
    "                                           stamp_slen = 7,\n",
    "                                           step = 2,\n",
    "                                           edge_padding = 2,\n",
    "                                           n_bands = 1,\n",
    "                                           max_detections = 2)"
   ]
  },
  {
   "cell_type": "markdown",
   "metadata": {},
   "source": [
    "# Define transform"
   ]
  },
  {
   "cell_type": "code",
   "execution_count": null,
   "metadata": {},
   "outputs": [],
   "source": [
    "psf_transform = psf_transform_lib.PsfLocalTransform(torch.Tensor(psf_og),\n",
    "                                    full_image.shape[-1], \n",
    "                                    kernel_size = 3)"
   ]
  },
  {
   "cell_type": "markdown",
   "metadata": {},
   "source": [
    "# Examine encoder losses"
   ]
  },
  {
   "cell_type": "code",
   "execution_count": null,
   "metadata": {},
   "outputs": [],
   "source": [
    "init_encoder = '../fits/results_11052019/starnet'"
   ]
  },
  {
   "cell_type": "code",
   "execution_count": null,
   "metadata": {},
   "outputs": [],
   "source": [
    "filename = '../fits/results_11052019/wake_sleep-loc630x310'"
   ]
  },
  {
   "cell_type": "code",
   "execution_count": null,
   "metadata": {},
   "outputs": [],
   "source": [
    "'../fits/results_11052019/'"
   ]
  },
  {
   "cell_type": "code",
   "execution_count": null,
   "metadata": {},
   "outputs": [],
   "source": [
    "n_iter = 6"
   ]
  },
  {
   "cell_type": "code",
   "execution_count": null,
   "metadata": {},
   "outputs": [],
   "source": [
    "losses = []\n",
    "for i in range(1, n_iter + 1): \n",
    "    losses_iter = np.loadtxt('../fits/' + filename + '-encoder-test_losses-iter' + str(i))[0]\n",
    "    losses = np.concatenate((losses, losses_iter))\n",
    "    \n",
    "plt.plot(losses, '-x')\n",
    "\n",
    "for i in range(4): \n",
    "    plt.vlines(x = i * 11, ymin = losses.min(), ymax = losses.max(), \n",
    "              color = 'r', linestyle = ':')"
   ]
  },
  {
   "cell_type": "code",
   "execution_count": null,
   "metadata": {},
   "outputs": [],
   "source": [
    "losses = []\n",
    "for i in range(0, n_iter): \n",
    "    losses_iter = np.loadtxt('../fits/' + filename + '-psf_transform-test_losses-iter' + str(i))\n",
    "    losses = np.concatenate((losses, losses_iter))\n",
    "    \n",
    "    print(losses_iter[-1])\n",
    "    \n",
    "plt.plot(losses, '-x')\n",
    "\n",
    "for i in range(n_iter): \n",
    "    plt.vlines(x = i * 4, ymin = losses.min(), ymax = losses.max(), \n",
    "              color = 'r', linestyle = ':')"
   ]
  },
  {
   "cell_type": "code",
   "execution_count": null,
   "metadata": {},
   "outputs": [],
   "source": [
    "from torch import optim"
   ]
  },
  {
   "cell_type": "code",
   "execution_count": null,
   "metadata": {},
   "outputs": [],
   "source": [
    "psf_lr = 0.1"
   ]
  },
  {
   "cell_type": "code",
   "execution_count": null,
   "metadata": {},
   "outputs": [],
   "source": [
    "wake_optimizer = optim.Adam([\n",
    "                    {'params': psf_transform.parameters(),\n",
    "                    'lr': psf_lr}],\n",
    "                    weight_decay = 1e-5)\n",
    "\n"
   ]
  },
  {
   "cell_type": "code",
   "execution_count": null,
   "metadata": {},
   "outputs": [],
   "source": []
  },
  {
   "cell_type": "code",
   "execution_count": null,
   "metadata": {},
   "outputs": [],
   "source": []
  },
  {
   "cell_type": "markdown",
   "metadata": {},
   "source": [
    "# Check psfs -- with true parameters"
   ]
  },
  {
   "cell_type": "code",
   "execution_count": null,
   "metadata": {
    "code_folding": []
   },
   "outputs": [],
   "source": [
    "psf_transform = psf_transform_lib.PsfLocalTransform(torch.Tensor(psf_og),\n",
    "                                    full_image.shape[-1], \n",
    "                                    kernel_size = 3)\n",
    "\n",
    "psf_loss_vec = np.zeros(n_iter + 1)\n",
    "\n",
    "psf_old = psf_transform.forward()\n",
    "\n",
    "for i in range(n_iter + 1): \n",
    "    if i > 0: \n",
    "        psf_transform.load_state_dict(torch.load('../fits/' + filename + '-psf_transform-iter' + \\\n",
    "                                                         str(i - 1), \n",
    "                                             map_location=lambda storage, loc: storage))\n",
    "    \n",
    "    recon_mean, psf_loss_vec[i] = \\\n",
    "        psf_transform_lib.get_psf_loss(full_image.unsqueeze(0).unsqueeze(0), \n",
    "                                        full_background.unsqueeze(0).unsqueeze(0),\n",
    "                                        true_locs.unsqueeze(0), \n",
    "                                        true_fluxes.unsqueeze(0), \n",
    "                                        n_stars = (true_fluxes.unsqueeze(0) > 0).sum(1),\n",
    "                                        psf = psf_transform.forward(),\n",
    "                                        pad = 5)\n",
    "    \n",
    "    fig, axarr = plt.subplots(1, 2, figsize=(15, 4))\n",
    "\n",
    "    residual = ((recon_mean.squeeze().detach() - full_image) / full_image)\n",
    "    vmax = 0.7 # residual.abs().max()\n",
    "    im0 = axarr[0].matshow(residual, vmin = -vmax, vmax = vmax, cmap=plt.get_cmap('bwr'))\n",
    "    fig.colorbar(im0, ax = axarr[0])\n",
    "    \n",
    "    foo = (psf_transform.forward().detach()- psf_init)[40:60, 40:60]\n",
    "    im1 = axarr[1].matshow(foo, vmax = foo.abs().max(), vmin = -foo.abs().max(), \n",
    "                           cmap = plt.get_cmap('bwr'))\n",
    "    fig.colorbar(im1, ax = axarr[1])\n",
    "    axarr[1].set_title('iter = {}'.format(i - 1))\n",
    "    \n",
    "    diff = (psf_transform.forward() - psf_old).abs().max()\n",
    "    print(diff)\n",
    "    psf_old = psf_transform.forward()"
   ]
  },
  {
   "cell_type": "code",
   "execution_count": null,
   "metadata": {},
   "outputs": [],
   "source": []
  },
  {
   "cell_type": "code",
   "execution_count": null,
   "metadata": {},
   "outputs": [],
   "source": [
    "plt.plot(psf_loss_vec, '-x')"
   ]
  },
  {
   "cell_type": "code",
   "execution_count": null,
   "metadata": {},
   "outputs": [],
   "source": [
    "x0 = 60\n",
    "x1 = 10\n",
    "subimage_slen = 20\n",
    "\n",
    "psf_transform = psf_transform_lib.PsfLocalTransform(torch.Tensor(psf_og),\n",
    "                                    full_image.shape[-1], \n",
    "                                    kernel_size = 3)\n",
    "\n",
    "psf_loss_vec = np.zeros(n_iter + 1)\n",
    "\n",
    "for i in range(n_iter + 1): \n",
    "    if i > 0: \n",
    "        psf_transform.load_state_dict(torch.load('../fits/' + filename + '-psf_transform-iter' + \\\n",
    "                                                         str(i - 1), \n",
    "                                             map_location=lambda storage, loc: storage))\n",
    "    \n",
    "    recon_mean, psf_loss_vec[i] = \\\n",
    "        psf_transform_lib.get_psf_loss(full_image.unsqueeze(0).unsqueeze(0), \n",
    "                                        full_background.unsqueeze(0).unsqueeze(0),\n",
    "                                        true_locs.unsqueeze(0), \n",
    "                                        true_fluxes.unsqueeze(0), \n",
    "                                        n_stars = (true_fluxes.unsqueeze(0) > 0).sum(1),\n",
    "                                        psf = psf_transform.forward(),\n",
    "                                        pad = 5)\n",
    "\n",
    "\n",
    "    resid = (recon_mean.squeeze().detach() - full_image) / full_image\n",
    "    \n",
    "    fig, axarr = plt.subplots(1, 3, figsize=(15, 4))\n",
    "    plotting_utils.plot_subimage(axarr[0], full_image, \n",
    "                            None, \n",
    "                             true_locs, \n",
    "                             x0, x1, subimage_slen, \n",
    "                            add_colorbar = True, global_fig = fig)\n",
    "    \n",
    "    plotting_utils.plot_subimage(axarr[1], recon_mean.squeeze().detach(), \n",
    "                            None, \n",
    "                             true_locs, \n",
    "                             x0, x1, subimage_slen, \n",
    "                            add_colorbar = True, global_fig = fig)\n",
    "    \n",
    "    plotting_utils.plot_subimage(axarr[2], resid, \n",
    "                            None, \n",
    "                             true_locs, \n",
    "                             x0, x1, subimage_slen, \n",
    "                            add_colorbar = True, global_fig = fig, \n",
    "                            diverging_cmap = True, \n",
    "                            vmax = 0.5)"
   ]
  },
  {
   "cell_type": "raw",
   "metadata": {},
   "source": [
    "image_stamps = star_encoder.get_image_stamps(full_image.unsqueeze(0).unsqueeze(0), \n",
    "                                             None, None,\n",
    "                                            trim_images = False, \n",
    "                                            clip_max_stars = True)[0]\n",
    "\n",
    "background_stamps = star_encoder.get_image_stamps(full_background.unsqueeze(0).unsqueeze(0), \n",
    "                                             None, None,\n",
    "                                            trim_images = False, \n",
    "                                            clip_max_stars = True)[0]"
   ]
  },
  {
   "cell_type": "raw",
   "metadata": {},
   "source": []
  },
  {
   "cell_type": "raw",
   "metadata": {},
   "source": [
    "star_encoder.load_state_dict(torch.load('../fits/starnet-10162019-reweighted', \n",
    "                                       map_location=lambda storage, loc: storage))\n",
    "\n",
    "logit_loc_mean0, logit_loc_log_var0, \\\n",
    "    log_flux_mean0, log_flux_log_var0, log_probs = \\\n",
    "        star_encoder.forward(image_stamps, background_stamps)"
   ]
  },
  {
   "cell_type": "raw",
   "metadata": {},
   "source": [
    "for i in range(0, n_iter): \n",
    "    if i == 0: \n",
    "        star_encoder.load_state_dict(torch.load('../fits/starnet-10162019-reweighted', \n",
    "                                       map_location=lambda storage, loc: storage))\n",
    "        \n",
    "    else: \n",
    "        star_encoder.load_state_dict(torch.load('../fits/' + filename + '-encoder-iter' + str(i), \n",
    "                                       map_location=lambda storage, loc: storage))\n",
    "    star_encoder.eval(); \n",
    "    \n",
    "    logit_loc_mean, logit_loc_log_var, \\\n",
    "            log_flux_mean, log_flux_log_var, log_probs = \\\n",
    "                star_encoder.forward(image_stamps, background_stamps)\n",
    "    \n",
    "    fig, axarr = plt.subplots(1, 2, figsize=(15, 4))\n",
    "#     axarr[0].hist(log_flux_log_var.flatten()[log_flux_log_var.flatten() != 0].detach(), \n",
    "#              alpha = 1.0, label = 'iter' + str(i), \n",
    "#             range=[-6, 5], bins = 100)\n",
    "    \n",
    "    axarr[0].plot(log_flux_log_var0.flatten().detach(), \n",
    "                  log_flux_log_var.flatten().detach(), 'x')\n",
    "    axarr[0].plot(log_flux_log_var0.flatten().detach(), \n",
    "                  log_flux_log_var0.flatten().detach(), '-')\n",
    "    "
   ]
  },
  {
   "cell_type": "raw",
   "metadata": {},
   "source": [
    "torch.where((log_flux_log_var > 0) & (log_flux_log_var0 < -4))"
   ]
  },
  {
   "cell_type": "raw",
   "metadata": {},
   "source": [
    "(log_flux_log_var - log_flux_log_var0)[1110]"
   ]
  },
  {
   "cell_type": "raw",
   "metadata": {},
   "source": [
    "star_encoder.tile_coords[1110]"
   ]
  },
  {
   "cell_type": "raw",
   "metadata": {},
   "source": [
    "torch.exp(log_flux_mean[1110])"
   ]
  },
  {
   "cell_type": "raw",
   "metadata": {},
   "source": [
    "log_flux_log_var[1110]"
   ]
  },
  {
   "cell_type": "markdown",
   "metadata": {},
   "source": [
    "# Check out summary statistics"
   ]
  },
  {
   "cell_type": "code",
   "execution_count": null,
   "metadata": {},
   "outputs": [],
   "source": [
    "def filter_params(locs, fluxes, slen): \n",
    "    assert len(locs.shape) == 2\n",
    "    assert len(fluxes.shape) == 1\n",
    "    \n",
    "    _locs = locs * (slen - 1)\n",
    "    which_params = (_locs[:, 0] > 10) & (_locs[:, 0] < 90) & \\\n",
    "                        (_locs[:, 1] > 10) & (_locs[:, 1] < 90) \n",
    "        \n",
    "    \n",
    "    return locs[which_params], fluxes[which_params]\n"
   ]
  },
  {
   "cell_type": "code",
   "execution_count": null,
   "metadata": {},
   "outputs": [],
   "source": [
    "true_locs, true_fluxes = filter_params(true_locs, true_fluxes, \n",
    "                                       full_image.shape[-1])"
   ]
  },
  {
   "cell_type": "code",
   "execution_count": null,
   "metadata": {},
   "outputs": [],
   "source": [
    "completeness_all = np.zeros(n_iter + 1)\n",
    "tpr_all = np.zeros(n_iter + 1)\n",
    "\n",
    "fig, axarr = plt.subplots(1, 2, figsize=(15, 4))\n",
    "\n",
    "\n",
    "for i in range(0, n_iter + 1): \n",
    "    if i == 0: \n",
    "        star_encoder.load_state_dict(torch.load(init_encoder, \n",
    "                                       map_location=lambda storage, loc: storage))\n",
    "        \n",
    "    else: \n",
    "        star_encoder.load_state_dict(torch.load('../fits/' + filename + '-encoder-iter' + str(i), \n",
    "                                       map_location=lambda storage, loc: storage))\n",
    "    star_encoder.eval(); \n",
    "    \n",
    "    # get parameters\n",
    "    map_locs_full_image, map_fluxes_full_image, map_n_stars_full = \\\n",
    "        star_encoder.sample_star_encoder(full_image.unsqueeze(0).unsqueeze(0), \n",
    "                                               full_background.unsqueeze(0).unsqueeze(0), \n",
    "                                              return_map = True)[0:3]\n",
    "    \n",
    "    est_locs, est_fluxes = filter_params(map_locs_full_image.squeeze(), \n",
    "                                           map_fluxes_full_image.squeeze(), \n",
    "                                           full_image.shape[-1])\n",
    "    \n",
    "    # take into account fluxes\n",
    "    completeness, tpr, completeness1_bool, tpr1_bool = \\\n",
    "        image_statistics_lib.get_summary_stats(est_locs, true_locs, \n",
    "                                               full_image.shape[-1], \n",
    "                                               est_fluxes, true_fluxes)\n",
    "    completeness_all[i] = completeness\n",
    "    tpr_all[i] = tpr\n",
    "    \n",
    "    \n",
    "    # get completeness as a function of magnitude  \n",
    "    completeness1_vec, mag_vec1, _ = \\\n",
    "        image_statistics_lib.get_completeness_vec(est_locs, true_locs, full_image.shape[-1],\n",
    "                                                  est_fluxes, true_fluxes)\n",
    "\n",
    "    axarr[0].plot(mag_vec1[:-1], completeness1_vec, '--x', label = 'starnet_iter' + str(i))\n",
    "        \n",
    "    tpr_vec, mag_vec, _ = \\\n",
    "        image_statistics_lib.get_tpr_vec(est_locs, true_locs, full_image.shape[-1],\n",
    "                                        est_fluxes, true_fluxes)\n",
    "\n",
    "    axarr[1].plot(mag_vec[0:-1], tpr_vec, '--x', label = 'starnet_iter' + str(i))\n",
    "    \n",
    "axarr[0].legend()\n",
    "axarr[0].set_xlabel('true log10 flux')\n",
    "axarr[0].set_ylabel('completeness')\n",
    "\n",
    "axarr[1].legend()\n",
    "axarr[1].set_xlabel('estimated log10 flux')\n",
    "axarr[1].set_ylabel('tpr')"
   ]
  },
  {
   "cell_type": "code",
   "execution_count": null,
   "metadata": {},
   "outputs": [],
   "source": [
    "10**2.5"
   ]
  },
  {
   "cell_type": "markdown",
   "metadata": {},
   "source": [
    "# PSF loss on inferred parameters"
   ]
  },
  {
   "cell_type": "code",
   "execution_count": null,
   "metadata": {},
   "outputs": [],
   "source": [
    "import wake_sleep_lib"
   ]
  },
  {
   "cell_type": "code",
   "execution_count": null,
   "metadata": {},
   "outputs": [],
   "source": [
    "star_encoder.load_state_dict(torch.load('../fits/starnet-10172019-no_reweighting', \n",
    "                                       map_location=lambda storage, loc: storage))\n",
    "\n",
    "star_encoder.eval(); \n",
    "    \n",
    "sampled_locs_full_image, sampled_fluxes_full_image, sampled_n_stars_full = \\\n",
    "    wake_sleep_lib.sample_star_encoder(star_encoder, \n",
    "                                       full_image.unsqueeze(0).unsqueeze(0),\n",
    "                                       full_background.unsqueeze(0).unsqueeze(0),\n",
    "                                        return_map = True)[0:3]\n",
    "\n",
    "recon_mean, init_loss = \\\n",
    "    psf_transform_lib.get_psf_loss(full_image,\n",
    "                                   full_background,\n",
    "                                    sampled_locs_full_image, sampled_fluxes_full_image,\n",
    "                                    n_stars = sampled_n_stars_full,\n",
    "                                    psf = psf_init, \n",
    "                                    pad = 5)\n",
    "\n",
    "print(init_loss)\n",
    "        \n",
    "residual = ((recon_mean.squeeze().detach() - full_image) / full_image)[10:90, 10:90]\n",
    "vmax = residual.abs().max()\n",
    "plt.matshow(residual, vmin = -vmax, vmax = vmax, cmap=plt.get_cmap('bwr'))\n",
    "plt.colorbar()\n",
    "\n",
    "print((((recon_mean.squeeze().detach() - full_image)**2) / full_image)[10:90, 10:90].mean())"
   ]
  },
  {
   "cell_type": "code",
   "execution_count": null,
   "metadata": {},
   "outputs": [],
   "source": [
    "psf_loss_vec = np.zeros(n_iter + 1)\n",
    "for i in range(0, n_iter + 1): \n",
    "    if i == 0: \n",
    "        star_encoder.load_state_dict(torch.load('../fits/starnet-10172019-no_reweighting', \n",
    "                                       map_location=lambda storage, loc: storage))\n",
    "            \n",
    "    else: \n",
    "        star_encoder.load_state_dict(torch.load('../fits/' + filename + '-encoder-iter' + str(i), \n",
    "                                       map_location=lambda storage, loc: storage))\n",
    "    \n",
    "    psf_transform.load_state_dict(torch.load('../fits/' + filename + '-psf_transform-iter' + \\\n",
    "                                                 str(i), \n",
    "                                     map_location=lambda storage, loc: storage))\n",
    "\n",
    "        \n",
    "        \n",
    "        \n",
    "    star_encoder.eval(); \n",
    "    \n",
    "    sampled_locs_full_image, sampled_fluxes_full_image, sampled_n_stars_full = \\\n",
    "        wake_sleep_lib.sample_star_encoder(star_encoder, \n",
    "                                           full_image.unsqueeze(0).unsqueeze(0),\n",
    "                                           full_background.unsqueeze(0).unsqueeze(0),\n",
    "                                            return_map = True)[0:3]\n",
    "    \n",
    "    recon_mean, psf_loss_vec[i] = \\\n",
    "        psf_transform_lib.get_psf_loss(full_image,\n",
    "                                       full_background,\n",
    "                                        sampled_locs_full_image, sampled_fluxes_full_image,\n",
    "                                        n_stars = sampled_n_stars_full,\n",
    "                                        psf = psf_transform.forward(),\n",
    "                                        pad = 5)\n",
    "    \n",
    "    residual = ((recon_mean.squeeze().detach() - full_image))[10:90, 10:90]\n",
    "    vmax = residual.abs().max()\n",
    "    plt.matshow(residual, vmin = -vmax, vmax = vmax, cmap=plt.get_cmap('bwr'))\n",
    "    plt.colorbar()\n",
    "    \n",
    "    print((((recon_mean.squeeze().detach() - full_image)**2) / full_image)[10:90, 10:90].mean())"
   ]
  },
  {
   "cell_type": "code",
   "execution_count": null,
   "metadata": {},
   "outputs": [],
   "source": []
  },
  {
   "cell_type": "code",
   "execution_count": null,
   "metadata": {},
   "outputs": [],
   "source": [
    "plt.plot(psf_loss_vec)"
   ]
  },
  {
   "cell_type": "code",
   "execution_count": null,
   "metadata": {},
   "outputs": [],
   "source": []
  },
  {
   "cell_type": "code",
   "execution_count": null,
   "metadata": {},
   "outputs": [],
   "source": []
  },
  {
   "cell_type": "code",
   "execution_count": null,
   "metadata": {},
   "outputs": [],
   "source": []
  },
  {
   "cell_type": "code",
   "execution_count": null,
   "metadata": {},
   "outputs": [],
   "source": [
    "star_encoder.load_state_dict(torch.load('../fits/starnet-10172019-no_reweighting', \n",
    "                                       map_location=lambda storage, loc: storage))"
   ]
  },
  {
   "cell_type": "code",
   "execution_count": null,
   "metadata": {},
   "outputs": [],
   "source": [
    "psf_transform.load_state_dict(torch.load('../fits/wake_sleep-altm2-10212019-psf_transform-iter3', \n",
    "                                         map_location=lambda storage, loc: storage))\n",
    "\n",
    "\n",
    "psf_trained = psf_init"
   ]
  },
  {
   "cell_type": "code",
   "execution_count": null,
   "metadata": {},
   "outputs": [],
   "source": [
    "sampled_locs_full_image, sampled_fluxes_full_image, sampled_n_stars_full = \\\n",
    "        wake_sleep_lib.sample_star_encoder(star_encoder, \n",
    "                                           full_image.unsqueeze(0).unsqueeze(0),\n",
    "                                           full_background.unsqueeze(0).unsqueeze(0),\n",
    "                                            return_map = True)\n",
    "\n",
    "\n",
    "\n",
    "recon_mean, _ = \\\n",
    "        psf_transform_lib.get_psf_loss(full_image,\n",
    "                                       full_background,\n",
    "                                        sampled_locs_full_image, sampled_fluxes_full_image, \n",
    "                                       sampled_n_stars_full,\n",
    "                                        psf = psf_trained,\n",
    "                                        pad = 5)\n",
    "\n",
    "\n",
    "resid = ((recon_mean.squeeze().detach() - full_image) / full_image)[10:90, 10:90]\n",
    "vmax = resid.abs().max()\n",
    "plt.matshow(resid, \n",
    "           cmap = plt.get_cmap('bwr'), \n",
    "           vmin = -vmax, vmax = vmax)\n",
    "plt.colorbar()"
   ]
  },
  {
   "cell_type": "code",
   "execution_count": null,
   "metadata": {},
   "outputs": [],
   "source": []
  },
  {
   "cell_type": "code",
   "execution_count": null,
   "metadata": {},
   "outputs": [],
   "source": []
  },
  {
   "cell_type": "code",
   "execution_count": null,
   "metadata": {},
   "outputs": [],
   "source": []
  },
  {
   "cell_type": "code",
   "execution_count": null,
   "metadata": {},
   "outputs": [],
   "source": [
    "sampled_locs_full_image, sampled_fluxes_full_image, sampled_n_stars_full = \\\n",
    "        wake_sleep_lib.sample_star_encoder(star_encoder, \n",
    "                                           full_image.unsqueeze(0).unsqueeze(0),\n",
    "                                           full_background.unsqueeze(0).unsqueeze(0),\n",
    "                                            return_map = False, \n",
    "                                          n_samples = 10)"
   ]
  },
  {
   "cell_type": "code",
   "execution_count": null,
   "metadata": {},
   "outputs": [],
   "source": [
    "recon_mean, recon_loss = \\\n",
    "            psf_transform_lib.get_psf_loss(full_image,\n",
    "                                           full_background,\n",
    "                                            sampled_locs_full_image, \n",
    "                                           sampled_fluxes_full_image, \n",
    "                                           sampled_n_stars_full,\n",
    "                                            psf = psf_transform.forward().detach(),\n",
    "                                            pad = 5)"
   ]
  },
  {
   "cell_type": "code",
   "execution_count": null,
   "metadata": {},
   "outputs": [],
   "source": []
  },
  {
   "cell_type": "code",
   "execution_count": null,
   "metadata": {},
   "outputs": [],
   "source": [
    "plt.hist(recon_loss)"
   ]
  },
  {
   "cell_type": "code",
   "execution_count": null,
   "metadata": {},
   "outputs": [],
   "source": [
    "torch.topk(recon_loss, 5)[0].min().item()"
   ]
  },
  {
   "cell_type": "code",
   "execution_count": null,
   "metadata": {},
   "outputs": [],
   "source": [
    "sampled_locs_full_image, sampled_fluxes_full_image, sampled_n_stars_full = \\\n",
    "        wake_sleep_lib.sample_star_encoder(star_encoder, \n",
    "                                           full_image.unsqueeze(0).unsqueeze(0),\n",
    "                                           full_background.unsqueeze(0).unsqueeze(0),\n",
    "                                            return_map = False)\n",
    "    \n",
    "recon_mean, map_loss = \\\n",
    "            psf_transform_lib.get_psf_loss(full_image,\n",
    "                                           full_background,\n",
    "                                            sampled_locs_full_image, \n",
    "                                           sampled_fluxes_full_image, \n",
    "                                           sampled_n_stars_full,\n",
    "                                            psf = psf_transform.forward().detach(),\n",
    "                                            pad = 5)"
   ]
  },
  {
   "cell_type": "code",
   "execution_count": null,
   "metadata": {},
   "outputs": [],
   "source": []
  },
  {
   "cell_type": "code",
   "execution_count": null,
   "metadata": {},
   "outputs": [],
   "source": []
  },
  {
   "cell_type": "code",
   "execution_count": null,
   "metadata": {},
   "outputs": [],
   "source": []
  },
  {
   "cell_type": "code",
   "execution_count": null,
   "metadata": {},
   "outputs": [],
   "source": [
    "x0 = 10\n",
    "x1 = 10\n",
    "subimage_slen = 10\n",
    "\n",
    "for i in range(5): \n",
    "    fig, axarr = plt.subplots(1, 3, figsize=(15, 6))\n",
    "\n",
    "\n",
    "    resid = (recon_mean[i].squeeze().detach() - full_image) / full_image\n",
    "\n",
    "    plotting_utils.plot_subimage(axarr[0], full_image, \n",
    "                            sampled_locs_full_image[i], \n",
    "                             true_locs, \n",
    "                             x0, x1, subimage_slen, \n",
    "                            add_colorbar = True, global_fig = fig)\n",
    "    \n",
    "    plotting_utils.plot_subimage(axarr[1], recon_mean[i].squeeze(), \n",
    "                            sampled_locs_full_image[i], \n",
    "                             true_locs, \n",
    "                             x0, x1, subimage_slen, \n",
    "                            add_colorbar = True, global_fig = fig)\n",
    "    \n",
    "    plotting_utils.plot_subimage(axarr[2], resid, \n",
    "                            sampled_locs_full_image[i], \n",
    "                             true_locs, \n",
    "                             x0, x1, subimage_slen, \n",
    "                            add_colorbar = True, global_fig = fig, \n",
    "                            diverging_cmap = True)"
   ]
  },
  {
   "cell_type": "code",
   "execution_count": null,
   "metadata": {},
   "outputs": [],
   "source": []
  },
  {
   "cell_type": "code",
   "execution_count": null,
   "metadata": {},
   "outputs": [],
   "source": []
  },
  {
   "cell_type": "code",
   "execution_count": null,
   "metadata": {},
   "outputs": [],
   "source": []
  },
  {
   "cell_type": "code",
   "execution_count": null,
   "metadata": {},
   "outputs": [],
   "source": []
  },
  {
   "cell_type": "code",
   "execution_count": null,
   "metadata": {},
   "outputs": [],
   "source": []
  },
  {
   "cell_type": "code",
   "execution_count": null,
   "metadata": {},
   "outputs": [],
   "source": []
  },
  {
   "cell_type": "code",
   "execution_count": null,
   "metadata": {},
   "outputs": [],
   "source": []
  },
  {
   "cell_type": "code",
   "execution_count": null,
   "metadata": {},
   "outputs": [],
   "source": []
  },
  {
   "cell_type": "raw",
   "metadata": {},
   "source": [
    "# images_sim = simulator.draw_image_from_params(locs = sdss_hubble_data.locs.unsqueeze(0), \n",
    "#                                 fluxes = sdss_hubble_data.fluxes.unsqueeze(0), \n",
    "#                                 n_stars = torch.Tensor([len(sdss_hubble_data.locs)]).type(torch.LongTensor), \n",
    "#                                 add_noise = True) - simulator.sky_intensity + full_background\n",
    "        \n",
    "# backgrounds_sim = torch.ones(images_sim.shape) * data_params['sky_intensity']\n",
    "        \n",
    "# # get parameters on the full image \n",
    "# map_locs_full_image1, map_fluxes_full_image1, map_n_stars_full1 = \\\n",
    "#     star_encoder1.get_results_on_full_image(images_sim, \n",
    "#                                            backgrounds_sim)\n",
    "\n",
    "# plt.matshow((images_sim.squeeze() - full_image.squeeze()) / full_image.squeeze(), \n",
    "#            cmap=plt.get_cmap('bwr'))\n",
    "# plt.colorbar()\n",
    "\n",
    "# get parameters on the full image \n",
    "map_locs_full_image1, map_fluxes_full_image1, map_n_stars_full1 = \\\n",
    "    star_encoder1.get_results_on_full_image(full_image.unsqueeze(0).unsqueeze(0), \n",
    "                                           full_background.unsqueeze(0).unsqueeze(0))"
   ]
  },
  {
   "cell_type": "raw",
   "metadata": {},
   "source": [
    "# get reconstruction means\n",
    "recon_mean1 = simulator.draw_image_from_params(locs = map_locs_full_image1, \n",
    "                                                fluxes = map_fluxes_full_image1,\n",
    "                                                 n_stars = map_n_stars_full1, \n",
    "                                                 add_noise = False).squeeze()\n",
    "\n",
    "residuals1 = recon_mean1 - (full_image - full_background)"
   ]
  },
  {
   "cell_type": "raw",
   "metadata": {},
   "source": [
    "# Second set of results"
   ]
  },
  {
   "cell_type": "raw",
   "metadata": {},
   "source": [
    "star_encoder2 = starnet_vae_lib.StarEncoder(full_slen = 101,\n",
    "                                            stamp_slen = 9,\n",
    "                                            step = 2,\n",
    "                                            edge_padding = 3, \n",
    "                                            n_bands = 1,\n",
    "                                            max_detections = 4)"
   ]
  },
  {
   "cell_type": "raw",
   "metadata": {},
   "source": [
    "star_encoder2.load_state_dict(torch.load('../fits/starnet_invKL_encoder-10092019-reweighted_samples', \n",
    "                               map_location=lambda storage, loc: storage))\n",
    "star_encoder2.eval(); "
   ]
  },
  {
   "cell_type": "raw",
   "metadata": {},
   "source": [
    "# get parameters on the full image \n",
    "map_locs_full_image2, map_fluxes_full_image2, map_n_stars_full2 = \\\n",
    "    star_encoder2.get_results_on_full_image(full_image.unsqueeze(0).unsqueeze(0), \n",
    "                                           full_background.unsqueeze(0).unsqueeze(0))"
   ]
  },
  {
   "cell_type": "raw",
   "metadata": {},
   "source": [
    "# reconstruction means\n",
    "recon_mean2 = simulator.draw_image_from_params(locs = map_locs_full_image2, \n",
    "                                                fluxes = map_fluxes_full_image2,\n",
    "                                                 n_stars = map_n_stars_full2, \n",
    "                                                 add_noise = False).squeeze()\n",
    "\n",
    "residuals2 = recon_mean2 - (full_image - full_background)"
   ]
  },
  {
   "cell_type": "raw",
   "metadata": {},
   "source": []
  },
  {
   "cell_type": "raw",
   "metadata": {},
   "source": [
    "# Compare"
   ]
  },
  {
   "cell_type": "raw",
   "metadata": {},
   "source": [
    "subimage_slen = 10\n",
    "\n",
    "# possible coordinates\n",
    "x0_vec = np.arange(10, 90, subimage_slen)\n",
    "x1_vec = np.arange(10, 90, subimage_slen)"
   ]
  },
  {
   "cell_type": "raw",
   "metadata": {},
   "source": [
    "fig, axarr = plt.subplots(2, 3, figsize=(15, 12))\n",
    "\n",
    "x0 = int(np.random.choice(x0_vec, 1))\n",
    "x1 = int(np.random.choice(x1_vec, 1))\n",
    "\n",
    "###################\n",
    "# Plot catalogs\n",
    "##################\n",
    "for j in range(2):\n",
    "    # first catalog\n",
    "    plotting_utils.plot_subimage(axarr[j, 0], full_image, \n",
    "                                 map_locs_full_image1.squeeze(), \n",
    "                                 true_locs, \n",
    "                                 x0, x1, subimage_slen, \n",
    "                                add_colorbar = True, \n",
    "                                 global_fig = fig)\n",
    "    axarr[j, 0].set_title('observed; coords: {}\\n'.format([x0, x1]));\n",
    "    \n",
    "    # second catalog\n",
    "    _est_locs = map_locs_full_image2.squeeze() * (full_image.shape[-1] - 1)\n",
    "    which_locs = (_est_locs[:, 0] > x0) & \\\n",
    "                    (_est_locs[:, 0] < (x0 + subimage_slen - 1)) & \\\n",
    "                    (_est_locs[:, 1] > x1) & \\\n",
    "                    (_est_locs[:, 1] < (x1 + subimage_slen - 1))\n",
    "    est_locs = (_est_locs[which_locs, :] - torch.Tensor([[x0, x1]])) \n",
    "    axarr[j, 0].scatter(est_locs[:, 1], est_locs[:, 0], color = 'c', marker = 'x')\n",
    "\n",
    "#######################\n",
    "# Reconstructions \n",
    "#######################\n",
    "# first reconstruction\n",
    "plotting_utils.plot_subimage(axarr[0, 1], recon_mean1, \n",
    "                             map_locs_full_image1.squeeze(), \n",
    "                             None, x0, x1, subimage_slen, \n",
    "                            add_colorbar = True, global_fig = fig)\n",
    "axarr[0, 1].set_title('reconstruction 1 \\n');\n",
    "\n",
    "# second reconstruction\n",
    "plotting_utils.plot_subimage(axarr[1, 1], recon_mean2, \n",
    "                             map_locs_full_image2.squeeze(), \n",
    "                             None, \n",
    "                             x0, x1, subimage_slen, \n",
    "                            add_colorbar = True, global_fig = fig, \n",
    "                            color = 'c', marker = 'x')\n",
    "axarr[1, 1].set_title('reconstruction 2 \\n');\n",
    "\n",
    "# ######################\n",
    "# # residuals\n",
    "# ######################\n",
    "vmax1 = torch.abs((residuals1 / full_image)[x0:(x0 + subimage_slen), x1:(x1 + subimage_slen)]).max()\n",
    "vmax2 = torch.abs((residuals2 / full_image)[x0:(x0 + subimage_slen), x1:(x1 + subimage_slen)]).max()\n",
    "\n",
    "vmax = torch.max(torch.Tensor([vmax1, vmax2]))\n",
    "\n",
    "# first residuals\n",
    "plotting_utils.plot_subimage(axarr[0, 2], residuals1 / full_image, \n",
    "                            map_locs_full_image1.squeeze(), \n",
    "                             true_locs, \n",
    "                             x0, x1, subimage_slen, \n",
    "                            add_colorbar = True, global_fig = fig,\n",
    "                            diverging_cmap = True, \n",
    "                            vmax = vmax, vmin = -vmax)\n",
    "\n",
    "axarr[0, 2].set_title('residuals 1\\n');\n",
    "\n",
    "\n",
    "\n",
    "# second residuals\n",
    "plotting_utils.plot_subimage(axarr[1, 2], residuals2 / full_image, \n",
    "                            map_locs_full_image2.squeeze(), \n",
    "                             true_locs, \n",
    "                             x0, x1, subimage_slen, \n",
    "                            add_colorbar = True, global_fig = fig,\n",
    "                            diverging_cmap = True, \n",
    "                            vmax = vmax, vmin = -vmax, \n",
    "                            color = 'c')\n",
    "\n",
    "axarr[1, 2].set_title('residuals 2\\n');\n"
   ]
  },
  {
   "cell_type": "raw",
   "metadata": {},
   "source": [
    "# Checkout some summary statistics"
   ]
  },
  {
   "cell_type": "raw",
   "metadata": {},
   "source": [
    "# we only look at locations within 10-90; \n",
    "# Portillos doesn't detect on the edge\n",
    "\n",
    "def filter_params(locs, fluxes, slen): \n",
    "    assert len(locs.shape) == 2\n",
    "    assert len(fluxes.shape) == 1\n",
    "    \n",
    "    _locs = locs * (slen - 1)\n",
    "    which_params = (_locs[:, 0] > 10) & (_locs[:, 0] < 90) & \\\n",
    "                        (_locs[:, 1] > 10) & (_locs[:, 1] < 90) \n",
    "        \n",
    "    \n",
    "    return locs[which_params], fluxes[which_params]\n"
   ]
  },
  {
   "cell_type": "raw",
   "metadata": {},
   "source": [
    "est_locs1, est_fluxes1 = filter_params(map_locs_full_image1.squeeze(), \n",
    "                                           map_fluxes_full_image1.squeeze(), \n",
    "                                           full_image.shape[-1])\n",
    "\n",
    "est_locs2, est_fluxes2 = filter_params(map_locs_full_image2.squeeze(), \n",
    "                                           map_fluxes_full_image2.squeeze(), \n",
    "                                           full_image.shape[-1])\n",
    "\n",
    "true_locs, true_fluxes = filter_params(true_locs, true_fluxes, \n",
    "                                       full_image.shape[-1])"
   ]
  },
  {
   "cell_type": "raw",
   "metadata": {},
   "source": [
    "print('n_stars 1: ', len(est_locs1))\n",
    "print('n_stars 2: ', len(est_locs2))\n",
    "print('true n_stars: ', len(true_locs))"
   ]
  },
  {
   "cell_type": "raw",
   "metadata": {},
   "source": [
    "_recon1 = simulator.draw_image_from_params(locs = est_locs1.unsqueeze(0), \n",
    "                                    fluxes = est_fluxes1.unsqueeze(0),\n",
    "                                     n_stars = torch.Tensor([len(est_fluxes1)]).type(torch.LongTensor), \n",
    "                                     add_noise = False).squeeze()\n",
    "\n",
    "_recon2 = \\\n",
    "    simulator.draw_image_from_params(locs = est_locs2.unsqueeze(0), \n",
    "                                    fluxes = est_fluxes2.unsqueeze(0),\n",
    "                                     n_stars = torch.Tensor([len(est_fluxes2)]).type(torch.LongTensor), \n",
    "                                     add_noise = False).squeeze()\n",
    "\n",
    "_recon_truth = \\\n",
    "    simulator.draw_image_from_params(locs = true_locs.unsqueeze(0), \n",
    "                                    fluxes = true_fluxes.unsqueeze(0),\n",
    "                                     n_stars = torch.Tensor([len(true_locs)]).type(torch.LongTensor), \n",
    "                                     add_noise = False).squeeze()\n",
    "\n",
    "\n",
    "fig, axarr = plt.subplots(1, 3, figsize=(15, 6))\n",
    "\n",
    "axarr[0].matshow(_recon1)\n",
    "axarr[1].matshow(_recon2)\n",
    "axarr[2].matshow(_recon_truth)"
   ]
  },
  {
   "cell_type": "raw",
   "metadata": {},
   "source": [
    "# check out MSEs\n",
    "\n",
    "_image = full_image[10:90, 10:90] - full_background[10:90, 10:90]\n",
    "\n",
    "_residual1 = (_recon1[10:90, 10:90] - _image)\n",
    "_residual2 = (_recon2[10:90, 10:90] - _image)\n",
    "_true_residual = _recon_truth[10:90, 10:90] - _image\n",
    "\n",
    "print('mse 1: ', torch.mean(_residual1**2))\n",
    "print('mse 2: ', torch.mean(_residual2**2))\n",
    "print('truth_mse: ', torch.mean(_true_residual**2))\n",
    "\n",
    "fig, axarr = plt.subplots(1, 3, figsize=(15, 6))\n",
    "\n",
    "im1 = axarr[0].matshow(_residual1 / _image)\n",
    "im2 = axarr[1].matshow(_residual2 / _image)\n",
    "im3 = axarr[2].matshow(_true_residual / _image)\n",
    "\n",
    "fig.colorbar(im1, ax = axarr[0])\n",
    "fig.colorbar(im2, ax = axarr[1])\n",
    "fig.colorbar(im3, ax = axarr[2])"
   ]
  },
  {
   "cell_type": "raw",
   "metadata": {},
   "source": [
    "fig, axarr = plt.subplots(1, 3, figsize=(20, 5))\n",
    "\n",
    "axarr[0].hist((_residual1 / _image).flatten(), bins = 100);\n",
    "\n",
    "axarr[1].hist((_residual2 / _image).flatten(), bins = 100);\n",
    "\n",
    "axarr[2].hist((_true_residual / _image).flatten(), bins = 100);"
   ]
  },
  {
   "cell_type": "raw",
   "metadata": {},
   "source": []
  },
  {
   "cell_type": "raw",
   "metadata": {},
   "source": [
    "# Get summary statistics"
   ]
  },
  {
   "cell_type": "raw",
   "metadata": {},
   "source": [
    "These are rather coarse measures. My completeness does not take into account the fact that several true stars might be matched with just one estimated star (so not all the true stars were detected); conversely my true positive rate does not take into account that several estimated stars might be matched with just one true star (so only one estimated star is a true positive). \n",
    "\n",
    "I tried the Hungarian algorithm to find a minimal matching, but this gave weird results because we're searching for a permutation that minimizes the **global** cost of the matching. "
   ]
  },
  {
   "cell_type": "raw",
   "metadata": {},
   "source": [
    "import image_statistics_lib"
   ]
  },
  {
   "cell_type": "raw",
   "metadata": {},
   "source": [
    "# completeness and tpr using locations only\n",
    "completeness1, tpr1, _, _ = \\\n",
    "    image_statistics_lib.get_summary_stats(est_locs1, true_locs, \n",
    "                                           full_image.shape[-1], None, None)\n",
    "completeness2, tpr2, _, _ = \\\n",
    "    image_statistics_lib.get_summary_stats(est_locs2, true_locs, \n",
    "                                           full_image.shape[-1], None, None)\n",
    "\n",
    "    \n",
    "print('completeness 1: {:0.3f}'.format(completeness1))\n",
    "print('completeness 2: {:0.3f}\\n'.format(completeness2))\n",
    "\n",
    "print('true positive rate 1: {:0.3f}'.format(tpr1))\n",
    "print('true positive rate 2: {:0.3f}'.format(tpr2))"
   ]
  },
  {
   "cell_type": "raw",
   "metadata": {},
   "source": [
    "# take into account fluxes\n",
    "completeness1, tpr1, completeness1_bool, tpr1_bool = \\\n",
    "    image_statistics_lib.get_summary_stats(est_locs1, true_locs, \n",
    "                                           full_image.shape[-1], \n",
    "                                           est_fluxes1, true_fluxes)\n",
    "    \n",
    "completeness2, tpr2, completeness2_bool, tpr2_bool = \\\n",
    "    image_statistics_lib.get_summary_stats(est_locs2, true_locs, \n",
    "                                           full_image.shape[-1], \n",
    "                                           est_fluxes2, true_fluxes)\n",
    "\n",
    "    \n",
    "print('completeness1: {:0.3f}'.format(completeness1))\n",
    "print('completeness2: {:0.3f}\\n'.format(completeness2))\n",
    "\n",
    "print('true positive rate 1 : {:0.3f}'.format(tpr1))\n",
    "print('true positive rate 2: {:0.3f}'.format(tpr2))"
   ]
  },
  {
   "cell_type": "raw",
   "metadata": {},
   "source": [
    "completeness1_vec, mag_vec1 = \\\n",
    "    image_statistics_lib.get_completeness_vec(est_locs1, true_locs, full_image.shape[-1],\n",
    "                                              est_fluxes1, true_fluxes)\n",
    "\n",
    "completeness2_vec, mag_vec2 = \\\n",
    "    image_statistics_lib.get_completeness_vec(est_locs2, true_locs, full_image.shape[-1],\n",
    "                                              est_fluxes2, true_fluxes)\n",
    "\n",
    "plt.plot(mag_vec1[0:-1], completeness1_vec, '--x', label = '1')\n",
    "plt.plot(mag_vec2[0:-1], completeness2_vec, '--x', label = '2')\n",
    "\n",
    "plt.legend()\n",
    "plt.xlabel('true log flux')\n",
    "plt.ylabel('completeness')"
   ]
  },
  {
   "cell_type": "raw",
   "metadata": {},
   "source": [
    "tpr1_vec, mag_vec1 = \\\n",
    "    image_statistics_lib.get_tpr_vec(est_locs1, true_locs, full_image.shape[-1],\n",
    "                                    est_fluxes1, true_fluxes)\n",
    "\n",
    "tpr2_vec, mag_vec2 = \\\n",
    "    image_statistics_lib.get_tpr_vec(est_locs2, true_locs, full_image.shape[-1],\n",
    "                                    est_fluxes2, true_fluxes)\n",
    "\n",
    "plt.plot(mag_vec1[0:-1], tpr1_vec, '--x', label = '1')\n",
    "plt.plot(mag_vec2[0:-1], tpr2_vec, '--x', label = '2')\n",
    "\n",
    "plt.legend()\n",
    "plt.xlabel('estimated log flux')\n",
    "plt.ylabel('true positive rate')"
   ]
  },
  {
   "cell_type": "raw",
   "metadata": {},
   "source": [
    "# stars caught by encoder 1 but not 2\n",
    "which_encoder1 = torch.where((completeness1_bool == 1) & (completeness2_bool == 0))\n",
    "\n",
    "# stars caught by encoder 2 but not 1\n",
    "which_encoder2 = torch.where((completeness1_bool == 0) & (completeness2_bool == 1))"
   ]
  },
  {
   "cell_type": "raw",
   "metadata": {},
   "source": [
    "fig, axarr = plt.subplots(1, 3, figsize=(20, 6))\n",
    "\n",
    "x0 = int(np.random.choice(x0_vec, 1))\n",
    "x1 = int(np.random.choice(x1_vec, 1))\n",
    "\n",
    "############################\n",
    "# PLOT ALL TRUE STARS\n",
    "############################\n",
    "# first catalog\n",
    "plotting_utils.plot_subimage(axarr[0], full_image, \n",
    "                             map_locs_full_image1.squeeze(), \n",
    "                             true_locs, \n",
    "                             x0, x1, subimage_slen, \n",
    "                            add_colorbar = True, \n",
    "                             global_fig = fig)\n",
    "axarr[0].set_title('observed; coords: {}\\n'.format([x0, x1]));\n",
    "\n",
    "# second catalog\n",
    "_est_locs = map_locs_full_image2.squeeze() * (full_image.shape[-1] - 1)\n",
    "which_locs = (_est_locs[:, 0] > x0) & \\\n",
    "                (_est_locs[:, 0] < (x0 + subimage_slen - 1)) & \\\n",
    "                (_est_locs[:, 1] > x1) & \\\n",
    "                (_est_locs[:, 1] < (x1 + subimage_slen - 1))\n",
    "est_locs = (_est_locs[which_locs, :] - torch.Tensor([[x0, x1]])) \n",
    "axarr[0].scatter(est_locs[:, 1], est_locs[:, 0], color = 'c', marker = 'x')\n",
    "\n",
    "##########################\n",
    "# PLOT ONLY STARS CAUGHT BY ENCODER 1\n",
    "##########################\n",
    "\n",
    "# first catalog\n",
    "plotting_utils.plot_subimage(axarr[1], full_image, \n",
    "                             map_locs_full_image1.squeeze(), \n",
    "                             true_locs[which_encoder1], \n",
    "                             x0, x1, subimage_slen, \n",
    "                            add_colorbar = True, \n",
    "                             global_fig = fig)\n",
    "axarr[1].set_title('observed; coords: {}\\n'.format([x0, x1]));\n",
    "\n",
    "# second catalog\n",
    "_est_locs = map_locs_full_image2.squeeze() * (full_image.shape[-1] - 1)\n",
    "which_locs = (_est_locs[:, 0] > x0) & \\\n",
    "                (_est_locs[:, 0] < (x0 + subimage_slen - 1)) & \\\n",
    "                (_est_locs[:, 1] > x1) & \\\n",
    "                (_est_locs[:, 1] < (x1 + subimage_slen - 1))\n",
    "est_locs = (_est_locs[which_locs, :] - torch.Tensor([[x0, x1]])) \n",
    "axarr[1].scatter(est_locs[:, 1], est_locs[:, 0], color = 'c', marker = 'x')\n",
    "\n",
    "\n",
    "##########################\n",
    "# PLOT ONLY STARS CAUGHT BY ENCODER 2\n",
    "##########################\n",
    "# first catalog\n",
    "plotting_utils.plot_subimage(axarr[2], full_image, \n",
    "                             map_locs_full_image1.squeeze(), \n",
    "                             true_locs[which_encoder2], \n",
    "                             x0, x1, subimage_slen, \n",
    "                            add_colorbar = True, \n",
    "                             global_fig = fig)\n",
    "axarr[2].set_title('observed; coords: {}\\n'.format([x0, x1]));\n",
    "\n",
    "# second catalog\n",
    "_est_locs = map_locs_full_image2.squeeze() * (full_image.shape[-1] - 1)\n",
    "which_locs = (_est_locs[:, 0] > x0) & \\\n",
    "                (_est_locs[:, 0] < (x0 + subimage_slen - 1)) & \\\n",
    "                (_est_locs[:, 1] > x1) & \\\n",
    "                (_est_locs[:, 1] < (x1 + subimage_slen - 1))\n",
    "est_locs = (_est_locs[which_locs, :] - torch.Tensor([[x0, x1]])) \n",
    "axarr[2].scatter(est_locs[:, 1], est_locs[:, 0], color = 'c', marker = 'x')\n"
   ]
  },
  {
   "cell_type": "raw",
   "metadata": {},
   "source": []
  },
  {
   "cell_type": "raw",
   "metadata": {},
   "source": []
  },
  {
   "cell_type": "raw",
   "metadata": {},
   "source": []
  }
 ],
 "metadata": {
  "kernelspec": {
   "display_name": "Python (pytorch_04)",
   "language": "python",
   "name": "pytorch_update"
  },
  "language_info": {
   "codemirror_mode": {
    "name": "ipython",
    "version": 3
   },
   "file_extension": ".py",
   "mimetype": "text/x-python",
   "name": "python",
   "nbconvert_exporter": "python",
   "pygments_lexer": "ipython3",
   "version": "3.6.8"
  }
 },
 "nbformat": 4,
 "nbformat_minor": 2
}
