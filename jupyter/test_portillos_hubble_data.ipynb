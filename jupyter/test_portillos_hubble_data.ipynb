{
 "cells": [
  {
   "cell_type": "code",
   "execution_count": null,
   "metadata": {},
   "outputs": [],
   "source": [
    "import numpy as np\n",
    "import pathlib \n",
    "\n",
    "import matplotlib.pyplot as plt\n",
    "\n",
    "import torch\n",
    "\n",
    "from torch.utils.data import Dataset\n",
    "\n",
    "import sys\n",
    "sys.path.insert(0, '../')\n",
    "import sdss_dataset_lib\n",
    "import sdss_psf\n",
    "\n",
    "from astropy.io import fits\n",
    "from astropy.wcs import WCS\n",
    "\n",
    "device = torch.device(\"cuda:0\" if torch.cuda.is_available() else \"cpu\")\n",
    "\n",
    "import os"
   ]
  },
  {
   "cell_type": "code",
   "execution_count": null,
   "metadata": {},
   "outputs": [],
   "source": [
    "# load data\n",
    "sdss_hubble_data = sdss_dataset_lib.SDSSHubbleData()"
   ]
  },
  {
   "cell_type": "code",
   "execution_count": null,
   "metadata": {},
   "outputs": [],
   "source": [
    "# the full image\n",
    "plt.matshow(sdss_hubble_data.sdss_image_full.squeeze())"
   ]
  },
  {
   "cell_type": "code",
   "execution_count": null,
   "metadata": {},
   "outputs": [],
   "source": [
    "# the 100 x 100 subset in Portillos\n",
    "plt.matshow(sdss_hubble_data.sdss_image.squeeze())"
   ]
  },
  {
   "cell_type": "code",
   "execution_count": null,
   "metadata": {},
   "outputs": [],
   "source": []
  },
  {
   "cell_type": "code",
   "execution_count": null,
   "metadata": {},
   "outputs": [],
   "source": [
    "# check the hubble coordinates overlap with the globular cluster\n",
    "plt.matshow(sdss_hubble_data.sdss_image_full.squeeze())\n",
    "plt.plot(sdss_hubble_data.locs_full_x1, \n",
    "         sdss_hubble_data.locs_full_x0, alpha = 0.2)"
   ]
  },
  {
   "cell_type": "code",
   "execution_count": null,
   "metadata": {},
   "outputs": [],
   "source": []
  },
  {
   "cell_type": "markdown",
   "metadata": {},
   "source": [
    "# plot a few subimages"
   ]
  },
  {
   "cell_type": "code",
   "execution_count": null,
   "metadata": {},
   "outputs": [],
   "source": [
    "import plotting_utils"
   ]
  },
  {
   "cell_type": "code",
   "execution_count": null,
   "metadata": {},
   "outputs": [],
   "source": [
    "x0_vec = np.arange(0, 100, 10)\n",
    "x1_vec = x0_vec"
   ]
  },
  {
   "cell_type": "code",
   "execution_count": null,
   "metadata": {},
   "outputs": [],
   "source": [
    "plt.hist(sdss_hubble_data.locs.flatten())"
   ]
  },
  {
   "cell_type": "code",
   "execution_count": null,
   "metadata": {},
   "outputs": [],
   "source": [
    "f, axarr = plt.subplots(2, 3, figsize=(16, 12))\n",
    "\n",
    "for i in range(6): \n",
    "    x0 = int(np.random.choice(x0_vec, 1))\n",
    "    x1 = int(np.random.choice(x1_vec, 1))\n",
    "    \n",
    "    which_bright = sdss_hubble_data.fluxes > 1300.\n",
    "\n",
    "    plotting_utils.plot_subimage(axarr[i // 3, i % 3], \n",
    "                                sdss_hubble_data.sdss_image.squeeze(), \n",
    "                                None, \n",
    "                                sdss_hubble_data.locs[which_bright], \n",
    "                                x0, x1, \n",
    "                                subimage_slen = 10, \n",
    "                                add_colorbar = True, \n",
    "                                global_fig = f)"
   ]
  },
  {
   "cell_type": "markdown",
   "metadata": {},
   "source": [
    "# The images shown in Portillos"
   ]
  },
  {
   "cell_type": "code",
   "execution_count": null,
   "metadata": {},
   "outputs": [],
   "source": [
    "f, axarr = plt.subplots(2, 2, figsize=(16, 12))\n",
    "\n",
    "# image 1\n",
    "x0 = 53\n",
    "x1 = 70\n",
    "\n",
    "plotting_utils.plot_subimage(axarr[0, 0], \n",
    "                            sdss_hubble_data.sdss_image.squeeze(), \n",
    "                            None, \n",
    "                            sdss_hubble_data.locs[which_bright], \n",
    "                            x0, x1, \n",
    "                            subimage_slen = 10, \n",
    "                            add_colorbar = True, \n",
    "                            global_fig = f)\n",
    "\n",
    "axarr[0, 0].invert_yaxis() \n",
    "\n",
    "\n",
    "# image 2\n",
    "x0 = 41\n",
    "x1 = 23\n",
    "\n",
    "plotting_utils.plot_subimage(axarr[0, 1], \n",
    "                            sdss_hubble_data.sdss_image.squeeze(), \n",
    "                            None, \n",
    "                            sdss_hubble_data.locs[which_bright], \n",
    "                            x0, x1, \n",
    "                            subimage_slen = 10, \n",
    "                            add_colorbar = True, \n",
    "                            global_fig = f)\n",
    "\n",
    "axarr[0, 1].invert_yaxis() \n",
    "\n",
    "\n",
    "# image 3\n",
    "x0 = 31\n",
    "x1 = 83\n",
    "\n",
    "plotting_utils.plot_subimage(axarr[1, 0], \n",
    "                            sdss_hubble_data.sdss_image.squeeze(), \n",
    "                            None, \n",
    "                            sdss_hubble_data.locs[which_bright], \n",
    "                            x0, x1, \n",
    "                            subimage_slen = 10, \n",
    "                            add_colorbar = True, \n",
    "                            global_fig = f)\n",
    "\n",
    "axarr[1, 0].invert_yaxis() \n",
    "\n",
    "# image 4\n",
    "x0 = 32\n",
    "x1 = 64\n",
    "\n",
    "plotting_utils.plot_subimage(axarr[1, 1], \n",
    "                            sdss_hubble_data.sdss_image.squeeze(), \n",
    "                            None, \n",
    "                            sdss_hubble_data.locs[which_bright], \n",
    "                            x0, x1, \n",
    "                            subimage_slen = 10, \n",
    "                            add_colorbar = True, \n",
    "                            global_fig = f)\n",
    "\n",
    "axarr[1, 1].invert_yaxis() "
   ]
  },
  {
   "cell_type": "code",
   "execution_count": null,
   "metadata": {},
   "outputs": [],
   "source": []
  },
  {
   "cell_type": "code",
   "execution_count": null,
   "metadata": {},
   "outputs": [],
   "source": []
  },
  {
   "cell_type": "markdown",
   "metadata": {},
   "source": [
    "# Test my simulator"
   ]
  },
  {
   "cell_type": "code",
   "execution_count": null,
   "metadata": {},
   "outputs": [],
   "source": [
    "import simulated_datasets_lib"
   ]
  },
  {
   "cell_type": "code",
   "execution_count": null,
   "metadata": {},
   "outputs": [],
   "source": [
    "simulator = simulated_datasets_lib.StarSimulator(psf_fit_file=str(sdss_hubble_data.psf_file), \n",
    "                                    slen = sdss_hubble_data.slen, \n",
    "                                    sky_intensity = 0.)"
   ]
  },
  {
   "cell_type": "code",
   "execution_count": null,
   "metadata": {
    "code_folding": []
   },
   "outputs": [],
   "source": [
    "recon_mean = simulator.draw_image_from_params(locs = sdss_hubble_data.locs.unsqueeze(0), \n",
    "                                fluxes = sdss_hubble_data.fluxes.unsqueeze(0), \n",
    "                                n_stars = torch.Tensor([len(sdss_hubble_data.locs)]).type(torch.LongTensor), \n",
    "                                add_noise = False)"
   ]
  },
  {
   "cell_type": "code",
   "execution_count": null,
   "metadata": {},
   "outputs": [],
   "source": [
    "f, axarr = plt.subplots(1, 3, figsize=(16, 4))\n",
    "\n",
    "observed = sdss_hubble_data.sdss_image.squeeze() - sdss_hubble_data.sdss_background.squeeze()\n",
    "im0 = axarr[0].matshow(observed)\n",
    "f.colorbar(im0, ax=axarr[0])\n",
    "\n",
    "im1 = axarr[1].matshow(recon_mean.squeeze())\n",
    "f.colorbar(im1, ax=axarr[1])\n",
    "\n",
    "residual = recon_mean.squeeze() - observed\n",
    "im2 = axarr[2].matshow(residual / observed)\n",
    "f.colorbar(im2, ax=axarr[2])"
   ]
  },
  {
   "cell_type": "code",
   "execution_count": null,
   "metadata": {},
   "outputs": [],
   "source": [
    "### plot some subimages \n",
    "f, axarr = plt.subplots(1, 3, figsize=(16, 4))\n",
    "\n",
    "x0_vec = np.arange(0, 100, 10)\n",
    "x1_vec = x0_vec\n",
    "\n",
    "x0 = int(np.random.choice(x0_vec, 1))\n",
    "x1 = int(np.random.choice(x1_vec, 1))\n",
    "\n",
    "print([x0, x1])\n",
    "\n",
    "plotting_utils.plot_subimage(axarr[0], \n",
    "                            observed, \n",
    "                            None, \n",
    "                            sdss_hubble_data.locs[which_bright], \n",
    "                            x0, x1, \n",
    "                            subimage_slen = 10, \n",
    "                            add_colorbar = True, \n",
    "                            global_fig = f)\n",
    "\n",
    "\n",
    "plotting_utils.plot_subimage(axarr[1], \n",
    "                            recon_mean.squeeze(), \n",
    "                            None, \n",
    "                            sdss_hubble_data.locs[which_bright], \n",
    "                            x0, x1, \n",
    "                            subimage_slen = 10, \n",
    "                            add_colorbar = True, \n",
    "                            global_fig = f)\n",
    "\n",
    "plotting_utils.plot_subimage(axarr[2], \n",
    "                            residual/observed, \n",
    "                            None, \n",
    "                            sdss_hubble_data.locs[which_bright], \n",
    "                            x0, x1, \n",
    "                            subimage_slen = 10, \n",
    "                            add_colorbar = True, \n",
    "                            global_fig = f)"
   ]
  },
  {
   "cell_type": "code",
   "execution_count": null,
   "metadata": {},
   "outputs": [],
   "source": [
    "plt.hist((residual / observed).flatten(), bins = 100);"
   ]
  },
  {
   "cell_type": "code",
   "execution_count": null,
   "metadata": {},
   "outputs": [],
   "source": []
  },
  {
   "cell_type": "markdown",
   "metadata": {},
   "source": [
    "# Check distribution on image stamps"
   ]
  },
  {
   "cell_type": "code",
   "execution_count": null,
   "metadata": {},
   "outputs": [],
   "source": [
    "import image_utils"
   ]
  },
  {
   "cell_type": "code",
   "execution_count": null,
   "metadata": {},
   "outputs": [],
   "source": [
    "sdss_hubble_data.sdss_image.shape"
   ]
  },
  {
   "cell_type": "code",
   "execution_count": null,
   "metadata": {},
   "outputs": [],
   "source": [
    "image_stamps, tile_coords, _, _, _ = \\\n",
    "    image_utils.tile_images(sdss_hubble_data.sdss_image.unsqueeze(0),\n",
    "                            subimage_slen = 9,\n",
    "                            step = 2,\n",
    "                            return_tile_coords = True)"
   ]
  },
  {
   "cell_type": "code",
   "execution_count": null,
   "metadata": {},
   "outputs": [],
   "source": [
    "subimage_locs, subimage_fluxes, n_stars, is_on_array = \\\n",
    "    image_utils.get_params_in_patches(tile_coords,\n",
    "                                      sdss_hubble_data.locs[sdss_hubble_data.fluxes > 1000.].unsqueeze(0),\n",
    "                                      sdss_hubble_data.fluxes[sdss_hubble_data.fluxes > 1000].unsqueeze(0),\n",
    "                                      sdss_hubble_data.sdss_image.shape[-1],\n",
    "                                      subimage_slen = 9,\n",
    "                                      edge_padding = 3,\n",
    "                                      sort_locs = True)"
   ]
  },
  {
   "cell_type": "code",
   "execution_count": null,
   "metadata": {},
   "outputs": [],
   "source": [
    "torch.sum(sdss_hubble_data.fluxes > 1000)"
   ]
  },
  {
   "cell_type": "code",
   "execution_count": null,
   "metadata": {},
   "outputs": [],
   "source": [
    "plt.hist(n_stars, np.arange(0, 7))"
   ]
  },
  {
   "cell_type": "code",
   "execution_count": null,
   "metadata": {},
   "outputs": [],
   "source": []
  }
 ],
 "metadata": {
  "kernelspec": {
   "display_name": "Python (pytorch_04)",
   "language": "python",
   "name": "pytorch_update"
  },
  "language_info": {
   "codemirror_mode": {
    "name": "ipython",
    "version": 3
   },
   "file_extension": ".py",
   "mimetype": "text/x-python",
   "name": "python",
   "nbconvert_exporter": "python",
   "pygments_lexer": "ipython3",
   "version": "3.6.8"
  }
 },
 "nbformat": 4,
 "nbformat_minor": 2
}
