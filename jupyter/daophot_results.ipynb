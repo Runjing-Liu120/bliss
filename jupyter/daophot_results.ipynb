{
 "cells": [
  {
   "cell_type": "code",
   "execution_count": null,
   "metadata": {},
   "outputs": [],
   "source": [
    "import numpy as np\n",
    "import torch\n",
    "\n",
    "import json\n",
    "\n",
    "import matplotlib.pyplot as plt\n",
    "\n",
    "import sys\n",
    "sys.path.insert(0, '../')\n",
    "import simulated_datasets_lib\n",
    "import sdss_dataset_lib\n",
    "import sdss_psf\n",
    "import image_utils \n",
    "import starnet_vae_lib\n",
    "import inv_kl_objective_lib as inv_kl_lib\n",
    "import image_statistics_lib\n",
    "\n",
    "import plotting_utils\n",
    "\n",
    "np.random.seed(34534)"
   ]
  },
  {
   "cell_type": "markdown",
   "metadata": {},
   "source": [
    "\n",
    "# Load the data"
   ]
  },
  {
   "cell_type": "code",
   "execution_count": null,
   "metadata": {},
   "outputs": [],
   "source": [
    "fmin = 1000"
   ]
  },
  {
   "cell_type": "code",
   "execution_count": null,
   "metadata": {},
   "outputs": [],
   "source": [
    "bands = [2]"
   ]
  },
  {
   "cell_type": "code",
   "execution_count": null,
   "metadata": {},
   "outputs": [],
   "source": [
    "sdss_hubble_data = sdss_dataset_lib.SDSSHubbleData(bands = bands)\n",
    "\n",
    "# image \n",
    "full_image = sdss_hubble_data.sdss_image\n",
    "full_background = sdss_hubble_data.sdss_background \n",
    "\n",
    "# true parameters\n",
    "which_bright = (sdss_hubble_data.fluxes[:, 0] > fmin)\n",
    "true_locs = sdss_hubble_data.locs[which_bright]\n",
    "true_fluxes = sdss_hubble_data.fluxes[which_bright]\n"
   ]
  },
  {
   "cell_type": "markdown",
   "metadata": {},
   "source": [
    "# Simulator"
   ]
  },
  {
   "cell_type": "code",
   "execution_count": null,
   "metadata": {},
   "outputs": [],
   "source": [
    "import fitsio"
   ]
  },
  {
   "cell_type": "code",
   "execution_count": null,
   "metadata": {},
   "outputs": [],
   "source": [
    "psf_dir = '../data/'\n",
    "psf_r = fitsio.FITS(psf_dir + 'sdss-002583-2-0136-psf-r.fits')[0].read()\n",
    "psf_i = fitsio.FITS(psf_dir + 'sdss-002583-2-0136-psf-i.fits')[0].read()\n",
    "\n",
    "if len(bands) == 2: \n",
    "    psf_og = np.array([psf_r, psf_i])\n",
    "elif len(bands) == 1: \n",
    "    psf_og = np.array([psf_r])\n",
    "else: \n",
    "    assert 1 == 2, 'not implemented error'\n",
    "    \n",
    "sky_intensity = full_background.reshape(full_background.shape[0], -1).mean(1)\n"
   ]
  },
  {
   "cell_type": "code",
   "execution_count": null,
   "metadata": {},
   "outputs": [],
   "source": [
    "simulator = simulated_datasets_lib.StarSimulator(psf=psf_og, \n",
    "                                                slen = full_image.shape[-1], \n",
    "                                                transpose_psf = False,\n",
    "                                                sky_intensity = sky_intensity)\n",
    "\n"
   ]
  },
  {
   "cell_type": "markdown",
   "metadata": {},
   "source": [
    "# Load and clean DAOPHOT results"
   ]
  },
  {
   "cell_type": "code",
   "execution_count": null,
   "metadata": {},
   "outputs": [],
   "source": [
    "len0 = sdss_hubble_data.sdss_image_full.shape[1]\n",
    "len1 = sdss_hubble_data.sdss_image_full.shape[2]"
   ]
  },
  {
   "cell_type": "code",
   "execution_count": null,
   "metadata": {},
   "outputs": [],
   "source": [
    "daophot_file = np.loadtxt('./m2_2583.phot.txt')"
   ]
  },
  {
   "cell_type": "code",
   "execution_count": null,
   "metadata": {},
   "outputs": [],
   "source": [
    "daophot_ra = daophot_file[:, 4]\n",
    "daophot_decl = daophot_file[:, 5]\n",
    "daophot_mags = daophot_file[:, 22]"
   ]
  },
  {
   "cell_type": "code",
   "execution_count": null,
   "metadata": {},
   "outputs": [],
   "source": [
    "pix_coords = sdss_hubble_data.wcs.wcs_world2pix(daophot_ra, daophot_decl, 0, ra_dec_order = True)\n",
    "# pix_coords = (daophot_file[:, 21], daophot_file[:, 20])\n",
    "\n",
    "pix_coords[1] = pix_coords[1] - 0.38\n",
    "pix_coords[0] = pix_coords[0] - 0.56"
   ]
  },
  {
   "cell_type": "code",
   "execution_count": null,
   "metadata": {},
   "outputs": [],
   "source": [
    "x0 = 630\n",
    "x1 = 310"
   ]
  },
  {
   "cell_type": "code",
   "execution_count": null,
   "metadata": {},
   "outputs": [],
   "source": [
    "which_locs = (pix_coords[1] > x0) & (pix_coords[1] < (x0 + 100)) & \\\n",
    "                        (pix_coords[0] > x1) & (pix_coords[0] < (x1 + 100))\n",
    "    \n"
   ]
  },
  {
   "cell_type": "code",
   "execution_count": null,
   "metadata": {},
   "outputs": [],
   "source": [
    "which_locs.sum()"
   ]
  },
  {
   "cell_type": "code",
   "execution_count": null,
   "metadata": {},
   "outputs": [],
   "source": [
    "daophot_locs0 = (pix_coords[1][which_locs] - x0)/ 100\n",
    "daophot_locs1 = (pix_coords[0][which_locs] - x1)/ 100"
   ]
  },
  {
   "cell_type": "code",
   "execution_count": null,
   "metadata": {},
   "outputs": [],
   "source": [
    "daophot_locs = torch.Tensor(np.array([daophot_locs0, daophot_locs1]).transpose())"
   ]
  },
  {
   "cell_type": "code",
   "execution_count": null,
   "metadata": {},
   "outputs": [],
   "source": [
    "daophot_locs.max()"
   ]
  },
  {
   "cell_type": "code",
   "execution_count": null,
   "metadata": {},
   "outputs": [],
   "source": [
    "daophot_locs.min()"
   ]
  },
  {
   "cell_type": "code",
   "execution_count": null,
   "metadata": {},
   "outputs": [],
   "source": [
    "daophot_fluxes = sdss_dataset_lib.convert_mag_to_nmgy(daophot_mags[which_locs]) * \\\n",
    "                    sdss_hubble_data.nelec_per_nmgy_full.mean() * \\\n",
    "                    sdss_hubble_data.fudge_conversion\n",
    "        \n",
    "daophot_fluxes = torch.Tensor(daophot_fluxes).unsqueeze(1)"
   ]
  },
  {
   "cell_type": "code",
   "execution_count": null,
   "metadata": {},
   "outputs": [],
   "source": [
    "plt.hist(daophot_fluxes.squeeze())"
   ]
  },
  {
   "cell_type": "markdown",
   "metadata": {},
   "source": [
    "# Get DAOPHOT reconstruction"
   ]
  },
  {
   "cell_type": "code",
   "execution_count": null,
   "metadata": {},
   "outputs": [],
   "source": [
    "daophot_recon = simulator.draw_image_from_params(locs = daophot_locs.unsqueeze(0), \n",
    "                                fluxes = daophot_fluxes.unsqueeze(0), \n",
    "                                n_stars = torch.Tensor([len(daophot_fluxes)]).type(torch.long), \n",
    "                                add_noise = False)"
   ]
  },
  {
   "cell_type": "code",
   "execution_count": null,
   "metadata": {},
   "outputs": [],
   "source": [
    "plt.matshow(daophot_recon.squeeze())"
   ]
  },
  {
   "cell_type": "code",
   "execution_count": null,
   "metadata": {},
   "outputs": [],
   "source": [
    "foo = (daophot_recon.squeeze() - sdss_hubble_data.sdss_image[0]) / sdss_hubble_data.sdss_image[0]\n",
    "plt.matshow(foo, vmax = foo.abs().max(), vmin = - foo.abs().max(), cmap = plt.get_cmap('bwr')) \n",
    "plt.colorbar()"
   ]
  },
  {
   "cell_type": "code",
   "execution_count": null,
   "metadata": {},
   "outputs": [],
   "source": []
  },
  {
   "cell_type": "code",
   "execution_count": null,
   "metadata": {},
   "outputs": [],
   "source": [
    "fig, axarr = plt.subplots(1, 3, figsize=(12, 3))\n",
    "\n",
    "np.random.seed(23423)\n",
    "for i in range(3): \n",
    "\n",
    "    x0 = int(np.random.choice(100, 1))\n",
    "    x1 = int(np.random.choice(100, 1))\n",
    "    plotting_utils.plot_subimage(axarr[i], sdss_hubble_data.sdss_image[0],\n",
    "                                         daophot_locs,\n",
    "                                         sdss_hubble_data.locs[sdss_hubble_data.fluxes[:, 0] > 1000], \n",
    "                                         x0, x1, subimage_slen = 10, \n",
    "                                        add_colorbar = True, \n",
    "                                         global_fig = fig)\n",
    "    \n",
    "\n",
    "fig.tight_layout()\n",
    "\n",
    "plt.savefig('../../qualifying_exam_slides/figures/daophot_results.png')"
   ]
  },
  {
   "cell_type": "code",
   "execution_count": null,
   "metadata": {},
   "outputs": [],
   "source": [
    "\n",
    "for i in range(3): \n",
    "    fig, axarr = plt.subplots(1, 2, figsize=(12, 6))\n",
    "\n",
    "    x0 = int(np.random.choice(100, 1))\n",
    "    x1 = int(np.random.choice(100, 1))\n",
    "    plotting_utils.plot_subimage(axarr[0], sdss_hubble_data.sdss_image[0],\n",
    "                                         daophot_locs,\n",
    "                                         sdss_hubble_data.locs[sdss_hubble_data.fluxes[:, 0] > 1000], \n",
    "                                         x0, x1, subimage_slen = 10, \n",
    "                                        add_colorbar = True, \n",
    "                                         global_fig = fig)\n",
    "    \n",
    "    plotting_utils.plot_subimage(axarr[1], foo,\n",
    "                                         daophot_locs,\n",
    "                                         sdss_hubble_data.locs[sdss_hubble_data.fluxes[:, 0] > 1000], \n",
    "                                         x0, x1, subimage_slen = 10, \n",
    "                                        add_colorbar = True, \n",
    "                                         diverging_cmap = True, \n",
    "                                         global_fig = fig)"
   ]
  },
  {
   "cell_type": "code",
   "execution_count": null,
   "metadata": {},
   "outputs": [],
   "source": [
    "my_completeness1, my_tpr1, my_complete_bool1, my_tpr_bool = \\\n",
    "    image_statistics_lib.get_summary_stats(daophot_locs, \n",
    "                                           true_locs, \n",
    "                                           101, \n",
    "                                           daophot_fluxes[:, 0], \n",
    "                                           true_fluxes[:, 0], pad = 0, slack = 0.5)"
   ]
  },
  {
   "cell_type": "code",
   "execution_count": null,
   "metadata": {},
   "outputs": [],
   "source": [
    "my_completeness1"
   ]
  },
  {
   "cell_type": "code",
   "execution_count": null,
   "metadata": {},
   "outputs": [],
   "source": [
    "my_tpr1"
   ]
  },
  {
   "cell_type": "code",
   "execution_count": null,
   "metadata": {},
   "outputs": [],
   "source": [
    "my_complete_bool1.sum()"
   ]
  },
  {
   "cell_type": "code",
   "execution_count": null,
   "metadata": {},
   "outputs": [],
   "source": [
    "true_locs.shape"
   ]
  },
  {
   "cell_type": "code",
   "execution_count": null,
   "metadata": {},
   "outputs": [],
   "source": [
    "my_complete_bool1.shape"
   ]
  },
  {
   "cell_type": "code",
   "execution_count": null,
   "metadata": {},
   "outputs": [],
   "source": []
  },
  {
   "cell_type": "code",
   "execution_count": null,
   "metadata": {},
   "outputs": [],
   "source": [
    "fig, axarr = plt.subplots(1, 2, figsize=(12, 6))\n",
    "\n",
    "x0 = int(np.random.choice(100, 1))\n",
    "x1 = int(np.random.choice(100, 1))\n",
    "    \n",
    "subimage_slen = 10\n",
    "\n",
    "plotting_utils.plot_subimage(axarr[0], sdss_hubble_data.sdss_image[0],\n",
    "                                     daophot_locs,\n",
    "                                     sdss_hubble_data.locs[sdss_hubble_data.fluxes[:, 0] > 1000], \n",
    "                                     x0, x1, subimage_slen = 10, \n",
    "                                    add_colorbar = True, \n",
    "                                     global_fig = fig)\n",
    "\n",
    "\n",
    "# true locations that I missed\n",
    "_locs = true_locs[my_complete_bool1 == 0] * (full_image.shape[-1] - 1)\n",
    "which_locs = (_locs[:, 0] > x0) & \\\n",
    "                (_locs[:, 0] < (x0 + subimage_slen - 1)) & \\\n",
    "                (_locs[:, 1] > x1) & \\\n",
    "                (_locs[:, 1] < (x1 + subimage_slen - 1))\n",
    "__locs = (_locs[which_locs, :] - torch.Tensor([[x0, x1]])) \n",
    "axarr[0].scatter(__locs[:, 1], __locs[:, 0], color = 'orange', marker = 'o')\n",
    "\n",
    "# # estimated locations that were false\n",
    "# _locs = est_locs1[tpr1_bool == 0] * (full_image.shape[-1] - 1)\n",
    "# which_locs = (_locs[:, 0] > x0) & \\\n",
    "#                 (_locs[:, 0] < (x0 + subimage_slen - 1)) & \\\n",
    "#                 (_locs[:, 1] > x1) & \\\n",
    "#                 (_locs[:, 1] < (x1 + subimage_slen - 1))\n",
    "# __locs = (_locs[which_locs, :] - torch.Tensor([[x0, x1]])) \n",
    "# axarr[0, 0].scatter(__locs[:, 1], __locs[:, 0], color = 'orange', marker = 'x')\n",
    "\n"
   ]
  },
  {
   "cell_type": "code",
   "execution_count": null,
   "metadata": {},
   "outputs": [],
   "source": []
  },
  {
   "cell_type": "code",
   "execution_count": null,
   "metadata": {},
   "outputs": [],
   "source": [
    "perm = image_statistics_lib.get_locs_error(daophot_locs, true_locs).argmin(0)"
   ]
  },
  {
   "cell_type": "code",
   "execution_count": null,
   "metadata": {},
   "outputs": [],
   "source": [
    "which_brightest = torch.nonzero(torch.log10(daophot_fluxes).squeeze() > 4.5).squeeze()"
   ]
  },
  {
   "cell_type": "code",
   "execution_count": null,
   "metadata": {},
   "outputs": [],
   "source": [
    "locs_err = (daophot_locs[which_brightest] - true_locs[perm][which_brightest]) * 100."
   ]
  },
  {
   "cell_type": "code",
   "execution_count": null,
   "metadata": {},
   "outputs": [],
   "source": [
    "locs_err[:, 1].median()"
   ]
  },
  {
   "cell_type": "code",
   "execution_count": null,
   "metadata": {},
   "outputs": [],
   "source": [
    "locs_err[:, 0].median()"
   ]
  },
  {
   "cell_type": "code",
   "execution_count": null,
   "metadata": {},
   "outputs": [],
   "source": []
  },
  {
   "cell_type": "code",
   "execution_count": null,
   "metadata": {},
   "outputs": [],
   "source": [
    "plt.hist(locs_err[:, 1], bins = 30);"
   ]
  },
  {
   "cell_type": "code",
   "execution_count": null,
   "metadata": {},
   "outputs": [],
   "source": [
    "plt.hist(locs_err[:, 0], bins = 30);"
   ]
  },
  {
   "cell_type": "code",
   "execution_count": null,
   "metadata": {},
   "outputs": [],
   "source": []
  },
  {
   "cell_type": "code",
   "execution_count": null,
   "metadata": {},
   "outputs": [],
   "source": []
  },
  {
   "cell_type": "code",
   "execution_count": null,
   "metadata": {},
   "outputs": [],
   "source": [
    "true_locs"
   ]
  },
  {
   "cell_type": "code",
   "execution_count": null,
   "metadata": {},
   "outputs": [],
   "source": []
  },
  {
   "cell_type": "code",
   "execution_count": null,
   "metadata": {},
   "outputs": [],
   "source": []
  }
 ],
 "metadata": {
  "kernelspec": {
   "display_name": "Python (pytorch_04)",
   "language": "python",
   "name": "pytorch_update"
  },
  "language_info": {
   "codemirror_mode": {
    "name": "ipython",
    "version": 3
   },
   "file_extension": ".py",
   "mimetype": "text/x-python",
   "name": "python",
   "nbconvert_exporter": "python",
   "pygments_lexer": "ipython3",
   "version": "3.6.8"
  }
 },
 "nbformat": 4,
 "nbformat_minor": 2
}
