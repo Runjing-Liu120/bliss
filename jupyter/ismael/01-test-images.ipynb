{
 "cells": [
  {
   "cell_type": "code",
   "execution_count": null,
   "metadata": {},
   "outputs": [],
   "source": [
    "%load_ext autoreload\n",
    "%autoreload 2\n",
    "%aimport"
   ]
  },
  {
   "cell_type": "code",
   "execution_count": null,
   "metadata": {},
   "outputs": [],
   "source": [
    "import os \n",
    "import sys\n",
    "path = os.path.abspath('../..')\n",
    "if path not in sys.path: \n",
    "    sys.path.insert(0, path)\n",
    "sys.path[0]"
   ]
  },
  {
   "cell_type": "code",
   "execution_count": null,
   "metadata": {
    "pycharm": {
     "is_executing": false
    }
   },
   "outputs": [],
   "source": [
    "import numpy as np\n",
    "\n",
    "import matplotlib.pyplot as plt\n",
    "\n",
    "import torch\n",
    "import torch.optim as optim\n",
    "\n",
    "import fitsio \n",
    "\n",
    "import json\n",
    "\n",
    "device = torch.device(\"cuda:0\" if torch.cuda.is_available() else \"cpu\")\n",
    "print('torch version: ', torch.__version__)\n",
    "print(device)"
   ]
  },
  {
   "cell_type": "code",
   "execution_count": null,
   "metadata": {},
   "outputs": [],
   "source": [
    "from src import psf_transform_lib\n",
    "from src.utils import const\n",
    "from src.data import simulated_datasets_lib\n",
    "from src import starnet_lib"
   ]
  },
  {
   "cell_type": "markdown",
   "metadata": {
    "heading_collapsed": true
   },
   "source": [
    "# Load "
   ]
  },
  {
   "cell_type": "code",
   "execution_count": null,
   "metadata": {
    "hidden": true
   },
   "outputs": [],
   "source": [
    "# this is the PSF I fitted using ground truth Hubble locations/fluxes. \n",
    "init_psf_params = torch.tensor(np.load('../../data/fitted_powerlaw_psf_params.npy'), device=device)\n",
    "power_law_psf = psf_transform_lib.PowerLawPSF(init_psf_params)\n",
    "psf = power_law_psf.forward().detach()\n",
    "\n",
    "# number of bands. Here, there are two. \n",
    "n_bands = psf.shape[0]\n",
    "print(n_bands)\n",
    "print(psf.shape)\n"
   ]
  },
  {
   "cell_type": "markdown",
   "metadata": {
    "heading_collapsed": true
   },
   "source": [
    "# Plot images"
   ]
  },
  {
   "cell_type": "markdown",
   "metadata": {
    "hidden": true
   },
   "source": [
    "## test star simulator"
   ]
  },
  {
   "cell_type": "code",
   "execution_count": null,
   "metadata": {
    "hidden": true
   },
   "outputs": [],
   "source": [
    "# data parameters\n",
    "with open('../../data/default_star_parameters.json', 'r') as fp:\n",
    "    data_params = json.load(fp)\n",
    "data_params['max_stars'] = 10\n",
    "data_params['mean_stars'] = 5\n",
    "data_params['slen'] = 30 \n",
    "print(data_params)"
   ]
  },
  {
   "cell_type": "code",
   "execution_count": null,
   "metadata": {
    "hidden": true
   },
   "outputs": [],
   "source": [
    "# set background \n",
    "background = torch.zeros(n_bands, data_params['slen'], data_params['slen'], device=device)\n",
    "background[0] = 686.\n",
    "background[1] = 1123."
   ]
  },
  {
   "cell_type": "code",
   "execution_count": null,
   "metadata": {
    "hidden": true
   },
   "outputs": [],
   "source": [
    "# draw data \n",
    "n_images = 10\n",
    "\n",
    "simulated_dataset = \\\n",
    "    simulated_datasets_lib.StarsDataset.load_dataset_from_params(n_images,\n",
    "                    data_params, psf,\n",
    "                    background,\n",
    "                    transpose_psf = False, \n",
    "                    add_noise = True, draw_poisson=True)"
   ]
  },
  {
   "cell_type": "code",
   "execution_count": null,
   "metadata": {
    "hidden": true
   },
   "outputs": [],
   "source": [
    "# test sampling params \n",
    "n_sources, locs, params = simulated_dataset.simulator.sample_parameters(batchsize=1)\n",
    "\n",
    "print(n_sources.shape, locs.shape, params.shape)\n",
    "print('n_sources:\\n', n_sources)\n",
    "print('locs:\\n', locs)\n",
    "print('params:\\n', params)\n",
    "\n",
    "# check psf \n",
    "print(simulated_dataset.simulator.psf.shape)"
   ]
  },
  {
   "cell_type": "code",
   "execution_count": null,
   "metadata": {
    "hidden": true
   },
   "outputs": [],
   "source": [
    "locs[0][:,0]"
   ]
  },
  {
   "cell_type": "code",
   "execution_count": null,
   "metadata": {
    "hidden": true
   },
   "outputs": [],
   "source": [
    "#drawing\n",
    "images = simulated_dataset.simulator.draw_image_from_params(locs, n_sources, fluxes=params)\n",
    "print(images.shape)\n",
    "plt.matshow(images.cpu().numpy()[0,0])\n",
    "\n",
    "locs_x = locs[0][:,0].cpu().numpy() * (simulated_dataset.slen-1)\n",
    "locs_y = locs[0][:,1].cpu().numpy() * (simulated_dataset.slen-1)\n",
    "plt.scatter(locs_y, locs_x, marker='x', color='red')"
   ]
  },
  {
   "cell_type": "markdown",
   "metadata": {
    "heading_collapsed": true
   },
   "source": [
    "# Test star encoder"
   ]
  },
  {
   "cell_type": "code",
   "execution_count": null,
   "metadata": {
    "hidden": true
   },
   "outputs": [],
   "source": [
    "star_encoder = starnet_lib.SourceEncoder(slen = 30,\n",
    "                                            patch_slen = 8,\n",
    "                                            step = 2,\n",
    "                                            edge_padding = 3, \n",
    "                                            n_bands = 2,\n",
    "                                            max_detections = 2)"
   ]
  },
  {
   "cell_type": "code",
   "execution_count": null,
   "metadata": {
    "hidden": true
   },
   "outputs": [],
   "source": [
    "# data parameters\n",
    "with open('../../data/default_star_parameters.json', 'r') as fp:\n",
    "    data_params = json.load(fp)\n",
    "data_params['max_stars'] = 10\n",
    "data_params['mean_stars'] = 5\n",
    "data_params['slen'] = 30 \n",
    "print(data_params)"
   ]
  },
  {
   "cell_type": "code",
   "execution_count": null,
   "metadata": {
    "hidden": true
   },
   "outputs": [],
   "source": [
    "# draw data \n",
    "n_images = 10\n",
    "\n",
    "simulated_dataset = \\\n",
    "    simulated_datasets_lib.StarsDataset.load_dataset_from_params(n_images,\n",
    "                    data_params, psf,\n",
    "                    background,\n",
    "                    transpose_psf = False, \n",
    "                    add_noise = True, draw_poisson=True)\n",
    "\n",
    "# test sampling params \n",
    "n_sources, locs, fluxes = simulated_dataset.simulator.sample_parameters(batchsize=1)\n",
    "images = simulated_dataset.simulator.draw_image_from_params(locs, n_sources, fluxes=params)\n",
    "print(n_sources.shape, locs.shape, fluxes.shape, images.shape)"
   ]
  },
  {
   "cell_type": "code",
   "execution_count": null,
   "metadata": {
    "hidden": true
   },
   "outputs": [],
   "source": [
    "image_patches, patch_locs, patch_fluxes, patch_n_stars, _ = star_encoder.get_image_patches(images, \n",
    "                                           locs = locs, \n",
    "                                           source_params= fluxes)\n",
    "\n",
    "print(image_patches.shape, patch_locs.shape, patch_fluxes.shape, patch_n_stars.shape)"
   ]
  },
  {
   "cell_type": "code",
   "execution_count": null,
   "metadata": {
    "hidden": true
   },
   "outputs": [],
   "source": [
    "#print where they are stars.. \n",
    "patch_n_stars.nonzero()"
   ]
  },
  {
   "cell_type": "code",
   "execution_count": null,
   "metadata": {
    "hidden": true
   },
   "outputs": [],
   "source": [
    "# same plot as before, but I also mark my estimated star on this star\n",
    "indx = 119\n",
    "plt.matshow(image_patches[indx, 1].detach().cpu().numpy())\n",
    "\n",
    "# the neural network returns locations / fluxes for any stars in the center of the grid\n",
    "plt.axvline(x=star_encoder.edge_padding - 0.5, color = 'r')\n",
    "plt.axvline(x=star_encoder.patch_slen - star_encoder.edge_padding - 0.5, color = 'r')\n",
    "plt.axhline(y=star_encoder.edge_padding - 0.5, color = 'r')\n",
    "plt.axhline(y=star_encoder.patch_slen - star_encoder.edge_padding - 0.5, color = 'r')\n",
    "\n",
    "\n",
    "# lets mark any true sources in this particular tile \n",
    "if patch_n_sources[indx] > 0: \n",
    "    _loc = patch_locs[indx][0:patch_n_sources[indx]].detach().cpu()\n",
    "    # you have to scale and shift appropriately so the location plots in the right place. \n",
    "    # all locations, whether on the full image or the tile, is parameterized to be between 0 and 1\n",
    "    _loc = _loc * (star_encoder.patch_slen - 2 * star_encoder.edge_padding) +  star_encoder.edge_padding - 0.5\n",
    "    plt.scatter(_loc[:, 1], _loc[:, 0], marker = 'o', color = 'b')\n",
    "    \n",
    "# plot my estimated star\n",
    "if patch_n_sources[indx] > 0: \n",
    "    _loc = loc_mean[indx][0:patch_n_sources[indx]].detach().cpu()\n",
    "    # you have to scale and shift appropriately so the location plots in the right place. \n",
    "    # all locations, whether on the full image or the tile, is parameterized to be between 0 and 1\n",
    "    _loc = _loc * (star_encoder.patch_slen - 2 * star_encoder.edge_padding) +  star_encoder.edge_padding - 0.5\n",
    "    plt.scatter(_loc[:, 1], _loc[:, 0], marker = 'x', color = 'r')\n"
   ]
  },
  {
   "cell_type": "markdown",
   "metadata": {
    "heading_collapsed": true,
    "hidden": true
   },
   "source": [
    "## Test galaxy simulation"
   ]
  },
  {
   "cell_type": "code",
   "execution_count": null,
   "metadata": {
    "hidden": true
   },
   "outputs": [],
   "source": [
    "# data parameters\n",
    "with open('../../data/default_galaxy_parameters.json', 'r') as fp:\n",
    "    data_params = json.load(fp)\n",
    "print(data_params)"
   ]
  },
  {
   "cell_type": "code",
   "execution_count": null,
   "metadata": {
    "hidden": true
   },
   "outputs": [],
   "source": [
    "n_images=100\n",
    "sim_ds = simulated_datasets_lib.GalaxyDataset.load_dataset_from_params(100, data_params)"
   ]
  },
  {
   "cell_type": "code",
   "execution_count": null,
   "metadata": {
    "hidden": true
   },
   "outputs": [],
   "source": [
    "# background \n",
    "torch.mean(sim_ds.background[2])"
   ]
  },
  {
   "cell_type": "code",
   "execution_count": null,
   "metadata": {
    "hidden": true
   },
   "outputs": [],
   "source": [
    "from torch.distributions import Normal\n",
    "p_z = Normal(torch.zeros((1,), device=device), torch.ones((1,), device=device))\n",
    "z = p_z.rsample(torch.tensor([2, 8])).view(2, -1)\n",
    "print(z)"
   ]
  },
  {
   "cell_type": "code",
   "execution_count": null,
   "metadata": {
    "hidden": true
   },
   "outputs": [],
   "source": [
    "#check that a couple of galaxies from the dataset look good. \n",
    "fig, axs = plt.subplots(3, 3, figsize=(15,15))\n",
    "axes = axs.flatten()\n",
    "for i, gal in enumerate(sim_ds.simulator.ds): \n",
    "    if i > 8: \n",
    "        break   \n",
    "    ax = axes[i]\n",
    "    im = ax.imshow(gal[2].cpu().numpy())\n",
    "    fig.colorbar(im, ax=ax)"
   ]
  },
  {
   "cell_type": "code",
   "execution_count": null,
   "metadata": {
    "hidden": true
   },
   "outputs": [],
   "source": [
    "from torch.distributions import Normal\n",
    "p_z = Normal(torch.zeros(1), torch.ones(1))\n",
    "z = p_z.rsample(torch.tensor([2, 8])).view(2, -1)  # shape = (8,)\n",
    "print(z.shape)\n",
    "z"
   ]
  },
  {
   "cell_type": "code",
   "execution_count": null,
   "metadata": {
    "hidden": true
   },
   "outputs": [],
   "source": [
    "# test sampling works fine \n",
    "z, gals = sim_ds.simulator.ds.sample(2)\n",
    "gals = gals.detach().cpu().numpy()\n",
    "print(z.shape) \n",
    "print(gals.shape)\n",
    "plt.imshow(gals[0][0])"
   ]
  },
  {
   "cell_type": "code",
   "execution_count": null,
   "metadata": {
    "hidden": true
   },
   "outputs": [],
   "source": [
    "# test sampling source params\n",
    "n_galaxy = torch.Tensor([3]).cuda(device)\n",
    "galaxy_params, single_galaxies = sim_ds.simulator.get_source_params(n_galaxy)\n",
    "\n",
    "print(galaxy_params.shape, single_galaxies.shape)\n",
    "plt.imshow(single_galaxies[0][0][0].cpu().numpy())\n",
    "assert single_galaxies[0, 3:, ...].sum() == 0  #all galaxies should be zero after. \n",
    "galaxy_params[0, 0:6, ...] # the rest should be zero after the third \n"
   ]
  },
  {
   "cell_type": "code",
   "execution_count": null,
   "metadata": {
    "hidden": true
   },
   "outputs": [],
   "source": [
    "# test sample parameters\n",
    "n_sources, locs, params = sim_ds.simulator.sample_parameters(1)\n",
    "gal_params, single_galaxies = params \n",
    "print(n_sources.shape, \n",
    "      locs.shape, \n",
    "      gal_params.shape, \n",
    "      single_galaxies.shape)"
   ]
  },
  {
   "cell_type": "code",
   "execution_count": null,
   "metadata": {
    "hidden": true
   },
   "outputs": [],
   "source": [
    "#test image drawing\n",
    "images = sim_ds.simulator.draw_image_from_params(locs, n_sources, sources=single_galaxies.cuda(device))\n",
    "print(images.shape)\n",
    "\n",
    "print(n_sources)\n",
    "plt.figure(figsize=(12,12))\n",
    "plt.imshow(images[0][0].detach().cpu().numpy(), interpolation='None')\n",
    "plt.colorbar()"
   ]
  },
  {
   "cell_type": "markdown",
   "metadata": {
    "heading_collapsed": true,
    "hidden": true
   },
   "source": [
    "## Smaller galaxy scene"
   ]
  },
  {
   "cell_type": "code",
   "execution_count": null,
   "metadata": {
    "hidden": true
   },
   "outputs": [],
   "source": [
    "# data parameters\n",
    "with open('../../data/default_galaxy_parameters.json', 'r') as fp:\n",
    "    data_params = json.load(fp)\n",
    "data_params['min_galaxies'] = 1\n",
    "data_params['mean_galaxies'] = 3 \n",
    "data_params['max_galaxies'] = 5\n",
    "print(data_params)"
   ]
  },
  {
   "cell_type": "code",
   "execution_count": null,
   "metadata": {
    "hidden": true
   },
   "outputs": [],
   "source": [
    "n_images=100\n",
    "sim_ds = simulated_datasets_lib.GalaxyDataset.load_dataset_from_params(100, data_params)"
   ]
  },
  {
   "cell_type": "code",
   "execution_count": null,
   "metadata": {
    "hidden": true
   },
   "outputs": [],
   "source": [
    "#draw each of the images produced. "
   ]
  },
  {
   "cell_type": "code",
   "execution_count": null,
   "metadata": {
    "hidden": true
   },
   "outputs": [],
   "source": [
    "sample = sim_ds[0]\n",
    "plt.figure(figsize=(10,10))\n",
    "image =sample['image'][2].detach().cpu().numpy() \n",
    "plt.imshow(image)"
   ]
  },
  {
   "cell_type": "markdown",
   "metadata": {},
   "source": [
    "# Encoder"
   ]
  },
  {
   "cell_type": "markdown",
   "metadata": {},
   "source": [
    "## prepare the encoder and the simulated dataset "
   ]
  },
  {
   "cell_type": "code",
   "execution_count": null,
   "metadata": {},
   "outputs": [],
   "source": [
    "import src.starnet_lib as starnet_lib"
   ]
  },
  {
   "cell_type": "code",
   "execution_count": null,
   "metadata": {},
   "outputs": [],
   "source": [
    "gal_dim = 8 # number of latent dimensions. \n",
    "galaxy_encoder = starnet_lib.SourceEncoder(\n",
    "                            slen = 100, \n",
    "                            n_bands = 1,\n",
    "                            # patches may need to be larger now\n",
    "                            # and corresponding padding parameters should change\n",
    "                            patch_slen = 20, \n",
    "                            step = 5, \n",
    "                            edge_padding = 5, \n",
    "                            max_detections = 2, \n",
    "                            is_star = False,\n",
    "                            # the number of source parameters \n",
    "                            n_source_params = gal_dim).cuda()"
   ]
  },
  {
   "cell_type": "code",
   "execution_count": null,
   "metadata": {},
   "outputs": [],
   "source": [
    "# get params and image \n",
    "n_images=100\n",
    "# data parameters\n",
    "with open('../../data/default_galaxy_parameters.json', 'r') as fp:\n",
    "    data_params = json.load(fp)\n",
    "data_params['min_galaxies'] = 1\n",
    "data_params['mean_galaxies'] = 3\n",
    "data_params['max_galaxies'] = 5\n",
    "print(data_params)\n",
    "\n",
    "\n",
    "sim_ds = simulated_datasets_lib.GalaxyDataset.load_dataset_from_params(100, data_params)"
   ]
  },
  {
   "cell_type": "code",
   "execution_count": null,
   "metadata": {},
   "outputs": [],
   "source": [
    "for i, x in enumerate(sim_ds):\n",
    "    \n",
    "    print(x.keys())\n",
    "    if i==0: \n",
    "        break "
   ]
  },
  {
   "cell_type": "markdown",
   "metadata": {},
   "source": [
    "## sample from dataset"
   ]
  },
  {
   "cell_type": "code",
   "execution_count": null,
   "metadata": {},
   "outputs": [],
   "source": [
    "sample = sim_ds[0]\n",
    "n_sources = sample['n_sources']\n",
    "locs = sample['locs']\n",
    "source_params = sample['source_params']\n",
    "images = sample['images']\n",
    "print(n_sources)\n",
    "\n",
    "print(n_sources.shape, locs.shape, source_params.shape, images.shape)"
   ]
  },
  {
   "cell_type": "code",
   "execution_count": null,
   "metadata": {},
   "outputs": [],
   "source": [
    "# draw the image with correct centers\n",
    "plt.figure(figsize=(9,9))\n",
    "plt.imshow(images[0,0].cpu().numpy())\n",
    "locs_x = locs[0][:,0].cpu().numpy() * (sim_ds.slen-1)\n",
    "locs_y = locs[0][:,1].cpu().numpy() * (sim_ds.slen-1)\n",
    "plt.scatter(locs_y, locs_x, marker='x', color='red')"
   ]
  },
  {
   "cell_type": "code",
   "execution_count": null,
   "metadata": {},
   "outputs": [],
   "source": [
    "%matplotlib inline\n",
    "\n",
    "#compare with decoder drawing directly which should be in the center of the image? \n",
    "plt.figure(figsize=(6,6))\n",
    "plt.imshow(sim_ds.simulator.ds[0][0].cpu().numpy())\n",
    "print(sim_ds.simulator.galaxy_slen)\n",
    "plt.scatter((sim_ds.simulator.galaxy_slen-1)/2, (sim_ds.simulator.galaxy_slen-1)/2, marker='x', color='r')\n",
    "\n",
    "# so probably because I move it around the central pixel "
   ]
  },
  {
   "cell_type": "markdown",
   "metadata": {},
   "source": [
    "## patching"
   ]
  },
  {
   "cell_type": "code",
   "execution_count": null,
   "metadata": {},
   "outputs": [],
   "source": [
    "image_patches, patch_locs, patch_galaxy_params, patch_n_sources, patch_is_on_array = \\\n",
    "    galaxy_encoder.get_image_patches(images, \n",
    "                                     locs = locs, \n",
    "                                      source_params = source_params)\n",
    "\n",
    "\n",
    "print(image_patches.shape, patch_locs.shape, patch_galaxy_params.shape, patch_n_sources.shape)"
   ]
  },
  {
   "cell_type": "code",
   "execution_count": null,
   "metadata": {},
   "outputs": [],
   "source": [
    "# in which patches are they sources' centers. \n",
    "patch_n_sources.nonzero()"
   ]
  },
  {
   "cell_type": "code",
   "execution_count": null,
   "metadata": {},
   "outputs": [],
   "source": [
    "%matplotlib inline\n",
    "#plot some patch\n",
    "plt.matshow(image_patches[103][0].cpu().numpy())"
   ]
  },
  {
   "cell_type": "markdown",
   "metadata": {},
   "source": [
    "## get variational parameters"
   ]
  },
  {
   "cell_type": "code",
   "execution_count": null,
   "metadata": {},
   "outputs": [],
   "source": [
    "var_params_all = galaxy_encoder.get_var_params_all(image_patches)\n",
    "var_params_all.shape\n",
    "#why 63? "
   ]
  },
  {
   "cell_type": "code",
   "execution_count": null,
   "metadata": {},
   "outputs": [],
   "source": [
    "# get variational parameters for n_sources\n",
    "log_probs_nsource_patch = galaxy_encoder.get_logprob_n_from_var_params(var_params_all)\n",
    "log_probs_nsource_patch.shape \n",
    "#why 3  = 0,1,2 possible detections"
   ]
  },
  {
   "cell_type": "code",
   "execution_count": null,
   "metadata": {},
   "outputs": [],
   "source": [
    "# get variational parameters at true number of stars \n",
    "loc_mean, loc_logvar, \\\n",
    "    galaxy_param_mean, galaxy_param_logvar = \\\n",
    "        galaxy_encoder.get_var_params_for_n_sources(var_params_all, \n",
    "                                        # we clip at max detections\n",
    "                                        n_sources=patch_n_sources.clamp(max = galaxy_encoder.max_detections))\n",
    "\n",
    "# galaxy_param_mean has shape n_patches x max_detections x gal_dim\n",
    "print(loc_mean.shape, galaxy_param_mean.shape)\n",
    "#"
   ]
  },
  {
   "cell_type": "code",
   "execution_count": null,
   "metadata": {},
   "outputs": [],
   "source": [
    "loc_mean[2]\n",
    "# if more than one galaxy was detected there would be more locations in the second row. "
   ]
  },
  {
   "cell_type": "markdown",
   "metadata": {},
   "source": [
    "## plot a tiles to check "
   ]
  },
  {
   "cell_type": "code",
   "execution_count": null,
   "metadata": {},
   "outputs": [],
   "source": [
    "plt.close('all')"
   ]
  },
  {
   "cell_type": "code",
   "execution_count": null,
   "metadata": {},
   "outputs": [],
   "source": [
    "%matplotlib inline\n",
    "fig, axs = plt.subplots(5,4,figsize=(17,17))\n",
    "axes = axs.flatten()\n",
    "# same plot as before, but I also mark my estimated galaxy on each patch\n",
    "for i, indx in enumerate(patch_n_sources.nonzero()):\n",
    "    if i >= len(axes): \n",
    "        break \n",
    "        \n",
    "    indx = indx.item()\n",
    "    n_band = 0\n",
    "    ax = axes[i]\n",
    "    ax.matshow(image_patches[indx, n_band].detach().cpu().numpy())\n",
    "\n",
    "    # the neural network returns locations / fluxes for any stars in the center of the grid\n",
    "    ax.axvline(x=galaxy_encoder.edge_padding - 0.5, color = 'r')\n",
    "    ax.axvline(x=galaxy_encoder.patch_slen - galaxy_encoder.edge_padding - 0.5, color = 'r')\n",
    "    ax.axhline(y=galaxy_encoder.edge_padding - 0.5, color = 'r')\n",
    "    ax.axhline(y=galaxy_encoder.patch_slen - galaxy_encoder.edge_padding - 0.5, color = 'r')\n",
    "\n",
    "\n",
    "    # lets mark any true sources in this particular tile \n",
    "    if patch_n_sources[indx] > 0: \n",
    "        _loc = patch_locs[indx][0:patch_n_sources[indx]].detach().cpu()\n",
    "        # you have to scale and shift appropriately so the location plots in the right place. \n",
    "        # all locations, whether on the full image or the tile, is parameterized to be between 0 and 1\n",
    "        _loc = _loc * (galaxy_encoder.patch_slen - 2 * galaxy_encoder.edge_padding) +  galaxy_encoder.edge_padding - 0.5\n",
    "        ax.scatter(_loc[:, 1], _loc[:, 0], marker = 'o', color = 'b')\n",
    "\n",
    "    # plot my estimated star\n",
    "    if patch_n_sources[indx] > 0: \n",
    "        _loc = loc_mean[indx][0:patch_n_sources[indx]].detach().cpu()\n",
    "        # you have to scale and shift appropriately so the location plots in the right place. \n",
    "        # all locations, whether on the full image or the tile, is parameterized to be between 0 and 1\n",
    "        _loc = _loc * (galaxy_encoder.patch_slen - 2 * galaxy_encoder.edge_padding) +  galaxy_encoder.edge_padding - 0.5\n",
    "        ax.scatter(_loc[:, 1], _loc[:, 0], marker = 'x', color = 'r')\n"
   ]
  },
  {
   "cell_type": "code",
   "execution_count": null,
   "metadata": {},
   "outputs": [],
   "source": []
  },
  {
   "cell_type": "markdown",
   "metadata": {},
   "source": [
    "# next step"
   ]
  },
  {
   "cell_type": "code",
   "execution_count": null,
   "metadata": {},
   "outputs": [],
   "source": []
  },
  {
   "cell_type": "markdown",
   "metadata": {},
   "source": [
    "# Testing"
   ]
  },
  {
   "cell_type": "code",
   "execution_count": null,
   "metadata": {},
   "outputs": [],
   "source": [
    "is_on_array = const.get_is_on_from_n_sources(n_stars, 5)\n",
    "is_on_array\n",
    "# this means that they are only 5 stars in the first image. "
   ]
  },
  {
   "cell_type": "code",
   "execution_count": null,
   "metadata": {},
   "outputs": [],
   "source": [
    "(2 < n_stars).float()"
   ]
  },
  {
   "cell_type": "code",
   "execution_count": null,
   "metadata": {},
   "outputs": [],
   "source": [
    "n=2\n",
    "is_on_n = (n < n_stars).float()\n",
    "locs[:, n, :] * is_on_n.unsqueeze(1)"
   ]
  },
  {
   "cell_type": "code",
   "execution_count": null,
   "metadata": {},
   "outputs": [],
   "source": [
    "class Parent(object):\n",
    "    def __init__(self, x): \n",
    "        self.x = x\n",
    "        self.y = self.get_y()\n",
    "        \n",
    "    @staticmethod\n",
    "    def get_y():\n",
    "        return 3\n",
    "\n",
    "class Child(Parent):\n",
    "        \n",
    "    @staticmethod\n",
    "    def get_y(): \n",
    "        return 4 "
   ]
  },
  {
   "cell_type": "code",
   "execution_count": null,
   "metadata": {},
   "outputs": [],
   "source": [
    "c = Child(3) "
   ]
  },
  {
   "cell_type": "code",
   "execution_count": null,
   "metadata": {},
   "outputs": [],
   "source": [
    "c.y"
   ]
  },
  {
   "cell_type": "code",
   "execution_count": null,
   "metadata": {},
   "outputs": [],
   "source": []
  }
 ],
 "metadata": {
  "kernelspec": {
   "display_name": "Python [conda env:deblend] *",
   "language": "python",
   "name": "conda-env-deblend-py"
  },
  "language_info": {
   "codemirror_mode": {
    "name": "ipython",
    "version": 3
   },
   "file_extension": ".py",
   "mimetype": "text/x-python",
   "name": "python",
   "nbconvert_exporter": "python",
   "pygments_lexer": "ipython3",
   "version": "3.7.7"
  },
  "pycharm": {
   "stem_cell": {
    "cell_type": "raw",
    "metadata": {
     "collapsed": false
    },
    "source": []
   }
  },
  "toc": {
   "base_numbering": 1,
   "nav_menu": {},
   "number_sections": true,
   "sideBar": true,
   "skip_h1_title": false,
   "title_cell": "Table of Contents",
   "title_sidebar": "Contents",
   "toc_cell": false,
   "toc_position": {
    "height": "calc(100% - 180px)",
    "left": "10px",
    "top": "150px",
    "width": "165px"
   },
   "toc_section_display": true,
   "toc_window_display": true
  }
 },
 "nbformat": 4,
 "nbformat_minor": 1
}
