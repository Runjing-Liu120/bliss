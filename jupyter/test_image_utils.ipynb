{
 "cells": [
  {
   "cell_type": "code",
   "execution_count": null,
   "metadata": {},
   "outputs": [],
   "source": [
    "import numpy as np\n",
    "\n",
    "import matplotlib.pyplot as plt\n",
    "\n",
    "import torch\n",
    "\n",
    "import fitsio\n",
    "\n",
    "import sys\n",
    "sys.path.insert(0, './../')\n",
    "\n",
    "import sdss_psf\n",
    "import simulated_datasets_lib\n",
    "import sdss_dataset_lib\n",
    "import image_utils\n",
    "\n",
    "import json\n",
    "\n",
    "device = torch.device(\"cuda:0\" if torch.cuda.is_available() else \"cpu\")\n",
    "\n",
    "print('torch version: ', torch.__version__)"
   ]
  },
  {
   "cell_type": "code",
   "execution_count": null,
   "metadata": {},
   "outputs": [],
   "source": [
    "np.random.seed(43534)\n",
    "_ = torch.manual_seed(24534)"
   ]
  },
  {
   "cell_type": "code",
   "execution_count": null,
   "metadata": {},
   "outputs": [],
   "source": []
  },
  {
   "cell_type": "markdown",
   "metadata": {},
   "source": [
    "# Test tile images. \n",
    "\n",
    "Draw a full image, with sparse number of stars"
   ]
  },
  {
   "cell_type": "code",
   "execution_count": null,
   "metadata": {},
   "outputs": [],
   "source": [
    "# data parameters\n",
    "with open('../data/default_star_parameters.json', 'r') as fp:\n",
    "    data_params = json.load(fp)\n",
    "\n",
    "data_params['slen'] = 101\n",
    "data_params['min_stars'] = 6\n",
    "data_params['max_stars'] = 6\n",
    "\n",
    "data_params['alpha'] = 0.5\n",
    "\n",
    "print(data_params)\n"
   ]
  },
  {
   "cell_type": "code",
   "execution_count": null,
   "metadata": {},
   "outputs": [],
   "source": [
    "slen = data_params['slen']"
   ]
  },
  {
   "cell_type": "code",
   "execution_count": null,
   "metadata": {},
   "outputs": [],
   "source": [
    "psf_dir = '../data/'\n",
    "psf_r = fitsio.FITS(psf_dir + 'sdss-002583-2-0136-psf-r.fits')[0].read()\n",
    "psf_g = fitsio.FITS(psf_dir + 'sdss-002583-2-0136-psf-i.fits')[0].read()\n",
    "psf_og = torch.Tensor(np.array([psf_r, psf_g]))\n",
    "\n",
    "n_bands = psf_og.shape[0]"
   ]
  },
  {
   "cell_type": "code",
   "execution_count": null,
   "metadata": {},
   "outputs": [],
   "source": [
    "background = torch.ones(n_bands, slen, slen)\n",
    "background[0] = 686.\n",
    "background[1] = 1123."
   ]
  },
  {
   "cell_type": "code",
   "execution_count": null,
   "metadata": {},
   "outputs": [],
   "source": [
    "simulated_dataset = simulated_datasets_lib.load_dataset_from_params(psf_og, data_params, \n",
    "                                                n_images = 3,\n",
    "                                                background = background, \n",
    "                                                transpose_psf = False, \n",
    "                                                # for testing, turn off noise\n",
    "                                                add_noise = False)"
   ]
  },
  {
   "cell_type": "code",
   "execution_count": null,
   "metadata": {},
   "outputs": [],
   "source": [
    "plt.matshow(simulated_dataset.images[0, 0].squeeze())"
   ]
  },
  {
   "cell_type": "code",
   "execution_count": null,
   "metadata": {},
   "outputs": [],
   "source": [
    "plt.matshow(simulated_dataset.images[1, 0].squeeze())"
   ]
  },
  {
   "cell_type": "code",
   "execution_count": null,
   "metadata": {},
   "outputs": [],
   "source": [
    "# save image parameters\n",
    "images = simulated_dataset.images\n",
    "locs = simulated_dataset.locs\n",
    "fluxes = simulated_dataset.fluxes"
   ]
  },
  {
   "cell_type": "markdown",
   "metadata": {},
   "source": [
    "### Parameters"
   ]
  },
  {
   "cell_type": "code",
   "execution_count": null,
   "metadata": {},
   "outputs": [],
   "source": [
    "patch_slen = 9\n",
    "step = 4\n",
    "edge_padding = 2"
   ]
  },
  {
   "cell_type": "markdown",
   "metadata": {},
   "source": [
    "### Get batch images"
   ]
  },
  {
   "cell_type": "code",
   "execution_count": null,
   "metadata": {},
   "outputs": [],
   "source": [
    "image_patches = \\\n",
    "    image_utils.tile_images(images, patch_slen, step)"
   ]
  },
  {
   "cell_type": "code",
   "execution_count": null,
   "metadata": {},
   "outputs": [],
   "source": [
    "tile_coords = image_utils.get_tile_coords(slen, slen, patch_slen, step)\n",
    "n_patches = tile_coords.shape[0]"
   ]
  },
  {
   "cell_type": "markdown",
   "metadata": {},
   "source": [
    "### Test tile coordinates "
   ]
  },
  {
   "cell_type": "code",
   "execution_count": null,
   "metadata": {},
   "outputs": [],
   "source": [
    "for i in range(image_patches.shape[0]):\n",
    "    \n",
    "    b = i // n_patches\n",
    "    \n",
    "    x0 = tile_coords[i % n_patches, 0]\n",
    "    x1 = tile_coords[i % n_patches, 1]\n",
    "    \n",
    "    foo = images[b, :, x0:(x0 + patch_slen), x1:(x1 + patch_slen)]\n",
    "\n",
    "    assert np.all(image_patches[i] == foo)"
   ]
  },
  {
   "cell_type": "code",
   "execution_count": null,
   "metadata": {},
   "outputs": [],
   "source": []
  },
  {
   "cell_type": "markdown",
   "metadata": {},
   "source": [
    "### Test extraction of parameters"
   ]
  },
  {
   "cell_type": "code",
   "execution_count": null,
   "metadata": {},
   "outputs": [],
   "source": [
    "# get reconstruction with the patch parameters \n",
    "patch_locs, patch_fluxes, patch_n_stars, patch_is_on_array = \\\n",
    "    image_utils.get_params_in_patches(tile_coords,\n",
    "                                      locs,\n",
    "                                      fluxes,\n",
    "                                      slen,\n",
    "                                      patch_slen,\n",
    "                                      edge_padding)"
   ]
  },
  {
   "cell_type": "code",
   "execution_count": null,
   "metadata": {},
   "outputs": [],
   "source": [
    "patch_background = torch.zeros(n_bands, patch_slen - 2 * edge_padding, patch_slen - 2 * edge_padding)\n",
    "patch_background[0] = background[0, 0, 0]\n",
    "patch_background[1] = background[1, 0, 0]\n",
    "patch_simulator = simulated_datasets_lib.StarSimulator(psf_og, \n",
    "                                                       patch_slen - 2 * edge_padding, \n",
    "                                                       transpose_psf = False, \n",
    "                                                       background = patch_background)\n",
    "\n",
    "_n_stars = (torch.ones(patch_fluxes.shape[0]) * patch_fluxes.shape[1]).type(torch.LongTensor)\n",
    "\n",
    "recon_means = patch_simulator.draw_image_from_params(patch_locs, \n",
    "                                                patch_fluxes, \n",
    "                                                _n_stars, \n",
    "                                                add_noise = False)"
   ]
  },
  {
   "cell_type": "code",
   "execution_count": null,
   "metadata": {},
   "outputs": [],
   "source": [
    "band_indx = 1"
   ]
  },
  {
   "cell_type": "code",
   "execution_count": null,
   "metadata": {},
   "outputs": [],
   "source": [
    "for indx in range(image_patches.shape[0]): \n",
    "    if patch_n_stars[indx] == 0: \n",
    "        continue \n",
    "        \n",
    "    f, axarr = plt.subplots(1, 3, figsize=(16, 6))\n",
    "    \n",
    "    x0 = tile_coords[indx % n_patches, 0]\n",
    "    x1 = tile_coords[indx % n_patches, 1]\n",
    "    \n",
    "    which_nonzero = patch_is_on_array[indx]\n",
    "    \n",
    "    \n",
    "    image_patch_indx = images[indx // n_patches, band_indx,\n",
    "                                       (x0 + edge_padding):(x0 - edge_padding + patch_slen), \n",
    "                                       (x1 + edge_padding):(x1 - edge_padding + patch_slen)]\n",
    "    im1 = axarr[0].matshow(image_patch_indx)\n",
    "    \n",
    "    axarr[0].scatter(patch_locs[indx, which_nonzero == 1, 1] * (patch_slen - 1 - 2 * edge_padding), \n",
    "                    patch_locs[indx, which_nonzero == 1, 0] * (patch_slen - 1 - 2 * edge_padding))\n",
    "    f.colorbar(im1, ax = axarr[0])\n",
    "    \n",
    "    axarr[0].set_title('n_stars: {}\\n'.format(patch_n_stars[indx]))\n",
    "    \n",
    "    im2 = axarr[1].matshow(recon_means[indx, band_indx].squeeze())\n",
    "    f.colorbar(im2, ax = axarr[1])\n",
    "    \n",
    "    residual = (image_patch_indx - recon_means[indx, band_indx].squeeze()) / image_patch_indx\n",
    "    im3 = axarr[2].matshow(residual)\n",
    "    f.colorbar(im3, ax = axarr[2])\n",
    "    i += 1\n"
   ]
  },
  {
   "cell_type": "markdown",
   "metadata": {},
   "source": [
    "# Test the getting full image from patch parameters"
   ]
  },
  {
   "cell_type": "markdown",
   "metadata": {},
   "source": [
    "We draw a crowded starfield for this"
   ]
  },
  {
   "cell_type": "code",
   "execution_count": null,
   "metadata": {},
   "outputs": [],
   "source": [
    "# data parameters\n",
    "with open('../data/default_star_parameters.json', 'r') as fp:\n",
    "    data_params = json.load(fp)\n",
    "\n",
    "print(data_params)\n"
   ]
  },
  {
   "cell_type": "code",
   "execution_count": null,
   "metadata": {},
   "outputs": [],
   "source": [
    "psf_dir = '../data/'\n",
    "psf_r = fitsio.FITS(psf_dir + 'sdss-002583-2-0136-psf-r.fits')[0].read()\n",
    "psf_g = fitsio.FITS(psf_dir + 'sdss-002583-2-0136-psf-i.fits')[0].read()\n",
    "psf_og = torch.Tensor(np.array([psf_r, psf_g]))"
   ]
  },
  {
   "cell_type": "code",
   "execution_count": null,
   "metadata": {},
   "outputs": [],
   "source": [
    "simulated_dataset = simulated_datasets_lib.load_dataset_from_params(psf_og, data_params, \n",
    "                                                n_images = 3,\n",
    "                                                background = background, \n",
    "                                                transpose_psf = False, \n",
    "                                                # for testing, turn off noise\n",
    "                                                add_noise = False)"
   ]
  },
  {
   "cell_type": "code",
   "execution_count": null,
   "metadata": {},
   "outputs": [],
   "source": [
    "# save image parameters\n",
    "images = simulated_dataset.images\n",
    "locs = simulated_dataset.locs\n",
    "fluxes = simulated_dataset.fluxes\n",
    "\n",
    "# patch parameters \n",
    "slen = images.shape[-1]\n",
    "patch_slen = 9\n",
    "step = 4\n",
    "edge_padding = 2"
   ]
  },
  {
   "cell_type": "code",
   "execution_count": null,
   "metadata": {},
   "outputs": [],
   "source": [
    "simulated_dataset.n_stars"
   ]
  },
  {
   "cell_type": "markdown",
   "metadata": {},
   "source": [
    "### Get batch images"
   ]
  },
  {
   "cell_type": "code",
   "execution_count": null,
   "metadata": {},
   "outputs": [],
   "source": [
    "image_patches = \\\n",
    "    image_utils.tile_images(images, patch_slen, step)"
   ]
  },
  {
   "cell_type": "code",
   "execution_count": null,
   "metadata": {},
   "outputs": [],
   "source": [
    "# again test my batches\n",
    "tile_coords = image_utils.get_tile_coords(slen, slen, patch_slen, step)\n",
    "n_patches = tile_coords.shape[0]\n",
    "\n",
    "for i in range(image_patches.shape[0]):\n",
    "    \n",
    "    b = i // n_patches\n",
    "    \n",
    "    x0 = tile_coords[i % n_patches, 0]\n",
    "    x1 = tile_coords[i % n_patches, 1]\n",
    "    \n",
    "    foo = images[b, :, x0:(x0 + patch_slen), x1:(x1 + patch_slen)]\n",
    "\n",
    "    assert np.all(image_patches[i] == foo)"
   ]
  },
  {
   "cell_type": "code",
   "execution_count": null,
   "metadata": {},
   "outputs": [],
   "source": []
  },
  {
   "cell_type": "code",
   "execution_count": null,
   "metadata": {},
   "outputs": [],
   "source": [
    "# get patch parameters\n",
    "patch_locs, patch_fluxes, patch_n_stars, patch_is_on_array = \\\n",
    "    image_utils.get_params_in_patches(tile_coords,\n",
    "                                      locs,\n",
    "                                      fluxes,\n",
    "                                      slen,\n",
    "                                      patch_slen,\n",
    "                                      edge_padding)\n"
   ]
  },
  {
   "cell_type": "code",
   "execution_count": null,
   "metadata": {},
   "outputs": [],
   "source": []
  },
  {
   "cell_type": "markdown",
   "metadata": {},
   "source": [
    "### Now revert to full image parameters"
   ]
  },
  {
   "cell_type": "code",
   "execution_count": null,
   "metadata": {},
   "outputs": [],
   "source": [
    "locs2, fluxes2, n_stars2 = \\\n",
    "    image_utils.get_full_params_from_patch_params(patch_locs, patch_fluxes, \n",
    "                                            tile_coords, slen, patch_slen, edge_padding)"
   ]
  },
  {
   "cell_type": "code",
   "execution_count": null,
   "metadata": {},
   "outputs": [],
   "source": []
  },
  {
   "cell_type": "code",
   "execution_count": null,
   "metadata": {},
   "outputs": [],
   "source": [
    "recon_means = simulated_dataset.simulator.draw_image_from_params(locs = locs2, \n",
    "                                                  fluxes = fluxes2, \n",
    "                                                  n_stars = n_stars2, \n",
    "                                                  add_noise = False)"
   ]
  },
  {
   "cell_type": "code",
   "execution_count": null,
   "metadata": {},
   "outputs": [],
   "source": [
    "# first band\n",
    "for i in range(recon_means.shape[0]): \n",
    "    fig, axarr = plt.subplots(1, 3, figsize=(15, 4))\n",
    "    \n",
    "    im1 = axarr[0].matshow(simulated_dataset.images[i, 0].squeeze())\n",
    "    fig.colorbar(im1, ax = axarr[0])\n",
    "    \n",
    "    im2 = axarr[1].matshow(recon_means[i, 0].squeeze())\n",
    "    fig.colorbar(im2, ax = axarr[1])\n",
    "    \n",
    "    residual = recon_means[i, 0].squeeze() - simulated_dataset.images[i, 0].squeeze()\n",
    "    im3 = axarr[2].matshow(residual)\n",
    "    fig.colorbar(im3, ax = axarr[2])"
   ]
  },
  {
   "cell_type": "code",
   "execution_count": null,
   "metadata": {},
   "outputs": [],
   "source": [
    "# second band\n",
    "for i in range(recon_means.shape[0]): \n",
    "    fig, axarr = plt.subplots(1, 3, figsize=(15, 4))\n",
    "    \n",
    "    im1 = axarr[0].matshow(simulated_dataset.images[i, 1].squeeze())\n",
    "    fig.colorbar(im1, ax = axarr[0])\n",
    "    \n",
    "    im2 = axarr[1].matshow(recon_means[i, 1].squeeze())\n",
    "    fig.colorbar(im2, ax = axarr[1])\n",
    "    \n",
    "    residual = recon_means[i, 1].squeeze() - simulated_dataset.images[i, 1].squeeze()\n",
    "    im3 = axarr[2].matshow(residual)\n",
    "    fig.colorbar(im3, ax = axarr[2])"
   ]
  },
  {
   "cell_type": "code",
   "execution_count": null,
   "metadata": {},
   "outputs": [],
   "source": []
  },
  {
   "cell_type": "code",
   "execution_count": null,
   "metadata": {},
   "outputs": [],
   "source": []
  },
  {
   "cell_type": "code",
   "execution_count": null,
   "metadata": {},
   "outputs": [],
   "source": []
  }
 ],
 "metadata": {
  "kernelspec": {
   "display_name": "pytorch_update",
   "language": "python",
   "name": "pytorch_update"
  },
  "language_info": {
   "codemirror_mode": {
    "name": "ipython",
    "version": 3
   },
   "file_extension": ".py",
   "mimetype": "text/x-python",
   "name": "python",
   "nbconvert_exporter": "python",
   "pygments_lexer": "ipython3",
   "version": "3.6.8"
  }
 },
 "nbformat": 4,
 "nbformat_minor": 2
}
