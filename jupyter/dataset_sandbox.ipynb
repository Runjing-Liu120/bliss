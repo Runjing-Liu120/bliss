{
 "cells": [
  {
   "cell_type": "code",
   "execution_count": null,
   "metadata": {},
   "outputs": [],
   "source": [
    "import numpy as np\n",
    "\n",
    "import matplotlib.pyplot as plt\n",
    "\n",
    "import torch\n",
    "\n",
    "import sys\n",
    "sys.path.insert(0, './../')\n",
    "\n",
    "import sdss_psf\n",
    "import simulated_datasets_lib\n",
    "import sdss_dataset_lib\n",
    "\n",
    "import json\n",
    "\n",
    "device = torch.device(\"cuda:0\" if torch.cuda.is_available() else \"cpu\")\n",
    "\n",
    "print('torch version: ', torch.__version__)"
   ]
  },
  {
   "cell_type": "code",
   "execution_count": null,
   "metadata": {},
   "outputs": [],
   "source": [
    "# load PSF\n",
    "psf_fit_file = '../../celeste_net/sdss_stage_dir/2566/6/65/psField-002566-6-0065.fit'\n",
    "print('psf file: \\n', psf_fit_file)"
   ]
  },
  {
   "cell_type": "code",
   "execution_count": null,
   "metadata": {},
   "outputs": [],
   "source": [
    "np.random.seed(43534)\n",
    "_ = torch.manual_seed(24534)"
   ]
  },
  {
   "cell_type": "markdown",
   "metadata": {},
   "source": [
    "# Draw data"
   ]
  },
  {
   "cell_type": "code",
   "execution_count": null,
   "metadata": {},
   "outputs": [],
   "source": [
    "# data parameters\n",
    "with open('../data/default_star_parameters.json', 'r') as fp:\n",
    "    data_params = json.load(fp)\n",
    "\n",
    "data_params['min_stars'] = 0\n",
    "data_params['max_stars'] = 20\n",
    "data_params['alpha'] = 0.5\n",
    "\n",
    "print(data_params)\n"
   ]
  },
  {
   "cell_type": "code",
   "execution_count": null,
   "metadata": {},
   "outputs": [],
   "source": [
    "max_stars = data_params['max_stars']"
   ]
  },
  {
   "cell_type": "code",
   "execution_count": null,
   "metadata": {},
   "outputs": [],
   "source": [
    "n_images = 1024\n",
    "\n",
    "simulated_dataset = \\\n",
    "    simulated_datasets_lib.load_dataset_from_params(psf_fit_file,\n",
    "                            data_params,\n",
    "                            n_stars = n_images,\n",
    "                            use_fresh_data = False, \n",
    "                            add_noise = True)"
   ]
  },
  {
   "cell_type": "code",
   "execution_count": null,
   "metadata": {},
   "outputs": [],
   "source": [
    "simulated_dataset.images.shape"
   ]
  },
  {
   "cell_type": "code",
   "execution_count": null,
   "metadata": {},
   "outputs": [],
   "source": [
    "# observed image \n",
    "i = np.random.choice(n_images, 1)[0]\n",
    "\n",
    "plt.matshow(simulated_dataset.images[i, 0, :, :])\n",
    "plt.title('Observed image')\n",
    "\n",
    "# # plot locations \n",
    "locs_i = simulated_dataset.locs[i]\n",
    "n_stars_i = simulated_dataset.n_stars[i]\n",
    "fluxes_i = simulated_dataset.fluxes[i]\n",
    "locs_x = (locs_i[0:int(n_stars_i), 0]) * (simulated_dataset.slen - 1) \n",
    "locs_y = (locs_i[0:int(n_stars_i), 1]) * (simulated_dataset.slen - 1)\n",
    "\n",
    "plt.scatter(x = locs_y, y = locs_x, c = 'b')\n"
   ]
  },
  {
   "cell_type": "code",
   "execution_count": null,
   "metadata": {},
   "outputs": [],
   "source": []
  },
  {
   "cell_type": "markdown",
   "metadata": {},
   "source": [
    "# check psf"
   ]
  },
  {
   "cell_type": "code",
   "execution_count": null,
   "metadata": {},
   "outputs": [],
   "source": [
    "plt.matshow(np.log(simulated_dataset.psf_full))"
   ]
  },
  {
   "cell_type": "code",
   "execution_count": null,
   "metadata": {},
   "outputs": [],
   "source": [
    "plt.matshow(torch.log(simulated_dataset.psf))"
   ]
  },
  {
   "cell_type": "code",
   "execution_count": null,
   "metadata": {},
   "outputs": [],
   "source": []
  },
  {
   "cell_type": "code",
   "execution_count": null,
   "metadata": {},
   "outputs": [],
   "source": [
    "locs = torch.rand(20, 2)\n",
    "\n",
    "locs[0] = torch.Tensor([-0.3, -0.3])\n",
    "one_star_images = simulated_datasets_lib.plot_one_star(locs = locs, \n",
    "                                                        psf = simulated_dataset.psf)"
   ]
  },
  {
   "cell_type": "code",
   "execution_count": null,
   "metadata": {},
   "outputs": [],
   "source": [
    "# locs = torch.rand(20, 2)\n",
    "# one_star_images = simulated_datasets_lib.plot_one_star(locs = locs, \n",
    "#                                                         psf = simulated_dataset.psf)"
   ]
  },
  {
   "cell_type": "code",
   "execution_count": null,
   "metadata": {},
   "outputs": [],
   "source": [
    "# for i in range(one_star_images.shape[0]): \n",
    "#     fig, axarr = plt.subplots(1, 2, figsize=(16, 8))\n",
    "\n",
    "#     vmin = torch.min(one_star_images[i])\n",
    "#     vmax = torch.max(one_star_images[i])\n",
    "    \n",
    "#     # plot observed image \n",
    "#     foo = axarr[0].matshow(one_star_images[i].squeeze(), vmin=vmin, vmax=vmax)\n",
    "#     axarr[0].plot(locs[i, 1]* (sdss_hubble_data.slen - 1), \n",
    "#                   locs[i, 0] * (sdss_hubble_data.slen - 1), 'x', color = 'r')\n",
    "\n",
    "#     axarr[0].set_title('locs = {}'.format(locs[i]))\n",
    "    \n",
    "    \n",
    "    \n",
    "#     axarr[1].matshow(simulated_dataset.psf, vmin=vmin, vmax=vmax)\n",
    "# #     axarr[1].plot(data['locs'][0:data['n_stars'], 1] * (sdss_hubble_data.slen - 1), \n",
    "# #              data['locs'][0:data['n_stars'], 0] * (sdss_hubble_data.slen - 1), 'x', color = 'r')\n",
    "#     axarr[1].set_title('simulated image; flux rat = {:06f}'.format(torch.max(simulated_dataset.psf) / vmax))\n",
    "    \n",
    "#     fig.colorbar(foo, ax=axarr.ravel().tolist())\n",
    "    "
   ]
  },
  {
   "cell_type": "code",
   "execution_count": null,
   "metadata": {},
   "outputs": [],
   "source": []
  },
  {
   "cell_type": "code",
   "execution_count": null,
   "metadata": {},
   "outputs": [],
   "source": []
  },
  {
   "cell_type": "markdown",
   "metadata": {},
   "source": [
    "# Compare with Hubble data"
   ]
  },
  {
   "cell_type": "code",
   "execution_count": null,
   "metadata": {},
   "outputs": [],
   "source": [
    "hubble_cat_file='../hubble_data/NCG7078/hlsp_acsggct_hst_acs-wfc_ngc7078_r.rdviq.cal.adj.zpt.txt'\n",
    "sdss_hubble_data = sdss_dataset_lib.SDSSHubbleData(hubble_cat_file=hubble_cat_file, \n",
    "                                                   run = 2566, \n",
    "                                                   camcol = 6, \n",
    "                                                   field = 65)"
   ]
  },
  {
   "cell_type": "markdown",
   "metadata": {},
   "source": [
    "## Check full image"
   ]
  },
  {
   "cell_type": "code",
   "execution_count": null,
   "metadata": {
    "code_folding": []
   },
   "outputs": [],
   "source": [
    "# check the hubble coordinates overlap with the globular cluster\n",
    "plt.matshow(sdss_hubble_data.sdss_image_full.squeeze())\n",
    "plt.plot(sdss_hubble_data.locs_x1, sdss_hubble_data.locs_x0, alpha = 0.2)"
   ]
  },
  {
   "cell_type": "code",
   "execution_count": null,
   "metadata": {},
   "outputs": [],
   "source": [
    "# check the counts matrix\n",
    "plt.matshow(sdss_hubble_data.counts_mat)\n",
    "plt.colorbar()"
   ]
  },
  {
   "cell_type": "code",
   "execution_count": null,
   "metadata": {},
   "outputs": [],
   "source": [
    "# these are the tiles we kept\n",
    "plt.matshow((sdss_hubble_data.counts_mat > 0) & (sdss_hubble_data.counts_mat < sdss_hubble_data.max_detections))"
   ]
  },
  {
   "cell_type": "markdown",
   "metadata": {},
   "source": [
    "### Check out some sample images"
   ]
  },
  {
   "cell_type": "code",
   "execution_count": null,
   "metadata": {},
   "outputs": [],
   "source": [
    "for i in range(0, 10): \n",
    "    \n",
    "    indx = np.random.choice(len(sdss_hubble_data), 1)\n",
    "        \n",
    "    data = sdss_hubble_data[indx]\n",
    "        \n",
    "    fig, axarr = plt.subplots(1, 2, figsize=(16, 8))\n",
    "    \n",
    "    true_image = data['image'].squeeze() - data['background'].squeeze()\n",
    "    vmin = np.min(true_image)\n",
    "    vmax = np.max(true_image)\n",
    "    \n",
    "    # plot observed image \n",
    "    foo = axarr[0].matshow(true_image, vmin=vmin, vmax=vmax)\n",
    "    axarr[0].plot(data['locs'][0:data['n_stars'], 1] * (sdss_hubble_data.slen - 1), \n",
    "                 data['locs'][0:data['n_stars'], 0] * (sdss_hubble_data.slen - 1), 'x', color = 'r')\n",
    "    axarr[0].plot(data['locs_border'][:, 1] * (sdss_hubble_data.slen - 1), \n",
    "                 data['locs_border'][:, 0] * (sdss_hubble_data.slen - 1), '.', color = 'r')\n",
    "\n",
    "    axarr[0].set_title('observed image; n_stars = {}; indx = {}'.format(data['n_stars'], indx))\n",
    "    \n",
    "    # use parameters, simulate image \n",
    "    simulated_image = \\\n",
    "        simulated_dataset.draw_image_from_params(locs = torch.Tensor(data['locs']).unsqueeze(0), \n",
    "                                                 fluxes = torch.Tensor(data['fluxes']).unsqueeze(0), \n",
    "                                                 n_stars = torch.Tensor([data['n_stars']]), \n",
    "                                                 add_noise = False)\n",
    "    \n",
    "    simulated_image = simulated_image.squeeze().numpy() - data['background'].squeeze()\n",
    "    axarr[1].matshow(simulated_image, vmin=vmin, vmax=vmax)\n",
    "    axarr[1].plot(data['locs'][0:data['n_stars'], 1] * (sdss_hubble_data.slen - 1), \n",
    "                 data['locs'][0:data['n_stars'], 0] * (sdss_hubble_data.slen - 1), 'x', color = 'r')\n",
    "    axarr[1].set_title('simulated image; flux rat = {:06f}'.format(vmax / np.max(simulated_image)))\n",
    "    \n",
    "    fig.colorbar(foo, ax=axarr.ravel().tolist())\n",
    "    "
   ]
  },
  {
   "cell_type": "code",
   "execution_count": null,
   "metadata": {},
   "outputs": [],
   "source": []
  },
  {
   "cell_type": "code",
   "execution_count": null,
   "metadata": {},
   "outputs": [],
   "source": []
  },
  {
   "cell_type": "code",
   "execution_count": null,
   "metadata": {},
   "outputs": [],
   "source": []
  },
  {
   "cell_type": "code",
   "execution_count": null,
   "metadata": {},
   "outputs": [],
   "source": []
  },
  {
   "cell_type": "markdown",
   "metadata": {},
   "source": [
    "# understanding flux distributions"
   ]
  },
  {
   "cell_type": "code",
   "execution_count": null,
   "metadata": {},
   "outputs": [],
   "source": [
    "true_fluxes = sdss_hubble_data.fluxes[sdss_hubble_data.which_bright]"
   ]
  },
  {
   "cell_type": "code",
   "execution_count": null,
   "metadata": {},
   "outputs": [],
   "source": [
    "plt.hist(np.log10(sdss_hubble_data.fluxes), bins = 100);"
   ]
  },
  {
   "cell_type": "code",
   "execution_count": null,
   "metadata": {},
   "outputs": [],
   "source": [
    "plt.hist(np.log10(true_fluxes))"
   ]
  },
  {
   "cell_type": "code",
   "execution_count": null,
   "metadata": {},
   "outputs": [],
   "source": [
    "min(true_fluxes)"
   ]
  },
  {
   "cell_type": "code",
   "execution_count": null,
   "metadata": {},
   "outputs": [],
   "source": [
    "foo = simulated_datasets_lib._draw_pareto_maxed(1300, 1e6, alpha = 0.5, shape = (len(true_fluxes), ))"
   ]
  },
  {
   "cell_type": "code",
   "execution_count": null,
   "metadata": {},
   "outputs": [],
   "source": [
    "plt.hist(np.log10(foo), alpha = 0.5); \n",
    "plt.hist(np.log10(true_fluxes), alpha = 0.5);"
   ]
  },
  {
   "cell_type": "code",
   "execution_count": null,
   "metadata": {},
   "outputs": [],
   "source": []
  },
  {
   "cell_type": "code",
   "execution_count": null,
   "metadata": {},
   "outputs": [],
   "source": []
  },
  {
   "cell_type": "code",
   "execution_count": null,
   "metadata": {},
   "outputs": [],
   "source": []
  },
  {
   "cell_type": "raw",
   "metadata": {},
   "source": [
    "# PSFs?"
   ]
  },
  {
   "cell_type": "code",
   "execution_count": null,
   "metadata": {},
   "outputs": [],
   "source": [
    "locs = torch.rand(20, 2)\n",
    "\n",
    "locs[0] = torch.Tensor([-0.5, -0.5])\n",
    "one_star_images = simulated_datasets_lib.plot_one_star(locs = locs, \n",
    "                                                        psf = simulated_dataset.psf)"
   ]
  },
  {
   "cell_type": "code",
   "execution_count": null,
   "metadata": {},
   "outputs": [],
   "source": [
    "plt.matshow(one_star_images.squeeze()[0])"
   ]
  },
  {
   "cell_type": "code",
   "execution_count": null,
   "metadata": {},
   "outputs": [],
   "source": []
  },
  {
   "cell_type": "raw",
   "metadata": {},
   "source": [
    "sdss_hubble_data[2]"
   ]
  },
  {
   "cell_type": "raw",
   "metadata": {},
   "source": [
    "data_max = np.zeros(len(sdss_hubble_data))\n",
    "sim_max = np.zeros(len(sdss_hubble_data))\n",
    "locs = np.zeros((len(sdss_hubble_data), 2))\n",
    "\n",
    "for i in range(len(sdss_hubble_data)): \n",
    "    data = sdss_hubble_data[i]\n",
    "    if data['n_stars'] == 0: \n",
    "        continue\n",
    "    \n",
    "    data_max[i] = np.max(data['image'].squeeze())\n",
    "    \n",
    "    # use parameters, simulate image \n",
    "    image = simulated_dataset.draw_image_from_params(locs = torch.Tensor(data['locs']).unsqueeze(0), \n",
    "                                                     fluxes = torch.Tensor(data['fluxes']).unsqueeze(0), \n",
    "                                                     n_stars = torch.Tensor([data['n_stars']]), \n",
    "                                                     add_noise = False)\n",
    "    \n",
    "    sim_max[i] = torch.max(image.squeeze())\n",
    "    \n",
    "    _locs = data['locs'][data['fluxes'] == max(data['fluxes'])]\n",
    "    \n",
    "    if _locs.shape[0] > 1: \n",
    "        _locs = _locs[0]\n",
    "        \n",
    "    locs[i] = _locs"
   ]
  },
  {
   "cell_type": "raw",
   "metadata": {},
   "source": [
    "rat = data_max / sim_max\n",
    "plt.hist(rat[rat < 2])"
   ]
  },
  {
   "cell_type": "raw",
   "metadata": {},
   "source": [
    "# locs = torch.rand(2000, 2)\n",
    "one_star_images = simulated_datasets_lib.plot_one_star(locs = torch.Tensor(locs), \n",
    "                                                        psf = simulated_dataset.psf)"
   ]
  },
  {
   "cell_type": "raw",
   "metadata": {},
   "source": [
    "rat2 = torch.max(simulated_dataset.psf) / one_star_images.squeeze().max(dim = -1)[0].max(dim = -1)[0]"
   ]
  },
  {
   "cell_type": "raw",
   "metadata": {},
   "source": [
    "plt.hist(rat2)"
   ]
  },
  {
   "cell_type": "code",
   "execution_count": null,
   "metadata": {},
   "outputs": [],
   "source": []
  },
  {
   "cell_type": "code",
   "execution_count": null,
   "metadata": {},
   "outputs": [],
   "source": []
  },
  {
   "cell_type": "raw",
   "metadata": {},
   "source": [
    "indx = 98\n",
    "data = sdss_hubble_data[indx]\n",
    "\n",
    "vmin = np.min(data['image'].squeeze())\n",
    "vmax = np.max(data['image'].squeeze())\n",
    "\n",
    "plt.matshow(data['image'].squeeze(), vmin=vmin, vmax=vmax)\n",
    "plt.colorbar()\n",
    "plt.plot(data['locs'][0:data['n_stars'], 1] * (sdss_hubble_data.slen - 1), \n",
    "         data['locs'][0:data['n_stars'], 0] * (sdss_hubble_data.slen - 1), 'x', color = 'r')\n",
    "\n",
    "plt.title('image {}'.format(indx))"
   ]
  },
  {
   "cell_type": "raw",
   "metadata": {},
   "source": [
    "image = simulated_dataset.draw_image_from_params(locs = torch.Tensor(data['locs']).unsqueeze(0), \n",
    "                                         fluxes = torch.Tensor(data['fluxes']).unsqueeze(0), \n",
    "                                         n_stars = torch.Tensor([data['n_stars']]), \n",
    "                                         add_noise = False)"
   ]
  },
  {
   "cell_type": "raw",
   "metadata": {},
   "source": [
    "plt.matshow(image.squeeze().numpy() - simulated_dataset.sky_intensity + \\\n",
    "            data['background'], vmin = vmin, vmax = vmax)\n",
    "plt.plot(data['locs'][0:data['n_stars'], 1] * (sdss_hubble_data.slen - 1), \n",
    "         data['locs'][0:data['n_stars'], 0] * (sdss_hubble_data.slen - 1), 'x', color = 'r')\n",
    "plt.colorbar()"
   ]
  },
  {
   "cell_type": "raw",
   "metadata": {},
   "source": []
  },
  {
   "cell_type": "code",
   "execution_count": null,
   "metadata": {},
   "outputs": [],
   "source": []
  },
  {
   "cell_type": "code",
   "execution_count": null,
   "metadata": {},
   "outputs": [],
   "source": []
  }
 ],
 "metadata": {
  "kernelspec": {
   "display_name": "Python (pytorch_04)",
   "language": "python",
   "name": "pytorch_update"
  },
  "language_info": {
   "codemirror_mode": {
    "name": "ipython",
    "version": 3
   },
   "file_extension": ".py",
   "mimetype": "text/x-python",
   "name": "python",
   "nbconvert_exporter": "python",
   "pygments_lexer": "ipython3",
   "version": "3.6.8"
  }
 },
 "nbformat": 4,
 "nbformat_minor": 2
}
