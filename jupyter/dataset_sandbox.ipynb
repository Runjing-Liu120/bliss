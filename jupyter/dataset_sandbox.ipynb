{
 "cells": [
  {
   "cell_type": "code",
   "execution_count": null,
   "metadata": {},
   "outputs": [],
   "source": [
    "import numpy as np\n",
    "\n",
    "import matplotlib.pyplot as plt\n",
    "\n",
    "import torch\n",
    "\n",
    "import sys\n",
    "sys.path.insert(0, './../')\n",
    "\n",
    "import sdss_psf\n",
    "import simulated_datasets_lib\n",
    "import sdss_dataset_lib\n",
    "\n",
    "import json\n",
    "\n",
    "device = torch.device(\"cuda:0\" if torch.cuda.is_available() else \"cpu\")\n",
    "\n",
    "print('torch version: ', torch.__version__)"
   ]
  },
  {
   "cell_type": "code",
   "execution_count": null,
   "metadata": {},
   "outputs": [],
   "source": [
    "# load PSF\n",
    "psf_fit_file = '../../celeste_net/sdss_stage_dir/2583/2/136/psField-002583-2-0136.fit'\n",
    "print('psf file: \\n', psf_fit_file)"
   ]
  },
  {
   "cell_type": "code",
   "execution_count": null,
   "metadata": {},
   "outputs": [],
   "source": [
    "np.random.seed(43534)\n",
    "_ = torch.manual_seed(24534)"
   ]
  },
  {
   "cell_type": "markdown",
   "metadata": {},
   "source": [
    "# Draw data"
   ]
  },
  {
   "cell_type": "code",
   "execution_count": null,
   "metadata": {},
   "outputs": [],
   "source": [
    "# data parameters\n",
    "with open('../data/default_star_parameters.json', 'r') as fp:\n",
    "    data_params = json.load(fp)\n",
    "\n",
    "data_params['min_stars'] = 0\n",
    "data_params['max_stars'] = 20\n",
    "\n",
    "print(data_params)\n"
   ]
  },
  {
   "cell_type": "code",
   "execution_count": null,
   "metadata": {},
   "outputs": [],
   "source": [
    "max_stars = data_params['max_stars']"
   ]
  },
  {
   "cell_type": "code",
   "execution_count": null,
   "metadata": {},
   "outputs": [],
   "source": [
    "n_images = 1024\n",
    "\n",
    "simulated_dataset = \\\n",
    "    simulated_datasets_lib.load_dataset_from_params(psf_fit_file,\n",
    "                            data_params,\n",
    "                            n_stars = n_images,\n",
    "                            use_fresh_data = False, \n",
    "                            add_noise = True)"
   ]
  },
  {
   "cell_type": "code",
   "execution_count": null,
   "metadata": {},
   "outputs": [],
   "source": [
    "simulated_dataset.images.shape"
   ]
  },
  {
   "cell_type": "code",
   "execution_count": null,
   "metadata": {},
   "outputs": [],
   "source": [
    "# observed image \n",
    "i = np.random.choice(n_images, 1)[0]\n",
    "\n",
    "plt.matshow(simulated_dataset.images[i, 0, :, :])\n",
    "plt.title('Observed image')\n",
    "\n",
    "# # plot locations \n",
    "locs_i = simulated_dataset.locs[i]\n",
    "n_stars_i = simulated_dataset.n_stars[i]\n",
    "fluxes_i = simulated_dataset.fluxes[i]\n",
    "locs_x = (locs_i[0:int(n_stars_i), 0]) * (simulated_dataset.slen - 1) \n",
    "locs_y = (locs_i[0:int(n_stars_i), 1]) * (simulated_dataset.slen - 1)\n",
    "\n",
    "plt.scatter(x = locs_y, y = locs_x, c = 'b')\n"
   ]
  },
  {
   "cell_type": "code",
   "execution_count": null,
   "metadata": {},
   "outputs": [],
   "source": [
    "# Compare with Hubble data"
   ]
  },
  {
   "cell_type": "code",
   "execution_count": null,
   "metadata": {},
   "outputs": [],
   "source": [
    "sdss_hubble_data = sdss_dataset_lib.SDSSHubbleData()"
   ]
  },
  {
   "cell_type": "code",
   "execution_count": null,
   "metadata": {},
   "outputs": [],
   "source": [
    "for i in range(10): \n",
    "    \n",
    "    indx = np.random.choice(len(sdss_hubble_data), 1)\n",
    "    \n",
    "    \n",
    "    fig, axarr = plt.subplots(1, 2, figsize=(16, 8))\n",
    "\n",
    "    data = sdss_hubble_data[indx]\n",
    "\n",
    "    vmin = np.min(data['image'].squeeze())\n",
    "    vmax = np.max(data['image'].squeeze())\n",
    "    \n",
    "    # plot observed image \n",
    "    foo = axarr[0].matshow(data['image'].squeeze(), vmin=vmin, vmax=vmax)\n",
    "    axarr[0].plot(data['locs'][0:data['n_stars'], 1] * (sdss_hubble_data.slen - 1), \n",
    "                 data['locs'][0:data['n_stars'], 0] * (sdss_hubble_data.slen - 1), 'x', color = 'r')\n",
    "\n",
    "    axarr[0].set_title('observed image; indx = {}'.format(indx))\n",
    "    \n",
    "    # use parameters, simulate image \n",
    "    image = simulated_dataset.draw_image_from_params(locs = torch.Tensor(data['locs']).unsqueeze(0), \n",
    "                                                     fluxes = torch.Tensor(data['fluxes']).unsqueeze(0), \n",
    "                                                     n_stars = torch.Tensor([data['n_stars']]), \n",
    "                                                     add_noise = False)\n",
    "    \n",
    "    \n",
    "    axarr[1].matshow(image.squeeze().numpy() - simulated_dataset.sky_intensity + \\\n",
    "                     data['background'].squeeze(), vmin=vmin, vmax=vmax)\n",
    "    axarr[1].plot(data['locs'][0:data['n_stars'], 1] * (sdss_hubble_data.slen - 1), \n",
    "             data['locs'][0:data['n_stars'], 0] * (sdss_hubble_data.slen - 1), 'x', color = 'r')\n",
    "    \n",
    "    fig.colorbar(foo, ax=axarr.ravel().tolist())"
   ]
  },
  {
   "cell_type": "code",
   "execution_count": null,
   "metadata": {},
   "outputs": [],
   "source": [
    "plt.hist(sdss_hubble_data.fluxes[sdss_hubble_data.fluxes < 1e6]);"
   ]
  },
  {
   "cell_type": "code",
   "execution_count": null,
   "metadata": {},
   "outputs": [],
   "source": [
    "min(sdss_hubble_data.fluxes)"
   ]
  },
  {
   "cell_type": "code",
   "execution_count": null,
   "metadata": {},
   "outputs": [],
   "source": [
    "foo = simulated_datasets_lib._draw_pareto_maxed(1300, 1e6, alpha = 2, shape = (10000, ))"
   ]
  },
  {
   "cell_type": "code",
   "execution_count": null,
   "metadata": {},
   "outputs": [],
   "source": [
    "plt.hist(foo);"
   ]
  },
  {
   "cell_type": "code",
   "execution_count": null,
   "metadata": {},
   "outputs": [],
   "source": [
    "max(foo)"
   ]
  },
  {
   "cell_type": "code",
   "execution_count": null,
   "metadata": {},
   "outputs": [],
   "source": []
  },
  {
   "cell_type": "raw",
   "metadata": {},
   "source": [
    "indx = 98\n",
    "data = sdss_hubble_data[indx]\n",
    "\n",
    "vmin = np.min(data['image'].squeeze())\n",
    "vmax = np.max(data['image'].squeeze())\n",
    "\n",
    "plt.matshow(data['image'].squeeze(), vmin=vmin, vmax=vmax)\n",
    "plt.colorbar()\n",
    "plt.plot(data['locs'][0:data['n_stars'], 1] * (sdss_hubble_data.slen - 1), \n",
    "         data['locs'][0:data['n_stars'], 0] * (sdss_hubble_data.slen - 1), 'x', color = 'r')\n",
    "\n",
    "plt.title('image {}'.format(indx))"
   ]
  },
  {
   "cell_type": "raw",
   "metadata": {},
   "source": [
    "image = simulated_dataset.draw_image_from_params(locs = torch.Tensor(data['locs']).unsqueeze(0), \n",
    "                                         fluxes = torch.Tensor(data['fluxes']).unsqueeze(0), \n",
    "                                         n_stars = torch.Tensor([data['n_stars']]), \n",
    "                                         add_noise = False)"
   ]
  },
  {
   "cell_type": "raw",
   "metadata": {},
   "source": [
    "plt.matshow(image.squeeze().numpy() - simulated_dataset.sky_intensity + \\\n",
    "            data['background'], vmin = vmin, vmax = vmax)\n",
    "plt.plot(data['locs'][0:data['n_stars'], 1] * (sdss_hubble_data.slen - 1), \n",
    "         data['locs'][0:data['n_stars'], 0] * (sdss_hubble_data.slen - 1), 'x', color = 'r')\n",
    "plt.colorbar()"
   ]
  },
  {
   "cell_type": "raw",
   "metadata": {},
   "source": []
  },
  {
   "cell_type": "code",
   "execution_count": null,
   "metadata": {},
   "outputs": [],
   "source": []
  },
  {
   "cell_type": "code",
   "execution_count": null,
   "metadata": {},
   "outputs": [],
   "source": []
  }
 ],
 "metadata": {
  "kernelspec": {
   "display_name": "Python (pytorch_04)",
   "language": "python",
   "name": "pytorch_update"
  },
  "language_info": {
   "codemirror_mode": {
    "name": "ipython",
    "version": 3
   },
   "file_extension": ".py",
   "mimetype": "text/x-python",
   "name": "python",
   "nbconvert_exporter": "python",
   "pygments_lexer": "ipython3",
   "version": "3.6.8"
  }
 },
 "nbformat": 4,
 "nbformat_minor": 2
}
